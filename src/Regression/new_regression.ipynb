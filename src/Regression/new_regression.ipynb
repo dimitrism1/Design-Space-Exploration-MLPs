{
 "cells": [
  {
   "cell_type": "code",
   "execution_count": 1,
   "id": "4dd7ac76",
   "metadata": {},
   "outputs": [
    {
     "name": "stderr",
     "output_type": "stream",
     "text": [
      "2024-10-13 22:27:04.773163: I tensorflow/core/platform/cpu_feature_guard.cc:193] This TensorFlow binary is optimized with oneAPI Deep Neural Network Library (oneDNN) to use the following CPU instructions in performance-critical operations:  SSE4.1 SSE4.2 AVX AVX2 FMA\n",
      "To enable them in other operations, rebuild TensorFlow with the appropriate compiler flags.\n"
     ]
    },
    {
     "name": "stdout",
     "output_type": "stream",
     "text": [
      "WARNING: Failed to import handlers from merge.py: No module named 'torch'.\n",
      "WARNING: Failed to import handlers from core.py: No module named 'torch'.\n",
      "WARNING: Failed to import handlers from pooling.py: No module named 'torch'.\n",
      "WARNING: Failed to import handlers from reshape.py: No module named 'torch'.\n",
      "WARNING: Failed to import handlers from convolution.py: No module named 'torch'.\n"
     ]
    },
    {
     "name": "stderr",
     "output_type": "stream",
     "text": [
      "/home/dmitsas/anaconda3/envs/hls4ml-tutorial/lib/python3.10/site-packages/hls4ml/converters/__init__.py:27: UserWarning: WARNING: Pytorch converter is not enabled!\n",
      "  warnings.warn(\"WARNING: Pytorch converter is not enabled!\", stacklevel=1)\n"
     ]
    }
   ],
   "source": [
    "from tensorflow.keras.utils import to_categorical\n",
    "from sklearn.datasets import fetch_openml\n",
    "from sklearn.model_selection import train_test_split\n",
    "from sklearn.preprocessing import LabelEncoder, StandardScaler\n",
    "import numpy as np\n",
    "%matplotlib inline\n",
    "seed = 0\n",
    "np.random.seed(seed)\n",
    "import tensorflow as tf\n",
    "tf.random.set_seed(seed)\n",
    "import os\n",
    "import sys\n",
    "\n",
    "import pandas as pd\n",
    "import seaborn as sb\n",
    "import matplotlib.pyplot as plt\n",
    "\n",
    "from tensorflow.keras.models import Sequential\n",
    "from tensorflow.keras.layers import Dense, Activation, BatchNormalization\n",
    "from tensorflow.keras.optimizers import Adam\n",
    "from tensorflow.keras.regularizers import l1\n",
    "\n",
    "from qkeras.qlayers import QDense, QActivation\n",
    "from qkeras.quantizers import quantized_bits, quantized_relu\n",
    "import tensorflow.compat.v1 as tf1\n",
    "from qkeras.utils import model_save_quantized_weights\n",
    "\n",
    "from tensorflow_model_optimization.python.core.sparsity.keras import prune, pruning_callbacks, pruning_schedule\n",
    "from tensorflow_model_optimization.sparsity.keras import strip_pruning\n",
    "\n",
    "\n",
    "from sklearn.preprocessing import OneHotEncoder,LabelEncoder\n",
    "from sklearn.model_selection import train_test_split\n",
    "from sklearn.preprocessing import MinMaxScaler\n",
    "import random\n",
    "import math\n",
    "\n",
    "\n",
    "from tensorflow_model_optimization.python.core.sparsity.keras import prune, pruning_callbacks, pruning_schedule\n",
    "from tensorflow_model_optimization.sparsity.keras import strip_pruning\n",
    "from qkeras.utils import model_save_quantized_weights, load_qmodel\n",
    "import hls4ml\n",
    "import qkeras.utils\n",
    "\n",
    "os.environ[\"CUDA_VISIBLE_DEVICES\"] = \"-1\"\n",
    "from sklearn.preprocessing import PolynomialFeatures\n",
    "from sklearn.linear_model import LinearRegression\n",
    "from sklearn.metrics import r2_score, mean_squared_error\n",
    "import statistics\n",
    "import sklearn.linear_model"
   ]
  },
  {
   "cell_type": "code",
   "execution_count": 7,
   "id": "ee518778",
   "metadata": {},
   "outputs": [
    {
     "data": {
      "text/plain": [
       "<module 'regression_model_ff' from '/home/dmitsas/Downloads/backup/src/Regression/regression_model_ff.py'>"
      ]
     },
     "execution_count": 7,
     "metadata": {},
     "output_type": "execute_result"
    }
   ],
   "source": [
    "from importlib import reload\n",
    "import regression_model_ff as reg_ff\n",
    "import joblib\n",
    "import utils\n",
    "import estimator as est\n",
    "reload(reg_ff)"
   ]
  },
  {
   "cell_type": "markdown",
   "id": "0df90a6f",
   "metadata": {},
   "source": [
    "## Plot corelation between reuse factor and number of FFs"
   ]
  },
  {
   "cell_type": "code",
   "execution_count": 20,
   "id": "4f46eaa6",
   "metadata": {},
   "outputs": [],
   "source": [
    "dirname_car = \"/media/dmitsas/BOOT-REPAIR/Cardio/models_0/prec_8/model_\"\n",
    "dirname_bc = \"/media/dmitsas/BOOT-REPAIR/Breast_cancer/models_0/prec_8/model_\"\n",
    "dirname_arr = \"/media/dmitsas/BOOT-REPAIR/Arrythmia/models_1/prec_8/model_\"\n",
    "dirname_jet = \"/media/dmitsas/BOOT-REPAIR/jet_tagging/models_1/prec_8/model_\""
   ]
  },
  {
   "cell_type": "code",
   "execution_count": 21,
   "id": "b27f63dc",
   "metadata": {},
   "outputs": [
    {
     "name": "stdout",
     "output_type": "stream",
     "text": [
      "WARNING:tensorflow:No training configuration found in the save file, so the model was *not* compiled. Compile it manually.\n"
     ]
    },
    {
     "name": "stderr",
     "output_type": "stream",
     "text": [
      "WARNING:tensorflow:No training configuration found in the save file, so the model was *not* compiled. Compile it manually.\n"
     ]
    },
    {
     "name": "stdout",
     "output_type": "stream",
     "text": [
      "... quantizing model\n",
      "WARNING:tensorflow:No training configuration found in the save file, so the model was *not* compiled. Compile it manually.\n"
     ]
    },
    {
     "name": "stderr",
     "output_type": "stream",
     "text": [
      "WARNING:tensorflow:No training configuration found in the save file, so the model was *not* compiled. Compile it manually.\n"
     ]
    },
    {
     "name": "stdout",
     "output_type": "stream",
     "text": [
      "... quantizing model\n",
      "WARNING:tensorflow:No training configuration found in the save file, so the model was *not* compiled. Compile it manually.\n"
     ]
    },
    {
     "name": "stderr",
     "output_type": "stream",
     "text": [
      "WARNING:tensorflow:No training configuration found in the save file, so the model was *not* compiled. Compile it manually.\n"
     ]
    },
    {
     "name": "stdout",
     "output_type": "stream",
     "text": [
      "... quantizing model\n",
      "WARNING:tensorflow:No training configuration found in the save file, so the model was *not* compiled. Compile it manually.\n"
     ]
    },
    {
     "name": "stderr",
     "output_type": "stream",
     "text": [
      "WARNING:tensorflow:No training configuration found in the save file, so the model was *not* compiled. Compile it manually.\n"
     ]
    },
    {
     "name": "stdout",
     "output_type": "stream",
     "text": [
      "... quantizing model\n",
      "WARNING:tensorflow:No training configuration found in the save file, so the model was *not* compiled. Compile it manually.\n"
     ]
    },
    {
     "name": "stderr",
     "output_type": "stream",
     "text": [
      "WARNING:tensorflow:No training configuration found in the save file, so the model was *not* compiled. Compile it manually.\n"
     ]
    },
    {
     "name": "stdout",
     "output_type": "stream",
     "text": [
      "... quantizing model\n",
      "WARNING:tensorflow:No training configuration found in the save file, so the model was *not* compiled. Compile it manually.\n"
     ]
    },
    {
     "name": "stderr",
     "output_type": "stream",
     "text": [
      "WARNING:tensorflow:No training configuration found in the save file, so the model was *not* compiled. Compile it manually.\n"
     ]
    },
    {
     "name": "stdout",
     "output_type": "stream",
     "text": [
      "... quantizing model\n",
      "WARNING:tensorflow:No training configuration found in the save file, so the model was *not* compiled. Compile it manually.\n"
     ]
    },
    {
     "name": "stderr",
     "output_type": "stream",
     "text": [
      "WARNING:tensorflow:No training configuration found in the save file, so the model was *not* compiled. Compile it manually.\n"
     ]
    },
    {
     "name": "stdout",
     "output_type": "stream",
     "text": [
      "... quantizing model\n",
      "WARNING:tensorflow:No training configuration found in the save file, so the model was *not* compiled. Compile it manually.\n"
     ]
    },
    {
     "name": "stderr",
     "output_type": "stream",
     "text": [
      "WARNING:tensorflow:No training configuration found in the save file, so the model was *not* compiled. Compile it manually.\n"
     ]
    },
    {
     "name": "stdout",
     "output_type": "stream",
     "text": [
      "... quantizing model\n",
      "WARNING:tensorflow:No training configuration found in the save file, so the model was *not* compiled. Compile it manually.\n"
     ]
    },
    {
     "name": "stderr",
     "output_type": "stream",
     "text": [
      "WARNING:tensorflow:No training configuration found in the save file, so the model was *not* compiled. Compile it manually.\n"
     ]
    },
    {
     "name": "stdout",
     "output_type": "stream",
     "text": [
      "... quantizing model\n",
      "WARNING:tensorflow:No training configuration found in the save file, so the model was *not* compiled. Compile it manually.\n"
     ]
    },
    {
     "name": "stderr",
     "output_type": "stream",
     "text": [
      "WARNING:tensorflow:No training configuration found in the save file, so the model was *not* compiled. Compile it manually.\n"
     ]
    },
    {
     "name": "stdout",
     "output_type": "stream",
     "text": [
      "... quantizing model\n",
      "WARNING:tensorflow:No training configuration found in the save file, so the model was *not* compiled. Compile it manually.\n"
     ]
    },
    {
     "name": "stderr",
     "output_type": "stream",
     "text": [
      "WARNING:tensorflow:No training configuration found in the save file, so the model was *not* compiled. Compile it manually.\n"
     ]
    },
    {
     "name": "stdout",
     "output_type": "stream",
     "text": [
      "... quantizing model\n",
      "WARNING:tensorflow:No training configuration found in the save file, so the model was *not* compiled. Compile it manually.\n"
     ]
    },
    {
     "name": "stderr",
     "output_type": "stream",
     "text": [
      "WARNING:tensorflow:No training configuration found in the save file, so the model was *not* compiled. Compile it manually.\n"
     ]
    },
    {
     "name": "stdout",
     "output_type": "stream",
     "text": [
      "... quantizing model\n",
      "WARNING:tensorflow:No training configuration found in the save file, so the model was *not* compiled. Compile it manually.\n"
     ]
    },
    {
     "name": "stderr",
     "output_type": "stream",
     "text": [
      "WARNING:tensorflow:No training configuration found in the save file, so the model was *not* compiled. Compile it manually.\n"
     ]
    },
    {
     "name": "stdout",
     "output_type": "stream",
     "text": [
      "... quantizing model\n",
      "WARNING:tensorflow:No training configuration found in the save file, so the model was *not* compiled. Compile it manually.\n"
     ]
    },
    {
     "name": "stderr",
     "output_type": "stream",
     "text": [
      "WARNING:tensorflow:No training configuration found in the save file, so the model was *not* compiled. Compile it manually.\n"
     ]
    },
    {
     "name": "stdout",
     "output_type": "stream",
     "text": [
      "... quantizing model\n",
      "WARNING:tensorflow:No training configuration found in the save file, so the model was *not* compiled. Compile it manually.\n"
     ]
    },
    {
     "name": "stderr",
     "output_type": "stream",
     "text": [
      "WARNING:tensorflow:No training configuration found in the save file, so the model was *not* compiled. Compile it manually.\n"
     ]
    },
    {
     "name": "stdout",
     "output_type": "stream",
     "text": [
      "... quantizing model\n",
      "WARNING:tensorflow:No training configuration found in the save file, so the model was *not* compiled. Compile it manually.\n"
     ]
    },
    {
     "name": "stderr",
     "output_type": "stream",
     "text": [
      "WARNING:tensorflow:No training configuration found in the save file, so the model was *not* compiled. Compile it manually.\n"
     ]
    },
    {
     "name": "stdout",
     "output_type": "stream",
     "text": [
      "... quantizing model\n",
      "WARNING:tensorflow:No training configuration found in the save file, so the model was *not* compiled. Compile it manually.\n"
     ]
    },
    {
     "name": "stderr",
     "output_type": "stream",
     "text": [
      "WARNING:tensorflow:No training configuration found in the save file, so the model was *not* compiled. Compile it manually.\n"
     ]
    },
    {
     "name": "stdout",
     "output_type": "stream",
     "text": [
      "... quantizing model\n",
      "WARNING:tensorflow:No training configuration found in the save file, so the model was *not* compiled. Compile it manually.\n"
     ]
    },
    {
     "name": "stderr",
     "output_type": "stream",
     "text": [
      "WARNING:tensorflow:No training configuration found in the save file, so the model was *not* compiled. Compile it manually.\n"
     ]
    },
    {
     "name": "stdout",
     "output_type": "stream",
     "text": [
      "... quantizing model\n",
      "WARNING:tensorflow:No training configuration found in the save file, so the model was *not* compiled. Compile it manually.\n"
     ]
    },
    {
     "name": "stderr",
     "output_type": "stream",
     "text": [
      "WARNING:tensorflow:No training configuration found in the save file, so the model was *not* compiled. Compile it manually.\n"
     ]
    },
    {
     "name": "stdout",
     "output_type": "stream",
     "text": [
      "... quantizing model\n",
      "WARNING:tensorflow:No training configuration found in the save file, so the model was *not* compiled. Compile it manually.\n"
     ]
    },
    {
     "name": "stderr",
     "output_type": "stream",
     "text": [
      "WARNING:tensorflow:No training configuration found in the save file, so the model was *not* compiled. Compile it manually.\n"
     ]
    },
    {
     "name": "stdout",
     "output_type": "stream",
     "text": [
      "... quantizing model\n",
      "WARNING:tensorflow:No training configuration found in the save file, so the model was *not* compiled. Compile it manually.\n"
     ]
    },
    {
     "name": "stderr",
     "output_type": "stream",
     "text": [
      "WARNING:tensorflow:No training configuration found in the save file, so the model was *not* compiled. Compile it manually.\n"
     ]
    },
    {
     "name": "stdout",
     "output_type": "stream",
     "text": [
      "... quantizing model\n",
      "WARNING:tensorflow:No training configuration found in the save file, so the model was *not* compiled. Compile it manually.\n"
     ]
    },
    {
     "name": "stderr",
     "output_type": "stream",
     "text": [
      "WARNING:tensorflow:No training configuration found in the save file, so the model was *not* compiled. Compile it manually.\n"
     ]
    },
    {
     "name": "stdout",
     "output_type": "stream",
     "text": [
      "... quantizing model\n",
      "WARNING:tensorflow:No training configuration found in the save file, so the model was *not* compiled. Compile it manually.\n"
     ]
    },
    {
     "name": "stderr",
     "output_type": "stream",
     "text": [
      "WARNING:tensorflow:No training configuration found in the save file, so the model was *not* compiled. Compile it manually.\n"
     ]
    },
    {
     "name": "stdout",
     "output_type": "stream",
     "text": [
      "... quantizing model\n",
      "WARNING:tensorflow:No training configuration found in the save file, so the model was *not* compiled. Compile it manually.\n"
     ]
    },
    {
     "name": "stderr",
     "output_type": "stream",
     "text": [
      "WARNING:tensorflow:No training configuration found in the save file, so the model was *not* compiled. Compile it manually.\n"
     ]
    },
    {
     "name": "stdout",
     "output_type": "stream",
     "text": [
      "... quantizing model\n",
      "WARNING:tensorflow:No training configuration found in the save file, so the model was *not* compiled. Compile it manually.\n"
     ]
    },
    {
     "name": "stderr",
     "output_type": "stream",
     "text": [
      "WARNING:tensorflow:No training configuration found in the save file, so the model was *not* compiled. Compile it manually.\n"
     ]
    },
    {
     "name": "stdout",
     "output_type": "stream",
     "text": [
      "... quantizing model\n",
      "WARNING:tensorflow:No training configuration found in the save file, so the model was *not* compiled. Compile it manually.\n"
     ]
    },
    {
     "name": "stderr",
     "output_type": "stream",
     "text": [
      "WARNING:tensorflow:No training configuration found in the save file, so the model was *not* compiled. Compile it manually.\n"
     ]
    },
    {
     "name": "stdout",
     "output_type": "stream",
     "text": [
      "... quantizing model\n",
      "WARNING:tensorflow:No training configuration found in the save file, so the model was *not* compiled. Compile it manually.\n"
     ]
    },
    {
     "name": "stderr",
     "output_type": "stream",
     "text": [
      "WARNING:tensorflow:No training configuration found in the save file, so the model was *not* compiled. Compile it manually.\n"
     ]
    },
    {
     "name": "stdout",
     "output_type": "stream",
     "text": [
      "... quantizing model\n",
      "WARNING:tensorflow:No training configuration found in the save file, so the model was *not* compiled. Compile it manually.\n"
     ]
    },
    {
     "name": "stderr",
     "output_type": "stream",
     "text": [
      "WARNING:tensorflow:No training configuration found in the save file, so the model was *not* compiled. Compile it manually.\n"
     ]
    },
    {
     "name": "stdout",
     "output_type": "stream",
     "text": [
      "... quantizing model\n",
      "WARNING:tensorflow:No training configuration found in the save file, so the model was *not* compiled. Compile it manually.\n"
     ]
    },
    {
     "name": "stderr",
     "output_type": "stream",
     "text": [
      "WARNING:tensorflow:No training configuration found in the save file, so the model was *not* compiled. Compile it manually.\n"
     ]
    },
    {
     "name": "stdout",
     "output_type": "stream",
     "text": [
      "... quantizing model\n",
      "WARNING:tensorflow:No training configuration found in the save file, so the model was *not* compiled. Compile it manually.\n"
     ]
    },
    {
     "name": "stderr",
     "output_type": "stream",
     "text": [
      "WARNING:tensorflow:No training configuration found in the save file, so the model was *not* compiled. Compile it manually.\n"
     ]
    },
    {
     "name": "stdout",
     "output_type": "stream",
     "text": [
      "... quantizing model\n",
      "WARNING:tensorflow:No training configuration found in the save file, so the model was *not* compiled. Compile it manually.\n"
     ]
    },
    {
     "name": "stderr",
     "output_type": "stream",
     "text": [
      "WARNING:tensorflow:No training configuration found in the save file, so the model was *not* compiled. Compile it manually.\n"
     ]
    },
    {
     "name": "stdout",
     "output_type": "stream",
     "text": [
      "... quantizing model\n",
      "WARNING:tensorflow:No training configuration found in the save file, so the model was *not* compiled. Compile it manually.\n"
     ]
    },
    {
     "name": "stderr",
     "output_type": "stream",
     "text": [
      "WARNING:tensorflow:No training configuration found in the save file, so the model was *not* compiled. Compile it manually.\n"
     ]
    },
    {
     "name": "stdout",
     "output_type": "stream",
     "text": [
      "... quantizing model\n",
      "WARNING:tensorflow:No training configuration found in the save file, so the model was *not* compiled. Compile it manually.\n"
     ]
    },
    {
     "name": "stderr",
     "output_type": "stream",
     "text": [
      "WARNING:tensorflow:No training configuration found in the save file, so the model was *not* compiled. Compile it manually.\n"
     ]
    },
    {
     "name": "stdout",
     "output_type": "stream",
     "text": [
      "... quantizing model\n",
      "WARNING:tensorflow:No training configuration found in the save file, so the model was *not* compiled. Compile it manually.\n"
     ]
    },
    {
     "name": "stderr",
     "output_type": "stream",
     "text": [
      "WARNING:tensorflow:No training configuration found in the save file, so the model was *not* compiled. Compile it manually.\n"
     ]
    },
    {
     "name": "stdout",
     "output_type": "stream",
     "text": [
      "... quantizing model\n",
      "WARNING:tensorflow:No training configuration found in the save file, so the model was *not* compiled. Compile it manually.\n"
     ]
    },
    {
     "name": "stderr",
     "output_type": "stream",
     "text": [
      "WARNING:tensorflow:No training configuration found in the save file, so the model was *not* compiled. Compile it manually.\n"
     ]
    },
    {
     "name": "stdout",
     "output_type": "stream",
     "text": [
      "... quantizing model\n",
      "WARNING:tensorflow:No training configuration found in the save file, so the model was *not* compiled. Compile it manually.\n"
     ]
    },
    {
     "name": "stderr",
     "output_type": "stream",
     "text": [
      "WARNING:tensorflow:No training configuration found in the save file, so the model was *not* compiled. Compile it manually.\n"
     ]
    },
    {
     "name": "stdout",
     "output_type": "stream",
     "text": [
      "... quantizing model\n",
      "WARNING:tensorflow:No training configuration found in the save file, so the model was *not* compiled. Compile it manually.\n"
     ]
    },
    {
     "name": "stderr",
     "output_type": "stream",
     "text": [
      "WARNING:tensorflow:No training configuration found in the save file, so the model was *not* compiled. Compile it manually.\n"
     ]
    },
    {
     "name": "stdout",
     "output_type": "stream",
     "text": [
      "... quantizing model\n",
      "WARNING:tensorflow:No training configuration found in the save file, so the model was *not* compiled. Compile it manually.\n"
     ]
    },
    {
     "name": "stderr",
     "output_type": "stream",
     "text": [
      "WARNING:tensorflow:No training configuration found in the save file, so the model was *not* compiled. Compile it manually.\n"
     ]
    },
    {
     "name": "stdout",
     "output_type": "stream",
     "text": [
      "... quantizing model\n",
      "WARNING:tensorflow:No training configuration found in the save file, so the model was *not* compiled. Compile it manually.\n"
     ]
    },
    {
     "name": "stderr",
     "output_type": "stream",
     "text": [
      "WARNING:tensorflow:No training configuration found in the save file, so the model was *not* compiled. Compile it manually.\n"
     ]
    },
    {
     "name": "stdout",
     "output_type": "stream",
     "text": [
      "... quantizing model\n",
      "WARNING:tensorflow:No training configuration found in the save file, so the model was *not* compiled. Compile it manually.\n"
     ]
    },
    {
     "name": "stderr",
     "output_type": "stream",
     "text": [
      "WARNING:tensorflow:No training configuration found in the save file, so the model was *not* compiled. Compile it manually.\n"
     ]
    },
    {
     "name": "stdout",
     "output_type": "stream",
     "text": [
      "... quantizing model\n",
      "WARNING:tensorflow:No training configuration found in the save file, so the model was *not* compiled. Compile it manually.\n"
     ]
    },
    {
     "name": "stderr",
     "output_type": "stream",
     "text": [
      "WARNING:tensorflow:No training configuration found in the save file, so the model was *not* compiled. Compile it manually.\n"
     ]
    },
    {
     "name": "stdout",
     "output_type": "stream",
     "text": [
      "... quantizing model\n",
      "WARNING:tensorflow:No training configuration found in the save file, so the model was *not* compiled. Compile it manually.\n"
     ]
    },
    {
     "name": "stderr",
     "output_type": "stream",
     "text": [
      "WARNING:tensorflow:No training configuration found in the save file, so the model was *not* compiled. Compile it manually.\n"
     ]
    },
    {
     "name": "stdout",
     "output_type": "stream",
     "text": [
      "... quantizing model\n",
      "WARNING:tensorflow:No training configuration found in the save file, so the model was *not* compiled. Compile it manually.\n"
     ]
    },
    {
     "name": "stderr",
     "output_type": "stream",
     "text": [
      "WARNING:tensorflow:No training configuration found in the save file, so the model was *not* compiled. Compile it manually.\n"
     ]
    },
    {
     "name": "stdout",
     "output_type": "stream",
     "text": [
      "... quantizing model\n",
      "WARNING:tensorflow:No training configuration found in the save file, so the model was *not* compiled. Compile it manually.\n"
     ]
    },
    {
     "name": "stderr",
     "output_type": "stream",
     "text": [
      "WARNING:tensorflow:No training configuration found in the save file, so the model was *not* compiled. Compile it manually.\n"
     ]
    },
    {
     "name": "stdout",
     "output_type": "stream",
     "text": [
      "... quantizing model\n",
      "WARNING:tensorflow:No training configuration found in the save file, so the model was *not* compiled. Compile it manually.\n"
     ]
    },
    {
     "name": "stderr",
     "output_type": "stream",
     "text": [
      "WARNING:tensorflow:No training configuration found in the save file, so the model was *not* compiled. Compile it manually.\n"
     ]
    },
    {
     "name": "stdout",
     "output_type": "stream",
     "text": [
      "... quantizing model\n",
      "WARNING:tensorflow:No training configuration found in the save file, so the model was *not* compiled. Compile it manually.\n"
     ]
    },
    {
     "name": "stderr",
     "output_type": "stream",
     "text": [
      "WARNING:tensorflow:No training configuration found in the save file, so the model was *not* compiled. Compile it manually.\n"
     ]
    },
    {
     "name": "stdout",
     "output_type": "stream",
     "text": [
      "... quantizing model\n",
      "WARNING:tensorflow:No training configuration found in the save file, so the model was *not* compiled. Compile it manually.\n"
     ]
    },
    {
     "name": "stderr",
     "output_type": "stream",
     "text": [
      "WARNING:tensorflow:No training configuration found in the save file, so the model was *not* compiled. Compile it manually.\n"
     ]
    },
    {
     "name": "stdout",
     "output_type": "stream",
     "text": [
      "... quantizing model\n",
      "WARNING:tensorflow:No training configuration found in the save file, so the model was *not* compiled. Compile it manually.\n"
     ]
    },
    {
     "name": "stderr",
     "output_type": "stream",
     "text": [
      "WARNING:tensorflow:No training configuration found in the save file, so the model was *not* compiled. Compile it manually.\n"
     ]
    },
    {
     "name": "stdout",
     "output_type": "stream",
     "text": [
      "... quantizing model\n",
      "WARNING:tensorflow:No training configuration found in the save file, so the model was *not* compiled. Compile it manually.\n"
     ]
    },
    {
     "name": "stderr",
     "output_type": "stream",
     "text": [
      "WARNING:tensorflow:No training configuration found in the save file, so the model was *not* compiled. Compile it manually.\n"
     ]
    },
    {
     "name": "stdout",
     "output_type": "stream",
     "text": [
      "... quantizing model\n",
      "WARNING:tensorflow:No training configuration found in the save file, so the model was *not* compiled. Compile it manually.\n"
     ]
    },
    {
     "name": "stderr",
     "output_type": "stream",
     "text": [
      "WARNING:tensorflow:No training configuration found in the save file, so the model was *not* compiled. Compile it manually.\n"
     ]
    },
    {
     "name": "stdout",
     "output_type": "stream",
     "text": [
      "... quantizing model\n",
      "WARNING:tensorflow:No training configuration found in the save file, so the model was *not* compiled. Compile it manually.\n"
     ]
    },
    {
     "name": "stderr",
     "output_type": "stream",
     "text": [
      "WARNING:tensorflow:No training configuration found in the save file, so the model was *not* compiled. Compile it manually.\n"
     ]
    },
    {
     "name": "stdout",
     "output_type": "stream",
     "text": [
      "... quantizing model\n",
      "WARNING:tensorflow:No training configuration found in the save file, so the model was *not* compiled. Compile it manually.\n"
     ]
    },
    {
     "name": "stderr",
     "output_type": "stream",
     "text": [
      "WARNING:tensorflow:No training configuration found in the save file, so the model was *not* compiled. Compile it manually.\n"
     ]
    },
    {
     "name": "stdout",
     "output_type": "stream",
     "text": [
      "... quantizing model\n",
      "WARNING:tensorflow:No training configuration found in the save file, so the model was *not* compiled. Compile it manually.\n"
     ]
    },
    {
     "name": "stderr",
     "output_type": "stream",
     "text": [
      "WARNING:tensorflow:No training configuration found in the save file, so the model was *not* compiled. Compile it manually.\n"
     ]
    },
    {
     "name": "stdout",
     "output_type": "stream",
     "text": [
      "... quantizing model\n",
      "WARNING:tensorflow:No training configuration found in the save file, so the model was *not* compiled. Compile it manually.\n"
     ]
    },
    {
     "name": "stderr",
     "output_type": "stream",
     "text": [
      "WARNING:tensorflow:No training configuration found in the save file, so the model was *not* compiled. Compile it manually.\n"
     ]
    },
    {
     "name": "stdout",
     "output_type": "stream",
     "text": [
      "... quantizing model\n",
      "WARNING:tensorflow:No training configuration found in the save file, so the model was *not* compiled. Compile it manually.\n"
     ]
    },
    {
     "name": "stderr",
     "output_type": "stream",
     "text": [
      "WARNING:tensorflow:No training configuration found in the save file, so the model was *not* compiled. Compile it manually.\n"
     ]
    },
    {
     "name": "stdout",
     "output_type": "stream",
     "text": [
      "... quantizing model\n",
      "WARNING:tensorflow:No training configuration found in the save file, so the model was *not* compiled. Compile it manually.\n"
     ]
    },
    {
     "name": "stderr",
     "output_type": "stream",
     "text": [
      "WARNING:tensorflow:No training configuration found in the save file, so the model was *not* compiled. Compile it manually.\n"
     ]
    },
    {
     "name": "stdout",
     "output_type": "stream",
     "text": [
      "... quantizing model\n",
      "WARNING:tensorflow:No training configuration found in the save file, so the model was *not* compiled. Compile it manually.\n"
     ]
    },
    {
     "name": "stderr",
     "output_type": "stream",
     "text": [
      "WARNING:tensorflow:No training configuration found in the save file, so the model was *not* compiled. Compile it manually.\n"
     ]
    },
    {
     "name": "stdout",
     "output_type": "stream",
     "text": [
      "... quantizing model\n",
      "WARNING:tensorflow:No training configuration found in the save file, so the model was *not* compiled. Compile it manually.\n"
     ]
    },
    {
     "name": "stderr",
     "output_type": "stream",
     "text": [
      "WARNING:tensorflow:No training configuration found in the save file, so the model was *not* compiled. Compile it manually.\n"
     ]
    },
    {
     "name": "stdout",
     "output_type": "stream",
     "text": [
      "... quantizing model\n",
      "WARNING:tensorflow:No training configuration found in the save file, so the model was *not* compiled. Compile it manually.\n"
     ]
    },
    {
     "name": "stderr",
     "output_type": "stream",
     "text": [
      "WARNING:tensorflow:No training configuration found in the save file, so the model was *not* compiled. Compile it manually.\n"
     ]
    },
    {
     "name": "stdout",
     "output_type": "stream",
     "text": [
      "... quantizing model\n",
      "WARNING:tensorflow:No training configuration found in the save file, so the model was *not* compiled. Compile it manually.\n"
     ]
    },
    {
     "name": "stderr",
     "output_type": "stream",
     "text": [
      "WARNING:tensorflow:No training configuration found in the save file, so the model was *not* compiled. Compile it manually.\n"
     ]
    },
    {
     "name": "stdout",
     "output_type": "stream",
     "text": [
      "... quantizing model\n",
      "WARNING:tensorflow:No training configuration found in the save file, so the model was *not* compiled. Compile it manually.\n"
     ]
    },
    {
     "name": "stderr",
     "output_type": "stream",
     "text": [
      "WARNING:tensorflow:No training configuration found in the save file, so the model was *not* compiled. Compile it manually.\n"
     ]
    },
    {
     "name": "stdout",
     "output_type": "stream",
     "text": [
      "... quantizing model\n",
      "WARNING:tensorflow:No training configuration found in the save file, so the model was *not* compiled. Compile it manually.\n"
     ]
    },
    {
     "name": "stderr",
     "output_type": "stream",
     "text": [
      "WARNING:tensorflow:No training configuration found in the save file, so the model was *not* compiled. Compile it manually.\n"
     ]
    },
    {
     "name": "stdout",
     "output_type": "stream",
     "text": [
      "... quantizing model\n",
      "WARNING:tensorflow:No training configuration found in the save file, so the model was *not* compiled. Compile it manually.\n"
     ]
    },
    {
     "name": "stderr",
     "output_type": "stream",
     "text": [
      "WARNING:tensorflow:No training configuration found in the save file, so the model was *not* compiled. Compile it manually.\n"
     ]
    },
    {
     "name": "stdout",
     "output_type": "stream",
     "text": [
      "... quantizing model\n",
      "WARNING:tensorflow:No training configuration found in the save file, so the model was *not* compiled. Compile it manually.\n"
     ]
    },
    {
     "name": "stderr",
     "output_type": "stream",
     "text": [
      "WARNING:tensorflow:No training configuration found in the save file, so the model was *not* compiled. Compile it manually.\n"
     ]
    },
    {
     "name": "stdout",
     "output_type": "stream",
     "text": [
      "... quantizing model\n",
      "WARNING:tensorflow:No training configuration found in the save file, so the model was *not* compiled. Compile it manually.\n"
     ]
    },
    {
     "name": "stderr",
     "output_type": "stream",
     "text": [
      "WARNING:tensorflow:No training configuration found in the save file, so the model was *not* compiled. Compile it manually.\n"
     ]
    },
    {
     "name": "stdout",
     "output_type": "stream",
     "text": [
      "... quantizing model\n",
      "WARNING:tensorflow:No training configuration found in the save file, so the model was *not* compiled. Compile it manually.\n"
     ]
    },
    {
     "name": "stderr",
     "output_type": "stream",
     "text": [
      "WARNING:tensorflow:No training configuration found in the save file, so the model was *not* compiled. Compile it manually.\n"
     ]
    },
    {
     "name": "stdout",
     "output_type": "stream",
     "text": [
      "... quantizing model\n",
      "WARNING:tensorflow:No training configuration found in the save file, so the model was *not* compiled. Compile it manually.\n"
     ]
    },
    {
     "name": "stderr",
     "output_type": "stream",
     "text": [
      "WARNING:tensorflow:No training configuration found in the save file, so the model was *not* compiled. Compile it manually.\n"
     ]
    },
    {
     "name": "stdout",
     "output_type": "stream",
     "text": [
      "... quantizing model\n",
      "WARNING:tensorflow:No training configuration found in the save file, so the model was *not* compiled. Compile it manually.\n"
     ]
    },
    {
     "name": "stderr",
     "output_type": "stream",
     "text": [
      "WARNING:tensorflow:No training configuration found in the save file, so the model was *not* compiled. Compile it manually.\n"
     ]
    },
    {
     "name": "stdout",
     "output_type": "stream",
     "text": [
      "... quantizing model\n",
      "WARNING:tensorflow:No training configuration found in the save file, so the model was *not* compiled. Compile it manually.\n"
     ]
    },
    {
     "name": "stderr",
     "output_type": "stream",
     "text": [
      "WARNING:tensorflow:No training configuration found in the save file, so the model was *not* compiled. Compile it manually.\n"
     ]
    },
    {
     "name": "stdout",
     "output_type": "stream",
     "text": [
      "... quantizing model\n",
      "WARNING:tensorflow:No training configuration found in the save file, so the model was *not* compiled. Compile it manually.\n"
     ]
    },
    {
     "name": "stderr",
     "output_type": "stream",
     "text": [
      "WARNING:tensorflow:No training configuration found in the save file, so the model was *not* compiled. Compile it manually.\n"
     ]
    },
    {
     "name": "stdout",
     "output_type": "stream",
     "text": [
      "... quantizing model\n",
      "WARNING:tensorflow:No training configuration found in the save file, so the model was *not* compiled. Compile it manually.\n"
     ]
    },
    {
     "name": "stderr",
     "output_type": "stream",
     "text": [
      "WARNING:tensorflow:No training configuration found in the save file, so the model was *not* compiled. Compile it manually.\n"
     ]
    },
    {
     "name": "stdout",
     "output_type": "stream",
     "text": [
      "... quantizing model\n",
      "WARNING:tensorflow:No training configuration found in the save file, so the model was *not* compiled. Compile it manually.\n"
     ]
    },
    {
     "name": "stderr",
     "output_type": "stream",
     "text": [
      "WARNING:tensorflow:No training configuration found in the save file, so the model was *not* compiled. Compile it manually.\n"
     ]
    },
    {
     "name": "stdout",
     "output_type": "stream",
     "text": [
      "... quantizing model\n",
      "WARNING:tensorflow:No training configuration found in the save file, so the model was *not* compiled. Compile it manually.\n"
     ]
    },
    {
     "name": "stderr",
     "output_type": "stream",
     "text": [
      "WARNING:tensorflow:No training configuration found in the save file, so the model was *not* compiled. Compile it manually.\n"
     ]
    },
    {
     "name": "stdout",
     "output_type": "stream",
     "text": [
      "... quantizing model\n",
      "WARNING:tensorflow:No training configuration found in the save file, so the model was *not* compiled. Compile it manually.\n"
     ]
    },
    {
     "name": "stderr",
     "output_type": "stream",
     "text": [
      "WARNING:tensorflow:No training configuration found in the save file, so the model was *not* compiled. Compile it manually.\n"
     ]
    },
    {
     "name": "stdout",
     "output_type": "stream",
     "text": [
      "... quantizing model\n",
      "WARNING:tensorflow:No training configuration found in the save file, so the model was *not* compiled. Compile it manually.\n"
     ]
    },
    {
     "name": "stderr",
     "output_type": "stream",
     "text": [
      "WARNING:tensorflow:No training configuration found in the save file, so the model was *not* compiled. Compile it manually.\n"
     ]
    },
    {
     "name": "stdout",
     "output_type": "stream",
     "text": [
      "... quantizing model\n",
      "WARNING:tensorflow:No training configuration found in the save file, so the model was *not* compiled. Compile it manually.\n"
     ]
    },
    {
     "name": "stderr",
     "output_type": "stream",
     "text": [
      "WARNING:tensorflow:No training configuration found in the save file, so the model was *not* compiled. Compile it manually.\n"
     ]
    },
    {
     "name": "stdout",
     "output_type": "stream",
     "text": [
      "... quantizing model\n",
      "WARNING:tensorflow:No training configuration found in the save file, so the model was *not* compiled. Compile it manually.\n"
     ]
    },
    {
     "name": "stderr",
     "output_type": "stream",
     "text": [
      "WARNING:tensorflow:No training configuration found in the save file, so the model was *not* compiled. Compile it manually.\n"
     ]
    },
    {
     "name": "stdout",
     "output_type": "stream",
     "text": [
      "... quantizing model\n",
      "WARNING:tensorflow:No training configuration found in the save file, so the model was *not* compiled. Compile it manually.\n"
     ]
    },
    {
     "name": "stderr",
     "output_type": "stream",
     "text": [
      "WARNING:tensorflow:No training configuration found in the save file, so the model was *not* compiled. Compile it manually.\n"
     ]
    },
    {
     "name": "stdout",
     "output_type": "stream",
     "text": [
      "... quantizing model\n",
      "WARNING:tensorflow:No training configuration found in the save file, so the model was *not* compiled. Compile it manually.\n"
     ]
    },
    {
     "name": "stderr",
     "output_type": "stream",
     "text": [
      "WARNING:tensorflow:No training configuration found in the save file, so the model was *not* compiled. Compile it manually.\n"
     ]
    },
    {
     "name": "stdout",
     "output_type": "stream",
     "text": [
      "... quantizing model\n",
      "WARNING:tensorflow:No training configuration found in the save file, so the model was *not* compiled. Compile it manually.\n"
     ]
    },
    {
     "name": "stderr",
     "output_type": "stream",
     "text": [
      "WARNING:tensorflow:No training configuration found in the save file, so the model was *not* compiled. Compile it manually.\n"
     ]
    },
    {
     "name": "stdout",
     "output_type": "stream",
     "text": [
      "... quantizing model\n",
      "CPU times: user 15.9 s, sys: 144 ms, total: 16 s\n",
      "Wall time: 16.2 s\n"
     ]
    }
   ],
   "source": [
    "%%time\n",
    "loaded_modelscar = reg_ff.regression.load('Cardio',dirname_car)\n",
    "loaded_modelsbc  = reg_ff.regression.load('breast_cancer',dirname_bc)\n",
    "loaded_modelsarr = reg_ff.regression.load('arrythmia',dirname_arr)\n",
    "loaded_modelsjet = reg_ff.regression.load('jet_tagging',dirname_jet)\n"
   ]
  },
  {
   "cell_type": "code",
   "execution_count": 23,
   "id": "28c18bac",
   "metadata": {},
   "outputs": [],
   "source": [
    "precision = 8\n",
    "\n",
    "FF_car = reg_ff.regression.print_resource('cardio',precision,'FF',loaded_modelscar,dirname_car)\n",
    "DSP_car = reg_ff.regression.print_resource('cardio',precision,'DSP',loaded_modelscar,dirname_car)\n",
    "FF_bc = reg_ff.regression.print_resource('breast_cancer',precision,'FF',loaded_modelsbc,dirname_bc)\n",
    "DSP_bc = reg_ff.regression.print_resource('breast_cancer',precision,'DSP',loaded_modelsbc,dirname_bc)\n",
    "FF_arr = reg_ff.regression.print_resource('arrythmia',precision,'FF',loaded_modelsarr,dirname_arr)\n",
    "DSP_arr = reg_ff.regression.print_resource('arrythmia',precision,'DSP',loaded_modelsarr,dirname_arr)\n",
    "FF_jet = reg_ff.regression.print_resource('jet_tagging',precision,'FF',loaded_modelsjet,dirname_jet)\n",
    "DSP_jet = reg_ff.regression.print_resource('jet_tagging',precision,'DSP',loaded_modelsjet,dirname_jet)"
   ]
  },
  {
   "cell_type": "code",
   "execution_count": 399,
   "id": "a3b3372d",
   "metadata": {},
   "outputs": [],
   "source": [
    "LUT_car = reg_ff.regression.print_resource('cardio',precision,'LUT',loaded_modelscar)\n",
    "LUT_bc = reg_ff.regression.print_resource('breast_cancer',precision,'LUT',loaded_modelsbc)\n",
    "LUT_arr = reg_ff.regression.print_resource('arrythmia',precision,'LUT',loaded_modelsarr)\n",
    "LUT_jet = reg_ff.regression.print_resource('jet_tagging',precision,'LUT',loaded_modelsjet)\n",
    "\n",
    "LUT1 = np.concatenate((LUT_arr[0],LUT_jet[0],LUT_bc[0],LUT_car[0]))\n",
    "LUT2 = np.concatenate((LUT_arr[1],LUT_jet[1],LUT_bc[1],LUT_car[1]))\n",
    "LUT3 = np.concatenate((LUT_jet[2],LUT_bc[2]))\n",
    "LUT4 = LUT_jet[3]\n",
    "\n"
   ]
  },
  {
   "cell_type": "code",
   "execution_count": 24,
   "id": "1c3b238d",
   "metadata": {},
   "outputs": [],
   "source": [
    "FF1 = np.concatenate((FF_arr[0],FF_jet[0],FF_bc[0],FF_car[0]))\n",
    "FF2 = np.concatenate((FF_arr[1],FF_jet[1],FF_bc[1],FF_car[1]))\n",
    "FF3 = np.concatenate((FF_jet[2],FF_bc[2]))\n",
    "FF4 = FF_jet[3]\n",
    "\n",
    "DSP1 = np.concatenate((DSP_arr[0],DSP_jet[0],DSP_bc[0],DSP_car[0]))\n",
    "DSP2 = np.concatenate((DSP_arr[1],DSP_jet[1],DSP_bc[1],DSP_car[1]))\n",
    "DSP3 = np.concatenate((DSP_jet[2],DSP_bc[2]))\n",
    "DSP4 = DSP_jet[3]"
   ]
  },
  {
   "cell_type": "code",
   "execution_count": 25,
   "id": "516046b0",
   "metadata": {},
   "outputs": [],
   "source": [
    "FF = np.concatenate((FF1,FF2,FF3,FF4))\n",
    "DSP = np.concatenate((DSP1,DSP2,DSP3,DSP4))\n",
    "#LUT = np.concatenate((LUT1,LUT2,LUT3,LUT4))\n",
    "reuse = np.array([1,2,3,4,5,6,7,8,9,10,20,30,40,50,60,70,80,90,100])"
   ]
  },
  {
   "cell_type": "code",
   "execution_count": 26,
   "id": "89973f7a",
   "metadata": {},
   "outputs": [
    {
     "data": {
      "text/plain": [
       "(220, 19)"
      ]
     },
     "execution_count": 26,
     "metadata": {},
     "output_type": "execute_result"
    }
   ],
   "source": [
    "FF.shape                  ###### (layers,reuse)"
   ]
  },
  {
   "cell_type": "code",
   "execution_count": 27,
   "id": "34f5d68f",
   "metadata": {
    "scrolled": true
   },
   "outputs": [
    {
     "data": {
      "image/png": "[encoded data removed]",
      "text/plain": [
       "<Figure size 640x480 with 1 Axes>"
      ]
     },
     "metadata": {},
     "output_type": "display_data"
    }
   ],
   "source": [
    "for i in range(len(FF)):\n",
    "    plt.plot(reuse,FF[i])\n",
    "    plt.xlabel(\"Reuse factor\")\n",
    "    plt.ylabel(\"FFs\")\n",
    "    plt.xlim(0,100)"
   ]
  },
  {
   "cell_type": "code",
   "execution_count": 28,
   "id": "28477d3d",
   "metadata": {
    "scrolled": true
   },
   "outputs": [
    {
     "data": {
      "image/png": "[encoded data removed]",
      "text/plain": [
       "<Figure size 640x480 with 1 Axes>"
      ]
     },
     "metadata": {},
     "output_type": "display_data"
    }
   ],
   "source": [
    "for i in range(len(FF_jet[0][0])):\n",
    "    plt.plot(reuse,FF_bc[2][i])\n",
    "    plt.xlabel(\"Reuse factor\")\n",
    "    plt.ylabel(\"FFs\")\n",
    "    plt.xlim(0,100)"
   ]
  },
  {
   "cell_type": "markdown",
   "id": "4e89be17",
   "metadata": {},
   "source": [
    "## Different model for input <x,2> and different for the rest of the layers <x,0>"
   ]
  },
  {
   "cell_type": "markdown",
   "id": "c2075692",
   "metadata": {},
   "source": [
    "Each FF_x array is of shape (layer,number_of_models,number_of_reuse). \n",
    "The RF_select array selects only one of the available reuse factors to create a linear model between the number of real multiplications(multiplication minus the zeros) and the number of Flip-Flops"
   ]
  },
  {
   "cell_type": "code",
   "execution_count": 424,
   "id": "0a364d6e",
   "metadata": {
    "scrolled": true
   },
   "outputs": [
    {
     "name": "stdout",
     "output_type": "stream",
     "text": [
      "WARNING:tensorflow:No training configuration found in the save file, so the model was *not* compiled. Compile it manually.\n"
     ]
    },
    {
     "name": "stderr",
     "output_type": "stream",
     "text": [
      "WARNING:tensorflow:No training configuration found in the save file, so the model was *not* compiled. Compile it manually.\n"
     ]
    },
    {
     "name": "stdout",
     "output_type": "stream",
     "text": [
      "... quantizing model\n",
      "WARNING:tensorflow:No training configuration found in the save file, so the model was *not* compiled. Compile it manually.\n"
     ]
    },
    {
     "name": "stderr",
     "output_type": "stream",
     "text": [
      "WARNING:tensorflow:No training configuration found in the save file, so the model was *not* compiled. Compile it manually.\n"
     ]
    },
    {
     "name": "stdout",
     "output_type": "stream",
     "text": [
      "... quantizing model\n",
      "WARNING:tensorflow:No training configuration found in the save file, so the model was *not* compiled. Compile it manually.\n"
     ]
    },
    {
     "name": "stderr",
     "output_type": "stream",
     "text": [
      "WARNING:tensorflow:No training configuration found in the save file, so the model was *not* compiled. Compile it manually.\n"
     ]
    },
    {
     "name": "stdout",
     "output_type": "stream",
     "text": [
      "... quantizing model\n",
      "WARNING:tensorflow:No training configuration found in the save file, so the model was *not* compiled. Compile it manually.\n"
     ]
    },
    {
     "name": "stderr",
     "output_type": "stream",
     "text": [
      "WARNING:tensorflow:No training configuration found in the save file, so the model was *not* compiled. Compile it manually.\n"
     ]
    },
    {
     "name": "stdout",
     "output_type": "stream",
     "text": [
      "... quantizing model\n",
      "WARNING:tensorflow:No training configuration found in the save file, so the model was *not* compiled. Compile it manually.\n"
     ]
    },
    {
     "name": "stderr",
     "output_type": "stream",
     "text": [
      "WARNING:tensorflow:No training configuration found in the save file, so the model was *not* compiled. Compile it manually.\n"
     ]
    },
    {
     "name": "stdout",
     "output_type": "stream",
     "text": [
      "... quantizing model\n",
      "WARNING:tensorflow:No training configuration found in the save file, so the model was *not* compiled. Compile it manually.\n"
     ]
    },
    {
     "name": "stderr",
     "output_type": "stream",
     "text": [
      "WARNING:tensorflow:No training configuration found in the save file, so the model was *not* compiled. Compile it manually.\n"
     ]
    },
    {
     "name": "stdout",
     "output_type": "stream",
     "text": [
      "... quantizing model\n",
      "WARNING:tensorflow:No training configuration found in the save file, so the model was *not* compiled. Compile it manually.\n"
     ]
    },
    {
     "name": "stderr",
     "output_type": "stream",
     "text": [
      "WARNING:tensorflow:No training configuration found in the save file, so the model was *not* compiled. Compile it manually.\n"
     ]
    },
    {
     "name": "stdout",
     "output_type": "stream",
     "text": [
      "... quantizing model\n",
      "WARNING:tensorflow:No training configuration found in the save file, so the model was *not* compiled. Compile it manually.\n"
     ]
    },
    {
     "name": "stderr",
     "output_type": "stream",
     "text": [
      "WARNING:tensorflow:No training configuration found in the save file, so the model was *not* compiled. Compile it manually.\n"
     ]
    },
    {
     "name": "stdout",
     "output_type": "stream",
     "text": [
      "... quantizing model\n",
      "WARNING:tensorflow:No training configuration found in the save file, so the model was *not* compiled. Compile it manually.\n"
     ]
    },
    {
     "name": "stderr",
     "output_type": "stream",
     "text": [
      "WARNING:tensorflow:No training configuration found in the save file, so the model was *not* compiled. Compile it manually.\n"
     ]
    },
    {
     "name": "stdout",
     "output_type": "stream",
     "text": [
      "... quantizing model\n",
      "WARNING:tensorflow:No training configuration found in the save file, so the model was *not* compiled. Compile it manually.\n"
     ]
    },
    {
     "name": "stderr",
     "output_type": "stream",
     "text": [
      "WARNING:tensorflow:No training configuration found in the save file, so the model was *not* compiled. Compile it manually.\n"
     ]
    },
    {
     "name": "stdout",
     "output_type": "stream",
     "text": [
      "... quantizing model\n",
      "WARNING:tensorflow:No training configuration found in the save file, so the model was *not* compiled. Compile it manually.\n"
     ]
    },
    {
     "name": "stderr",
     "output_type": "stream",
     "text": [
      "WARNING:tensorflow:No training configuration found in the save file, so the model was *not* compiled. Compile it manually.\n"
     ]
    },
    {
     "name": "stdout",
     "output_type": "stream",
     "text": [
      "... quantizing model\n",
      "WARNING:tensorflow:No training configuration found in the save file, so the model was *not* compiled. Compile it manually.\n"
     ]
    },
    {
     "name": "stderr",
     "output_type": "stream",
     "text": [
      "WARNING:tensorflow:No training configuration found in the save file, so the model was *not* compiled. Compile it manually.\n"
     ]
    },
    {
     "name": "stdout",
     "output_type": "stream",
     "text": [
      "... quantizing model\n",
      "WARNING:tensorflow:No training configuration found in the save file, so the model was *not* compiled. Compile it manually.\n"
     ]
    },
    {
     "name": "stderr",
     "output_type": "stream",
     "text": [
      "WARNING:tensorflow:No training configuration found in the save file, so the model was *not* compiled. Compile it manually.\n"
     ]
    },
    {
     "name": "stdout",
     "output_type": "stream",
     "text": [
      "... quantizing model\n",
      "WARNING:tensorflow:No training configuration found in the save file, so the model was *not* compiled. Compile it manually.\n"
     ]
    },
    {
     "name": "stderr",
     "output_type": "stream",
     "text": [
      "WARNING:tensorflow:No training configuration found in the save file, so the model was *not* compiled. Compile it manually.\n"
     ]
    },
    {
     "name": "stdout",
     "output_type": "stream",
     "text": [
      "... quantizing model\n",
      "WARNING:tensorflow:No training configuration found in the save file, so the model was *not* compiled. Compile it manually.\n"
     ]
    },
    {
     "name": "stderr",
     "output_type": "stream",
     "text": [
      "WARNING:tensorflow:No training configuration found in the save file, so the model was *not* compiled. Compile it manually.\n"
     ]
    },
    {
     "name": "stdout",
     "output_type": "stream",
     "text": [
      "... quantizing model\n",
      "WARNING:tensorflow:No training configuration found in the save file, so the model was *not* compiled. Compile it manually.\n"
     ]
    },
    {
     "name": "stderr",
     "output_type": "stream",
     "text": [
      "WARNING:tensorflow:No training configuration found in the save file, so the model was *not* compiled. Compile it manually.\n"
     ]
    },
    {
     "name": "stdout",
     "output_type": "stream",
     "text": [
      "... quantizing model\n",
      "WARNING:tensorflow:No training configuration found in the save file, so the model was *not* compiled. Compile it manually.\n"
     ]
    },
    {
     "name": "stderr",
     "output_type": "stream",
     "text": [
      "WARNING:tensorflow:No training configuration found in the save file, so the model was *not* compiled. Compile it manually.\n"
     ]
    },
    {
     "name": "stdout",
     "output_type": "stream",
     "text": [
      "... quantizing model\n",
      "WARNING:tensorflow:No training configuration found in the save file, so the model was *not* compiled. Compile it manually.\n"
     ]
    },
    {
     "name": "stderr",
     "output_type": "stream",
     "text": [
      "WARNING:tensorflow:No training configuration found in the save file, so the model was *not* compiled. Compile it manually.\n"
     ]
    },
    {
     "name": "stdout",
     "output_type": "stream",
     "text": [
      "... quantizing model\n",
      "WARNING:tensorflow:No training configuration found in the save file, so the model was *not* compiled. Compile it manually.\n"
     ]
    },
    {
     "name": "stderr",
     "output_type": "stream",
     "text": [
      "WARNING:tensorflow:No training configuration found in the save file, so the model was *not* compiled. Compile it manually.\n"
     ]
    },
    {
     "name": "stdout",
     "output_type": "stream",
     "text": [
      "... quantizing model\n",
      "WARNING:tensorflow:No training configuration found in the save file, so the model was *not* compiled. Compile it manually.\n"
     ]
    },
    {
     "name": "stderr",
     "output_type": "stream",
     "text": [
      "WARNING:tensorflow:No training configuration found in the save file, so the model was *not* compiled. Compile it manually.\n"
     ]
    },
    {
     "name": "stdout",
     "output_type": "stream",
     "text": [
      "... quantizing model\n",
      "WARNING:tensorflow:No training configuration found in the save file, so the model was *not* compiled. Compile it manually.\n"
     ]
    },
    {
     "name": "stderr",
     "output_type": "stream",
     "text": [
      "WARNING:tensorflow:No training configuration found in the save file, so the model was *not* compiled. Compile it manually.\n"
     ]
    },
    {
     "name": "stdout",
     "output_type": "stream",
     "text": [
      "... quantizing model\n",
      "WARNING:tensorflow:No training configuration found in the save file, so the model was *not* compiled. Compile it manually.\n"
     ]
    },
    {
     "name": "stderr",
     "output_type": "stream",
     "text": [
      "WARNING:tensorflow:No training configuration found in the save file, so the model was *not* compiled. Compile it manually.\n"
     ]
    },
    {
     "name": "stdout",
     "output_type": "stream",
     "text": [
      "... quantizing model\n",
      "WARNING:tensorflow:No training configuration found in the save file, so the model was *not* compiled. Compile it manually.\n"
     ]
    },
    {
     "name": "stderr",
     "output_type": "stream",
     "text": [
      "WARNING:tensorflow:No training configuration found in the save file, so the model was *not* compiled. Compile it manually.\n"
     ]
    },
    {
     "name": "stdout",
     "output_type": "stream",
     "text": [
      "... quantizing model\n",
      "WARNING:tensorflow:No training configuration found in the save file, so the model was *not* compiled. Compile it manually.\n"
     ]
    },
    {
     "name": "stderr",
     "output_type": "stream",
     "text": [
      "WARNING:tensorflow:No training configuration found in the save file, so the model was *not* compiled. Compile it manually.\n"
     ]
    },
    {
     "name": "stdout",
     "output_type": "stream",
     "text": [
      "... quantizing model\n",
      "WARNING:tensorflow:No training configuration found in the save file, so the model was *not* compiled. Compile it manually.\n"
     ]
    },
    {
     "name": "stderr",
     "output_type": "stream",
     "text": [
      "WARNING:tensorflow:No training configuration found in the save file, so the model was *not* compiled. Compile it manually.\n"
     ]
    },
    {
     "name": "stdout",
     "output_type": "stream",
     "text": [
      "... quantizing model\n",
      "WARNING:tensorflow:No training configuration found in the save file, so the model was *not* compiled. Compile it manually.\n"
     ]
    },
    {
     "name": "stderr",
     "output_type": "stream",
     "text": [
      "WARNING:tensorflow:No training configuration found in the save file, so the model was *not* compiled. Compile it manually.\n"
     ]
    },
    {
     "name": "stdout",
     "output_type": "stream",
     "text": [
      "... quantizing model\n",
      "WARNING:tensorflow:No training configuration found in the save file, so the model was *not* compiled. Compile it manually.\n"
     ]
    },
    {
     "name": "stderr",
     "output_type": "stream",
     "text": [
      "WARNING:tensorflow:No training configuration found in the save file, so the model was *not* compiled. Compile it manually.\n"
     ]
    },
    {
     "name": "stdout",
     "output_type": "stream",
     "text": [
      "... quantizing model\n",
      "WARNING:tensorflow:No training configuration found in the save file, so the model was *not* compiled. Compile it manually.\n"
     ]
    },
    {
     "name": "stderr",
     "output_type": "stream",
     "text": [
      "WARNING:tensorflow:No training configuration found in the save file, so the model was *not* compiled. Compile it manually.\n"
     ]
    },
    {
     "name": "stdout",
     "output_type": "stream",
     "text": [
      "... quantizing model\n",
      "WARNING:tensorflow:No training configuration found in the save file, so the model was *not* compiled. Compile it manually.\n"
     ]
    },
    {
     "name": "stderr",
     "output_type": "stream",
     "text": [
      "WARNING:tensorflow:No training configuration found in the save file, so the model was *not* compiled. Compile it manually.\n"
     ]
    },
    {
     "name": "stdout",
     "output_type": "stream",
     "text": [
      "... quantizing model\n",
      "WARNING:tensorflow:No training configuration found in the save file, so the model was *not* compiled. Compile it manually.\n"
     ]
    },
    {
     "name": "stderr",
     "output_type": "stream",
     "text": [
      "WARNING:tensorflow:No training configuration found in the save file, so the model was *not* compiled. Compile it manually.\n"
     ]
    },
    {
     "name": "stdout",
     "output_type": "stream",
     "text": [
      "... quantizing model\n",
      "WARNING:tensorflow:No training configuration found in the save file, so the model was *not* compiled. Compile it manually.\n"
     ]
    },
    {
     "name": "stderr",
     "output_type": "stream",
     "text": [
      "WARNING:tensorflow:No training configuration found in the save file, so the model was *not* compiled. Compile it manually.\n"
     ]
    },
    {
     "name": "stdout",
     "output_type": "stream",
     "text": [
      "... quantizing model\n",
      "WARNING:tensorflow:No training configuration found in the save file, so the model was *not* compiled. Compile it manually.\n"
     ]
    },
    {
     "name": "stderr",
     "output_type": "stream",
     "text": [
      "WARNING:tensorflow:No training configuration found in the save file, so the model was *not* compiled. Compile it manually.\n"
     ]
    },
    {
     "name": "stdout",
     "output_type": "stream",
     "text": [
      "... quantizing model\n",
      "WARNING:tensorflow:No training configuration found in the save file, so the model was *not* compiled. Compile it manually.\n"
     ]
    },
    {
     "name": "stderr",
     "output_type": "stream",
     "text": [
      "WARNING:tensorflow:No training configuration found in the save file, so the model was *not* compiled. Compile it manually.\n"
     ]
    },
    {
     "name": "stdout",
     "output_type": "stream",
     "text": [
      "... quantizing model\n",
      "WARNING:tensorflow:No training configuration found in the save file, so the model was *not* compiled. Compile it manually.\n"
     ]
    },
    {
     "name": "stderr",
     "output_type": "stream",
     "text": [
      "WARNING:tensorflow:No training configuration found in the save file, so the model was *not* compiled. Compile it manually.\n"
     ]
    },
    {
     "name": "stdout",
     "output_type": "stream",
     "text": [
      "... quantizing model\n",
      "WARNING:tensorflow:No training configuration found in the save file, so the model was *not* compiled. Compile it manually.\n"
     ]
    },
    {
     "name": "stderr",
     "output_type": "stream",
     "text": [
      "WARNING:tensorflow:No training configuration found in the save file, so the model was *not* compiled. Compile it manually.\n"
     ]
    },
    {
     "name": "stdout",
     "output_type": "stream",
     "text": [
      "... quantizing model\n",
      "WARNING:tensorflow:No training configuration found in the save file, so the model was *not* compiled. Compile it manually.\n"
     ]
    },
    {
     "name": "stderr",
     "output_type": "stream",
     "text": [
      "WARNING:tensorflow:No training configuration found in the save file, so the model was *not* compiled. Compile it manually.\n"
     ]
    },
    {
     "name": "stdout",
     "output_type": "stream",
     "text": [
      "... quantizing model\n",
      "WARNING:tensorflow:No training configuration found in the save file, so the model was *not* compiled. Compile it manually.\n"
     ]
    },
    {
     "name": "stderr",
     "output_type": "stream",
     "text": [
      "WARNING:tensorflow:No training configuration found in the save file, so the model was *not* compiled. Compile it manually.\n"
     ]
    },
    {
     "name": "stdout",
     "output_type": "stream",
     "text": [
      "... quantizing model\n",
      "WARNING:tensorflow:No training configuration found in the save file, so the model was *not* compiled. Compile it manually.\n"
     ]
    },
    {
     "name": "stderr",
     "output_type": "stream",
     "text": [
      "WARNING:tensorflow:No training configuration found in the save file, so the model was *not* compiled. Compile it manually.\n"
     ]
    },
    {
     "name": "stdout",
     "output_type": "stream",
     "text": [
      "... quantizing model\n",
      "WARNING:tensorflow:No training configuration found in the save file, so the model was *not* compiled. Compile it manually.\n"
     ]
    },
    {
     "name": "stderr",
     "output_type": "stream",
     "text": [
      "WARNING:tensorflow:No training configuration found in the save file, so the model was *not* compiled. Compile it manually.\n"
     ]
    },
    {
     "name": "stdout",
     "output_type": "stream",
     "text": [
      "... quantizing model\n",
      "WARNING:tensorflow:No training configuration found in the save file, so the model was *not* compiled. Compile it manually.\n"
     ]
    },
    {
     "name": "stderr",
     "output_type": "stream",
     "text": [
      "WARNING:tensorflow:No training configuration found in the save file, so the model was *not* compiled. Compile it manually.\n"
     ]
    },
    {
     "name": "stdout",
     "output_type": "stream",
     "text": [
      "... quantizing model\n",
      "WARNING:tensorflow:No training configuration found in the save file, so the model was *not* compiled. Compile it manually.\n"
     ]
    },
    {
     "name": "stderr",
     "output_type": "stream",
     "text": [
      "WARNING:tensorflow:No training configuration found in the save file, so the model was *not* compiled. Compile it manually.\n"
     ]
    },
    {
     "name": "stdout",
     "output_type": "stream",
     "text": [
      "... quantizing model\n",
      "WARNING:tensorflow:No training configuration found in the save file, so the model was *not* compiled. Compile it manually.\n"
     ]
    },
    {
     "name": "stderr",
     "output_type": "stream",
     "text": [
      "WARNING:tensorflow:No training configuration found in the save file, so the model was *not* compiled. Compile it manually.\n"
     ]
    },
    {
     "name": "stdout",
     "output_type": "stream",
     "text": [
      "... quantizing model\n",
      "WARNING:tensorflow:No training configuration found in the save file, so the model was *not* compiled. Compile it manually.\n"
     ]
    },
    {
     "name": "stderr",
     "output_type": "stream",
     "text": [
      "WARNING:tensorflow:No training configuration found in the save file, so the model was *not* compiled. Compile it manually.\n"
     ]
    },
    {
     "name": "stdout",
     "output_type": "stream",
     "text": [
      "... quantizing model\n",
      "WARNING:tensorflow:No training configuration found in the save file, so the model was *not* compiled. Compile it manually.\n"
     ]
    },
    {
     "name": "stderr",
     "output_type": "stream",
     "text": [
      "WARNING:tensorflow:No training configuration found in the save file, so the model was *not* compiled. Compile it manually.\n"
     ]
    },
    {
     "name": "stdout",
     "output_type": "stream",
     "text": [
      "... quantizing model\n",
      "WARNING:tensorflow:No training configuration found in the save file, so the model was *not* compiled. Compile it manually.\n"
     ]
    },
    {
     "name": "stderr",
     "output_type": "stream",
     "text": [
      "WARNING:tensorflow:No training configuration found in the save file, so the model was *not* compiled. Compile it manually.\n"
     ]
    },
    {
     "name": "stdout",
     "output_type": "stream",
     "text": [
      "... quantizing model\n",
      "WARNING:tensorflow:No training configuration found in the save file, so the model was *not* compiled. Compile it manually.\n"
     ]
    },
    {
     "name": "stderr",
     "output_type": "stream",
     "text": [
      "WARNING:tensorflow:No training configuration found in the save file, so the model was *not* compiled. Compile it manually.\n"
     ]
    },
    {
     "name": "stdout",
     "output_type": "stream",
     "text": [
      "... quantizing model\n",
      "WARNING:tensorflow:No training configuration found in the save file, so the model was *not* compiled. Compile it manually.\n"
     ]
    },
    {
     "name": "stderr",
     "output_type": "stream",
     "text": [
      "WARNING:tensorflow:No training configuration found in the save file, so the model was *not* compiled. Compile it manually.\n"
     ]
    },
    {
     "name": "stdout",
     "output_type": "stream",
     "text": [
      "... quantizing model\n",
      "WARNING:tensorflow:No training configuration found in the save file, so the model was *not* compiled. Compile it manually.\n"
     ]
    },
    {
     "name": "stderr",
     "output_type": "stream",
     "text": [
      "WARNING:tensorflow:No training configuration found in the save file, so the model was *not* compiled. Compile it manually.\n"
     ]
    },
    {
     "name": "stdout",
     "output_type": "stream",
     "text": [
      "... quantizing model\n",
      "WARNING:tensorflow:No training configuration found in the save file, so the model was *not* compiled. Compile it manually.\n"
     ]
    },
    {
     "name": "stderr",
     "output_type": "stream",
     "text": [
      "WARNING:tensorflow:No training configuration found in the save file, so the model was *not* compiled. Compile it manually.\n"
     ]
    },
    {
     "name": "stdout",
     "output_type": "stream",
     "text": [
      "... quantizing model\n",
      "WARNING:tensorflow:No training configuration found in the save file, so the model was *not* compiled. Compile it manually.\n"
     ]
    },
    {
     "name": "stderr",
     "output_type": "stream",
     "text": [
      "WARNING:tensorflow:No training configuration found in the save file, so the model was *not* compiled. Compile it manually.\n"
     ]
    },
    {
     "name": "stdout",
     "output_type": "stream",
     "text": [
      "... quantizing model\n",
      "WARNING:tensorflow:No training configuration found in the save file, so the model was *not* compiled. Compile it manually.\n"
     ]
    },
    {
     "name": "stderr",
     "output_type": "stream",
     "text": [
      "WARNING:tensorflow:No training configuration found in the save file, so the model was *not* compiled. Compile it manually.\n"
     ]
    },
    {
     "name": "stdout",
     "output_type": "stream",
     "text": [
      "... quantizing model\n",
      "WARNING:tensorflow:No training configuration found in the save file, so the model was *not* compiled. Compile it manually.\n"
     ]
    },
    {
     "name": "stderr",
     "output_type": "stream",
     "text": [
      "WARNING:tensorflow:No training configuration found in the save file, so the model was *not* compiled. Compile it manually.\n"
     ]
    },
    {
     "name": "stdout",
     "output_type": "stream",
     "text": [
      "... quantizing model\n",
      "WARNING:tensorflow:No training configuration found in the save file, so the model was *not* compiled. Compile it manually.\n"
     ]
    },
    {
     "name": "stderr",
     "output_type": "stream",
     "text": [
      "WARNING:tensorflow:No training configuration found in the save file, so the model was *not* compiled. Compile it manually.\n"
     ]
    },
    {
     "name": "stdout",
     "output_type": "stream",
     "text": [
      "... quantizing model\n",
      "WARNING:tensorflow:No training configuration found in the save file, so the model was *not* compiled. Compile it manually.\n"
     ]
    },
    {
     "name": "stderr",
     "output_type": "stream",
     "text": [
      "WARNING:tensorflow:No training configuration found in the save file, so the model was *not* compiled. Compile it manually.\n"
     ]
    },
    {
     "name": "stdout",
     "output_type": "stream",
     "text": [
      "... quantizing model\n",
      "WARNING:tensorflow:No training configuration found in the save file, so the model was *not* compiled. Compile it manually.\n"
     ]
    },
    {
     "name": "stderr",
     "output_type": "stream",
     "text": [
      "WARNING:tensorflow:No training configuration found in the save file, so the model was *not* compiled. Compile it manually.\n"
     ]
    },
    {
     "name": "stdout",
     "output_type": "stream",
     "text": [
      "... quantizing model\n",
      "WARNING:tensorflow:No training configuration found in the save file, so the model was *not* compiled. Compile it manually.\n"
     ]
    },
    {
     "name": "stderr",
     "output_type": "stream",
     "text": [
      "WARNING:tensorflow:No training configuration found in the save file, so the model was *not* compiled. Compile it manually.\n"
     ]
    },
    {
     "name": "stdout",
     "output_type": "stream",
     "text": [
      "... quantizing model\n",
      "WARNING:tensorflow:No training configuration found in the save file, so the model was *not* compiled. Compile it manually.\n"
     ]
    },
    {
     "name": "stderr",
     "output_type": "stream",
     "text": [
      "WARNING:tensorflow:No training configuration found in the save file, so the model was *not* compiled. Compile it manually.\n"
     ]
    },
    {
     "name": "stdout",
     "output_type": "stream",
     "text": [
      "... quantizing model\n",
      "WARNING:tensorflow:No training configuration found in the save file, so the model was *not* compiled. Compile it manually.\n"
     ]
    },
    {
     "name": "stderr",
     "output_type": "stream",
     "text": [
      "WARNING:tensorflow:No training configuration found in the save file, so the model was *not* compiled. Compile it manually.\n"
     ]
    },
    {
     "name": "stdout",
     "output_type": "stream",
     "text": [
      "... quantizing model\n",
      "WARNING:tensorflow:No training configuration found in the save file, so the model was *not* compiled. Compile it manually.\n"
     ]
    },
    {
     "name": "stderr",
     "output_type": "stream",
     "text": [
      "WARNING:tensorflow:No training configuration found in the save file, so the model was *not* compiled. Compile it manually.\n"
     ]
    },
    {
     "name": "stdout",
     "output_type": "stream",
     "text": [
      "... quantizing model\n",
      "WARNING:tensorflow:No training configuration found in the save file, so the model was *not* compiled. Compile it manually.\n"
     ]
    },
    {
     "name": "stderr",
     "output_type": "stream",
     "text": [
      "WARNING:tensorflow:No training configuration found in the save file, so the model was *not* compiled. Compile it manually.\n"
     ]
    },
    {
     "name": "stdout",
     "output_type": "stream",
     "text": [
      "... quantizing model\n",
      "WARNING:tensorflow:No training configuration found in the save file, so the model was *not* compiled. Compile it manually.\n"
     ]
    },
    {
     "name": "stderr",
     "output_type": "stream",
     "text": [
      "WARNING:tensorflow:No training configuration found in the save file, so the model was *not* compiled. Compile it manually.\n"
     ]
    },
    {
     "name": "stdout",
     "output_type": "stream",
     "text": [
      "... quantizing model\n",
      "WARNING:tensorflow:No training configuration found in the save file, so the model was *not* compiled. Compile it manually.\n"
     ]
    },
    {
     "name": "stderr",
     "output_type": "stream",
     "text": [
      "WARNING:tensorflow:No training configuration found in the save file, so the model was *not* compiled. Compile it manually.\n"
     ]
    },
    {
     "name": "stdout",
     "output_type": "stream",
     "text": [
      "... quantizing model\n",
      "WARNING:tensorflow:No training configuration found in the save file, so the model was *not* compiled. Compile it manually.\n"
     ]
    },
    {
     "name": "stderr",
     "output_type": "stream",
     "text": [
      "WARNING:tensorflow:No training configuration found in the save file, so the model was *not* compiled. Compile it manually.\n"
     ]
    },
    {
     "name": "stdout",
     "output_type": "stream",
     "text": [
      "... quantizing model\n",
      "WARNING:tensorflow:No training configuration found in the save file, so the model was *not* compiled. Compile it manually.\n"
     ]
    },
    {
     "name": "stderr",
     "output_type": "stream",
     "text": [
      "WARNING:tensorflow:No training configuration found in the save file, so the model was *not* compiled. Compile it manually.\n"
     ]
    },
    {
     "name": "stdout",
     "output_type": "stream",
     "text": [
      "... quantizing model\n",
      "WARNING:tensorflow:No training configuration found in the save file, so the model was *not* compiled. Compile it manually.\n"
     ]
    },
    {
     "name": "stderr",
     "output_type": "stream",
     "text": [
      "WARNING:tensorflow:No training configuration found in the save file, so the model was *not* compiled. Compile it manually.\n"
     ]
    },
    {
     "name": "stdout",
     "output_type": "stream",
     "text": [
      "... quantizing model\n",
      "WARNING:tensorflow:No training configuration found in the save file, so the model was *not* compiled. Compile it manually.\n"
     ]
    },
    {
     "name": "stderr",
     "output_type": "stream",
     "text": [
      "WARNING:tensorflow:No training configuration found in the save file, so the model was *not* compiled. Compile it manually.\n"
     ]
    },
    {
     "name": "stdout",
     "output_type": "stream",
     "text": [
      "... quantizing model\n",
      "WARNING:tensorflow:No training configuration found in the save file, so the model was *not* compiled. Compile it manually.\n"
     ]
    },
    {
     "name": "stderr",
     "output_type": "stream",
     "text": [
      "WARNING:tensorflow:No training configuration found in the save file, so the model was *not* compiled. Compile it manually.\n"
     ]
    },
    {
     "name": "stdout",
     "output_type": "stream",
     "text": [
      "... quantizing model\n",
      "WARNING:tensorflow:No training configuration found in the save file, so the model was *not* compiled. Compile it manually.\n"
     ]
    },
    {
     "name": "stderr",
     "output_type": "stream",
     "text": [
      "WARNING:tensorflow:No training configuration found in the save file, so the model was *not* compiled. Compile it manually.\n"
     ]
    },
    {
     "name": "stdout",
     "output_type": "stream",
     "text": [
      "... quantizing model\n",
      "WARNING:tensorflow:No training configuration found in the save file, so the model was *not* compiled. Compile it manually.\n"
     ]
    },
    {
     "name": "stderr",
     "output_type": "stream",
     "text": [
      "WARNING:tensorflow:No training configuration found in the save file, so the model was *not* compiled. Compile it manually.\n"
     ]
    },
    {
     "name": "stdout",
     "output_type": "stream",
     "text": [
      "... quantizing model\n",
      "WARNING:tensorflow:No training configuration found in the save file, so the model was *not* compiled. Compile it manually.\n"
     ]
    },
    {
     "name": "stderr",
     "output_type": "stream",
     "text": [
      "WARNING:tensorflow:No training configuration found in the save file, so the model was *not* compiled. Compile it manually.\n"
     ]
    },
    {
     "name": "stdout",
     "output_type": "stream",
     "text": [
      "... quantizing model\n",
      "WARNING:tensorflow:No training configuration found in the save file, so the model was *not* compiled. Compile it manually.\n"
     ]
    },
    {
     "name": "stderr",
     "output_type": "stream",
     "text": [
      "WARNING:tensorflow:No training configuration found in the save file, so the model was *not* compiled. Compile it manually.\n"
     ]
    },
    {
     "name": "stdout",
     "output_type": "stream",
     "text": [
      "... quantizing model\n",
      "WARNING:tensorflow:No training configuration found in the save file, so the model was *not* compiled. Compile it manually.\n"
     ]
    },
    {
     "name": "stderr",
     "output_type": "stream",
     "text": [
      "WARNING:tensorflow:No training configuration found in the save file, so the model was *not* compiled. Compile it manually.\n"
     ]
    },
    {
     "name": "stdout",
     "output_type": "stream",
     "text": [
      "... quantizing model\n",
      "WARNING:tensorflow:No training configuration found in the save file, so the model was *not* compiled. Compile it manually.\n"
     ]
    },
    {
     "name": "stderr",
     "output_type": "stream",
     "text": [
      "WARNING:tensorflow:No training configuration found in the save file, so the model was *not* compiled. Compile it manually.\n"
     ]
    },
    {
     "name": "stdout",
     "output_type": "stream",
     "text": [
      "... quantizing model\n",
      "WARNING:tensorflow:No training configuration found in the save file, so the model was *not* compiled. Compile it manually.\n"
     ]
    },
    {
     "name": "stderr",
     "output_type": "stream",
     "text": [
      "WARNING:tensorflow:No training configuration found in the save file, so the model was *not* compiled. Compile it manually.\n"
     ]
    },
    {
     "name": "stdout",
     "output_type": "stream",
     "text": [
      "... quantizing model\n",
      "WARNING:tensorflow:No training configuration found in the save file, so the model was *not* compiled. Compile it manually.\n"
     ]
    },
    {
     "name": "stderr",
     "output_type": "stream",
     "text": [
      "WARNING:tensorflow:No training configuration found in the save file, so the model was *not* compiled. Compile it manually.\n"
     ]
    },
    {
     "name": "stdout",
     "output_type": "stream",
     "text": [
      "... quantizing model\n",
      "WARNING:tensorflow:No training configuration found in the save file, so the model was *not* compiled. Compile it manually.\n"
     ]
    },
    {
     "name": "stderr",
     "output_type": "stream",
     "text": [
      "WARNING:tensorflow:No training configuration found in the save file, so the model was *not* compiled. Compile it manually.\n"
     ]
    },
    {
     "name": "stdout",
     "output_type": "stream",
     "text": [
      "... quantizing model\n",
      "WARNING:tensorflow:No training configuration found in the save file, so the model was *not* compiled. Compile it manually.\n"
     ]
    },
    {
     "name": "stderr",
     "output_type": "stream",
     "text": [
      "WARNING:tensorflow:No training configuration found in the save file, so the model was *not* compiled. Compile it manually.\n"
     ]
    },
    {
     "name": "stdout",
     "output_type": "stream",
     "text": [
      "... quantizing model\n",
      "WARNING:tensorflow:No training configuration found in the save file, so the model was *not* compiled. Compile it manually.\n"
     ]
    },
    {
     "name": "stderr",
     "output_type": "stream",
     "text": [
      "WARNING:tensorflow:No training configuration found in the save file, so the model was *not* compiled. Compile it manually.\n"
     ]
    },
    {
     "name": "stdout",
     "output_type": "stream",
     "text": [
      "... quantizing model\n",
      "WARNING:tensorflow:No training configuration found in the save file, so the model was *not* compiled. Compile it manually.\n"
     ]
    },
    {
     "name": "stderr",
     "output_type": "stream",
     "text": [
      "WARNING:tensorflow:No training configuration found in the save file, so the model was *not* compiled. Compile it manually.\n"
     ]
    },
    {
     "name": "stdout",
     "output_type": "stream",
     "text": [
      "... quantizing model\n",
      "WARNING:tensorflow:No training configuration found in the save file, so the model was *not* compiled. Compile it manually.\n"
     ]
    },
    {
     "name": "stderr",
     "output_type": "stream",
     "text": [
      "WARNING:tensorflow:No training configuration found in the save file, so the model was *not* compiled. Compile it manually.\n"
     ]
    },
    {
     "name": "stdout",
     "output_type": "stream",
     "text": [
      "... quantizing model\n",
      "CPU times: user 10.1 s, sys: 90.1 ms, total: 10.2 s\n",
      "Wall time: 10.1 s\n"
     ]
    }
   ],
   "source": [
    "%%time\n",
    "loaded_modelscar = reg_ff.regression.load('Cardio')\n",
    "loaded_modelsbc  = reg_ff.regression.load('breast_cancer')\n",
    "loaded_modelsarr = reg_ff.regression.load('arrythmia')\n",
    "loaded_modelsjet = reg_ff.regression.load('jet_tagging')\n"
   ]
  },
  {
   "cell_type": "code",
   "execution_count": 439,
   "id": "1e6bc6eb",
   "metadata": {},
   "outputs": [],
   "source": [
    "precision = 8\n",
    "RF_sele = 1\n",
    "\n",
    "FF_car = reg_ff.regression.print_resource('cardio',precision,'FF',loaded_modelscar)\n",
    "DSP_car = reg_ff.regression.print_resource('cardio',precision,'DSP',loaded_modelscar)\n",
    "FF_bc = reg_ff.regression.print_resource('breast_cancer',precision,'FF',loaded_modelsbc)\n",
    "DSP_bc = reg_ff.regression.print_resource('breast_cancer',precision,'DSP',loaded_modelsbc)\n",
    "FF_arr = reg_ff.regression.print_resource('arrythmia',precision,'FF',loaded_modelsarr)\n",
    "DSP_arr = reg_ff.regression.print_resource('arrythmia',precision,'DSP',loaded_modelsarr)\n",
    "FF_jet = reg_ff.regression.print_resource('jet_tagging',precision,'FF',loaded_modelsjet)\n",
    "DSP_jet = reg_ff.regression.print_resource('jet_tagging',precision,'DSP',loaded_modelsjet)"
   ]
  },
  {
   "cell_type": "code",
   "execution_count": 440,
   "id": "8e148e36",
   "metadata": {},
   "outputs": [
    {
     "name": "stdout",
     "output_type": "stream",
     "text": [
      "CPU times: user 1.67 s, sys: 0 ns, total: 1.67 s\n",
      "Wall time: 1.66 s\n"
     ]
    }
   ],
   "source": [
    "%%time\n",
    "real_muls_arr = reg_ff.regression.get_muls(loaded_modelsarr)\n",
    "real_muls_jet = reg_ff.regression.get_muls(loaded_modelsjet)\n",
    "real_muls_bc  = reg_ff.regression.get_muls(loaded_modelsbc)\n",
    "real_muls_car = reg_ff.regression.get_muls(loaded_modelscar)"
   ]
  },
  {
   "cell_type": "code",
   "execution_count": 441,
   "id": "3717d788",
   "metadata": {},
   "outputs": [],
   "source": [
    "RF_select_rest = np.concatenate((FF_arr[1:2],FF_jet[1:4],FF_bc[1:3],FF_car[1:2]))\n",
    "DSP_select_rest = np.concatenate((DSP_arr[1:2],DSP_jet[1:4],DSP_bc[1:3],DSP_car[1:2]))"
   ]
  },
  {
   "cell_type": "code",
   "execution_count": 442,
   "id": "9ad18790",
   "metadata": {},
   "outputs": [
    {
     "name": "stdout",
     "output_type": "stream",
     "text": [
      "CPU times: user 213 μs, sys: 0 ns, total: 213 μs\n",
      "Wall time: 175 μs\n"
     ]
    }
   ],
   "source": [
    "%%time\n",
    "real_muls_arr_rest = np.delete(real_muls_arr,0,0)\n",
    "real_muls_jet_rest = np.delete(real_muls_jet,0,0)\n",
    "real_muls_bc_rest  = np.delete(real_muls_bc,0,0)\n",
    "real_muls_car_rest = np.delete(real_muls_car,0,0)\n",
    "\n",
    "real_muls_rest = np.concatenate((real_muls_arr_rest,real_muls_jet_rest,real_muls_bc_rest,real_muls_car_rest))\n",
    "real_muls_rest = np.array(real_muls_rest)"
   ]
  },
  {
   "cell_type": "code",
   "execution_count": 443,
   "id": "30e01741",
   "metadata": {},
   "outputs": [],
   "source": [
    "\n",
    "reg_model = LinearRegression()\n",
    "RF_all_rest = RF_select_rest[:,:,RF_sele - 1]    ########## Select only for the specific reuse factor\n",
    "#RF_all=[]\n",
    "mull_all_rest = []\n",
    "for i in range(int((len(loaded_modelsjet[0].layers) - 8 + len(loaded_modelsarr[0].layers)+len(loaded_modelsbc[0].layers) + len(loaded_modelscar[0].layers))/2)):\n",
    "    #RF_all.append(RF[i])\n",
    "    mull_all_rest.append(real_muls_rest[i])\n",
    "    \n",
    "RF_all_rest=np.array(RF_all_rest)\n",
    "mull_all_rest = np.array(mull_all_rest)\n",
    "\n",
    "RF_all_rest = RF_all_rest.reshape(140,)\n",
    "mull_all_rest = mull_all_rest.reshape(140,)\n",
    "RF_all_rest = RF_all_rest.reshape(-1,1)\n",
    "mull_all_rest = mull_all_rest.reshape(-1,1)\n",
    "\n",
    "DSP_all_rest = DSP_select_rest[:,:,RF_sele - 1]\n",
    "#RF_all=[]\n",
    "    #RF_all.append(RF[i])\n",
    "    \n",
    "DSP_all_rest=np.array(DSP_all_rest)\n",
    "\n",
    "DSP_all_rest = DSP_all_rest.reshape(140,)\n",
    "DSP_all_rest = DSP_all_rest.reshape(-1,1)\n",
    "\n",
    "combined_rest =  mull_all_rest + DSP_all_rest\n"
   ]
  },
  {
   "cell_type": "code",
   "execution_count": 444,
   "id": "67d50aa4",
   "metadata": {},
   "outputs": [
    {
     "data": {
      "text/plain": [
       "(140, 1)"
      ]
     },
     "execution_count": 444,
     "metadata": {},
     "output_type": "execute_result"
    }
   ],
   "source": [
    "mull_all_rest.shape"
   ]
  },
  {
   "cell_type": "code",
   "execution_count": 445,
   "id": "47f24575",
   "metadata": {},
   "outputs": [
    {
     "data": {
      "text/plain": [
       "<matplotlib.collections.PathCollection at 0x7f12e413e1a0>"
      ]
     },
     "execution_count": 445,
     "metadata": {},
     "output_type": "execute_result"
    },
    {
     "data": {
      "image/png": "[encoded data removed]",
      "text/plain": [
       "<Figure size 640x480 with 1 Axes>"
      ]
     },
     "metadata": {},
     "output_type": "display_data"
    }
   ],
   "source": [
    "mul_select = {1:mull_all_rest,2:combined_rest}\n",
    "select = 1\n",
    "\n",
    "poly_mul_rest = PolynomialFeatures(degree = 3, include_bias=False)\n",
    "poly_feat_mul_rest = poly_mul_rest.fit_transform(mul_select[select])\n",
    "\n",
    "poly_reg_model_mul_rest = LinearRegression()\n",
    "poly_fit_mul_rest = poly_reg_model_mul_rest.fit(poly_feat_mul_rest,RF_all_rest)\n",
    "\n",
    "y_pred_mul_rest = poly_fit_mul_rest.predict(poly_feat_mul_rest)\n",
    "\n",
    "plt.scatter(mul_select[select],y_pred_mul_rest)\n",
    "plt.scatter(mul_select[select],RF_all_rest)"
   ]
  },
  {
   "cell_type": "code",
   "execution_count": 446,
   "id": "e69e1160",
   "metadata": {},
   "outputs": [
    {
     "data": {
      "text/plain": [
       "0.998973142298832"
      ]
     },
     "execution_count": 446,
     "metadata": {},
     "output_type": "execute_result"
    }
   ],
   "source": [
    "r2_score(RF_all_rest,y_pred_mul_rest)"
   ]
  },
  {
   "cell_type": "code",
   "execution_count": 447,
   "id": "0c7cb9a8",
   "metadata": {},
   "outputs": [
    {
     "data": {
      "text/plain": [
       "array([[9971.21850253]])"
      ]
     },
     "execution_count": 447,
     "metadata": {},
     "output_type": "execute_result"
    }
   ],
   "source": [
    "muls_num = [[350]]\n",
    "poly_ft = poly_mul_rest.fit_transform(muls_num)\n",
    "poly_reg_model_mul_rest.predict(poly_ft)"
   ]
  },
  {
   "cell_type": "markdown",
   "id": "86b3ff80",
   "metadata": {},
   "source": [
    "### Create linear model for first layers with precision <8,2>"
   ]
  },
  {
   "cell_type": "code",
   "execution_count": 448,
   "id": "b88eb731",
   "metadata": {},
   "outputs": [],
   "source": [
    "RF_select_one = np.concatenate((FF_arr[0],FF_jet[0],FF_bc[0],FF_car[0]))\n",
    "DSP_select_one = np.concatenate((DSP_arr[0],DSP_jet[0],DSP_bc[0],DSP_car[0]))"
   ]
  },
  {
   "cell_type": "code",
   "execution_count": 449,
   "id": "0440d64d",
   "metadata": {},
   "outputs": [
    {
     "name": "stdout",
     "output_type": "stream",
     "text": [
      "CPU times: user 0 ns, sys: 271 μs, total: 271 μs\n",
      "Wall time: 237 μs\n"
     ]
    }
   ],
   "source": [
    "%%time\n",
    "real_muls_arr_one = real_muls_arr[0]\n",
    "real_muls_jet_one = real_muls_jet[0]\n",
    "real_muls_bc_one  = real_muls_bc[0]\n",
    "real_muls_car_one = real_muls_car[0]\n",
    "\n",
    "real_muls_one = np.concatenate((real_muls_arr_one,real_muls_jet_one,real_muls_bc_one,real_muls_car_one))\n",
    "real_muls_one = np.array(real_muls_one)"
   ]
  },
  {
   "cell_type": "code",
   "execution_count": 450,
   "id": "c09e0c40",
   "metadata": {},
   "outputs": [],
   "source": [
    "#RF_sele = 1\n",
    "\n",
    "\n",
    "reg_model = LinearRegression()\n",
    "RF_all_one = RF_select_one[:,RF_sele - 1]\n",
    "#RF_all=[]\n",
    "mull_all_one = real_muls_one\n",
    "    \n",
    "RF_all_one=np.array(RF_all_one)\n",
    "mull_all_one = np.array(mull_all_one)\n",
    "\n",
    "RF_all_one = RF_all_one.reshape(80,)\n",
    "mull_all_one = mull_all_one.reshape(80,)\n",
    "RF_all_one = RF_all_one.reshape(-1,1)\n",
    "mull_all_one = mull_all_one.reshape(-1,1)\n",
    "\n",
    "DSP_all_one = DSP_select_one[:,RF_sele - 1]    \n",
    "DSP_all_one=np.array(DSP_all_one)\n",
    "DSP_all_one = DSP_all_one.reshape(80,)\n",
    "DSP_all_one = DSP_all_one.reshape(-1,1)\n",
    "\n",
    "combined_one =  mull_all_one + DSP_all_one\n"
   ]
  },
  {
   "cell_type": "code",
   "execution_count": 451,
   "id": "81c20b18",
   "metadata": {},
   "outputs": [
    {
     "data": {
      "text/plain": [
       "<matplotlib.collections.PathCollection at 0x7f12e42eff70>"
      ]
     },
     "execution_count": 451,
     "metadata": {},
     "output_type": "execute_result"
    },
    {
     "data": {
      "image/png": "[encoded data removed]",
      "text/plain": [
       "<Figure size 640x480 with 1 Axes>"
      ]
     },
     "metadata": {},
     "output_type": "display_data"
    }
   ],
   "source": [
    "mul_select = {1:mull_all_one,2:combined_one}\n",
    "select = 1\n",
    "\n",
    "poly_mul_one = PolynomialFeatures(degree = 3, include_bias=False)\n",
    "poly_feat_mul_one = poly_mul_one.fit_transform(mul_select[select])\n",
    "\n",
    "poly_reg_model_mul_one = LinearRegression()\n",
    "poly_fit_mul_one = poly_reg_model_mul_one.fit(poly_feat_mul_one,RF_all_one)\n",
    "\n",
    "y_pred_mul_one = poly_fit_mul_one.predict(poly_feat_mul_one)\n",
    "\n",
    "plt.scatter(mul_select[select],y_pred_mul_one)\n",
    "plt.scatter(mul_select[select],RF_all_one)"
   ]
  },
  {
   "cell_type": "code",
   "execution_count": 452,
   "id": "b32732d3",
   "metadata": {},
   "outputs": [
    {
     "data": {
      "text/plain": [
       "0.9874146873529703"
      ]
     },
     "execution_count": 452,
     "metadata": {},
     "output_type": "execute_result"
    }
   ],
   "source": [
    "r2_score(RF_all_one,y_pred_mul_one)"
   ]
  },
  {
   "cell_type": "code",
   "execution_count": 453,
   "id": "bc5654fe",
   "metadata": {},
   "outputs": [
    {
     "data": {
      "text/plain": [
       "1273.3773505324689"
      ]
     },
     "execution_count": 453,
     "metadata": {},
     "output_type": "execute_result"
    }
   ],
   "source": [
    "math.sqrt(mean_squared_error(y_pred_mul_one,RF_all_one))"
   ]
  },
  {
   "cell_type": "code",
   "execution_count": 454,
   "id": "f9601ce4",
   "metadata": {},
   "outputs": [
    {
     "data": {
      "text/plain": [
       "array([[41104.16199113]])"
      ]
     },
     "execution_count": 454,
     "metadata": {},
     "output_type": "execute_result"
    }
   ],
   "source": [
    "muls_num = [[2212]]\n",
    "poly_ft = poly_mul_one.fit_transform(muls_num)\n",
    "poly_reg_model_mul_one.predict(poly_ft)"
   ]
  },
  {
   "cell_type": "markdown",
   "id": "36b8ec1c",
   "metadata": {},
   "source": [
    "## Combine both into one"
   ]
  },
  {
   "cell_type": "code",
   "execution_count": 455,
   "id": "1080d5b2",
   "metadata": {},
   "outputs": [],
   "source": [
    "mull_all_combined = np.concatenate((mull_all_rest,mull_all_one))\n",
    "DSP_all_combined = np.concatenate((DSP_all_rest,DSP_all_one))\n",
    "RF_all_combined = np.concatenate((RF_all_rest,RF_all_one))\n",
    "\n",
    "RF_select_combined = np.concatenate((RF_select_rest.reshape(RF_select_rest.shape[0]*RF_select_rest.shape[1],RF_select_rest.shape[2]),RF_select_one))\n",
    "\n",
    "\n",
    "\n",
    "DSP_select_combined = np.concatenate((DSP_select_rest.reshape(DSP_select_rest.shape[0]*DSP_select_rest.shape[1],DSP_select_rest.shape[2]),DSP_select_one))\n"
   ]
  },
  {
   "cell_type": "code",
   "execution_count": 456,
   "id": "5f56ae88",
   "metadata": {},
   "outputs": [
    {
     "data": {
      "text/plain": [
       "(220, 19)"
      ]
     },
     "execution_count": 456,
     "metadata": {},
     "output_type": "execute_result"
    }
   ],
   "source": [
    "RF_select_combined.shape"
   ]
  },
  {
   "cell_type": "code",
   "execution_count": 457,
   "id": "ebfe38f0",
   "metadata": {},
   "outputs": [],
   "source": [
    "#RF_sele = 1\n",
    "\n",
    "\n",
    "reg_model_combined = LinearRegression()\n",
    "RF_all_combined = RF_select_combined[:,RF_sele - 1]\n",
    "\n",
    "RF_all_combined=np.array(RF_all_combined)\n",
    "mull_all_combined = np.array(mull_all_combined)\n",
    "\n",
    "RF_all_combined = RF_all_combined.reshape(-1,1)\n",
    "mull_all_combined = mull_all_combined.reshape(-1,1)\n",
    "\n",
    "DSP_all_combined = DSP_select_combined[:,RF_sele - 1]    \n",
    "DSP_all_combined=np.array(DSP_all_combined)\n",
    "DSP_all_combined = DSP_all_combined.reshape(-1,1)\n",
    "\n",
    "combined_combined =  mull_all_combined + DSP_all_combined\n"
   ]
  },
  {
   "cell_type": "code",
   "execution_count": 458,
   "id": "ee2f0889",
   "metadata": {},
   "outputs": [
    {
     "data": {
      "text/plain": [
       "<matplotlib.collections.PathCollection at 0x7f10053d5000>"
      ]
     },
     "execution_count": 458,
     "metadata": {},
     "output_type": "execute_result"
    },
    {
     "data": {
      "image/png": "[encoded data removed]",
      "text/plain": [
       "<Figure size 640x480 with 1 Axes>"
      ]
     },
     "metadata": {},
     "output_type": "display_data"
    }
   ],
   "source": [
    "mul_select = {1:mull_all_combined,2:combined_combined}\n",
    "select = 1\n",
    "\n",
    "poly_mul_combined = PolynomialFeatures(degree = 3, include_bias=False)\n",
    "poly_feat_mul_combined = poly_mul_combined.fit_transform(mul_select[select])\n",
    "\n",
    "poly_reg_model_mul_combined = LinearRegression()\n",
    "poly_fit_mul_combined = poly_reg_model_mul_combined.fit(poly_feat_mul_combined,RF_all_combined)\n",
    "\n",
    "y_pred_mul_combined = poly_fit_mul_combined.predict(poly_feat_mul_combined)\n",
    "\n",
    "plt.scatter(mul_select[select],y_pred_mul_combined)\n",
    "plt.scatter(mul_select[select],RF_all_combined)"
   ]
  },
  {
   "cell_type": "code",
   "execution_count": 459,
   "id": "c2c36576",
   "metadata": {},
   "outputs": [
    {
     "data": {
      "text/plain": [
       "0.9888494621892954"
      ]
     },
     "execution_count": 459,
     "metadata": {},
     "output_type": "execute_result"
    }
   ],
   "source": [
    "r2_score(y_pred_mul_combined,RF_all_combined)"
   ]
  },
  {
   "cell_type": "code",
   "execution_count": 478,
   "id": "c5d8b361",
   "metadata": {},
   "outputs": [
    {
     "data": {
      "text/plain": [
       "array([[29995.75837195]])"
      ]
     },
     "execution_count": 478,
     "metadata": {},
     "output_type": "execute_result"
    }
   ],
   "source": [
    "muls_num = [[1233]]\n",
    "poly_ft = poly_mul_combined.fit_transform(muls_num)\n",
    "poly_reg_model_mul_combined.predict(poly_ft)"
   ]
  },
  {
   "cell_type": "markdown",
   "id": "2192a03f",
   "metadata": {},
   "source": [
    "# Linear regression for pseudorandom weights"
   ]
  },
  {
   "cell_type": "markdown",
   "id": "12e951ff",
   "metadata": {},
   "source": [
    "Trained an extra 203 single-layered models with pseudorandom weights with the same distribution as the pretrained weights. Use them combined with the above regression model to improve the accuracy"
   ]
  },
  {
   "cell_type": "code",
   "execution_count": 55,
   "id": "175b6162",
   "metadata": {},
   "outputs": [],
   "source": [
    "############ Recover mult implementation of models ################\n",
    "layer_num = 50\n",
    "selector = []\n",
    "filename = \"./misc/retraining_full/test_\" + str(8)  + \"/reuse_\" + str(1) + \"/model_\"\n",
    "for i in range(0,layer_num,1):\n",
    "    with open(filename + str(i) + \"/impl.txt\") as f:\n",
    "        for lines in f:\n",
    "            selector.append(int(lines))\n",
    "f.close()"
   ]
  },
  {
   "cell_type": "code",
   "execution_count": 56,
   "id": "d8ef5a1d",
   "metadata": {},
   "outputs": [],
   "source": [
    "selector = np.ones(layer_num)"
   ]
  },
  {
   "cell_type": "code",
   "execution_count": 57,
   "id": "a89dc22d",
   "metadata": {
    "scrolled": true
   },
   "outputs": [
    {
     "name": "stdout",
     "output_type": "stream",
     "text": [
      "WARNING:tensorflow:No training configuration found in the save file, so the model was *not* compiled. Compile it manually.\n"
     ]
    },
    {
     "name": "stderr",
     "output_type": "stream",
     "text": [
      "WARNING:tensorflow:No training configuration found in the save file, so the model was *not* compiled. Compile it manually.\n"
     ]
    },
    {
     "name": "stdout",
     "output_type": "stream",
     "text": [
      "WARNING:tensorflow:No training configuration found in the save file, so the model was *not* compiled. Compile it manually.\n"
     ]
    },
    {
     "name": "stderr",
     "output_type": "stream",
     "text": [
      "WARNING:tensorflow:No training configuration found in the save file, so the model was *not* compiled. Compile it manually.\n"
     ]
    },
    {
     "name": "stdout",
     "output_type": "stream",
     "text": [
      "WARNING:tensorflow:No training configuration found in the save file, so the model was *not* compiled. Compile it manually.\n"
     ]
    },
    {
     "name": "stderr",
     "output_type": "stream",
     "text": [
      "WARNING:tensorflow:No training configuration found in the save file, so the model was *not* compiled. Compile it manually.\n"
     ]
    },
    {
     "name": "stdout",
     "output_type": "stream",
     "text": [
      "WARNING:tensorflow:No training configuration found in the save file, so the model was *not* compiled. Compile it manually.\n"
     ]
    },
    {
     "name": "stderr",
     "output_type": "stream",
     "text": [
      "WARNING:tensorflow:No training configuration found in the save file, so the model was *not* compiled. Compile it manually.\n"
     ]
    },
    {
     "name": "stdout",
     "output_type": "stream",
     "text": [
      "WARNING:tensorflow:No training configuration found in the save file, so the model was *not* compiled. Compile it manually.\n"
     ]
    },
    {
     "name": "stderr",
     "output_type": "stream",
     "text": [
      "WARNING:tensorflow:No training configuration found in the save file, so the model was *not* compiled. Compile it manually.\n"
     ]
    },
    {
     "name": "stdout",
     "output_type": "stream",
     "text": [
      "WARNING:tensorflow:No training configuration found in the save file, so the model was *not* compiled. Compile it manually.\n"
     ]
    },
    {
     "name": "stderr",
     "output_type": "stream",
     "text": [
      "WARNING:tensorflow:No training configuration found in the save file, so the model was *not* compiled. Compile it manually.\n"
     ]
    },
    {
     "name": "stdout",
     "output_type": "stream",
     "text": [
      "WARNING:tensorflow:No training configuration found in the save file, so the model was *not* compiled. Compile it manually.\n"
     ]
    },
    {
     "name": "stderr",
     "output_type": "stream",
     "text": [
      "WARNING:tensorflow:No training configuration found in the save file, so the model was *not* compiled. Compile it manually.\n"
     ]
    },
    {
     "name": "stdout",
     "output_type": "stream",
     "text": [
      "WARNING:tensorflow:No training configuration found in the save file, so the model was *not* compiled. Compile it manually.\n"
     ]
    },
    {
     "name": "stderr",
     "output_type": "stream",
     "text": [
      "WARNING:tensorflow:No training configuration found in the save file, so the model was *not* compiled. Compile it manually.\n"
     ]
    },
    {
     "name": "stdout",
     "output_type": "stream",
     "text": [
      "WARNING:tensorflow:No training configuration found in the save file, so the model was *not* compiled. Compile it manually.\n"
     ]
    },
    {
     "name": "stderr",
     "output_type": "stream",
     "text": [
      "WARNING:tensorflow:No training configuration found in the save file, so the model was *not* compiled. Compile it manually.\n"
     ]
    },
    {
     "name": "stdout",
     "output_type": "stream",
     "text": [
      "WARNING:tensorflow:No training configuration found in the save file, so the model was *not* compiled. Compile it manually.\n"
     ]
    },
    {
     "name": "stderr",
     "output_type": "stream",
     "text": [
      "WARNING:tensorflow:No training configuration found in the save file, so the model was *not* compiled. Compile it manually.\n"
     ]
    },
    {
     "name": "stdout",
     "output_type": "stream",
     "text": [
      "WARNING:tensorflow:No training configuration found in the save file, so the model was *not* compiled. Compile it manually.\n"
     ]
    },
    {
     "name": "stderr",
     "output_type": "stream",
     "text": [
      "WARNING:tensorflow:No training configuration found in the save file, so the model was *not* compiled. Compile it manually.\n"
     ]
    },
    {
     "name": "stdout",
     "output_type": "stream",
     "text": [
      "WARNING:tensorflow:No training configuration found in the save file, so the model was *not* compiled. Compile it manually.\n"
     ]
    },
    {
     "name": "stderr",
     "output_type": "stream",
     "text": [
      "WARNING:tensorflow:No training configuration found in the save file, so the model was *not* compiled. Compile it manually.\n"
     ]
    },
    {
     "name": "stdout",
     "output_type": "stream",
     "text": [
      "WARNING:tensorflow:No training configuration found in the save file, so the model was *not* compiled. Compile it manually.\n"
     ]
    },
    {
     "name": "stderr",
     "output_type": "stream",
     "text": [
      "WARNING:tensorflow:No training configuration found in the save file, so the model was *not* compiled. Compile it manually.\n"
     ]
    },
    {
     "name": "stdout",
     "output_type": "stream",
     "text": [
      "WARNING:tensorflow:No training configuration found in the save file, so the model was *not* compiled. Compile it manually.\n"
     ]
    },
    {
     "name": "stderr",
     "output_type": "stream",
     "text": [
      "WARNING:tensorflow:No training configuration found in the save file, so the model was *not* compiled. Compile it manually.\n"
     ]
    },
    {
     "name": "stdout",
     "output_type": "stream",
     "text": [
      "WARNING:tensorflow:No training configuration found in the save file, so the model was *not* compiled. Compile it manually.\n"
     ]
    },
    {
     "name": "stderr",
     "output_type": "stream",
     "text": [
      "WARNING:tensorflow:No training configuration found in the save file, so the model was *not* compiled. Compile it manually.\n"
     ]
    },
    {
     "name": "stdout",
     "output_type": "stream",
     "text": [
      "WARNING:tensorflow:No training configuration found in the save file, so the model was *not* compiled. Compile it manually.\n"
     ]
    },
    {
     "name": "stderr",
     "output_type": "stream",
     "text": [
      "WARNING:tensorflow:No training configuration found in the save file, so the model was *not* compiled. Compile it manually.\n"
     ]
    },
    {
     "name": "stdout",
     "output_type": "stream",
     "text": [
      "WARNING:tensorflow:No training configuration found in the save file, so the model was *not* compiled. Compile it manually.\n"
     ]
    },
    {
     "name": "stderr",
     "output_type": "stream",
     "text": [
      "WARNING:tensorflow:No training configuration found in the save file, so the model was *not* compiled. Compile it manually.\n"
     ]
    },
    {
     "name": "stdout",
     "output_type": "stream",
     "text": [
      "WARNING:tensorflow:No training configuration found in the save file, so the model was *not* compiled. Compile it manually.\n"
     ]
    },
    {
     "name": "stderr",
     "output_type": "stream",
     "text": [
      "WARNING:tensorflow:No training configuration found in the save file, so the model was *not* compiled. Compile it manually.\n"
     ]
    },
    {
     "name": "stdout",
     "output_type": "stream",
     "text": [
      "WARNING:tensorflow:No training configuration found in the save file, so the model was *not* compiled. Compile it manually.\n"
     ]
    },
    {
     "name": "stderr",
     "output_type": "stream",
     "text": [
      "WARNING:tensorflow:No training configuration found in the save file, so the model was *not* compiled. Compile it manually.\n"
     ]
    },
    {
     "name": "stdout",
     "output_type": "stream",
     "text": [
      "WARNING:tensorflow:No training configuration found in the save file, so the model was *not* compiled. Compile it manually.\n"
     ]
    },
    {
     "name": "stderr",
     "output_type": "stream",
     "text": [
      "WARNING:tensorflow:No training configuration found in the save file, so the model was *not* compiled. Compile it manually.\n"
     ]
    },
    {
     "name": "stdout",
     "output_type": "stream",
     "text": [
      "WARNING:tensorflow:No training configuration found in the save file, so the model was *not* compiled. Compile it manually.\n"
     ]
    },
    {
     "name": "stderr",
     "output_type": "stream",
     "text": [
      "WARNING:tensorflow:No training configuration found in the save file, so the model was *not* compiled. Compile it manually.\n"
     ]
    },
    {
     "name": "stdout",
     "output_type": "stream",
     "text": [
      "WARNING:tensorflow:No training configuration found in the save file, so the model was *not* compiled. Compile it manually.\n"
     ]
    },
    {
     "name": "stderr",
     "output_type": "stream",
     "text": [
      "WARNING:tensorflow:No training configuration found in the save file, so the model was *not* compiled. Compile it manually.\n"
     ]
    },
    {
     "name": "stdout",
     "output_type": "stream",
     "text": [
      "WARNING:tensorflow:No training configuration found in the save file, so the model was *not* compiled. Compile it manually.\n"
     ]
    },
    {
     "name": "stderr",
     "output_type": "stream",
     "text": [
      "WARNING:tensorflow:No training configuration found in the save file, so the model was *not* compiled. Compile it manually.\n"
     ]
    },
    {
     "name": "stdout",
     "output_type": "stream",
     "text": [
      "WARNING:tensorflow:No training configuration found in the save file, so the model was *not* compiled. Compile it manually.\n"
     ]
    },
    {
     "name": "stderr",
     "output_type": "stream",
     "text": [
      "WARNING:tensorflow:No training configuration found in the save file, so the model was *not* compiled. Compile it manually.\n"
     ]
    },
    {
     "name": "stdout",
     "output_type": "stream",
     "text": [
      "WARNING:tensorflow:No training configuration found in the save file, so the model was *not* compiled. Compile it manually.\n"
     ]
    },
    {
     "name": "stderr",
     "output_type": "stream",
     "text": [
      "WARNING:tensorflow:No training configuration found in the save file, so the model was *not* compiled. Compile it manually.\n"
     ]
    },
    {
     "name": "stdout",
     "output_type": "stream",
     "text": [
      "WARNING:tensorflow:No training configuration found in the save file, so the model was *not* compiled. Compile it manually.\n"
     ]
    },
    {
     "name": "stderr",
     "output_type": "stream",
     "text": [
      "WARNING:tensorflow:No training configuration found in the save file, so the model was *not* compiled. Compile it manually.\n"
     ]
    },
    {
     "name": "stdout",
     "output_type": "stream",
     "text": [
      "WARNING:tensorflow:No training configuration found in the save file, so the model was *not* compiled. Compile it manually.\n"
     ]
    },
    {
     "name": "stderr",
     "output_type": "stream",
     "text": [
      "WARNING:tensorflow:No training configuration found in the save file, so the model was *not* compiled. Compile it manually.\n"
     ]
    },
    {
     "name": "stdout",
     "output_type": "stream",
     "text": [
      "WARNING:tensorflow:No training configuration found in the save file, so the model was *not* compiled. Compile it manually.\n"
     ]
    },
    {
     "name": "stderr",
     "output_type": "stream",
     "text": [
      "WARNING:tensorflow:No training configuration found in the save file, so the model was *not* compiled. Compile it manually.\n"
     ]
    },
    {
     "name": "stdout",
     "output_type": "stream",
     "text": [
      "WARNING:tensorflow:No training configuration found in the save file, so the model was *not* compiled. Compile it manually.\n"
     ]
    },
    {
     "name": "stderr",
     "output_type": "stream",
     "text": [
      "WARNING:tensorflow:No training configuration found in the save file, so the model was *not* compiled. Compile it manually.\n"
     ]
    },
    {
     "name": "stdout",
     "output_type": "stream",
     "text": [
      "WARNING:tensorflow:No training configuration found in the save file, so the model was *not* compiled. Compile it manually.\n"
     ]
    },
    {
     "name": "stderr",
     "output_type": "stream",
     "text": [
      "WARNING:tensorflow:No training configuration found in the save file, so the model was *not* compiled. Compile it manually.\n"
     ]
    },
    {
     "name": "stdout",
     "output_type": "stream",
     "text": [
      "WARNING:tensorflow:No training configuration found in the save file, so the model was *not* compiled. Compile it manually.\n"
     ]
    },
    {
     "name": "stderr",
     "output_type": "stream",
     "text": [
      "WARNING:tensorflow:No training configuration found in the save file, so the model was *not* compiled. Compile it manually.\n"
     ]
    },
    {
     "name": "stdout",
     "output_type": "stream",
     "text": [
      "WARNING:tensorflow:No training configuration found in the save file, so the model was *not* compiled. Compile it manually.\n"
     ]
    },
    {
     "name": "stderr",
     "output_type": "stream",
     "text": [
      "WARNING:tensorflow:No training configuration found in the save file, so the model was *not* compiled. Compile it manually.\n"
     ]
    },
    {
     "name": "stdout",
     "output_type": "stream",
     "text": [
      "WARNING:tensorflow:No training configuration found in the save file, so the model was *not* compiled. Compile it manually.\n"
     ]
    },
    {
     "name": "stderr",
     "output_type": "stream",
     "text": [
      "WARNING:tensorflow:No training configuration found in the save file, so the model was *not* compiled. Compile it manually.\n"
     ]
    },
    {
     "name": "stdout",
     "output_type": "stream",
     "text": [
      "WARNING:tensorflow:No training configuration found in the save file, so the model was *not* compiled. Compile it manually.\n"
     ]
    },
    {
     "name": "stderr",
     "output_type": "stream",
     "text": [
      "WARNING:tensorflow:No training configuration found in the save file, so the model was *not* compiled. Compile it manually.\n"
     ]
    },
    {
     "name": "stdout",
     "output_type": "stream",
     "text": [
      "WARNING:tensorflow:No training configuration found in the save file, so the model was *not* compiled. Compile it manually.\n"
     ]
    },
    {
     "name": "stderr",
     "output_type": "stream",
     "text": [
      "WARNING:tensorflow:No training configuration found in the save file, so the model was *not* compiled. Compile it manually.\n"
     ]
    },
    {
     "name": "stdout",
     "output_type": "stream",
     "text": [
      "WARNING:tensorflow:No training configuration found in the save file, so the model was *not* compiled. Compile it manually.\n"
     ]
    },
    {
     "name": "stderr",
     "output_type": "stream",
     "text": [
      "WARNING:tensorflow:No training configuration found in the save file, so the model was *not* compiled. Compile it manually.\n"
     ]
    },
    {
     "name": "stdout",
     "output_type": "stream",
     "text": [
      "WARNING:tensorflow:No training configuration found in the save file, so the model was *not* compiled. Compile it manually.\n"
     ]
    },
    {
     "name": "stderr",
     "output_type": "stream",
     "text": [
      "WARNING:tensorflow:No training configuration found in the save file, so the model was *not* compiled. Compile it manually.\n"
     ]
    },
    {
     "name": "stdout",
     "output_type": "stream",
     "text": [
      "WARNING:tensorflow:No training configuration found in the save file, so the model was *not* compiled. Compile it manually.\n"
     ]
    },
    {
     "name": "stderr",
     "output_type": "stream",
     "text": [
      "WARNING:tensorflow:No training configuration found in the save file, so the model was *not* compiled. Compile it manually.\n"
     ]
    },
    {
     "name": "stdout",
     "output_type": "stream",
     "text": [
      "WARNING:tensorflow:No training configuration found in the save file, so the model was *not* compiled. Compile it manually.\n"
     ]
    },
    {
     "name": "stderr",
     "output_type": "stream",
     "text": [
      "WARNING:tensorflow:No training configuration found in the save file, so the model was *not* compiled. Compile it manually.\n"
     ]
    },
    {
     "name": "stdout",
     "output_type": "stream",
     "text": [
      "WARNING:tensorflow:No training configuration found in the save file, so the model was *not* compiled. Compile it manually.\n"
     ]
    },
    {
     "name": "stderr",
     "output_type": "stream",
     "text": [
      "WARNING:tensorflow:No training configuration found in the save file, so the model was *not* compiled. Compile it manually.\n"
     ]
    },
    {
     "name": "stdout",
     "output_type": "stream",
     "text": [
      "WARNING:tensorflow:No training configuration found in the save file, so the model was *not* compiled. Compile it manually.\n"
     ]
    },
    {
     "name": "stderr",
     "output_type": "stream",
     "text": [
      "WARNING:tensorflow:No training configuration found in the save file, so the model was *not* compiled. Compile it manually.\n"
     ]
    },
    {
     "name": "stdout",
     "output_type": "stream",
     "text": [
      "WARNING:tensorflow:No training configuration found in the save file, so the model was *not* compiled. Compile it manually.\n"
     ]
    },
    {
     "name": "stderr",
     "output_type": "stream",
     "text": [
      "WARNING:tensorflow:No training configuration found in the save file, so the model was *not* compiled. Compile it manually.\n"
     ]
    },
    {
     "name": "stdout",
     "output_type": "stream",
     "text": [
      "WARNING:tensorflow:No training configuration found in the save file, so the model was *not* compiled. Compile it manually.\n"
     ]
    },
    {
     "name": "stderr",
     "output_type": "stream",
     "text": [
      "WARNING:tensorflow:No training configuration found in the save file, so the model was *not* compiled. Compile it manually.\n"
     ]
    },
    {
     "name": "stdout",
     "output_type": "stream",
     "text": [
      "WARNING:tensorflow:No training configuration found in the save file, so the model was *not* compiled. Compile it manually.\n"
     ]
    },
    {
     "name": "stderr",
     "output_type": "stream",
     "text": [
      "WARNING:tensorflow:No training configuration found in the save file, so the model was *not* compiled. Compile it manually.\n"
     ]
    },
    {
     "name": "stdout",
     "output_type": "stream",
     "text": [
      "WARNING:tensorflow:No training configuration found in the save file, so the model was *not* compiled. Compile it manually.\n"
     ]
    },
    {
     "name": "stderr",
     "output_type": "stream",
     "text": [
      "WARNING:tensorflow:No training configuration found in the save file, so the model was *not* compiled. Compile it manually.\n"
     ]
    },
    {
     "name": "stdout",
     "output_type": "stream",
     "text": [
      "WARNING:tensorflow:No training configuration found in the save file, so the model was *not* compiled. Compile it manually.\n"
     ]
    },
    {
     "name": "stderr",
     "output_type": "stream",
     "text": [
      "WARNING:tensorflow:No training configuration found in the save file, so the model was *not* compiled. Compile it manually.\n"
     ]
    },
    {
     "name": "stdout",
     "output_type": "stream",
     "text": [
      "WARNING:tensorflow:No training configuration found in the save file, so the model was *not* compiled. Compile it manually.\n"
     ]
    },
    {
     "name": "stderr",
     "output_type": "stream",
     "text": [
      "WARNING:tensorflow:No training configuration found in the save file, so the model was *not* compiled. Compile it manually.\n"
     ]
    },
    {
     "name": "stdout",
     "output_type": "stream",
     "text": [
      "WARNING:tensorflow:No training configuration found in the save file, so the model was *not* compiled. Compile it manually.\n"
     ]
    },
    {
     "name": "stderr",
     "output_type": "stream",
     "text": [
      "WARNING:tensorflow:No training configuration found in the save file, so the model was *not* compiled. Compile it manually.\n"
     ]
    },
    {
     "name": "stdout",
     "output_type": "stream",
     "text": [
      "WARNING:tensorflow:No training configuration found in the save file, so the model was *not* compiled. Compile it manually.\n"
     ]
    },
    {
     "name": "stderr",
     "output_type": "stream",
     "text": [
      "WARNING:tensorflow:No training configuration found in the save file, so the model was *not* compiled. Compile it manually.\n"
     ]
    },
    {
     "name": "stdout",
     "output_type": "stream",
     "text": [
      "WARNING:tensorflow:No training configuration found in the save file, so the model was *not* compiled. Compile it manually.\n"
     ]
    },
    {
     "name": "stderr",
     "output_type": "stream",
     "text": [
      "WARNING:tensorflow:No training configuration found in the save file, so the model was *not* compiled. Compile it manually.\n"
     ]
    },
    {
     "data": {
      "text/plain": [
       "'./misc/retraining_full/test_8/reuse_1/model_'"
      ]
     },
     "execution_count": 57,
     "metadata": {},
     "output_type": "execute_result"
    }
   ],
   "source": [
    "from tensorflow.keras.models import load_model\n",
    "from qkeras.utils import _add_supported_quantized_objects\n",
    "import qkeras.qtools.qtools_util\n",
    "import qkeras.estimate\n",
    "loaded_models = []\n",
    "id_num = precision\n",
    "layer_num = 50\n",
    "filename = \"./misc/retraining_full/test_\" + str(8) + \"/reuse_1/model_\"\n",
    "for model_no in range(layer_num):\n",
    "    co = {}\n",
    "    _add_supported_quantized_objects(co)\n",
    "    loaded_models.append(load_model(filename + str(model_no) + '/KERAS_check_best_mode.h5', custom_objects=co))\n",
    "\n",
    "id_num = precision\n",
    "filename = \"./misc/retraining_full/test_\" + str(id_num) + \"/reuse_\" + str(RF_sele) + \"/model_\"\n",
    "filename"
   ]
  },
  {
   "cell_type": "code",
   "execution_count": 58,
   "id": "b0ae3210",
   "metadata": {},
   "outputs": [],
   "source": [
    "mull_all_new = np.concatenate((mull_all_rest,mull_all_one))\n",
    "DSP_all_new = np.concatenate((DSP_all_rest,DSP_all_one))\n",
    "RF_all_new = np.concatenate((RF_all_rest,RF_all_one))\n"
   ]
  },
  {
   "cell_type": "code",
   "execution_count": 59,
   "id": "a682a58b",
   "metadata": {},
   "outputs": [
    {
     "data": {
      "text/plain": [
       "'./misc/retraining_full/test_8/reuse_1/model_49'"
      ]
     },
     "execution_count": 59,
     "metadata": {},
     "output_type": "execute_result"
    }
   ],
   "source": [
    "filename + str(i)"
   ]
  },
  {
   "cell_type": "code",
   "execution_count": 87,
   "id": "9aee1baf",
   "metadata": {},
   "outputs": [],
   "source": [
    "LUT_pseudo = []\n",
    "FF_pseudo = []\n",
    "DSP_pseudo = []\n",
    "for i in range(layer_num):\n",
    "    if(selector[i]) == 1:           ##### select only models with DSP mul implementation\n",
    "        #filename = \"./misc/retraining/33/model_\" + str(i)\n",
    "        ff,lut = utils.utils.get_resources(filename + str(i),model = loaded_models[i])\n",
    "        LUT_pseudo.append(lut)\n",
    "        FF_pseudo.append((ff))\n",
    "        DSP_pseudo.append(utils.utils.get_DSP())\n",
    "FF_pseudo = np.array(FF_pseudo)\n",
    "LUT_pseudo = np.array(LUT_pseudo)\n",
    "DSP_pseudo = np.array(DSP_pseudo)"
   ]
  },
  {
   "cell_type": "code",
   "execution_count": 97,
   "id": "960fe965",
   "metadata": {},
   "outputs": [],
   "source": [
    "real_muls_pseudo = []\n",
    "rm = reg_ff.regression.get_muls(loaded_models,layer_num)\n",
    "rm = np.array(rm)\n",
    "for i in range(len(rm[0])):\n",
    "    #if selector[i] == 1:\n",
    "        real_muls_pseudo.append(rm[:,i])\n",
    "real_muls_pseudo = np.array(real_muls_pseudo)\n",
    "\n",
    "\n",
    "real_muls_pseudo = real_muls_pseudo.reshape(-1,1)\n",
    "FF_pseudo = FF_pseudo.reshape(-1,1)\n",
    "LUT_pseudo = LUT_pseudo.reshape(-1,1)\n",
    "DSP_pseudo = DSP_pseudo.reshape(-1,1)\n"
   ]
  },
  {
   "cell_type": "code",
   "execution_count": 99,
   "id": "2af70eb8",
   "metadata": {
    "scrolled": true
   },
   "outputs": [],
   "source": [
    "FF_all = np.concatenate((RF_all_new,FF_pseudo))\n",
    "all_m = np.concatenate((mull_all_new,real_muls_pseudo))\n",
    "DSP = np.concatenate((DSP_all_new,DSP_pseudo))\n",
    "combined_all = all_m + DSP"
   ]
  },
  {
   "cell_type": "code",
   "execution_count": 107,
   "id": "7ccb23ee",
   "metadata": {
    "scrolled": true
   },
   "outputs": [
    {
     "data": {
      "text/plain": [
       "<matplotlib.collections.PathCollection at 0x7fac181c1b10>"
      ]
     },
     "execution_count": 107,
     "metadata": {},
     "output_type": "execute_result"
    },
    {
     "data": {
      "image/png": "[encoded data removed]",
      "text/plain": [
       "<Figure size 640x480 with 1 Axes>"
      ]
     },
     "metadata": {},
     "output_type": "display_data"
    }
   ],
   "source": [
    "mul_select = {1:real_muls_pseudo,2:combined_all}\n",
    "select = 1\n",
    "\n",
    "poly_mul_pseudo = PolynomialFeatures(degree = 3, include_bias=False)\n",
    "poly_feat_mul_pseudo = poly_mul_pseudo.fit_transform(mul_select[select])\n",
    "\n",
    "poly_reg_model_mul_pseudo = LinearRegression()\n",
    "poly_fit_mul_pseudo = poly_reg_model_mul_pseudo.fit(poly_feat_mul_pseudo,FF_pseudo)\n",
    "\n",
    "y_pred_mul_pseudo = poly_fit_mul_pseudo.predict(poly_feat_mul_pseudo)\n",
    "\n",
    "plt.scatter(mul_select[select],y_pred_mul_pseudo)\n",
    "plt.scatter(mul_select[select],FF_pseudo)"
   ]
  },
  {
   "cell_type": "code",
   "execution_count": 108,
   "id": "ec1cc957",
   "metadata": {},
   "outputs": [
    {
     "data": {
      "text/plain": [
       "<matplotlib.collections.PathCollection at 0x7fab30197460>"
      ]
     },
     "execution_count": 108,
     "metadata": {},
     "output_type": "execute_result"
    },
    {
     "data": {
      "image/png": "[encoded data removed]",
      "text/plain": [
       "<Figure size 640x480 with 1 Axes>"
      ]
     },
     "metadata": {},
     "output_type": "display_data"
    }
   ],
   "source": [
    "mul_select = {1:all_m,2:combined_all}\n",
    "select = 1\n",
    "\n",
    "poly_mul_pseudo = PolynomialFeatures(degree = 3, include_bias=False)\n",
    "poly_feat_mul_pseudo = poly_mul_pseudo.fit_transform(mul_select[select])\n",
    "\n",
    "poly_reg_model_mul_pseudo = LinearRegression()\n",
    "poly_fit_mul_pseudo = poly_reg_model_mul_pseudo.fit(poly_feat_mul_pseudo,FF_all)\n",
    "\n",
    "y_pred_mul_pseudo = poly_fit_mul_pseudo.predict(poly_feat_mul_pseudo)\n",
    "\n",
    "plt.scatter(mul_select[select],y_pred_mul_pseudo)\n",
    "plt.scatter(mul_select[select],FF_all)"
   ]
  },
  {
   "cell_type": "code",
   "execution_count": 109,
   "id": "f0f5bd28",
   "metadata": {
    "scrolled": true
   },
   "outputs": [
    {
     "data": {
      "text/plain": [
       "0.9895711990314323"
      ]
     },
     "execution_count": 109,
     "metadata": {},
     "output_type": "execute_result"
    }
   ],
   "source": [
    "r2_score(y_pred_mul_pseudo,FF_all)"
   ]
  },
  {
   "cell_type": "code",
   "execution_count": 110,
   "id": "36b8391a",
   "metadata": {},
   "outputs": [
    {
     "data": {
      "text/plain": [
       "1215.0084284667587"
      ]
     },
     "execution_count": 110,
     "metadata": {},
     "output_type": "execute_result"
    }
   ],
   "source": [
    "math.sqrt(mean_squared_error(y_pred_mul_pseudo,FF_all))"
   ]
  },
  {
   "cell_type": "code",
   "execution_count": 111,
   "id": "28288a12",
   "metadata": {},
   "outputs": [
    {
     "data": {
      "text/plain": [
       "array([[51629.41796284]])"
      ]
     },
     "execution_count": 111,
     "metadata": {},
     "output_type": "execute_result"
    }
   ],
   "source": [
    "muls_num = [[2359]]\n",
    "poly_ft = poly_mul_pseudo.fit_transform(muls_num)\n",
    "poly_reg_model_mul_pseudo.predict(poly_ft)"
   ]
  },
  {
   "cell_type": "code",
   "execution_count": 2106,
   "id": "3c9ac4ed",
   "metadata": {},
   "outputs": [
    {
     "data": {
      "text/plain": [
       "['./FF_regression/poly_reg_2_3.joblib']"
      ]
     },
     "execution_count": 2106,
     "metadata": {},
     "output_type": "execute_result"
    }
   ],
   "source": [
    "model_name = \"./FF_regression/poly_reg_\" + str(precision) + \"_\" + str(RF_sele) + \".joblib\"\n",
    "joblib.dump(poly_reg_model_mul_rest,model_name)"
   ]
  },
  {
   "cell_type": "markdown",
   "id": "016b218f",
   "metadata": {},
   "source": [
    "# Multivariable linear regression"
   ]
  },
  {
   "cell_type": "markdown",
   "id": "4c1c157c",
   "metadata": {},
   "source": [
    "Create a multivariable linear regression model to gather all different precisions and reuse factors into one model\n",
    "The dirname contains the vitis_hls reports and the FFs are then extracted with the util library.\n",
    "For the linear model only the reuse factors from 1 to 5 were used, as for larger RFs the FFs have similar values and don't increase linearly\n",
    "\n",
    "The all_layers flag decided if we take all layers into one linear model or if we separate the first layers from the rest. The final estimator contains the combined linear model\n",
    "\n",
    "If the Vitis_HLS reports are available then the below code gathers all data into an array to create the polynomial regression model. The data is saved in a txt file in the same directory and can be retrieved with np.loadtxt(filename) and is already processed and ready for the creation of the linear model."
   ]
  },
  {
   "cell_type": "code",
   "execution_count": 29,
   "id": "1ca6de7c",
   "metadata": {},
   "outputs": [
    {
     "data": {
      "text/plain": [
       "<module 'regression_model_ff' from '/home/dmitsas/Downloads/backup/src/Regression/regression_model_ff.py'>"
      ]
     },
     "execution_count": 29,
     "metadata": {},
     "output_type": "execute_result"
    }
   ],
   "source": [
    "from importlib import reload\n",
    "reload(reg_ff)"
   ]
  },
  {
   "cell_type": "code",
   "execution_count": 31,
   "id": "028a3338",
   "metadata": {},
   "outputs": [
    {
     "name": "stdout",
     "output_type": "stream",
     "text": [
      "(7, 11, 20, 5)\n",
      "(7, 220, 5)\n"
     ]
    }
   ],
   "source": [
    "######### this part to load the models for the LUT implementation ########\n",
    "\n",
    "model_num = 20\n",
    "FF_precision = []\n",
    "DSP_precision = []\n",
    "FF_precision_one = []\n",
    "DSP_precision_one = []\n",
    "RF_max = 5\n",
    "all_layers = 1\n",
    "\n",
    "for prec in range(2,9,1):\n",
    "    precision = prec\n",
    "    dir_jet = \"/media/dmitsas/BOOT-REPAIR/jet_tagging/models_1/prec_\" + str(prec) + \"/model_\"\n",
    "    dir_car = \"/media/dmitsas/BOOT-REPAIR/Cardio/models_0/prec_\" + str(prec) + \"/model_\"\n",
    "    dir_bc = \"/media/dmitsas/BOOT-REPAIR/Breast_cancer/models_0/prec_\" + str(prec) + \"/model_\"\n",
    "    dir_arr = \"/media/dmitsas/BOOT-REPAIR/Arrythmia/models_1/prec_\" + str(prec) + \"/model_\"\n",
    "\n",
    "    FF_car = reg_ff.regression.print_resource('cardio',precision,'FF',loaded_modelscar,dirname=dirname_car)\n",
    "    DSP_car = reg_ff.regression.print_resource('cardio',precision,'DSP',loaded_modelscar,dirname=dir_car)\n",
    "    FF_bc = reg_ff.regression.print_resource('breast_cancer',precision,'FF',loaded_modelsbc,dirname=dir_bc)\n",
    "    DSP_bc = reg_ff.regression.print_resource('breast_cancer',precision,'DSP',loaded_modelsbc,dirname=dir_bc)\n",
    "    FF_jet = reg_ff.regression.print_resource('jet_tagging',precision,'FF',loaded_modelsjet,dirname=dir_jet)\n",
    "    DSP_jet = reg_ff.regression.print_resource('jet_tagging',precision,'DSP',loaded_modelsjet,dirname=dir_jet)\n",
    "    FF_arr = reg_ff.regression.print_resource('arrythmia',precision,'FF',loaded_modelsarr,dirname=dir_arr)\n",
    "    DSP_arr = reg_ff.regression.print_resource('arrythmia',precision,'DSP',loaded_modelsarr,dirname=dir_arr)\n",
    "    \n",
    "    if all_layers:\n",
    "        \n",
    "        RF_select = np.concatenate((FF_arr[0:2],FF_jet[0:4],FF_bc[0:3],FF_car[0:2]))\n",
    "        DSP_select = np.concatenate((DSP_arr[0:2],DSP_jet[0:4],DSP_bc[0:3],DSP_car[0:2]))\n",
    "\n",
    "    else:\n",
    "        RF_select = np.concatenate((FF_arr[1:2],FF_jet[1:4],FF_bc[1:3],FF_car[1:2]))\n",
    "        DSP_select = np.concatenate((DSP_arr[1:2],DSP_jet[1:4],DSP_bc[1:3],DSP_car[1:2]))\n",
    "        \n",
    "        RF_select_one = np.concatenate(([FF_arr[0]],[FF_jet[0]],[FF_bc[0]],[FF_car[0]]))\n",
    "        DSP_select_one = np.concatenate((DSP_arr[0],DSP_jet[0],DSP_bc[0],DSP_car[0]))\n",
    "        FF_precision_one.append(RF_select_one)\n",
    "        DSP_precision_one.append(DSP_select_one)\n",
    "\n",
    "        \n",
    "    FF_precision.append(RF_select)\n",
    "    DSP_precision.append(DSP_select)\n",
    "    \n",
    "FF_precision = np.array(FF_precision)\n",
    "\n",
    "FF_precision = FF_precision[:,:,:,0:RF_max]\n",
    "DSP_precision = np.array(DSP_precision)\n",
    "DSP_precision = DSP_precision[:,:,:,0:RF_max]\n",
    "print(FF_precision.shape)            ###(number of precisions,number of layers,number of models,number of reuse_factors)\n",
    "\n",
    "\n",
    "FF_prec = FF_precision.shape[0]\n",
    "FF_layers = FF_precision.shape[1]\n",
    "FF_models = FF_precision.shape[2]\n",
    "FF_reuse = FF_precision.shape[3]\n",
    "FF_precision = FF_precision.reshape(-1,FF_layers*FF_models,FF_reuse)\n",
    "print(FF_precision.shape)\n",
    "\n",
    "if not all_layers:\n",
    "    FF_precision_one = np.array(FF_precision_one)\n",
    "    FF_precision_one = FF_precision_one[:,:,:,0:RF_max]\n",
    "    print(FF_precision_one.shape)\n",
    "\n",
    "    FF_prec_one = FF_precision_one.shape[0]\n",
    "    FF_layers_one = FF_precision_one.shape[1]\n",
    "    FF_models_one = FF_precision_one.shape[2]\n",
    "    FF_reuse_one = FF_precision_one.shape[3]\n",
    "    FF_precision_one = FF_precision_one.reshape(-1,FF_layers_one*FF_models_one,FF_reuse_one)\n",
    "    print(FF_precision_one.shape)\n",
    "\n",
    "#############################################################"
   ]
  },
  {
   "cell_type": "code",
   "execution_count": 32,
   "id": "4b0929e6",
   "metadata": {},
   "outputs": [],
   "source": [
    "# model_num = 20\n",
    "# FF_precision = []\n",
    "# DSP_precision = []\n",
    "# FF_precision_one = []\n",
    "# DSP_precision_one = []\n",
    "# RF_max = 5\n",
    "# all_layers = 1\n",
    "\n",
    "# for prec in range(2,9,1):\n",
    "#     precision = prec\n",
    "\n",
    "#     FF_car = reg_ff.regression.print_resource('cardio',precision,'FF',loaded_modelscar)\n",
    "#     DSP_car = reg_ff.regression.print_resource('cardio',precision,'DSP',loaded_modelscar)\n",
    "#     FF_bc = reg_ff.regression.print_resource('breast_cancer',precision,'FF',loaded_modelsbc)\n",
    "#     DSP_bc = reg_ff.regression.print_resource('breast_cancer',precision,'DSP',loaded_modelsbc)\n",
    "#     FF_arr = reg_ff.regression.print_resource('arrythmia',precision,'FF',loaded_modelsarr)\n",
    "#     DSP_arr = reg_ff.regression.print_resource('arrythmia',precision,'DSP',loaded_modelsarr)\n",
    "#     FF_jet = reg_ff.regression.print_resource('jet_tagging',precision,'FF',loaded_modelsjet)\n",
    "#     DSP_jet = reg_ff.regression.print_resource('jet_tagging',precision,'DSP',loaded_modelsjet)\n",
    "    \n",
    "#     if all_layers:\n",
    "        \n",
    "#         RF_select = np.concatenate((FF_arr[0:2],FF_jet[0:4],FF_bc[0:3],FF_car[0:2]))\n",
    "#         DSP_select = np.concatenate((DSP_arr[0:2],DSP_jet[0:4],DSP_bc[0:3],DSP_car[0:2]))\n",
    "\n",
    "#     else:\n",
    "#         RF_select = np.concatenate((FF_arr[1:2],FF_jet[1:4],FF_bc[1:3],FF_car[1:2]))\n",
    "#         DSP_select = np.concatenate((DSP_arr[1:2],DSP_jet[1:4],DSP_bc[1:3],DSP_car[1:2]))\n",
    "        \n",
    "#         RF_select_one = np.concatenate(([FF_arr[0]],[FF_jet[0]],[FF_bc[0]],[FF_car[0]]))\n",
    "#         DSP_select_one = np.concatenate((DSP_arr[0],DSP_jet[0],DSP_bc[0],DSP_car[0]))\n",
    "#         FF_precision_one.append(RF_select_one)\n",
    "#         DSP_precision_one.append(DSP_select_one)\n",
    "\n",
    "        \n",
    "#     FF_precision.append(RF_select)\n",
    "#     DSP_precision.append(DSP_select)\n",
    "    \n",
    "# FF_precision = np.array(FF_precision)\n",
    "\n",
    "# FF_precision = FF_precision[:,:,:,0:RF_max]\n",
    "# DSP_precision = np.array(DSP_precision)\n",
    "# DSP_precision = DSP_precision[:,:,:,0:RF_max]\n",
    "# print(FF_precision.shape)            ###(number of precisions,number of layers,number of models,number of reuse_factors)\n",
    "\n",
    "\n",
    "# FF_prec = FF_precision.shape[0]\n",
    "# FF_layers = FF_precision.shape[1]\n",
    "# FF_models = FF_precision.shape[2]\n",
    "# FF_reuse = FF_precision.shape[3]\n",
    "# FF_precision = FF_precision.reshape(-1,FF_layers*FF_models,FF_reuse)\n",
    "# print(FF_precision.shape)\n",
    "\n",
    "# if not all_layers:\n",
    "#     FF_precision_one = np.array(FF_precision_one)\n",
    "#     FF_precision_one = FF_precision_one[:,:,:,0:RF_max]\n",
    "#     print(FF_precision_one.shape)\n",
    "\n",
    "#     FF_prec_one = FF_precision_one.shape[0]\n",
    "#     FF_layers_one = FF_precision_one.shape[1]\n",
    "#     FF_models_one = FF_precision_one.shape[2]\n",
    "#     FF_reuse_one = FF_precision_one.shape[3]\n",
    "#     FF_precision_one = FF_precision_one.reshape(-1,FF_layers_one*FF_models_one,FF_reuse_one)\n",
    "#     print(FF_precision_one.shape)\n",
    "\n",
    "# #np.set_printoptions(threshold=sys.maxsize)"
   ]
  },
  {
   "cell_type": "code",
   "execution_count": 33,
   "id": "15f63dff",
   "metadata": {},
   "outputs": [
    {
     "name": "stdout",
     "output_type": "stream",
     "text": [
      "CPU times: user 2.55 s, sys: 37.3 ms, total: 2.59 s\n",
      "Wall time: 2.77 s\n"
     ]
    }
   ],
   "source": [
    "%%time\n",
    "real_muls_arr = reg_ff.regression.get_muls(loaded_modelsarr)\n",
    "real_muls_jet = reg_ff.regression.get_muls(loaded_modelsjet)\n",
    "real_muls_bc  = reg_ff.regression.get_muls(loaded_modelsbc)\n",
    "real_muls_car = reg_ff.regression.get_muls(loaded_modelscar)\n",
    "\n",
    "real_muls_arr_rest = np.delete(real_muls_arr,0,0)\n",
    "real_muls_jet_rest = np.delete(real_muls_jet,0,0)\n",
    "real_muls_bc_rest  = np.delete(real_muls_bc,0,0)\n",
    "real_muls_car_rest = np.delete(real_muls_car,0,0)\n",
    "\n",
    "real_muls_rest = np.concatenate((real_muls_arr_rest,real_muls_jet_rest,real_muls_bc_rest,real_muls_car_rest))\n",
    "real_muls_rest = np.array(real_muls_rest)\n",
    "\n",
    "real_muls_arr_one = [real_muls_arr[0]]\n",
    "real_muls_jet_one = [real_muls_jet[0]]\n",
    "real_muls_bc_one  = [real_muls_bc[0]]\n",
    "real_muls_car_one = [real_muls_car[0]]\n",
    "\n",
    "real_muls_one = np.concatenate((real_muls_arr_one,real_muls_jet_one,real_muls_bc_one,real_muls_car_one))\n",
    "real_muls_one = np.array(real_muls_one)"
   ]
  },
  {
   "cell_type": "code",
   "execution_count": 34,
   "id": "c28b2e36",
   "metadata": {},
   "outputs": [],
   "source": [
    "if all_layers:\n",
    "    real_muls_all = np.concatenate((real_muls_arr,real_muls_jet,real_muls_bc,real_muls_car))\n",
    "else:\n",
    "    real_muls_all = real_muls_rest\n",
    "   \n",
    "\n"
   ]
  },
  {
   "cell_type": "code",
   "execution_count": 35,
   "id": "b5621a3c",
   "metadata": {},
   "outputs": [
    {
     "data": {
      "text/plain": [
       "(7, 220, 5)"
      ]
     },
     "execution_count": 35,
     "metadata": {},
     "output_type": "execute_result"
    }
   ],
   "source": [
    "FF_precision.shape"
   ]
  },
  {
   "cell_type": "code",
   "execution_count": 36,
   "id": "f4ccb94e",
   "metadata": {},
   "outputs": [
    {
     "name": "stdout",
     "output_type": "stream",
     "text": [
      "(7700,)\n",
      "(0,)\n"
     ]
    }
   ],
   "source": [
    "real_muls = []\n",
    "real_muls_one_all = []\n",
    "for i in range(FF_prec):\n",
    "    for j in range(FF_layers):\n",
    "        for z in range(FF_models):\n",
    "            for k in range(FF_reuse):\n",
    "                real_muls.append(real_muls_all[j,z])\n",
    "                \n",
    "if not all_layers:\n",
    "    for i in range(FF_prec_one):\n",
    "        for j in range(FF_layers_one):\n",
    "            for z in range(FF_models_one):\n",
    "                for k in range(FF_reuse_one):\n",
    "                    real_muls_one_all.append(real_muls_one[j,z])\n",
    "real_muls = np.array(real_muls)\n",
    "real_muls_one_all = np.array(real_muls_one_all)\n",
    "print(real_muls.shape)\n",
    "print(real_muls_one_all.shape)"
   ]
  },
  {
   "cell_type": "code",
   "execution_count": 37,
   "id": "ff8e2e0f",
   "metadata": {},
   "outputs": [
    {
     "name": "stdout",
     "output_type": "stream",
     "text": [
      "(7, 1100)\n"
     ]
    }
   ],
   "source": [
    "precision_array = []\n",
    "\n",
    "\n",
    "for prec in range(FF_prec):\n",
    "    precision_array.append(np.zeros(FF_layers*FF_models*FF_reuse).astype(\"int\") + (2 + prec))\n",
    "precision_array = np.array(precision_array)\n",
    "print(precision_array.shape)        #(number of precision,total layers*models*reuse)\n",
    "precision_array = precision_array.reshape(-1,FF_layers*FF_models,FF_reuse)    ###(precisions,layers*models,reuse)\n",
    "\n",
    "\n",
    "if not all_layers:\n",
    "    precision_array_one = []\n",
    "    for prec in range(FF_prec_one):\n",
    "        precision_array_one.append(np.zeros(FF_layers_one*FF_models_one*FF_reuse_one).astype(\"int\") + (2 + prec))\n",
    "    precision_array_one = np.array(precision_array_one)\n",
    "    print(precision_array_one.shape)        #(number of precision,total layers*models*reuse)\n",
    "    precision_array_one = precision_array_one.reshape(-1,FF_layers_one*FF_models_one,FF_reuse_one)    ###(precisions,layers*models,reuse)\n",
    "\n"
   ]
  },
  {
   "cell_type": "code",
   "execution_count": 38,
   "id": "ecb2598f",
   "metadata": {},
   "outputs": [],
   "source": [
    "# reuse_array = []\n",
    "# for i in range(FF_models*FF_layers):\n",
    "#     for j in range(0,FF_reuse,1):\n",
    "#         reuse_array.append(np.ones(FF_reuse) + j)\n",
    "# reuse_array = np.array(reuse_array)"
   ]
  },
  {
   "cell_type": "code",
   "execution_count": 39,
   "id": "d913b945",
   "metadata": {},
   "outputs": [
    {
     "name": "stdout",
     "output_type": "stream",
     "text": [
      "(7, 220, 5)\n"
     ]
    }
   ],
   "source": [
    "reuse_array = []\n",
    "for z in range(FF_prec):\n",
    "    for i in range(FF_models*FF_layers):\n",
    "        for j in range(FF_reuse):\n",
    "            if j < 10:\n",
    "                reuse_array.append(np.ones(1).astype(\"int\") + j)\n",
    "            else:\n",
    "                reuse_array.append(np.zeros(1).astype(\"int\") + (j + 2 -10) * 10)\n",
    "\n",
    "reuse_array = np.array(reuse_array)\n",
    "\n",
    "reuse_array = reuse_array.reshape(FF_prec,FF_layers*FF_models,FF_reuse)\n",
    "print(reuse_array.shape)\n",
    "\n",
    "if not all_layers:\n",
    "    reuse_array_one = []\n",
    "    for z in range(FF_prec_one):\n",
    "        for i in range(FF_models_one*FF_layers_one):\n",
    "            for j in range(FF_reuse_one):\n",
    "                reuse_array_one.append(np.ones(1).astype(\"int\") + j)\n",
    "\n",
    "    reuse_array_one = np.array(reuse_array_one)\n",
    "\n",
    "    reuse_array_one = reuse_array_one.reshape(FF_prec_one,FF_layers_one*FF_models_one,FF_reuse_one)\n",
    "    print(reuse_array_one.shape)"
   ]
  },
  {
   "cell_type": "code",
   "execution_count": 40,
   "id": "9365e0e1",
   "metadata": {},
   "outputs": [
    {
     "name": "stdout",
     "output_type": "stream",
     "text": [
      "(7700,)\n"
     ]
    }
   ],
   "source": [
    "precision_array = precision_array.reshape(-1)\n",
    "reuse_array = reuse_array.reshape(-1)\n",
    "FF_precision = FF_precision.reshape(-1)\n",
    "\n",
    "print(precision_array.shape)\n",
    "\n",
    "if not all_layers:\n",
    "    precision_array_one = precision_array_one.reshape(-1)\n",
    "    reuse_array_one = reuse_array_one.reshape(-1)\n",
    "    FF_precision_one = FF_precision_one.reshape(-1)\n",
    "\n",
    "    print(precision_array_one.shape)"
   ]
  },
  {
   "cell_type": "code",
   "execution_count": 50,
   "id": "cc2b4df6",
   "metadata": {},
   "outputs": [
    {
     "name": "stdout",
     "output_type": "stream",
     "text": [
      "        0  1  2     3\n",
      "0     122  1  2  2350\n",
      "1     122  2  2   971\n",
      "2     122  3  2   931\n",
      "3     122  4  2   927\n",
      "4     122  5  2   927\n",
      "...   ... .. ..   ...\n",
      "7695   53  1  8  1840\n",
      "7696   53  2  8  1084\n",
      "7697   53  3  8  1071\n",
      "7698   53  4  8  1047\n",
      "7699   53  5  8  1047\n",
      "\n",
      "[7700 rows x 4 columns]\n"
     ]
    }
   ],
   "source": [
    "data = pd.DataFrame((real_muls,reuse_array,precision_array,FF_precision))\n",
    "\n",
    "data = data.transpose()\n",
    "print(data)\n",
    "\n",
    "if not all_layers:\n",
    "    data_one = pd.DataFrame((real_muls_one_all,reuse_array_one,precision_array_one,FF_precision_one))\n",
    "\n",
    "    data_one = data_one.transpose()\n",
    "    #data_one = data_one.drop(columns=3)\n",
    "    print(data_one)\n",
    "\n"
   ]
  },
  {
   "cell_type": "code",
   "execution_count": 51,
   "id": "40cc536c",
   "metadata": {},
   "outputs": [],
   "source": [
    "data = data.drop(columns=3)\n"
   ]
  },
  {
   "cell_type": "code",
   "execution_count": 68,
   "id": "b6c828f5",
   "metadata": {
    "scrolled": true
   },
   "outputs": [
    {
     "data": {
      "text/plain": [
       "Text(0, 0.5, 'FFs')"
      ]
     },
     "execution_count": 68,
     "metadata": {},
     "output_type": "execute_result"
    },
    {
     "data": {
      "image/png": "[encoded data removed]",
      "text/plain": [
       "<Figure size 640x480 with 1 Axes>"
      ]
     },
     "metadata": {},
     "output_type": "display_data"
    }
   ],
   "source": [
    "########## Skip to this step if the data is already provided in a txt file ########\n",
    "\n",
    "\n",
    "poly_multi = PolynomialFeatures(degree = 3, include_bias=False)\n",
    "poly_feat_multi = poly_multi.fit_transform(data)\n",
    "\n",
    "poly_reg_model_multi = LinearRegression()\n",
    "poly_fit_multi = poly_reg_model_multi.fit(poly_feat_multi,FF_precision)\n",
    "\n",
    "y_pred_multi = poly_fit_multi.predict(poly_feat_multi)\n",
    "\n",
    "plt.scatter(data[0],y_pred_multi)\n",
    "plt.scatter(data[0],FF_precision)\n",
    "plt.annotate(\"r^2 = \" + str(r2_score(FF_precision,y_pred_multi)),(0,FF_precision.max()))\n",
    "plt.xlabel(\"Real multiplications\")\n",
    "plt.ylabel(\"FFs\")"
   ]
  },
  {
   "cell_type": "code",
   "execution_count": 69,
   "id": "4628c9f0",
   "metadata": {
    "scrolled": false
   },
   "outputs": [
    {
     "data": {
      "text/plain": [
       "<mpl_toolkits.mplot3d.art3d.Path3DCollection at 0x751e70512cb0>"
      ]
     },
     "execution_count": 69,
     "metadata": {},
     "output_type": "execute_result"
    },
    {
     "data": {
      "image/png": "[encoded data removed]",
      "text/plain": [
       "<Figure size 1800x1000 with 1 Axes>"
      ]
     },
     "metadata": {},
     "output_type": "display_data"
    }
   ],
   "source": [
    "ax = plt.figure(figsize=(18,10)).add_subplot(projection='3d')\n",
    "ax.scatter(data[0],y_pred_multi,zs = data[1],zdir='z',depthshade=False)\n",
    "ax.scatter(data[0],FF_precision,zs = data[1],zdir = 'z',depthshade=False)"
   ]
  },
  {
   "cell_type": "code",
   "execution_count": 70,
   "id": "c325230a",
   "metadata": {
    "scrolled": true
   },
   "outputs": [
    {
     "data": {
      "text/plain": [
       "0.9766958932637355"
      ]
     },
     "execution_count": 70,
     "metadata": {},
     "output_type": "execute_result"
    }
   ],
   "source": [
    "r2_score(FF_precision,y_pred_multi)"
   ]
  },
  {
   "cell_type": "code",
   "execution_count": 71,
   "id": "edd4573c",
   "metadata": {
    "scrolled": true
   },
   "outputs": [],
   "source": [
    "if not all_layers:\n",
    "    poly_multi_one = PolynomialFeatures(degree = 4, include_bias=False)\n",
    "    poly_feat_multi_one = poly_multi_one.fit_transform(data_one)\n",
    "\n",
    "    poly_reg_model_multi_one = LinearRegression()\n",
    "    poly_fit_multi_one = poly_reg_model_multi_one.fit(poly_feat_multi_one,FF_precision_one)\n",
    "\n",
    "    y_pred_multi_one = poly_fit_multi_one.predict(poly_feat_multi_one)\n",
    "\n",
    "    plt.scatter(data_one[0],y_pred_multi_one)\n",
    "    plt.scatter(data_one[0],FF_precision_one)\n",
    "\n",
    "    plt.annotate(\"r^2 = \" + str(r2_score(FF_precision_one,y_pred_multi_one)),(0,48000))\n",
    "    plt.xlabel(\"Real multiplications\")\n",
    "    plt.ylabel(\"FFs\")"
   ]
  },
  {
   "cell_type": "code",
   "execution_count": 72,
   "id": "11ca760a",
   "metadata": {
    "scrolled": true
   },
   "outputs": [
    {
     "data": {
      "text/plain": [
       "array([28693.65693865])"
      ]
     },
     "execution_count": 72,
     "metadata": {},
     "output_type": "execute_result"
    }
   ],
   "source": [
    "mul = 1233\n",
    "reuse = 1\n",
    "prec = 8\n",
    "end=pd.DataFrame([[mul,reuse,prec]])\n",
    "end=poly_multi.fit_transform(end)\n",
    "poly_fit_multi.predict(end)"
   ]
  },
  {
   "cell_type": "code",
   "execution_count": 73,
   "id": "f0964691",
   "metadata": {},
   "outputs": [
    {
     "data": {
      "text/plain": [
       "['../Regression/models/multi_alt.joblib']"
      ]
     },
     "execution_count": 73,
     "metadata": {},
     "output_type": "execute_result"
    }
   ],
   "source": [
    "filename = \"../Regression/models/multi_alt.joblib\"\n",
    "joblib.dump(poly_reg_model_multi,filename)\n",
    "#joblib.dump(poly_reg_model_multi,\"./FF_regression/multi_poly.joblib\")"
   ]
  },
  {
   "cell_type": "code",
   "execution_count": 537,
   "id": "c072fc26",
   "metadata": {},
   "outputs": [
    {
     "data": {
      "text/plain": [
       "['./FF_regression/multi_poly_one.joblib']"
      ]
     },
     "execution_count": 537,
     "metadata": {},
     "output_type": "execute_result"
    }
   ],
   "source": [
    "joblib.dump(poly_reg_model_multi_one,\"./FF_regression/multi_poly_one.joblib\")"
   ]
  },
  {
   "cell_type": "markdown",
   "id": "1b34fa6f",
   "metadata": {},
   "source": [
    "# Try a linear model to quantify the drop in LUTs with the increase of RF"
   ]
  },
  {
   "cell_type": "code",
   "execution_count": 325,
   "id": "93c0dcb2",
   "metadata": {},
   "outputs": [],
   "source": [
    "precision = 8\n",
    "\n",
    "LUT_car = reg_ff.regression.print_resource('cardio',precision,'LUT',loaded_modelscar)\n",
    "DSP_car = reg_ff.regression.print_resource('cardio',precision,'DSP',loaded_modelscar)\n",
    "LUT_bc = reg_ff.regression.print_resource('breast_cancer',precision,'LUT',loaded_modelsbc)\n",
    "DSP_bc = reg_ff.regression.print_resource('breast_cancer',precision,'DSP',loaded_modelsbc)\n",
    "LUT_arr = reg_ff.regression.print_resource('arrythmia',precision,'LUT',loaded_modelsarr)\n",
    "DSP_arr = reg_ff.regression.print_resource('arrythmia',precision,'DSP',loaded_modelsarr)\n",
    "LUT_jet = reg_ff.regression.print_resource('jet_tagging',precision,'LUT',loaded_modelsjet)\n",
    "DSP_jet = reg_ff.regression.print_resource('jet_tagging',precision,'DSP',loaded_modelsjet)"
   ]
  },
  {
   "cell_type": "code",
   "execution_count": 326,
   "id": "fd1711d1",
   "metadata": {},
   "outputs": [],
   "source": [
    "LUT = np.concatenate((LUT_car,LUT_bc,LUT_arr,LUT_jet))"
   ]
  },
  {
   "cell_type": "code",
   "execution_count": 327,
   "id": "3408bcc1",
   "metadata": {},
   "outputs": [],
   "source": [
    "dif1 = LUT[:,:,0]- LUT[:,:,1]\n",
    "\n",
    "dif1 = dif1.reshape(-1,1)\n",
    "real_muls_all = real_muls_all.reshape(-1,1)\n",
    "lut = LUT[:,:,0].reshape(-1,1)"
   ]
  },
  {
   "cell_type": "code",
   "execution_count": 328,
   "id": "2f58fb96",
   "metadata": {
    "scrolled": true
   },
   "outputs": [
    {
     "data": {
      "text/plain": [
       "<matplotlib.collections.PathCollection at 0x7f1007bd3cd0>"
      ]
     },
     "execution_count": 328,
     "metadata": {},
     "output_type": "execute_result"
    },
    {
     "data": {
      "image/png": "[encoded data removed]",
      "text/plain": [
       "<Figure size 640x480 with 1 Axes>"
      ]
     },
     "metadata": {},
     "output_type": "display_data"
    }
   ],
   "source": [
    "lut_poly = PolynomialFeatures(degree=2,include_bias=False)\n",
    "lut_poly_ft = lut_poly.fit_transform(lut)\n",
    "# lut_poly_ft = 1/np.log(real_muls_all) \n",
    "\n",
    "lut_model = LinearRegression()\n",
    "lut_model_fit = lut_model.fit(lut_poly_ft,dif1)\n",
    "\n",
    "lut_pred = lut_model.predict(lut_poly_ft)\n",
    "\n",
    "plt.scatter(lut,dif1)\n",
    "plt.scatter(lut,lut_pred)"
   ]
  },
  {
   "cell_type": "code",
   "execution_count": 472,
   "id": "643a25cb",
   "metadata": {},
   "outputs": [
    {
     "data": {
      "text/plain": [
       "0.8773653013739967"
      ]
     },
     "execution_count": 472,
     "metadata": {},
     "output_type": "execute_result"
    }
   ],
   "source": [
    "r2_score(dif1,lut_pred)"
   ]
  },
  {
   "cell_type": "code",
   "execution_count": 404,
   "id": "2e1fbf6d",
   "metadata": {},
   "outputs": [],
   "source": [
    "# lut_precision.append(lut_model.coef_[0])"
   ]
  },
  {
   "cell_type": "code",
   "execution_count": 417,
   "id": "4376a5cb",
   "metadata": {},
   "outputs": [
    {
     "data": {
      "text/plain": [
       "<matplotlib.collections.PathCollection at 0x7f1ef8698f70>"
      ]
     },
     "execution_count": 417,
     "metadata": {},
     "output_type": "execute_result"
    },
    {
     "data": {
      "image/png": "[encoded data removed]",
      "text/plain": [
       "<Figure size 640x480 with 1 Axes>"
      ]
     },
     "metadata": {},
     "output_type": "display_data"
    }
   ],
   "source": [
    "plt.scatter(precision_arr,lut_precision[:,0])"
   ]
  },
  {
   "cell_type": "code",
   "execution_count": 335,
   "id": "4ab8e48c",
   "metadata": {},
   "outputs": [],
   "source": [
    "lut_filename = \"./LUT_regression/lut_regression.joblib\""
   ]
  },
  {
   "cell_type": "code",
   "execution_count": 336,
   "id": "6b4b24d9",
   "metadata": {},
   "outputs": [],
   "source": [
    "if os.path.exists(lut_filename):\n",
    "    joblib.dump(lut_model,lut_filename)\n",
    "else:\n",
    "    os.mkdir(\"./LUT_regression\")\n",
    "    joblib.dump(lut_model,lut_filename)"
   ]
  },
  {
   "cell_type": "code",
   "execution_count": null,
   "id": "2534db36",
   "metadata": {},
   "outputs": [],
   "source": []
  }
 ],
 "metadata": {
  "kernelspec": {
   "display_name": "Python 3 (ipykernel)",
   "language": "python",
   "name": "python3"
  },
  "language_info": {
   "codemirror_mode": {
    "name": "ipython",
    "version": 3
   },
   "file_extension": ".py",
   "mimetype": "text/x-python",
   "name": "python",
   "nbconvert_exporter": "python",
   "pygments_lexer": "ipython3",
   "version": "3.10.10"
  }
 },
 "nbformat": 4,
 "nbformat_minor": 5
}
