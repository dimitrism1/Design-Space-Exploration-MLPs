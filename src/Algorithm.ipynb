{
 "cells": [
  {
   "cell_type": "code",
   "execution_count": 2,
   "id": "f24009a6",
   "metadata": {},
   "outputs": [
    {
     "name": "stdout",
     "output_type": "stream",
     "text": [
      "WARNING: Failed to import handlers from core.py: No module named 'torch'.\n",
      "WARNING: Failed to import handlers from merge.py: No module named 'torch'.\n",
      "WARNING: Failed to import handlers from reshape.py: No module named 'torch'.\n",
      "WARNING: Failed to import handlers from convolution.py: No module named 'torch'.\n",
      "WARNING: Failed to import handlers from pooling.py: No module named 'torch'.\n"
     ]
    },
    {
     "name": "stderr",
     "output_type": "stream",
     "text": [
      "/home/dmitsas/anaconda3/envs/hls4ml-tutorial/lib/python3.10/site-packages/hls4ml/converters/__init__.py:27: UserWarning: WARNING: Pytorch converter is not enabled!\n",
      "  warnings.warn(\"WARNING: Pytorch converter is not enabled!\", stacklevel=1)\n"
     ]
    }
   ],
   "source": [
    "from tensorflow.keras.utils import to_categorical\n",
    "from sklearn.datasets import fetch_openml\n",
    "from sklearn.model_selection import train_test_split\n",
    "from sklearn.preprocessing import LabelEncoder, StandardScaler\n",
    "import numpy as np\n",
    "%matplotlib inline\n",
    "seed = 0\n",
    "np.random.seed(seed)\n",
    "import tensorflow as tf\n",
    "tf.random.set_seed(seed)\n",
    "import os\n",
    "\n",
    "\n",
    "import pandas as pd\n",
    "import seaborn as sb\n",
    "import matplotlib.pyplot as plt\n",
    "from callbacks import all_callbacks\n",
    "\n",
    "from tensorflow.keras.models import Sequential\n",
    "from tensorflow.keras.layers import Dense, Activation, BatchNormalization\n",
    "from tensorflow.keras.optimizers import Adam\n",
    "from tensorflow.keras.regularizers import l1\n",
    "\n",
    "from qkeras.qlayers import QDense, QActivation\n",
    "from qkeras.quantizers import quantized_bits, quantized_relu\n",
    "import tensorflow.compat.v1 as tf1\n",
    "from qkeras.utils import model_save_quantized_weights\n",
    "\n",
    "from tensorflow_model_optimization.python.core.sparsity.keras import prune, pruning_callbacks, pruning_schedule\n",
    "from tensorflow_model_optimization.sparsity.keras import strip_pruning\n",
    "\n",
    "\n",
    "from sklearn.preprocessing import OneHotEncoder,LabelEncoder\n",
    "from sklearn.model_selection import train_test_split\n",
    "from sklearn.preprocessing import MinMaxScaler\n",
    "import random\n",
    "import math\n",
    "from sklearn.datasets import fetch_openml\n",
    "\n",
    "\n",
    "from tensorflow_model_optimization.python.core.sparsity.keras import prune, pruning_callbacks, pruning_schedule\n",
    "from tensorflow_model_optimization.sparsity.keras import strip_pruning\n",
    "from qkeras.utils import model_save_quantized_weights, load_qmodel\n",
    "import hls4ml\n",
    "import qkeras.utils\n",
    "\n",
    "\n",
    "from sklearn.metrics import accuracy_score\n",
    "from sklearn.metrics import r2_score\n",
    "\n",
    "os.environ[\"CUDA_VISIBLE_DEVICES\"] = \"-1\"\n",
    "import pymoo\n"
   ]
  },
  {
   "cell_type": "code",
   "execution_count": null,
   "id": "44a628e8",
   "metadata": {},
   "outputs": [],
   "source": [
    "# res = minimize(problem,algorithm,('n_gen',200),seed=1,verbose = False)"
   ]
  },
  {
   "cell_type": "code",
   "execution_count": null,
   "id": "6d98facd",
   "metadata": {},
   "outputs": [],
   "source": [
    "# plot = Scatter()\n",
    "# plot.add(problem.pareto_front())\n",
    "# plot.add(res.F)\n",
    "# plot.show()"
   ]
  },
  {
   "cell_type": "code",
   "execution_count": 3,
   "id": "c9924db3",
   "metadata": {
    "scrolled": true
   },
   "outputs": [],
   "source": [
    "from typing import List,Callable\n",
    "from collections import namedtuple\n",
    "from pymoo.core.problem import Problem\n",
    "from pymoo.algorithms.moo.nsga2 import NSGA2\n",
    "from pymoo.problems import get_problem\n",
    "from pymoo.optimize import minimize\n",
    "from pymoo.visualization.scatter import Scatter\n",
    "\n",
    "\n"
   ]
  },
  {
   "cell_type": "code",
   "execution_count": 5,
   "id": "2de42b77",
   "metadata": {
    "scrolled": false
   },
   "outputs": [
    {
     "name": "stderr",
     "output_type": "stream",
     "text": [
      "2024-09-23 14:06:08.518512: I tensorflow/core/platform/cpu_feature_guard.cc:193] This TensorFlow binary is optimized with oneAPI Deep Neural Network Library (oneDNN) to use the following CPU instructions in performance-critical operations:  SSE4.1 SSE4.2 AVX AVX2 AVX512F AVX512_VNNI FMA\n",
      "To enable them in other operations, rebuild TensorFlow with the appropriate compiler flags.\n",
      "2024-09-23 14:06:08.625527: E tensorflow/compiler/xla/stream_executor/cuda/cuda_driver.cc:267] failed call to cuInit: CUDA_ERROR_NO_DEVICE: no CUDA-capable device is detected\n",
      "2024-09-23 14:06:08.625563: I tensorflow/compiler/xla/stream_executor/cuda/cuda_diagnostics.cc:169] retrieving CUDA diagnostic information for host: skylla\n",
      "2024-09-23 14:06:08.625570: I tensorflow/compiler/xla/stream_executor/cuda/cuda_diagnostics.cc:176] hostname: skylla\n",
      "2024-09-23 14:06:08.625772: I tensorflow/compiler/xla/stream_executor/cuda/cuda_diagnostics.cc:200] libcuda reported version is: 535.183.1\n",
      "2024-09-23 14:06:08.625795: I tensorflow/compiler/xla/stream_executor/cuda/cuda_diagnostics.cc:204] kernel reported version is: 535.183.1\n",
      "2024-09-23 14:06:08.625801: I tensorflow/compiler/xla/stream_executor/cuda/cuda_diagnostics.cc:310] kernel version seems to match DSO: 535.183.1\n"
     ]
    },
    {
     "data": {
      "text/plain": [
       "['/device:CPU:0']"
      ]
     },
     "execution_count": 5,
     "metadata": {},
     "output_type": "execute_result"
    }
   ],
   "source": [
    "from tensorflow.keras.models import Sequential\n",
    "from tensorflow.keras.optimizers import Adam\n",
    "from tensorflow.keras.regularizers import l1\n",
    "from tensorflow.keras.layers import Activation\n",
    "from qkeras.qlayers import QDense, QActivation\n",
    "from qkeras.quantizers import quantized_bits, quantized_relu\n",
    "import random\n",
    "\n",
    "from tensorflow.python.client import device_lib\n",
    "\n",
    "def get_available_devices():\n",
    "    local_device_protos = device_lib.list_local_devices()\n",
    "    return [x.name for x in local_device_protos if x.device_type == 'GPU' or x.device_type == 'CPU']\n",
    "get_available_devices()"
   ]
  },
  {
   "cell_type": "markdown",
   "id": "1b7c7ef8",
   "metadata": {},
   "source": [
    "### When the minimize function is used x is multidimensional as it contains a number of solutions equal to the number of the population of the algorithm. The estimator is changed to have a subfunction to  accept an array of models and return the normalised sum of all 3 metrics(FF,LUT,DSP). When we want to use the _evaluate function indepedently, we have to convert x to a 2D array for it to work even if it contains only one set of variables"
   ]
  },
  {
   "cell_type": "code",
   "execution_count": 6,
   "id": "d038d22a",
   "metadata": {},
   "outputs": [],
   "source": [
    "import create_pop as crp\n",
    "\n",
    "import estimator.estimator as est\n",
    "from importlib import reload\n",
    "import jet_taggin_compare as jet_comp\n",
    "import dse\n"
   ]
  },
  {
   "cell_type": "code",
   "execution_count": 7,
   "id": "f04489e9",
   "metadata": {
    "scrolled": true
   },
   "outputs": [
    {
     "data": {
      "text/plain": [
       "<module 'dse' from '/home/dmitsas/Downloads/dse/src/dse.py'>"
      ]
     },
     "execution_count": 7,
     "metadata": {},
     "output_type": "execute_result"
    }
   ],
   "source": [
    "reload(jet_comp)\n",
    "reload(crp)\n",
    "reload(est)\n",
    "reload(dse)"
   ]
  },
  {
   "cell_type": "code",
   "execution_count": 8,
   "id": "43f6b424",
   "metadata": {},
   "outputs": [
    {
     "name": "stderr",
     "output_type": "stream",
     "text": [
      "/home/dmitsas/anaconda3/envs/hls4ml-tutorial/lib/python3.10/site-packages/sklearn/datasets/_openml.py:968: FutureWarning: The default value of `parser` will change from `'liac-arff'` to `'auto'` in 1.4. You can set `parser='auto'` to silence this warning. Therefore, an `ImportError` will be raised from 1.4 if the dataset is dense and pandas is not installed. Note that the pandas parser may return different data types. See the Notes Section in fetch_openml's API doc for details.\n",
      "  warn(\n"
     ]
    }
   ],
   "source": [
    "X_train,X_test,Y_train,Y_test = preprocess_jet_tagging()\n"
   ]
  },
  {
   "cell_type": "code",
   "execution_count": 11,
   "id": "12a55411",
   "metadata": {},
   "outputs": [],
   "source": [
    "########### User setup ################\n",
    "#### if a population is already available then the sampling of the algorithm should be set to the parameters\n",
    "dirname = \"./dse_models/models_10\" + \"/model_\"\n",
    "pop_size = 1\n",
    "layer_in = 16\n",
    "layer_out = 5\n",
    "#algorithm = NSGA2(pop_size = pop_size)\n",
    "problem = dse.dse(layer_in,layer_out,X_train,X_test,Y_train,Y_test,jet_comp.compare_data,dirname=dirname)"
   ]
  },
  {
   "cell_type": "code",
   "execution_count": 12,
   "id": "0d0ecd8d",
   "metadata": {
    "scrolled": true
   },
   "outputs": [
    {
     "name": "stderr",
     "output_type": "stream",
     "text": [
      "WARNING:absl:`lr` is deprecated, please use `learning_rate` instead, or use the legacy optimizer, e.g.,tf.keras.optimizers.legacy.Adam.\n"
     ]
    },
    {
     "name": "stdout",
     "output_type": "stream",
     "text": [
      "WARNING:tensorflow:`epsilon` argument is deprecated and will be removed, use `min_delta` instead.\n"
     ]
    },
    {
     "name": "stderr",
     "output_type": "stream",
     "text": [
      "WARNING:tensorflow:`epsilon` argument is deprecated and will be removed, use `min_delta` instead.\n"
     ]
    },
    {
     "name": "stdout",
     "output_type": "stream",
     "text": [
      "WARNING:tensorflow:`period` argument is deprecated. Please use `save_freq` to specify the frequency in number of batches seen.\n"
     ]
    },
    {
     "name": "stderr",
     "output_type": "stream",
     "text": [
      "WARNING:tensorflow:`period` argument is deprecated. Please use `save_freq` to specify the frequency in number of batches seen.\n"
     ]
    },
    {
     "name": "stdout",
     "output_type": "stream",
     "text": [
      "Epoch 1/10\n",
      "486/487 [============================>.] - ETA: 0s - loss: 0.9928 - accuracy: 0.6706\n",
      "***callbacks***\n",
      "saving losses to arrythmia_classification_prune_new/losses.log\n",
      "\n",
      "Epoch 1: val_loss improved from inf to 0.83065, saving model to arrythmia_classification_prune_new/KERAS_check_best_model.h5\n",
      "\n",
      "Epoch 1: val_loss improved from inf to 0.83065, saving model to arrythmia_classification_prune_new/KERAS_check_best_model_weights.h5\n",
      "\n",
      "Epoch 1: saving model to arrythmia_classification_prune_new/KERAS_check_model_last.h5\n",
      "\n",
      "Epoch 1: saving model to arrythmia_classification_prune_new/KERAS_check_model_last_weights.h5\n",
      "\n",
      "***callbacks end***\n",
      "\n",
      "487/487 [==============================] - 7s 11ms/step - loss: 0.9927 - accuracy: 0.6707 - val_loss: 0.8307 - val_accuracy: 0.7317 - lr: 0.0010\n",
      "Epoch 2/10\n",
      "484/487 [============================>.] - ETA: 0s - loss: 0.8024 - accuracy: 0.7376\n",
      "***callbacks***\n",
      "saving losses to arrythmia_classification_prune_new/losses.log\n",
      "\n",
      "Epoch 2: val_loss improved from 0.83065 to 0.78505, saving model to arrythmia_classification_prune_new/KERAS_check_best_model.h5\n",
      "\n",
      "Epoch 2: val_loss improved from 0.83065 to 0.78505, saving model to arrythmia_classification_prune_new/KERAS_check_best_model_weights.h5\n",
      "\n",
      "Epoch 2: saving model to arrythmia_classification_prune_new/KERAS_check_model_last.h5\n",
      "\n",
      "Epoch 2: saving model to arrythmia_classification_prune_new/KERAS_check_model_last_weights.h5\n",
      "\n",
      "***callbacks end***\n",
      "\n",
      "487/487 [==============================] - 4s 9ms/step - loss: 0.8023 - accuracy: 0.7376 - val_loss: 0.7851 - val_accuracy: 0.7418 - lr: 0.0010\n",
      "Epoch 3/10\n",
      "480/487 [============================>.] - ETA: 0s - loss: 0.7735 - accuracy: 0.7457\n",
      "***callbacks***\n",
      "saving losses to arrythmia_classification_prune_new/losses.log\n",
      "\n",
      "Epoch 3: val_loss improved from 0.78505 to 0.77817, saving model to arrythmia_classification_prune_new/KERAS_check_best_model.h5\n",
      "\n",
      "Epoch 3: val_loss improved from 0.78505 to 0.77817, saving model to arrythmia_classification_prune_new/KERAS_check_best_model_weights.h5\n",
      "\n",
      "Epoch 3: saving model to arrythmia_classification_prune_new/KERAS_check_model_last.h5\n",
      "\n",
      "Epoch 3: saving model to arrythmia_classification_prune_new/KERAS_check_model_last_weights.h5\n",
      "\n",
      "***callbacks end***\n",
      "\n",
      "487/487 [==============================] - 4s 9ms/step - loss: 0.7736 - accuracy: 0.7457 - val_loss: 0.7782 - val_accuracy: 0.7427 - lr: 0.0010\n",
      "Epoch 4/10\n",
      "481/487 [============================>.] - ETA: 0s - loss: 0.7588 - accuracy: 0.7495\n",
      "***callbacks***\n",
      "saving losses to arrythmia_classification_prune_new/losses.log\n",
      "\n",
      "Epoch 4: val_loss improved from 0.77817 to 0.76167, saving model to arrythmia_classification_prune_new/KERAS_check_best_model.h5\n",
      "\n",
      "Epoch 4: val_loss improved from 0.77817 to 0.76167, saving model to arrythmia_classification_prune_new/KERAS_check_best_model_weights.h5\n",
      "\n",
      "Epoch 4: saving model to arrythmia_classification_prune_new/KERAS_check_model_last.h5\n",
      "\n",
      "Epoch 4: saving model to arrythmia_classification_prune_new/KERAS_check_model_last_weights.h5\n",
      "\n",
      "***callbacks end***\n",
      "\n",
      "487/487 [==============================] - 4s 9ms/step - loss: 0.7589 - accuracy: 0.7495 - val_loss: 0.7617 - val_accuracy: 0.7487 - lr: 0.0010\n",
      "Epoch 5/10\n",
      "480/487 [============================>.] - ETA: 0s - loss: 1.0082 - accuracy: 0.6446\n",
      "***callbacks***\n",
      "saving losses to arrythmia_classification_prune_new/losses.log\n",
      "\n",
      "Epoch 5: val_loss did not improve from 0.76167\n",
      "\n",
      "Epoch 5: val_loss did not improve from 0.76167\n",
      "\n",
      "Epoch 5: saving model to arrythmia_classification_prune_new/KERAS_check_model_last.h5\n",
      "\n",
      "Epoch 5: saving model to arrythmia_classification_prune_new/KERAS_check_model_last_weights.h5\n",
      "\n",
      "Epoch 5: ReduceLROnPlateau reducing learning rate to 0.0005000000237487257.\n",
      "\n",
      "***callbacks end***\n",
      "\n",
      "487/487 [==============================] - 5s 9ms/step - loss: 1.0060 - accuracy: 0.6458 - val_loss: 0.8509 - val_accuracy: 0.7298 - lr: 0.0010\n",
      "Epoch 6/10\n",
      "487/487 [==============================] - ETA: 0s - loss: 0.8205 - accuracy: 0.7355\n",
      "***callbacks***\n",
      "saving losses to arrythmia_classification_prune_new/losses.log\n",
      "\n",
      "Epoch 6: val_loss did not improve from 0.76167\n",
      "\n",
      "Epoch 6: val_loss did not improve from 0.76167\n",
      "\n",
      "Epoch 6: saving model to arrythmia_classification_prune_new/KERAS_check_model_last.h5\n",
      "\n",
      "Epoch 6: saving model to arrythmia_classification_prune_new/KERAS_check_model_last_weights.h5\n",
      "\n",
      "***callbacks end***\n",
      "\n",
      "487/487 [==============================] - 4s 9ms/step - loss: 0.8205 - accuracy: 0.7355 - val_loss: 0.8071 - val_accuracy: 0.7369 - lr: 5.0000e-04\n",
      "Epoch 7/10\n",
      "481/487 [============================>.] - ETA: 0s - loss: 0.7881 - accuracy: 0.7408\n",
      "***callbacks***\n",
      "saving losses to arrythmia_classification_prune_new/losses.log\n",
      "\n",
      "Epoch 7: val_loss did not improve from 0.76167\n",
      "\n",
      "Epoch 7: val_loss did not improve from 0.76167\n",
      "\n",
      "Epoch 7: saving model to arrythmia_classification_prune_new/KERAS_check_model_last.h5\n",
      "\n",
      "Epoch 7: saving model to arrythmia_classification_prune_new/KERAS_check_model_last_weights.h5\n",
      "\n",
      "***callbacks end***\n",
      "\n",
      "487/487 [==============================] - 4s 9ms/step - loss: 0.7879 - accuracy: 0.7409 - val_loss: 0.7838 - val_accuracy: 0.7414 - lr: 5.0000e-04\n",
      "Epoch 8/10\n",
      "486/487 [============================>.] - ETA: 0s - loss: 0.7735 - accuracy: 0.7427\n",
      "***callbacks***\n",
      "saving losses to arrythmia_classification_prune_new/losses.log\n",
      "\n",
      "Epoch 8: val_loss did not improve from 0.76167\n",
      "\n",
      "Epoch 8: val_loss did not improve from 0.76167\n",
      "\n",
      "Epoch 8: saving model to arrythmia_classification_prune_new/KERAS_check_model_last.h5\n",
      "\n",
      "Epoch 8: saving model to arrythmia_classification_prune_new/KERAS_check_model_last_weights.h5\n",
      "\n",
      "***callbacks end***\n",
      "\n",
      "487/487 [==============================] - 4s 9ms/step - loss: 0.7734 - accuracy: 0.7427 - val_loss: 0.7719 - val_accuracy: 0.7419 - lr: 5.0000e-04\n",
      "Epoch 9/10\n",
      "482/487 [============================>.] - ETA: 0s - loss: 0.7645 - accuracy: 0.7440\n",
      "***callbacks***\n",
      "saving losses to arrythmia_classification_prune_new/losses.log\n",
      "\n",
      "Epoch 9: val_loss did not improve from 0.76167\n",
      "\n",
      "Epoch 9: val_loss did not improve from 0.76167\n",
      "\n",
      "Epoch 9: saving model to arrythmia_classification_prune_new/KERAS_check_model_last.h5\n",
      "\n",
      "Epoch 9: saving model to arrythmia_classification_prune_new/KERAS_check_model_last_weights.h5\n",
      "\n",
      "Epoch 9: ReduceLROnPlateau reducing learning rate to 0.0002500000118743628.\n",
      "\n",
      "***callbacks end***\n",
      "\n",
      "487/487 [==============================] - 5s 10ms/step - loss: 0.7644 - accuracy: 0.7440 - val_loss: 0.7746 - val_accuracy: 0.7430 - lr: 5.0000e-04\n",
      "Epoch 10/10\n",
      "482/487 [============================>.] - ETA: 0s - loss: 0.7603 - accuracy: 0.7443\n",
      "***callbacks***\n",
      "saving losses to arrythmia_classification_prune_new/losses.log\n",
      "\n",
      "Epoch 10: val_loss did not improve from 0.76167\n",
      "\n",
      "Epoch 10: val_loss did not improve from 0.76167\n",
      "\n",
      "Epoch 10: saving model to arrythmia_classification_prune_new/KERAS_check_model_last.h5\n",
      "\n",
      "Epoch 10: saving model to arrythmia_classification_prune_new/KERAS_check_model_last_weights.h5\n",
      "\n",
      "Epoch 10: saving model to arrythmia_classification_prune_new/KERAS_check_model_epoch10.h5\n",
      "\n",
      "***callbacks end***\n",
      "\n",
      "487/487 [==============================] - 4s 9ms/step - loss: 0.7602 - accuracy: 0.7443 - val_loss: 0.7678 - val_accuracy: 0.7422 - lr: 2.5000e-04\n",
      "WARNING:tensorflow:Compiled the loaded model, but the compiled metrics have yet to be built. `model.compile_metrics` will be empty until you train or evaluate the model.\n"
     ]
    },
    {
     "name": "stderr",
     "output_type": "stream",
     "text": [
      "WARNING:tensorflow:Compiled the loaded model, but the compiled metrics have yet to be built. `model.compile_metrics` will be empty until you train or evaluate the model.\n"
     ]
    },
    {
     "name": "stdout",
     "output_type": "stream",
     "text": [
      "Interpreting Sequential\n",
      "Topology:\n",
      "Layer name: fc1_input, layer type: InputLayer, input shapes: [[None, 16]], output shape: [None, 16]\n",
      "Layer name: fc1, layer type: QDense, input shapes: [[None, 16]], output shape: [None, 62]\n",
      "Layer name: relu1, layer type: Activation, input shapes: [[None, 62]], output shape: [None, 62]\n",
      "Layer name: fc2, layer type: QDense, input shapes: [[None, 62]], output shape: [None, 29]\n",
      "Layer name: relu2, layer type: Activation, input shapes: [[None, 29]], output shape: [None, 29]\n",
      "Layer name: fc3, layer type: QDense, input shapes: [[None, 29]], output shape: [None, 27]\n",
      "Layer name: relu3, layer type: Activation, input shapes: [[None, 27]], output shape: [None, 27]\n",
      "Layer name: output, layer type: QDense, input shapes: [[None, 27]], output shape: [None, 5]\n",
      "Layer name: softmax, layer type: Softmax, input shapes: [[None, 5]], output shape: [None, 5]\n",
      "Interpreting Sequential\n",
      "Topology:\n",
      "Layer name: fc1_input, layer type: InputLayer, input shapes: [[None, 16]], output shape: [None, 16]\n",
      "Layer name: fc1, layer type: QDense, input shapes: [[None, 16]], output shape: [None, 62]\n",
      "Layer name: relu1, layer type: Activation, input shapes: [[None, 62]], output shape: [None, 62]\n",
      "Layer name: fc2, layer type: QDense, input shapes: [[None, 62]], output shape: [None, 29]\n",
      "Layer name: relu2, layer type: Activation, input shapes: [[None, 29]], output shape: [None, 29]\n",
      "Layer name: fc3, layer type: QDense, input shapes: [[None, 29]], output shape: [None, 27]\n",
      "Layer name: relu3, layer type: Activation, input shapes: [[None, 27]], output shape: [None, 27]\n",
      "Layer name: output, layer type: QDense, input shapes: [[None, 27]], output shape: [None, 5]\n",
      "Layer name: softmax, layer type: Softmax, input shapes: [[None, 5]], output shape: [None, 5]\n",
      "Creating HLS model\n",
      "Writing HLS project\n",
      "WARNING:tensorflow:Compiled the loaded model, but the compiled metrics have yet to be built. `model.compile_metrics` will be empty until you train or evaluate the model.\n"
     ]
    },
    {
     "name": "stderr",
     "output_type": "stream",
     "text": [
      "WARNING:tensorflow:Compiled the loaded model, but the compiled metrics have yet to be built. `model.compile_metrics` will be empty until you train or evaluate the model.\n"
     ]
    },
    {
     "name": "stdout",
     "output_type": "stream",
     "text": [
      "Done\n",
      "./dse_models/models_10/model_0\n",
      "[[6.20377891e+01 2.94727251e+01 2.65848510e+01 5.17336952e+00\n",
      "  5.68044561e-01 8.86757143e+01 2.42621635e+00 8.71292997e-02]]\n",
      "... quantizing model\n",
      "... quantizing model\n",
      "... quantizing model\n",
      "... quantizing model\n",
      "-----------------------------------------------------------\n",
      "F1 is [0.80391566]\n",
      "F2 is [0.954397095959596]\n"
     ]
    }
   ],
   "source": [
    "problem.minimize(problem,pop_size,('n_gen',1),seed=10)\n",
    "np.savetxt(dirname + \"results.txt\",problem.get_opt_solutions())"
   ]
  },
  {
   "cell_type": "code",
   "execution_count": 48,
   "id": "22493dbd",
   "metadata": {},
   "outputs": [],
   "source": [
    "# from tensorflow.keras.models import load_model\n",
    "# from qkeras.utils import _add_supported_quantized_objects\n",
    "# import qkeras.qtools.qtools_util\n",
    "# import qkeras.estimate\n",
    "# #loaded_models = []\n",
    "\n",
    "# #for model_no in range(model_num):\n",
    "# co = {}\n",
    "# _add_supported_quantized_objects(co)\n",
    "#     #oaded_models.append(load_model(dirname + \"/prec_\" + str(pre) + \"/model_\" + str(model_no) + '/KERAS_check_best_model.h5', custom_objects=co))\n",
    "# #model = \n",
    "# model = load_model(dirname + str(1) + \"/KERAS_check_best_model.h5\",custom_objects=co)"
   ]
  },
  {
   "cell_type": "code",
   "execution_count": 28,
   "id": "a648fc49",
   "metadata": {
    "scrolled": true
   },
   "outputs": [
    {
     "data": {
      "text/plain": [
       "<module 'pymoo_utils' from '/home/dmitsas/Downloads/notebooks/misc/pymoo_utils.py'>"
      ]
     },
     "execution_count": 28,
     "metadata": {},
     "output_type": "execute_result"
    }
   ],
   "source": [
    "reload(est)\n",
    "import pymoo_utils\n",
    "reload(pymoo_utils)"
   ]
  },
  {
   "cell_type": "code",
   "execution_count": 14,
   "id": "5c40960a",
   "metadata": {},
   "outputs": [],
   "source": [
    "def recover_pymoo(dirname,pop_size,):\n",
    "    par = [[] for x in range(pop_size)]\n",
    "    #par = []\n",
    "    for i in range(pop_size):\n",
    "        with open(dirname + str(i) + \"/parameters.txt\",'r') as f:\n",
    "            for lines in f:\n",
    "\n",
    "                par[i].append(lines)\n",
    "                \n",
    "    par = np.array(par)\n",
    "\n",
    "    x = []\n",
    "    for i in range(pop_size):\n",
    "        s = par[i,0].split(\" \")\n",
    "        s = np.array(s)\n",
    "        s = s.astype(float).astype(int)\n",
    "        x.append(s)\n",
    "    x = np.array(x)\n",
    "\n",
    "    acc = [[] for x in range(pop_size)]\n",
    "    #par = []\n",
    "    for i in range(pop_size):\n",
    "        with open(dirname + str(i) + \"/accuracy.txt\",'r') as f:\n",
    "            for lines in f:\n",
    "                acc[i].append(lines)           \n",
    "    acc = np.array(acc)\n",
    "    f1 = []\n",
    "    for i in range(pop_size):\n",
    "        s = acc[i,0]\n",
    "        s = np.array(s)\n",
    "        s = s.astype(float)\n",
    "        f1.append(s)\n",
    "    f1 = np.array(f1)\n",
    "\n",
    "\n",
    "    size = [[] for x in range(pop_size)]\n",
    "    for i in range(pop_size):\n",
    "        with open(dirname + str(i) + \"/size.txt\",'r') as f:\n",
    "            for lines in f:\n",
    "                size[i].append(lines)\n",
    "\n",
    "    size = np.array(size)\n",
    "    f2 = []\n",
    "    for i in range(pop_size):\n",
    "        s = size[i,0]\n",
    "        s = np.array(s)\n",
    "        s = s.astype(float)\n",
    "        f2.append(s)\n",
    "    f2 = np.array(f2)\n",
    "    f2.shape\n",
    "\n",
    "    f = np.concatenate(([f1],[f2]))\n",
    "    return x,f"
   ]
  },
  {
   "cell_type": "code",
   "execution_count": 29,
   "id": "edadeb20",
   "metadata": {},
   "outputs": [
    {
     "data": {
      "text/plain": [
       "(array([[60, 31, 14,  8,  1, 26,  6,  0]]),\n",
       " array([[ 0.46727711],\n",
       "        [10.84301768]]))"
      ]
     },
     "execution_count": 29,
     "metadata": {},
     "output_type": "execute_result"
    }
   ],
   "source": [
    "pymoo_utils.recover_pymoo(dirname,1)"
   ]
  },
  {
   "cell_type": "code",
   "execution_count": 23,
   "id": "70799f0b",
   "metadata": {},
   "outputs": [],
   "source": [
    "########### User setup ################\n",
    "dirname = \"./dse_models/models_8\" + \"/model_\"\n",
    "pop_size = 200\n",
    "x,f = recover_pymoo(dirname,pop_size)\n",
    "layer_in = 16\n",
    "layer_out = 5\n",
    "#algorithm = NSGA2(pop_size = pop_size,sampling=x)\n",
    "problem = dse(layer_in,layer_out,X_train,X_test,Y_train,Y_test,jet_comp.compare_data,population=f,parameters=x,dirname=dirname)\n",
    "    \n"
   ]
  },
  {
   "cell_type": "code",
   "execution_count": 24,
   "id": "3c87b39b",
   "metadata": {
    "scrolled": true
   },
   "outputs": [
    {
     "name": "stdout",
     "output_type": "stream",
     "text": [
      "[[40 48 22 ... 64  5  1]\n",
      " [62 29 27 ... 88  2  0]\n",
      " [11 55 26 ... 77  5  1]\n",
      " ...\n",
      " [24 49 22 ... 82  6  1]\n",
      " [59 41 21 ... 21  6  1]\n",
      " [30 19  9 ... 70  7  0]]\n",
      "F1 is [0.44487952 0.79886145 0.66743976 0.65987349 0.70463253 0.77471084\n",
      " 0.75437952 0.41701807 0.60060241 0.51746988 0.58827711 0.52907229\n",
      " 0.63768675 0.6828012  0.55607229 0.67037349 0.44322289 0.51654819\n",
      " 0.79762048 0.59908434 0.7830241  0.43012651 0.40128916 0.52615663\n",
      " 0.72688554 0.41103614 0.66751807 0.79848795 0.64460843 0.46768675\n",
      " 0.53684337 0.67778313 0.74466265 0.45442771 0.77344578 0.45181928\n",
      " 0.5388253  0.48556627 0.74920482 0.49756627 0.39437349 0.44984337\n",
      " 0.4183253  0.76660241 0.57619277 0.52674096 0.68568072 0.44077108\n",
      " 0.66480723 0.78601807 0.59465663 0.70748795 0.75066867 0.62920482\n",
      " 0.49412048 0.43318675 0.3871747  0.56081928 0.61394578 0.60535542\n",
      " 0.55264458 0.5978253  0.48453012 0.59065663 0.40921687 0.49437952\n",
      " 0.71862651 0.4260241  0.62877711 0.40122892 0.47883133 0.40113253\n",
      " 0.48556627 0.74701205 0.52310843 0.61472892 0.74087349 0.43418675\n",
      " 0.72036145 0.41572892 0.40074699 0.42645783 0.79201205 0.76274699\n",
      " 0.7276506  0.49786747 0.53708434 0.73941566 0.56640361 0.57356024\n",
      " 0.48139759 0.43749398 0.80592771 0.73873494 0.61419277 0.71084337\n",
      " 0.42703012 0.4093012  0.47677711 0.44134337 0.65520482 0.68978313\n",
      " 0.44695181 0.48803012 0.65990964 0.52242771 0.40245181 0.79828313\n",
      " 0.65593373 0.41098193 0.48660843 0.38401807 0.73957831 0.40919277\n",
      " 0.41506024 0.65494578 0.49812651 0.74262651 0.70795783 0.43318675\n",
      " 0.5203253  0.50263855 0.5513253  0.7163012  0.72974699 0.69931928\n",
      " 0.71453012 0.3919759  0.44598795 0.6253012  0.44336747 0.41727711\n",
      " 0.77959639 0.78416867 0.6779759  0.80009036 0.71733735 0.70924096\n",
      " 0.56469277 0.61504217 0.68975301 0.66396988 0.6396506  0.8026506\n",
      " 0.72140964 0.39157229 0.3980241  0.68053614 0.7151747  0.71125301\n",
      " 0.60586747 0.65081325 0.53598193 0.67918675 0.671      0.68390361\n",
      " 0.6538253  0.4661747  0.57495783 0.50721687 0.74235542 0.79486145\n",
      " 0.41281928 0.59406627 0.6956747  0.79871084 0.6188012  0.4003253\n",
      " 0.55434337 0.4095     0.43581928 0.7228012  0.66090361 0.65390964\n",
      " 0.79396386 0.79834337 0.59563855 0.70916867 0.64169277 0.61260843\n",
      " 0.41763855 0.68286747 0.71536145 0.72085542 0.59278916 0.77537349\n",
      " 0.47054819 0.71121084 0.77896988 0.58118072 0.75093976 0.70358434\n",
      " 0.62487952 0.38323494 0.42872289 0.8065241  0.73157831 0.55631928\n",
      " 0.46003614 0.38718072]\n",
      "F2 is [ 2.80534091  0.88511048  2.87655934  6.07319444  2.14404672  0.99538194\n",
      "  2.11355429  1.97875     1.09364583  2.44482639  2.49256313  4.2602399\n",
      "  0.90069444  0.66556503  1.94840278  5.05527146  3.40647727  3.06943497\n",
      "  1.61953598  3.3786048   3.51523674  1.66489583  1.41875     4.5152904\n",
      "  3.38774306  1.99086806  2.20232639  2.30746528  1.22940972  1.40186553\n",
      "  1.46600694  3.97967487  3.13954861  5.76024937  5.46602273  1.791875\n",
      "  1.14840278  5.95537247  1.1728125   0.78684028  1.03260417  3.76144255\n",
      "  2.02055556  0.359375    5.52421402  2.58794192  2.08506944  4.73576705\n",
      "  3.73753472 10.0399274   8.30265467  1.62135417  0.29577652  1.97597222\n",
      "  2.52135732  1.86763889 18.54626894  6.41764836  1.28211806  2.30593119\n",
      "  1.11417614  3.83550189  2.47283775  1.55086806  6.9067803   3.67787879\n",
      "  0.90802083 12.98409722  4.87142045  2.05815972  1.78717487  2.72909722\n",
      "  6.42400253  0.51854167 13.00488005  0.96795139  1.78454861 10.09321654\n",
      "  7.6969476  15.24872159  4.5990625   3.3624779   2.36342172  1.32204861\n",
      "  1.92729167  2.80673295  1.57472222  3.69997159  0.23947917  1.54739583\n",
      "  4.35219697  2.89555556  0.26604167  2.29470328 10.02666351  0.65850694\n",
      "  3.16715278  8.97892045  0.778125   11.7767077   0.85767361  3.01398359\n",
      "  3.07380682  5.59894571  3.51222538  1.79158775  4.53652146  0.34642361\n",
      "  2.09576389  2.82587437  5.69441604  2.35201705  3.10532513  3.61555556\n",
      "  3.43379419  3.63883207  1.68159722  5.51831439  0.6884375   1.13684028\n",
      "  2.27763889  1.42111111  1.62508523  7.33183081  0.31347222  1.05409722\n",
      "  1.76885417  5.71860795  3.29475694  3.67034722  3.9596654   1.57489583\n",
      "  2.61950442  5.30941288  0.26270833  7.32710543  0.79704861  0.91320391\n",
      "  2.12333333  1.53458333  0.45559028  0.80381944  9.86848485  1.14922664\n",
      "  3.1452904   8.56239583  3.025       0.45652778  1.3009375   1.79979482\n",
      "  6.35368687  3.76282828  0.28620896  7.16684028  0.93470328  0.87850694\n",
      "  1.00176136  7.07037879  2.36465278  4.47789457  0.28017361  5.22129735\n",
      "  1.25972222  1.29020833  0.80566604  0.42503472  1.84942235  2.51944444\n",
      "  1.89791667  1.66559028  2.01784091  6.68405619  1.42875     2.60024306\n",
      "  1.2704798   0.41735164  3.99328598  2.51314394  2.0031029   1.23599432\n",
      "  4.44202967  1.18960227  0.82368056  1.10340278  3.5260322   0.73834596\n",
      "  1.59005997  0.25045139  3.00976957  1.16145833  1.70008523  9.39729798\n",
      "  2.40506944  2.58013258  8.55269255  2.45087121  4.56946023  2.98714646\n",
      "  2.13131944  2.13306187]\n"
     ]
    }
   ],
   "source": [
    "res = problem.minimize(problem,pop_size,('n_gen',1),seed=1)\n",
    "#np.savetxt(dirname + \"results.txt\",problem.get_opt_solutions())"
   ]
  },
  {
   "cell_type": "code",
   "execution_count": 25,
   "id": "81bb8d7e",
   "metadata": {
    "scrolled": true
   },
   "outputs": [
    {
     "data": {
      "text/plain": [
       "array([[0.56640361, 0.23947917],\n",
       "       [0.47677711, 0.778125  ],\n",
       "       [0.53598193, 0.28620896]])"
      ]
     },
     "execution_count": 25,
     "metadata": {},
     "output_type": "execute_result"
    }
   ],
   "source": [
    "problem.get_fitting_solutions()"
   ]
  },
  {
   "cell_type": "code",
   "execution_count": 26,
   "id": "313d791a",
   "metadata": {
    "scrolled": true
   },
   "outputs": [
    {
     "data": {
      "text/plain": [
       "array([[22, 14, 13,  2,  0, 82,  3,  1],\n",
       "       [16, 17, 14,  2,  0, 19,  5,  0],\n",
       "       [19, 16, 26,  5,  1, 93,  8,  0]])"
      ]
     },
     "execution_count": 26,
     "metadata": {},
     "output_type": "execute_result"
    }
   ],
   "source": [
    "problem.get_fitting_parameters().round().astype(int)"
   ]
  },
  {
   "cell_type": "code",
   "execution_count": 27,
   "id": "3033773d",
   "metadata": {},
   "outputs": [
    {
     "data": {
      "image/png": "[encoded data removed]",
      "text/plain": [
       "<Figure size 640x480 with 1 Axes>"
      ]
     },
     "metadata": {},
     "output_type": "display_data"
    }
   ],
   "source": [
    "problem.plot_parento_front()"
   ]
  },
  {
   "cell_type": "code",
   "execution_count": 20,
   "id": "fb0a4efc",
   "metadata": {},
   "outputs": [
    {
     "data": {
      "text/plain": [
       "array([[ 0.39437349,  1.03260417],\n",
       "       [ 0.56640361,  0.23947917],\n",
       "       [ 0.47677711,  0.778125  ],\n",
       "       [ 0.38401807,  2.35201705],\n",
       "       [ 0.53598193,  0.28620896],\n",
       "       [ 0.38323494,  2.58013258],\n",
       "       [ 0.38718072,  2.13306187],\n",
       "       [ 0.40128916,  1.41875   ],\n",
       "       [ 0.40122892,  2.05815972],\n",
       "       [ 0.43318675,  1.13684028],\n",
       "       [ 0.41281928,  1.25972222],\n",
       "       [ 0.6779759 ,  0.26270833],\n",
       "       [ 0.71121084,  0.25045139],\n",
       "       [ 0.49756627,  0.78684028],\n",
       "       [ 0.3871747 , 18.54626894],\n",
       "       [ 0.3919759 ,  5.71860795],\n",
       "       [ 0.39157229,  8.56239583],\n",
       "       [ 0.3980241 ,  3.025     ],\n",
       "       [ 0.4003253 ,  2.51944444],\n",
       "       [ 0.4095    ,  1.66559028],\n",
       "       [ 0.46768675,  1.40186553],\n",
       "       [ 0.41727711,  1.57489583],\n",
       "       [ 0.68975301,  0.45559028],\n",
       "       [ 0.68053614,  0.45652778],\n",
       "       [ 0.80592771,  0.26604167],\n",
       "       [ 0.72974699,  0.31347222],\n",
       "       [ 0.74235542,  0.28017361],\n",
       "       [ 0.60060241,  1.09364583],\n",
       "       [ 0.63768675,  0.90069444],\n",
       "       [ 0.5388253 ,  1.14840278],\n",
       "       [ 0.55264458,  1.11417614],\n",
       "       [ 0.61472892,  0.96795139],\n",
       "       [ 0.65520482,  0.85767361],\n",
       "       [ 0.66396988,  0.80381944],\n",
       "       [ 0.40113253,  2.72909722],\n",
       "       [ 0.40074699,  4.5990625 ],\n",
       "       [ 0.41701807,  1.97875   ],\n",
       "       [ 0.41103614,  1.99086806],\n",
       "       [ 0.50263855,  1.42111111],\n",
       "       [ 0.43012651,  1.66489583],\n",
       "       [ 0.47054819,  1.59005997],\n",
       "       [ 0.6828012 ,  0.66556503],\n",
       "       [ 0.71084337,  0.65850694],\n",
       "       [ 0.75066867,  0.29577652],\n",
       "       [ 0.74701205,  0.51854167],\n",
       "       [ 0.58118072,  1.16145833],\n",
       "       [ 0.6538253 ,  1.00176136],\n",
       "       [ 0.671     ,  0.93470328],\n",
       "       [ 0.40245181,  4.53652146],\n",
       "       [ 0.41098193,  2.82587437],\n",
       "       [ 0.40919277,  3.61555556],\n",
       "       [ 0.4183253 ,  2.02055556],\n",
       "       [ 0.53684337,  1.46600694],\n",
       "       [ 0.45181928,  1.791875  ],\n",
       "       [ 0.43318675,  1.86763889],\n",
       "       [ 0.47883133,  1.78717487],\n",
       "       [ 0.49812651,  1.68159722],\n",
       "       [ 0.70795783,  0.6884375 ],\n",
       "       [ 0.68390361,  0.87850694],\n",
       "       [ 0.6956747 ,  0.80566604],\n",
       "       [ 0.76660241,  0.359375  ],\n",
       "       [ 0.79828313,  0.34642361],\n",
       "       [ 0.64460843,  1.22940972],\n",
       "       [ 0.59406627,  1.29020833],\n",
       "       [ 0.61260843,  1.23599432],\n",
       "       [ 0.68286747,  1.18960227],\n",
       "       [ 0.41506024,  3.43379419],\n",
       "       [ 0.40921687,  6.9067803 ],\n",
       "       [ 0.42645783,  3.3624779 ],\n",
       "       [ 0.42703012,  3.16715278],\n",
       "       [ 0.53708434,  1.57472222],\n",
       "       [ 0.57356024,  1.54739583],\n",
       "       [ 0.43581928,  2.01784091],\n",
       "       [ 0.52242771,  1.79158775],\n",
       "       [ 0.71733735,  0.79704861],\n",
       "       [ 0.69931928,  1.05409722],\n",
       "       [ 0.70924096,  0.91320391],\n",
       "       [ 0.71536145,  0.82368056],\n",
       "       [ 0.77537349,  0.73834596],\n",
       "       [ 0.79834337,  0.41735164],\n",
       "       [ 0.61394578,  1.28211806],\n",
       "       [ 0.41763855,  4.44202967],\n",
       "       [ 0.4093012 ,  8.97892045],\n",
       "       [ 0.5513253 ,  1.62508523],\n",
       "       [ 0.59065663,  1.55086806],\n",
       "       [ 0.44487952,  2.80534091],\n",
       "       [ 0.43749398,  2.89555556],\n",
       "       [ 0.46003614,  2.13131944],\n",
       "       [ 0.71862651,  0.90802083],\n",
       "       [ 0.79871084,  0.42503472],\n",
       "       [ 0.61504217,  1.53458333],\n",
       "       [ 0.7151747 ,  1.3009375 ],\n",
       "       [ 0.66090361,  1.42875   ],\n",
       "       [ 0.42872289,  8.55269255],\n",
       "       [ 0.4260241 , 12.98409722],\n",
       "       [ 0.41572892, 15.24872159],\n",
       "       [ 0.55434337,  1.89791667],\n",
       "       [ 0.44322289,  3.40647727],\n",
       "       [ 0.44077108,  4.73576705],\n",
       "       [ 0.44695181,  3.07380682],\n",
       "       [ 0.44598795,  3.29475694],\n",
       "       [ 0.51746988,  2.44482639],\n",
       "       [ 0.48453012,  2.47283775],\n",
       "       [ 0.5203253 ,  2.27763889],\n",
       "       [ 0.77471084,  0.99538194],\n",
       "       [ 0.72085542,  1.10340278],\n",
       "       [ 0.79886145,  0.88511048],\n",
       "       [ 0.6188012 ,  1.84942235],\n",
       "       [ 0.70748795,  1.62135417],\n",
       "       [ 0.43418675, 10.09321654],\n",
       "       [ 0.55607229,  1.94840278],\n",
       "       [ 0.44336747,  3.9596654 ],\n",
       "       [ 0.44984337,  3.76144255],\n",
       "       [ 0.49412048,  2.52135732],\n",
       "       [ 0.74920482,  1.1728125 ],\n",
       "       [ 0.8026506 ,  1.14922664],\n",
       "       [ 0.71453012,  1.76885417],\n",
       "       [ 0.71125301,  1.79979482],\n",
       "       [ 0.44134337, 11.7767077 ],\n",
       "       [ 0.62920482,  1.97597222],\n",
       "       [ 0.56469277,  2.12333333],\n",
       "       [ 0.45442771,  5.76024937],\n",
       "       [ 0.48139759,  4.35219697],\n",
       "       [ 0.52674096,  2.58794192],\n",
       "       [ 0.49437952,  3.67787879],\n",
       "       [ 0.49786747,  2.80673295],\n",
       "       [ 0.76274699,  1.32204861],\n",
       "       [ 0.79396386,  1.2704798 ],\n",
       "       [ 0.75093976,  1.70008523],\n",
       "       [ 0.74087349,  1.78454861],\n",
       "       [ 0.7276506 ,  1.92729167],\n",
       "       [ 0.64169277,  2.0031029 ],\n",
       "       [ 0.60535542,  2.30593119],\n",
       "       [ 0.57495783,  2.36465278],\n",
       "       [ 0.4661747 ,  7.07037879],\n",
       "       [ 0.48556627,  5.95537247],\n",
       "       [ 0.48803012,  5.59894571],\n",
       "       [ 0.48660843,  5.69441604],\n",
       "       [ 0.51654819,  3.06943497],\n",
       "       [ 0.50721687,  4.47789457],\n",
       "       [ 0.55631928,  2.98714646],\n",
       "       [ 0.79762048,  1.61953598],\n",
       "       [ 0.68568072,  2.08506944],\n",
       "       [ 0.65593373,  2.09576389],\n",
       "       [ 0.58827711,  2.49256313],\n",
       "       [ 0.62487952,  2.40506944],\n",
       "       [ 0.48556627,  6.42400253],\n",
       "       [ 0.52907229,  4.2602399 ],\n",
       "       [ 0.52615663,  4.5152904 ],\n",
       "       [ 0.70463253,  2.14404672],\n",
       "       [ 0.75437952,  2.11355429],\n",
       "       [ 0.66751807,  2.20232639],\n",
       "       [ 0.59908434,  3.3786048 ],\n",
       "       [ 0.59278916,  3.5260322 ],\n",
       "       [ 0.65390964,  2.60024306],\n",
       "       [ 0.52310843, 13.00488005],\n",
       "       [ 0.57619277,  5.52421402],\n",
       "       [ 0.56081928,  6.41764836],\n",
       "       [ 0.73873494,  2.29470328],\n",
       "       [ 0.70916867,  2.51314394],\n",
       "       [ 0.5978253 ,  3.83550189],\n",
       "       [ 0.6253012 ,  3.67034722],\n",
       "       [ 0.59563855,  3.99328598],\n",
       "       [ 0.66743976,  2.87655934],\n",
       "       [ 0.65990964,  3.51222538],\n",
       "       [ 0.65494578,  3.63883207],\n",
       "       [ 0.59465663,  8.30265467],\n",
       "       [ 0.79848795,  2.30746528],\n",
       "       [ 0.79201205,  2.36342172],\n",
       "       [ 0.77959639,  2.61950442],\n",
       "       [ 0.65081325,  3.76282828],\n",
       "       [ 0.62877711,  4.87142045],\n",
       "       [ 0.60586747,  6.35368687],\n",
       "       [ 0.68978313,  3.01398359],\n",
       "       [ 0.77896988,  3.00976957],\n",
       "       [ 0.66480723,  3.73753472],\n",
       "       [ 0.8065241 ,  2.45087121],\n",
       "       [ 0.65987349,  6.07319444],\n",
       "       [ 0.61419277, 10.02666351],\n",
       "       [ 0.6396506 ,  9.86848485],\n",
       "       [ 0.73957831,  3.10532513],\n",
       "       [ 0.72140964,  3.1452904 ],\n",
       "       [ 0.67037349,  5.05527146],\n",
       "       [ 0.67778313,  3.97967487],\n",
       "       [ 0.74466265,  3.13954861],\n",
       "       [ 0.72688554,  3.38774306],\n",
       "       [ 0.67918675,  7.16684028],\n",
       "       [ 0.7228012 ,  6.68405619],\n",
       "       [ 0.7830241 ,  3.51523674],\n",
       "       [ 0.73941566,  3.69997159],\n",
       "       [ 0.73157831,  4.56946023],\n",
       "       [ 0.7163012 ,  7.33183081],\n",
       "       [ 0.70358434,  9.39729798],\n",
       "       [ 0.77344578,  5.46602273],\n",
       "       [ 0.74262651,  5.51831439],\n",
       "       [ 0.78416867,  5.30941288],\n",
       "       [ 0.79486145,  5.22129735],\n",
       "       [ 0.72036145,  7.6969476 ],\n",
       "       [ 0.80009036,  7.32710543],\n",
       "       [ 0.78601807, 10.0399274 ]])"
      ]
     },
     "execution_count": 20,
     "metadata": {},
     "output_type": "execute_result"
    }
   ],
   "source": [
    "problem.get_all_solutions()"
   ]
  },
  {
   "cell_type": "code",
   "execution_count": 266,
   "id": "993ddec2",
   "metadata": {},
   "outputs": [
    {
     "data": {
      "text/plain": [
       "array([1, 2, 3, 4, 7])"
      ]
     },
     "execution_count": 266,
     "metadata": {},
     "output_type": "execute_result"
    }
   ],
   "source": [
    "q.round().astype(int)"
   ]
  },
  {
   "cell_type": "code",
   "execution_count": null,
   "id": "aa0e3e53",
   "metadata": {},
   "outputs": [],
   "source": []
  }
 ],
 "metadata": {
  "kernelspec": {
   "display_name": "Python 3 (ipykernel)",
   "language": "python",
   "name": "python3"
  },
  "language_info": {
   "codemirror_mode": {
    "name": "ipython",
    "version": 3
   },
   "file_extension": ".py",
   "mimetype": "text/x-python",
   "name": "python",
   "nbconvert_exporter": "python",
   "pygments_lexer": "ipython3",
   "version": "3.10.10"
  }
 },
 "nbformat": 4,
 "nbformat_minor": 5
}
