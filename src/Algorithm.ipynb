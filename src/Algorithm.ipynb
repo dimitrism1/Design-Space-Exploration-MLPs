{
 "cells": [
  {
   "cell_type": "code",
   "execution_count": 65,
   "id": "f24009a6",
   "metadata": {},
   "outputs": [],
   "source": [
    "from tensorflow.keras.utils import to_categorical\n",
    "from sklearn.datasets import fetch_openml\n",
    "from sklearn.model_selection import train_test_split\n",
    "from sklearn.preprocessing import LabelEncoder, StandardScaler\n",
    "import numpy as np\n",
    "%matplotlib inline\n",
    "seed = 0\n",
    "np.random.seed(seed)\n",
    "import tensorflow as tf\n",
    "tf.random.set_seed(seed)\n",
    "import os\n",
    "\n",
    "import pandas as pd\n",
    "import matplotlib.pyplot as plt\n",
    "from callbacks import all_callbacks\n",
    "\n",
    "from tensorflow.keras.models import Sequential\n",
    "from tensorflow.keras.layers import Dense, Activation, BatchNormalization\n",
    "from tensorflow.keras.optimizers import Adam\n",
    "from tensorflow.keras.regularizers import l1\n",
    "\n",
    "from qkeras.qlayers import QDense, QActivation\n",
    "from qkeras.quantizers import quantized_bits, quantized_relu\n",
    "import tensorflow.compat.v1 as tf1\n",
    "from qkeras.utils import model_save_quantized_weights\n",
    "\n",
    "from tensorflow_model_optimization.python.core.sparsity.keras import prune, pruning_callbacks, pruning_schedule\n",
    "from tensorflow_model_optimization.sparsity.keras import strip_pruning\n",
    "\n",
    "\n",
    "from sklearn.preprocessing import OneHotEncoder,LabelEncoder\n",
    "from sklearn.model_selection import train_test_split\n",
    "from sklearn.preprocessing import MinMaxScaler\n",
    "import random\n",
    "import math\n",
    "from sklearn.datasets import fetch_openml\n",
    "\n",
    "\n",
    "from tensorflow_model_optimization.python.core.sparsity.keras import prune, pruning_callbacks, pruning_schedule\n",
    "from tensorflow_model_optimization.sparsity.keras import strip_pruning\n",
    "from qkeras.utils import model_save_quantized_weights, load_qmodel\n",
    "import hls4ml\n",
    "import qkeras.utils\n",
    "\n",
    "\n",
    "from sklearn.metrics import accuracy_score\n",
    "from sklearn.metrics import r2_score\n",
    "\n",
    "os.environ[\"CUDA_VISIBLE_DEVICES\"] = \"-1\"\n",
    "import pymoo\n"
   ]
  },
  {
   "cell_type": "code",
   "execution_count": 2,
   "id": "c9924db3",
   "metadata": {
    "scrolled": true
   },
   "outputs": [],
   "source": [
    "from typing import List,Callable\n",
    "from collections import namedtuple\n",
    "from pymoo.core.problem import Problem\n",
    "from pymoo.algorithms.moo.nsga2 import NSGA2\n",
    "from pymoo.problems import get_problem\n",
    "from pymoo.optimize import minimize\n",
    "from pymoo.visualization.scatter import Scatter\n",
    "\n",
    "\n"
   ]
  },
  {
   "cell_type": "code",
   "execution_count": 3,
   "id": "2de42b77",
   "metadata": {
    "scrolled": false
   },
   "outputs": [
    {
     "name": "stderr",
     "output_type": "stream",
     "text": [
      "2024-10-23 01:09:25.153052: I tensorflow/core/platform/cpu_feature_guard.cc:193] This TensorFlow binary is optimized with oneAPI Deep Neural Network Library (oneDNN) to use the following CPU instructions in performance-critical operations:  SSE4.1 SSE4.2 AVX AVX2 FMA\n",
      "To enable them in other operations, rebuild TensorFlow with the appropriate compiler flags.\n"
     ]
    },
    {
     "data": {
      "text/plain": [
       "['/device:CPU:0']"
      ]
     },
     "execution_count": 3,
     "metadata": {},
     "output_type": "execute_result"
    }
   ],
   "source": [
    "from tensorflow.keras.models import Sequential\n",
    "from tensorflow.keras.optimizers import Adam\n",
    "from tensorflow.keras.regularizers import l1\n",
    "from tensorflow.keras.layers import Activation\n",
    "from qkeras.qlayers import QDense, QActivation\n",
    "from qkeras.quantizers import quantized_bits, quantized_relu\n",
    "import random\n",
    "\n",
    "from tensorflow.python.client import device_lib\n",
    "\n",
    "def get_available_devices():\n",
    "    local_device_protos = device_lib.list_local_devices()\n",
    "    return [x.name for x in local_device_protos if x.device_type == 'GPU' or x.device_type == 'CPU']\n",
    "get_available_devices()"
   ]
  },
  {
   "cell_type": "markdown",
   "id": "1b7c7ef8",
   "metadata": {},
   "source": [
    "### When the minimize function is used x is multidimensional as it contains a number of solutions equal to the number of the population of the algorithm. The estimator is changed to have a subfunction to  accept an array of models and return the normalised sum of all 3 metrics(FF,LUT,DSP). When we want to use the _evaluate function indepedently, we have to convert x to a 2D array for it to work even if it contains only one set of variables"
   ]
  },
  {
   "cell_type": "code",
   "execution_count": 4,
   "id": "d038d22a",
   "metadata": {
    "scrolled": true
   },
   "outputs": [],
   "source": [
    "import create_pop as crp\n",
    "\n",
    "import estimator.estimator as est\n",
    "from importlib import reload\n",
    "import jet_taggin_compare as jet_comp\n",
    "import dse\n"
   ]
  },
  {
   "cell_type": "code",
   "execution_count": 68,
   "id": "f04489e9",
   "metadata": {
    "scrolled": true
   },
   "outputs": [
    {
     "data": {
      "text/plain": [
       "<module 'dse' from '/home/dmitsas/Downloads/backup/src/dse.py'>"
      ]
     },
     "execution_count": 68,
     "metadata": {},
     "output_type": "execute_result"
    }
   ],
   "source": [
    "reload(jet_comp)\n",
    "reload(crp)\n",
    "reload(est)\n",
    "reload(dse)"
   ]
  },
  {
   "cell_type": "code",
   "execution_count": 54,
   "id": "05ef31b9",
   "metadata": {},
   "outputs": [],
   "source": [
    "def preprocess_jet_tagging():\n",
    "    data = fetch_openml('hls4ml_lhc_jets_hlf')\n",
    "    X, y = data['data'], data['target']\n",
    "    le = LabelEncoder()\n",
    "    y = le.fit_transform(y)\n",
    "    y = to_categorical(y, 5)\n",
    "    X_train, X_test, Y_train, Y_test = train_test_split(X, y, test_size=0.2, random_state=42)\n",
    "\n",
    "    scaler = StandardScaler()\n",
    "    X_train = scaler.fit_transform(X_train)\n",
    "    X_test = scaler.transform(X_test)\n",
    "    return X_train,X_test,Y_train,Y_test"
   ]
  },
  {
   "cell_type": "code",
   "execution_count": 55,
   "id": "1cea67d4",
   "metadata": {},
   "outputs": [],
   "source": [
    "def preprocess_cardio():\n",
    "    df = pd.read_csv('./dataset.csv', sep = ';')\n",
    "    X = df.drop('Y', axis = 1).values\n",
    "    y = df.Y\n",
    "    le = LabelEncoder()\n",
    "    y = le.fit_transform(y)\n",
    "    y = to_categorical(y, 3)\n",
    "    X_train,X_test,Y_train,Y_test = train_test_split(X,y,test_size=0.3,random_state=42)\n",
    "    sc = MinMaxScaler(feature_range=(0,0.9))\n",
    "    X_train = sc.fit_transform(X_train)\n",
    "    X_test = sc.transform(X_test)\n",
    "    print(X_test.shape)\n",
    "    print(Y_test.shape)\n",
    "    return X_train,X_test,Y_train,Y_test"
   ]
  },
  {
   "cell_type": "code",
   "execution_count": 56,
   "id": "8b32c654",
   "metadata": {},
   "outputs": [],
   "source": [
    "def cardio_compare(hls_model,X_test,Y_test):\n",
    "    y_pred = hls_model.predict(X_test)\n",
    "    y_pred = to_categorical(np.argmax(y_pred,axis=1),Y_test.shape[1])\n",
    "    accuracy = accuracy_score(Y_test,y_pred)\n",
    "    return accuracy"
   ]
  },
  {
   "cell_type": "code",
   "execution_count": 57,
   "id": "43f6b424",
   "metadata": {
    "scrolled": true
   },
   "outputs": [
    {
     "name": "stdout",
     "output_type": "stream",
     "text": [
      "(638, 21)\n",
      "(638, 3)\n"
     ]
    }
   ],
   "source": [
    "X_train,X_test,Y_train,Y_test = preprocess_cardio()\n"
   ]
  },
  {
   "cell_type": "code",
   "execution_count": 69,
   "id": "12a55411",
   "metadata": {},
   "outputs": [
    {
     "name": "stdout",
     "output_type": "stream",
     "text": [
      "CPU times: user 106 µs, sys: 0 ns, total: 106 µs\n",
      "Wall time: 247 µs\n"
     ]
    }
   ],
   "source": [
    "%%time\n",
    "########### User setup ################\n",
    "#### if a population is already available then the sampling of the algorithm should be set to the parameters\n",
    "#####List of devices \"Z7007S\" ,\"Z7012S\" ,\"Z7014S\", \"Z7010\", \"Z7015\", \"Z7020\" ###########\n",
    "dirname = \"./dse_models/models_12\" + \"/model_\"\n",
    "pop_size = 2\n",
    "layer_in = 21\n",
    "layer_out = 3\n",
    "problem = dse.dse(layer_in,layer_out,X_train,X_test,Y_train,Y_test,batch_size = 64,test_compare=cardio_compare,dirname=dirname,only_est=False,device = \"Z7010\")"
   ]
  },
  {
   "cell_type": "code",
   "execution_count": 70,
   "id": "0d0ecd8d",
   "metadata": {
    "scrolled": true
   },
   "outputs": [
    {
     "name": "stderr",
     "output_type": "stream",
     "text": [
      "WARNING:absl:`lr` is deprecated, please use `learning_rate` instead, or use the legacy optimizer, e.g.,tf.keras.optimizers.legacy.Adam.\n"
     ]
    },
    {
     "name": "stdout",
     "output_type": "stream",
     "text": [
      "WARNING:tensorflow:`epsilon` argument is deprecated and will be removed, use `min_delta` instead.\n"
     ]
    },
    {
     "name": "stderr",
     "output_type": "stream",
     "text": [
      "WARNING:tensorflow:`epsilon` argument is deprecated and will be removed, use `min_delta` instead.\n"
     ]
    },
    {
     "name": "stdout",
     "output_type": "stream",
     "text": [
      "WARNING:tensorflow:`period` argument is deprecated. Please use `save_freq` to specify the frequency in number of batches seen.\n"
     ]
    },
    {
     "name": "stderr",
     "output_type": "stream",
     "text": [
      "WARNING:tensorflow:`period` argument is deprecated. Please use `save_freq` to specify the frequency in number of batches seen.\n"
     ]
    },
    {
     "name": "stdout",
     "output_type": "stream",
     "text": [
      "Epoch 1/10\n",
      " 1/18 [>.............................] - ETA: 47s - loss: 1.2167 - accuracy: 0.0938WARNING:tensorflow:Callback method `on_train_batch_end` is slow compared to the batch time (batch time: 0.0020s vs `on_train_batch_end` time: 0.0089s). Check your callbacks.\n"
     ]
    },
    {
     "name": "stderr",
     "output_type": "stream",
     "text": [
      "WARNING:tensorflow:Callback method `on_train_batch_end` is slow compared to the batch time (batch time: 0.0020s vs `on_train_batch_end` time: 0.0089s). Check your callbacks.\n"
     ]
    },
    {
     "name": "stdout",
     "output_type": "stream",
     "text": [
      "\n",
      "***callbacks***\n",
      "saving losses to arrythmia_classification_prune_new/losses.log\n",
      "\n",
      "Epoch 1: val_loss improved from inf to 0.98296, saving model to arrythmia_classification_prune_new/KERAS_check_best_model.h5\n",
      "\n",
      "Epoch 1: val_loss improved from inf to 0.98296, saving model to arrythmia_classification_prune_new/KERAS_check_best_model_weights.h5\n",
      "\n",
      "Epoch 1: saving model to arrythmia_classification_prune_new/KERAS_check_model_last.h5\n",
      "\n",
      "Epoch 1: saving model to arrythmia_classification_prune_new/KERAS_check_model_last_weights.h5\n",
      "\n",
      "***callbacks end***\n",
      "\n",
      "18/18 [==============================] - 3s 41ms/step - loss: 1.1140 - accuracy: 0.5108 - val_loss: 0.9830 - val_accuracy: 0.8038 - lr: 0.0010\n",
      "Epoch 2/10\n",
      " 1/18 [>.............................] - ETA: 0s - loss: 0.9981 - accuracy: 0.7812\n",
      "***callbacks***\n",
      "saving losses to arrythmia_classification_prune_new/losses.log\n",
      "\n",
      "Epoch 2: val_loss improved from 0.98296 to 0.69194, saving model to arrythmia_classification_prune_new/KERAS_check_best_model.h5\n",
      "\n",
      "Epoch 2: val_loss improved from 0.98296 to 0.69194, saving model to arrythmia_classification_prune_new/KERAS_check_best_model_weights.h5\n",
      "\n",
      "Epoch 2: saving model to arrythmia_classification_prune_new/KERAS_check_model_last.h5\n",
      "\n",
      "Epoch 2: saving model to arrythmia_classification_prune_new/KERAS_check_model_last_weights.h5\n",
      "\n",
      "***callbacks end***\n",
      "\n",
      "18/18 [==============================] - 0s 11ms/step - loss: 0.8978 - accuracy: 0.7706 - val_loss: 0.6919 - val_accuracy: 0.8038 - lr: 0.0010\n",
      "Epoch 3/10\n",
      " 1/18 [>.............................] - ETA: 0s - loss: 0.7340 - accuracy: 0.7812\n",
      "***callbacks***\n",
      "saving losses to arrythmia_classification_prune_new/losses.log\n",
      "\n",
      "Epoch 3: val_loss improved from 0.69194 to 0.63100, saving model to arrythmia_classification_prune_new/KERAS_check_best_model.h5\n",
      "\n",
      "Epoch 3: val_loss improved from 0.69194 to 0.63100, saving model to arrythmia_classification_prune_new/KERAS_check_best_model_weights.h5\n",
      "\n",
      "Epoch 3: saving model to arrythmia_classification_prune_new/KERAS_check_model_last.h5\n",
      "\n",
      "Epoch 3: saving model to arrythmia_classification_prune_new/KERAS_check_model_last_weights.h5\n",
      "\n",
      "***callbacks end***\n",
      "\n",
      "18/18 [==============================] - 0s 11ms/step - loss: 0.7262 - accuracy: 0.7706 - val_loss: 0.6310 - val_accuracy: 0.8038 - lr: 0.0010\n",
      "Epoch 4/10\n",
      " 1/18 [>.............................] - ETA: 0s - loss: 0.6399 - accuracy: 0.7969\n",
      "***callbacks***\n",
      "saving losses to arrythmia_classification_prune_new/losses.log\n",
      "\n",
      "Epoch 4: val_loss improved from 0.63100 to 0.58296, saving model to arrythmia_classification_prune_new/KERAS_check_best_model.h5\n",
      "\n",
      "Epoch 4: val_loss improved from 0.63100 to 0.58296, saving model to arrythmia_classification_prune_new/KERAS_check_best_model_weights.h5\n",
      "\n",
      "Epoch 4: saving model to arrythmia_classification_prune_new/KERAS_check_model_last.h5\n",
      "\n",
      "Epoch 4: saving model to arrythmia_classification_prune_new/KERAS_check_model_last_weights.h5\n",
      "\n",
      "***callbacks end***\n",
      "\n",
      "18/18 [==============================] - 0s 10ms/step - loss: 0.6674 - accuracy: 0.7706 - val_loss: 0.5830 - val_accuracy: 0.8038 - lr: 0.0010\n",
      "Epoch 5/10\n",
      " 1/18 [>.............................] - ETA: 0s - loss: 0.6240 - accuracy: 0.7812\n",
      "***callbacks***\n",
      "saving losses to arrythmia_classification_prune_new/losses.log\n",
      "\n",
      "Epoch 5: val_loss improved from 0.58296 to 0.50090, saving model to arrythmia_classification_prune_new/KERAS_check_best_model.h5\n",
      "\n",
      "Epoch 5: val_loss improved from 0.58296 to 0.50090, saving model to arrythmia_classification_prune_new/KERAS_check_best_model_weights.h5\n",
      "\n",
      "Epoch 5: saving model to arrythmia_classification_prune_new/KERAS_check_model_last.h5\n",
      "\n",
      "Epoch 5: saving model to arrythmia_classification_prune_new/KERAS_check_model_last_weights.h5\n",
      "\n",
      "***callbacks end***\n",
      "\n",
      "18/18 [==============================] - 0s 12ms/step - loss: 0.6051 - accuracy: 0.7724 - val_loss: 0.5009 - val_accuracy: 0.8226 - lr: 0.0010\n",
      "Epoch 6/10\n",
      " 1/18 [>.............................] - ETA: 0s - loss: 0.5992 - accuracy: 0.7344\n",
      "***callbacks***\n",
      "saving losses to arrythmia_classification_prune_new/losses.log\n",
      "\n",
      "Epoch 6: val_loss improved from 0.50090 to 0.44619, saving model to arrythmia_classification_prune_new/KERAS_check_best_model.h5\n",
      "\n",
      "Epoch 6: val_loss improved from 0.50090 to 0.44619, saving model to arrythmia_classification_prune_new/KERAS_check_best_model_weights.h5\n",
      "\n",
      "Epoch 6: saving model to arrythmia_classification_prune_new/KERAS_check_model_last.h5\n",
      "\n",
      "Epoch 6: saving model to arrythmia_classification_prune_new/KERAS_check_model_last_weights.h5\n",
      "\n",
      "***callbacks end***\n",
      "\n",
      "18/18 [==============================] - 0s 12ms/step - loss: 0.5241 - accuracy: 0.7984 - val_loss: 0.4462 - val_accuracy: 0.8360 - lr: 0.0010\n",
      "Epoch 7/10\n",
      " 1/18 [>.............................] - ETA: 0s - loss: 0.5008 - accuracy: 0.8125\n",
      "***callbacks***\n",
      "saving losses to arrythmia_classification_prune_new/losses.log\n",
      "\n",
      "Epoch 7: val_loss improved from 0.44619 to 0.40142, saving model to arrythmia_classification_prune_new/KERAS_check_best_model.h5\n",
      "\n",
      "Epoch 7: val_loss improved from 0.44619 to 0.40142, saving model to arrythmia_classification_prune_new/KERAS_check_best_model_weights.h5\n",
      "\n",
      "Epoch 7: saving model to arrythmia_classification_prune_new/KERAS_check_model_last.h5\n",
      "\n",
      "Epoch 7: saving model to arrythmia_classification_prune_new/KERAS_check_model_last_weights.h5\n",
      "\n",
      "***callbacks end***\n",
      "\n",
      "18/18 [==============================] - 0s 11ms/step - loss: 0.4741 - accuracy: 0.8360 - val_loss: 0.4014 - val_accuracy: 0.8387 - lr: 0.0010\n",
      "Epoch 8/10\n",
      "17/18 [===========================>..] - ETA: 0s - loss: 0.4450 - accuracy: 0.8520\n",
      "***callbacks***\n",
      "saving losses to arrythmia_classification_prune_new/losses.log\n",
      "\n",
      "Epoch 8: val_loss improved from 0.40142 to 0.37280, saving model to arrythmia_classification_prune_new/KERAS_check_best_model.h5\n",
      "\n",
      "Epoch 8: val_loss improved from 0.40142 to 0.37280, saving model to arrythmia_classification_prune_new/KERAS_check_best_model_weights.h5\n",
      "\n",
      "Epoch 8: saving model to arrythmia_classification_prune_new/KERAS_check_model_last.h5\n",
      "\n",
      "Epoch 8: saving model to arrythmia_classification_prune_new/KERAS_check_model_last_weights.h5\n",
      "\n",
      "***callbacks end***\n",
      "\n",
      "18/18 [==============================] - 0s 14ms/step - loss: 0.4413 - accuracy: 0.8539 - val_loss: 0.3728 - val_accuracy: 0.8898 - lr: 0.0010\n",
      "Epoch 9/10\n",
      " 1/18 [>.............................] - ETA: 0s - loss: 0.3562 - accuracy: 0.9062\n",
      "***callbacks***\n",
      "saving losses to arrythmia_classification_prune_new/losses.log\n",
      "\n",
      "Epoch 9: val_loss improved from 0.37280 to 0.35539, saving model to arrythmia_classification_prune_new/KERAS_check_best_model.h5\n",
      "\n",
      "Epoch 9: val_loss improved from 0.37280 to 0.35539, saving model to arrythmia_classification_prune_new/KERAS_check_best_model_weights.h5\n",
      "\n",
      "Epoch 9: saving model to arrythmia_classification_prune_new/KERAS_check_model_last.h5\n",
      "\n",
      "Epoch 9: saving model to arrythmia_classification_prune_new/KERAS_check_model_last_weights.h5\n",
      "\n",
      "***callbacks end***\n",
      "\n",
      "18/18 [==============================] - 0s 12ms/step - loss: 0.4130 - accuracy: 0.8602 - val_loss: 0.3554 - val_accuracy: 0.8978 - lr: 0.0010\n",
      "Epoch 10/10\n",
      " 1/18 [>.............................] - ETA: 0s - loss: 0.6351 - accuracy: 0.7188\n",
      "***callbacks***\n",
      "saving losses to arrythmia_classification_prune_new/losses.log\n",
      "\n",
      "Epoch 10: val_loss improved from 0.35539 to 0.33678, saving model to arrythmia_classification_prune_new/KERAS_check_best_model.h5\n",
      "\n",
      "Epoch 10: val_loss improved from 0.35539 to 0.33678, saving model to arrythmia_classification_prune_new/KERAS_check_best_model_weights.h5\n",
      "\n",
      "Epoch 10: saving model to arrythmia_classification_prune_new/KERAS_check_model_last.h5\n",
      "\n",
      "Epoch 10: saving model to arrythmia_classification_prune_new/KERAS_check_model_last_weights.h5\n",
      "\n",
      "Epoch 10: saving model to arrythmia_classification_prune_new/KERAS_check_model_epoch10.h5\n",
      "\n",
      "***callbacks end***\n",
      "\n",
      "18/18 [==============================] - 0s 13ms/step - loss: 0.3924 - accuracy: 0.8656 - val_loss: 0.3368 - val_accuracy: 0.8871 - lr: 0.0010\n",
      "WARNING:tensorflow:Compiled the loaded model, but the compiled metrics have yet to be built. `model.compile_metrics` will be empty until you train or evaluate the model.\n"
     ]
    },
    {
     "name": "stderr",
     "output_type": "stream",
     "text": [
      "WARNING:tensorflow:Compiled the loaded model, but the compiled metrics have yet to be built. `model.compile_metrics` will be empty until you train or evaluate the model.\n"
     ]
    },
    {
     "name": "stdout",
     "output_type": "stream",
     "text": [
      "Interpreting Sequential\n",
      "Topology:\n",
      "Layer name: fc1_input, layer type: InputLayer, input shapes: [[None, 21]], output shape: [None, 21]\n",
      "Layer name: fc1, layer type: QDense, input shapes: [[None, 21]], output shape: [None, 40]\n",
      "Layer name: relu1, layer type: Activation, input shapes: [[None, 40]], output shape: [None, 40]\n",
      "Layer name: fc2, layer type: QDense, input shapes: [[None, 40]], output shape: [None, 48]\n",
      "Layer name: relu2, layer type: Activation, input shapes: [[None, 48]], output shape: [None, 48]\n",
      "Layer name: fc3, layer type: QDense, input shapes: [[None, 48]], output shape: [None, 22]\n",
      "Layer name: relu3, layer type: Activation, input shapes: [[None, 22]], output shape: [None, 22]\n",
      "Layer name: output, layer type: QDense, input shapes: [[None, 22]], output shape: [None, 3]\n",
      "Layer name: softmax, layer type: Softmax, input shapes: [[None, 3]], output shape: [None, 3]\n",
      "Interpreting Sequential\n",
      "Topology:\n",
      "Layer name: fc1_input, layer type: InputLayer, input shapes: [[None, 21]], output shape: [None, 21]\n",
      "Layer name: fc1, layer type: QDense, input shapes: [[None, 21]], output shape: [None, 40]\n",
      "Layer name: relu1, layer type: Activation, input shapes: [[None, 40]], output shape: [None, 40]\n",
      "Layer name: fc2, layer type: QDense, input shapes: [[None, 40]], output shape: [None, 48]\n",
      "Layer name: relu2, layer type: Activation, input shapes: [[None, 48]], output shape: [None, 48]\n",
      "Layer name: fc3, layer type: QDense, input shapes: [[None, 48]], output shape: [None, 22]\n",
      "Layer name: relu3, layer type: Activation, input shapes: [[None, 22]], output shape: [None, 22]\n",
      "Layer name: output, layer type: QDense, input shapes: [[None, 22]], output shape: [None, 3]\n",
      "Layer name: softmax, layer type: Softmax, input shapes: [[None, 3]], output shape: [None, 3]\n",
      "Creating HLS model\n",
      "Writing HLS project\n",
      "WARNING:tensorflow:Compiled the loaded model, but the compiled metrics have yet to be built. `model.compile_metrics` will be empty until you train or evaluate the model.\n"
     ]
    },
    {
     "name": "stderr",
     "output_type": "stream",
     "text": [
      "WARNING:tensorflow:Compiled the loaded model, but the compiled metrics have yet to be built. `model.compile_metrics` will be empty until you train or evaluate the model.\n"
     ]
    },
    {
     "name": "stdout",
     "output_type": "stream",
     "text": [
      "Done\n",
      "./dse_models/models_12/model_0\n"
     ]
    },
    {
     "name": "stderr",
     "output_type": "stream",
     "text": [
      "WARNING:absl:`lr` is deprecated, please use `learning_rate` instead, or use the legacy optimizer, e.g.,tf.keras.optimizers.legacy.Adam.\n"
     ]
    },
    {
     "name": "stdout",
     "output_type": "stream",
     "text": [
      "WARNING:tensorflow:`epsilon` argument is deprecated and will be removed, use `min_delta` instead.\n"
     ]
    },
    {
     "name": "stderr",
     "output_type": "stream",
     "text": [
      "WARNING:tensorflow:`epsilon` argument is deprecated and will be removed, use `min_delta` instead.\n"
     ]
    },
    {
     "name": "stdout",
     "output_type": "stream",
     "text": [
      "WARNING:tensorflow:`period` argument is deprecated. Please use `save_freq` to specify the frequency in number of batches seen.\n"
     ]
    },
    {
     "name": "stderr",
     "output_type": "stream",
     "text": [
      "WARNING:tensorflow:`period` argument is deprecated. Please use `save_freq` to specify the frequency in number of batches seen.\n"
     ]
    },
    {
     "name": "stdout",
     "output_type": "stream",
     "text": [
      "Epoch 1/10\n",
      " 1/18 [>.............................] - ETA: 1:45 - loss: 1.1968 - accuracy: 0.0938WARNING:tensorflow:Callback method `on_train_batch_end` is slow compared to the batch time (batch time: 0.0023s vs `on_train_batch_end` time: 0.0113s). Check your callbacks.\n"
     ]
    },
    {
     "name": "stderr",
     "output_type": "stream",
     "text": [
      "WARNING:tensorflow:Callback method `on_train_batch_end` is slow compared to the batch time (batch time: 0.0023s vs `on_train_batch_end` time: 0.0113s). Check your callbacks.\n"
     ]
    },
    {
     "name": "stdout",
     "output_type": "stream",
     "text": [
      "15/18 [========================>.....] - ETA: 0s - loss: 1.0974 - accuracy: 0.5885  \n",
      "***callbacks***\n",
      "saving losses to arrythmia_classification_prune_new/losses.log\n",
      "\n",
      "Epoch 1: val_loss improved from inf to 0.93972, saving model to arrythmia_classification_prune_new/KERAS_check_best_model.h5\n",
      "\n",
      "Epoch 1: val_loss improved from inf to 0.93972, saving model to arrythmia_classification_prune_new/KERAS_check_best_model_weights.h5\n",
      "\n",
      "Epoch 1: saving model to arrythmia_classification_prune_new/KERAS_check_model_last.h5\n",
      "\n",
      "Epoch 1: saving model to arrythmia_classification_prune_new/KERAS_check_model_last_weights.h5\n",
      "\n",
      "***callbacks end***\n",
      "\n",
      "18/18 [==============================] - 7s 72ms/step - loss: 1.0795 - accuracy: 0.6201 - val_loss: 0.9397 - val_accuracy: 0.8065 - lr: 0.0010\n",
      "Epoch 2/10\n",
      "15/18 [========================>.....] - ETA: 0s - loss: 0.8915 - accuracy: 0.7688\n",
      "***callbacks***\n",
      "saving losses to arrythmia_classification_prune_new/losses.log\n",
      "\n",
      "Epoch 2: val_loss improved from 0.93972 to 0.71581, saving model to arrythmia_classification_prune_new/KERAS_check_best_model.h5\n",
      "\n",
      "Epoch 2: val_loss improved from 0.93972 to 0.71581, saving model to arrythmia_classification_prune_new/KERAS_check_best_model_weights.h5\n",
      "\n",
      "Epoch 2: saving model to arrythmia_classification_prune_new/KERAS_check_model_last.h5\n",
      "\n",
      "Epoch 2: saving model to arrythmia_classification_prune_new/KERAS_check_model_last_weights.h5\n",
      "\n",
      "***callbacks end***\n",
      "\n",
      "18/18 [==============================] - 0s 28ms/step - loss: 0.8748 - accuracy: 0.7706 - val_loss: 0.7158 - val_accuracy: 0.8038 - lr: 0.0010\n",
      "Epoch 3/10\n",
      "15/18 [========================>.....] - ETA: 0s - loss: 0.7439 - accuracy: 0.7677\n",
      "***callbacks***\n",
      "saving losses to arrythmia_classification_prune_new/losses.log\n",
      "\n",
      "Epoch 3: val_loss improved from 0.71581 to 0.62839, saving model to arrythmia_classification_prune_new/KERAS_check_best_model.h5\n",
      "\n",
      "Epoch 3: val_loss improved from 0.71581 to 0.62839, saving model to arrythmia_classification_prune_new/KERAS_check_best_model_weights.h5\n",
      "\n",
      "Epoch 3: saving model to arrythmia_classification_prune_new/KERAS_check_model_last.h5\n",
      "\n",
      "Epoch 3: saving model to arrythmia_classification_prune_new/KERAS_check_model_last_weights.h5\n",
      "\n",
      "***callbacks end***\n",
      "\n",
      "18/18 [==============================] - 0s 21ms/step - loss: 0.7366 - accuracy: 0.7706 - val_loss: 0.6284 - val_accuracy: 0.8038 - lr: 0.0010\n",
      "Epoch 4/10\n",
      "16/18 [=========================>....] - ETA: 0s - loss: 0.6841 - accuracy: 0.7734\n",
      "***callbacks***\n",
      "saving losses to arrythmia_classification_prune_new/losses.log\n",
      "\n",
      "Epoch 4: val_loss improved from 0.62839 to 0.57268, saving model to arrythmia_classification_prune_new/KERAS_check_best_model.h5\n",
      "\n",
      "Epoch 4: val_loss improved from 0.62839 to 0.57268, saving model to arrythmia_classification_prune_new/KERAS_check_best_model_weights.h5\n",
      "\n",
      "Epoch 4: saving model to arrythmia_classification_prune_new/KERAS_check_model_last.h5\n",
      "\n",
      "Epoch 4: saving model to arrythmia_classification_prune_new/KERAS_check_model_last_weights.h5\n",
      "\n",
      "***callbacks end***\n",
      "\n",
      "18/18 [==============================] - 0s 20ms/step - loss: 0.6830 - accuracy: 0.7724 - val_loss: 0.5727 - val_accuracy: 0.8145 - lr: 0.0010\n",
      "Epoch 5/10\n",
      "14/18 [======================>.......] - ETA: 0s - loss: 0.6249 - accuracy: 0.7857\n",
      "***callbacks***\n",
      "saving losses to arrythmia_classification_prune_new/losses.log\n",
      "\n",
      "Epoch 5: val_loss improved from 0.57268 to 0.50757, saving model to arrythmia_classification_prune_new/KERAS_check_best_model.h5\n",
      "\n",
      "Epoch 5: val_loss improved from 0.57268 to 0.50757, saving model to arrythmia_classification_prune_new/KERAS_check_best_model_weights.h5\n",
      "\n",
      "Epoch 5: saving model to arrythmia_classification_prune_new/KERAS_check_model_last.h5\n",
      "\n",
      "Epoch 5: saving model to arrythmia_classification_prune_new/KERAS_check_model_last_weights.h5\n",
      "\n",
      "***callbacks end***\n",
      "\n",
      "18/18 [==============================] - 0s 24ms/step - loss: 0.6148 - accuracy: 0.7912 - val_loss: 0.5076 - val_accuracy: 0.8360 - lr: 0.0010\n",
      "Epoch 6/10\n",
      "18/18 [==============================] - ETA: 0s - loss: 0.5483 - accuracy: 0.8038\n",
      "***callbacks***\n",
      "saving losses to arrythmia_classification_prune_new/losses.log\n",
      "\n",
      "Epoch 6: val_loss improved from 0.50757 to 0.45622, saving model to arrythmia_classification_prune_new/KERAS_check_best_model.h5\n",
      "\n",
      "Epoch 6: val_loss improved from 0.50757 to 0.45622, saving model to arrythmia_classification_prune_new/KERAS_check_best_model_weights.h5\n",
      "\n",
      "Epoch 6: saving model to arrythmia_classification_prune_new/KERAS_check_model_last.h5\n",
      "\n",
      "Epoch 6: saving model to arrythmia_classification_prune_new/KERAS_check_model_last_weights.h5\n",
      "\n",
      "***callbacks end***\n",
      "\n",
      "18/18 [==============================] - 0s 16ms/step - loss: 0.5483 - accuracy: 0.8038 - val_loss: 0.4562 - val_accuracy: 0.8548 - lr: 0.0010\n",
      "Epoch 7/10\n",
      "16/18 [=========================>....] - ETA: 0s - loss: 0.4841 - accuracy: 0.8242\n",
      "***callbacks***\n",
      "saving losses to arrythmia_classification_prune_new/losses.log\n",
      "\n",
      "Epoch 7: val_loss improved from 0.45622 to 0.38266, saving model to arrythmia_classification_prune_new/KERAS_check_best_model.h5\n",
      "\n",
      "Epoch 7: val_loss improved from 0.45622 to 0.38266, saving model to arrythmia_classification_prune_new/KERAS_check_best_model_weights.h5\n",
      "\n",
      "Epoch 7: saving model to arrythmia_classification_prune_new/KERAS_check_model_last.h5\n",
      "\n",
      "Epoch 7: saving model to arrythmia_classification_prune_new/KERAS_check_model_last_weights.h5\n",
      "\n",
      "***callbacks end***\n",
      "\n",
      "18/18 [==============================] - 0s 23ms/step - loss: 0.4864 - accuracy: 0.8235 - val_loss: 0.3827 - val_accuracy: 0.8737 - lr: 0.0010\n",
      "Epoch 8/10\n",
      " 8/18 [============>.................] - ETA: 0s - loss: 0.4483 - accuracy: 0.8242\n",
      "***callbacks***\n",
      "saving losses to arrythmia_classification_prune_new/losses.log\n",
      "\n",
      "Epoch 8: val_loss improved from 0.38266 to 0.34906, saving model to arrythmia_classification_prune_new/KERAS_check_best_model.h5\n",
      "\n",
      "Epoch 8: val_loss improved from 0.38266 to 0.34906, saving model to arrythmia_classification_prune_new/KERAS_check_best_model_weights.h5\n",
      "\n",
      "Epoch 8: saving model to arrythmia_classification_prune_new/KERAS_check_model_last.h5\n",
      "\n",
      "Epoch 8: saving model to arrythmia_classification_prune_new/KERAS_check_model_last_weights.h5\n",
      "\n",
      "***callbacks end***\n",
      "\n",
      "18/18 [==============================] - 0s 16ms/step - loss: 0.4305 - accuracy: 0.8459 - val_loss: 0.3491 - val_accuracy: 0.8737 - lr: 0.0010\n",
      "Epoch 9/10\n",
      " 1/18 [>.............................] - ETA: 0s - loss: 0.3392 - accuracy: 0.8906\n",
      "***callbacks***\n",
      "saving losses to arrythmia_classification_prune_new/losses.log\n",
      "\n",
      "Epoch 9: val_loss improved from 0.34906 to 0.34614, saving model to arrythmia_classification_prune_new/KERAS_check_best_model.h5\n",
      "\n",
      "Epoch 9: val_loss improved from 0.34906 to 0.34614, saving model to arrythmia_classification_prune_new/KERAS_check_best_model_weights.h5\n",
      "\n",
      "Epoch 9: saving model to arrythmia_classification_prune_new/KERAS_check_model_last.h5\n",
      "\n",
      "Epoch 9: saving model to arrythmia_classification_prune_new/KERAS_check_model_last_weights.h5\n",
      "\n",
      "***callbacks end***\n",
      "\n",
      "18/18 [==============================] - 0s 15ms/step - loss: 0.3960 - accuracy: 0.8584 - val_loss: 0.3461 - val_accuracy: 0.8844 - lr: 0.0010\n",
      "Epoch 10/10\n",
      " 1/18 [>.............................] - ETA: 0s - loss: 0.6213 - accuracy: 0.7500\n",
      "***callbacks***\n",
      "saving losses to arrythmia_classification_prune_new/losses.log\n",
      "\n",
      "Epoch 10: val_loss improved from 0.34614 to 0.32300, saving model to arrythmia_classification_prune_new/KERAS_check_best_model.h5\n",
      "\n",
      "Epoch 10: val_loss improved from 0.34614 to 0.32300, saving model to arrythmia_classification_prune_new/KERAS_check_best_model_weights.h5\n",
      "\n",
      "Epoch 10: saving model to arrythmia_classification_prune_new/KERAS_check_model_last.h5\n",
      "\n",
      "Epoch 10: saving model to arrythmia_classification_prune_new/KERAS_check_model_last_weights.h5\n",
      "\n",
      "Epoch 10: saving model to arrythmia_classification_prune_new/KERAS_check_model_epoch10.h5\n",
      "\n",
      "***callbacks end***\n",
      "\n",
      "18/18 [==============================] - 0s 14ms/step - loss: 0.3808 - accuracy: 0.8566 - val_loss: 0.3230 - val_accuracy: 0.8737 - lr: 0.0010\n",
      "WARNING:tensorflow:Compiled the loaded model, but the compiled metrics have yet to be built. `model.compile_metrics` will be empty until you train or evaluate the model.\n"
     ]
    },
    {
     "name": "stderr",
     "output_type": "stream",
     "text": [
      "WARNING:tensorflow:Compiled the loaded model, but the compiled metrics have yet to be built. `model.compile_metrics` will be empty until you train or evaluate the model.\n"
     ]
    },
    {
     "name": "stdout",
     "output_type": "stream",
     "text": [
      "Interpreting Sequential\n",
      "Topology:\n",
      "Layer name: fc1_input, layer type: InputLayer, input shapes: [[None, 21]], output shape: [None, 21]\n",
      "Layer name: fc1, layer type: QDense, input shapes: [[None, 21]], output shape: [None, 62]\n",
      "Layer name: relu1, layer type: Activation, input shapes: [[None, 62]], output shape: [None, 62]\n",
      "Layer name: fc2, layer type: QDense, input shapes: [[None, 62]], output shape: [None, 29]\n",
      "Layer name: relu2, layer type: Activation, input shapes: [[None, 29]], output shape: [None, 29]\n",
      "Layer name: fc3, layer type: QDense, input shapes: [[None, 29]], output shape: [None, 27]\n",
      "Layer name: relu3, layer type: Activation, input shapes: [[None, 27]], output shape: [None, 27]\n",
      "Layer name: output, layer type: QDense, input shapes: [[None, 27]], output shape: [None, 3]\n",
      "Layer name: softmax, layer type: Softmax, input shapes: [[None, 3]], output shape: [None, 3]\n",
      "Interpreting Sequential\n",
      "Topology:\n",
      "Layer name: fc1_input, layer type: InputLayer, input shapes: [[None, 21]], output shape: [None, 21]\n",
      "Layer name: fc1, layer type: QDense, input shapes: [[None, 21]], output shape: [None, 62]\n",
      "Layer name: relu1, layer type: Activation, input shapes: [[None, 62]], output shape: [None, 62]\n",
      "Layer name: fc2, layer type: QDense, input shapes: [[None, 62]], output shape: [None, 29]\n",
      "Layer name: relu2, layer type: Activation, input shapes: [[None, 29]], output shape: [None, 29]\n",
      "Layer name: fc3, layer type: QDense, input shapes: [[None, 29]], output shape: [None, 27]\n",
      "Layer name: relu3, layer type: Activation, input shapes: [[None, 27]], output shape: [None, 27]\n",
      "Layer name: output, layer type: QDense, input shapes: [[None, 27]], output shape: [None, 3]\n",
      "Layer name: softmax, layer type: Softmax, input shapes: [[None, 3]], output shape: [None, 3]\n",
      "Creating HLS model\n",
      "Writing HLS project\n",
      "WARNING:tensorflow:Compiled the loaded model, but the compiled metrics have yet to be built. `model.compile_metrics` will be empty until you train or evaluate the model.\n"
     ]
    },
    {
     "name": "stderr",
     "output_type": "stream",
     "text": [
      "WARNING:tensorflow:Compiled the loaded model, but the compiled metrics have yet to be built. `model.compile_metrics` will be empty until you train or evaluate the model.\n"
     ]
    },
    {
     "name": "stdout",
     "output_type": "stream",
     "text": [
      "Done\n",
      "./dse_models/models_12/model_1\n",
      "... quantizing model\n",
      "... quantizing model\n",
      "... quantizing model\n",
      "... quantizing model\n",
      "-----------------------------------------------------------\n",
      "... quantizing model\n"
     ]
    },
    {
     "name": "stderr",
     "output_type": "stream",
     "text": [
      "/home/dmitsas/.local/lib/python3.10/site-packages/sklearn/base.py:376: InconsistentVersionWarning: Trying to unpickle estimator LinearRegression from version 1.2.2 when using version 1.4.2. This might lead to breaking code or invalid results. Use at your own risk. For more info please refer to:\n",
      "https://scikit-learn.org/stable/model_persistence.html#security-maintainability-limitations\n",
      "  warnings.warn(\n",
      "/home/dmitsas/.local/lib/python3.10/site-packages/sklearn/base.py:376: InconsistentVersionWarning: Trying to unpickle estimator LinearRegression from version 1.2.2 when using version 1.4.2. This might lead to breaking code or invalid results. Use at your own risk. For more info please refer to:\n",
      "https://scikit-learn.org/stable/model_persistence.html#security-maintainability-limitations\n",
      "  warnings.warn(\n",
      "/home/dmitsas/.local/lib/python3.10/site-packages/sklearn/base.py:376: InconsistentVersionWarning: Trying to unpickle estimator LinearRegression from version 1.2.2 when using version 1.4.2. This might lead to breaking code or invalid results. Use at your own risk. For more info please refer to:\n",
      "https://scikit-learn.org/stable/model_persistence.html#security-maintainability-limitations\n",
      "  warnings.warn(\n",
      "/home/dmitsas/.local/lib/python3.10/site-packages/sklearn/base.py:376: InconsistentVersionWarning: Trying to unpickle estimator LinearRegression from version 1.2.2 when using version 1.4.2. This might lead to breaking code or invalid results. Use at your own risk. For more info please refer to:\n",
      "https://scikit-learn.org/stable/model_persistence.html#security-maintainability-limitations\n",
      "  warnings.warn(\n",
      "/home/dmitsas/.local/lib/python3.10/site-packages/sklearn/base.py:376: InconsistentVersionWarning: Trying to unpickle estimator LinearRegression from version 1.2.2 when using version 1.4.2. This might lead to breaking code or invalid results. Use at your own risk. For more info please refer to:\n",
      "https://scikit-learn.org/stable/model_persistence.html#security-maintainability-limitations\n",
      "  warnings.warn(\n"
     ]
    },
    {
     "name": "stdout",
     "output_type": "stream",
     "text": [
      "... quantizing model\n",
      "... quantizing model\n",
      "... quantizing model\n",
      "-----------------------------------------------------------\n"
     ]
    },
    {
     "name": "stderr",
     "output_type": "stream",
     "text": [
      "/home/dmitsas/.local/lib/python3.10/site-packages/sklearn/base.py:376: InconsistentVersionWarning: Trying to unpickle estimator LinearRegression from version 1.2.2 when using version 1.4.2. This might lead to breaking code or invalid results. Use at your own risk. For more info please refer to:\n",
      "https://scikit-learn.org/stable/model_persistence.html#security-maintainability-limitations\n",
      "  warnings.warn(\n",
      "/home/dmitsas/.local/lib/python3.10/site-packages/sklearn/base.py:376: InconsistentVersionWarning: Trying to unpickle estimator LinearRegression from version 1.2.2 when using version 1.4.2. This might lead to breaking code or invalid results. Use at your own risk. For more info please refer to:\n",
      "https://scikit-learn.org/stable/model_persistence.html#security-maintainability-limitations\n",
      "  warnings.warn(\n",
      "/home/dmitsas/.local/lib/python3.10/site-packages/sklearn/base.py:376: InconsistentVersionWarning: Trying to unpickle estimator LinearRegression from version 1.2.2 when using version 1.4.2. This might lead to breaking code or invalid results. Use at your own risk. For more info please refer to:\n",
      "https://scikit-learn.org/stable/model_persistence.html#security-maintainability-limitations\n",
      "  warnings.warn(\n",
      "WARNING:absl:`lr` is deprecated, please use `learning_rate` instead, or use the legacy optimizer, e.g.,tf.keras.optimizers.legacy.Adam.\n"
     ]
    },
    {
     "name": "stdout",
     "output_type": "stream",
     "text": [
      "WARNING:tensorflow:`epsilon` argument is deprecated and will be removed, use `min_delta` instead.\n"
     ]
    },
    {
     "name": "stderr",
     "output_type": "stream",
     "text": [
      "WARNING:tensorflow:`epsilon` argument is deprecated and will be removed, use `min_delta` instead.\n"
     ]
    },
    {
     "name": "stdout",
     "output_type": "stream",
     "text": [
      "WARNING:tensorflow:`period` argument is deprecated. Please use `save_freq` to specify the frequency in number of batches seen.\n"
     ]
    },
    {
     "name": "stderr",
     "output_type": "stream",
     "text": [
      "WARNING:tensorflow:`period` argument is deprecated. Please use `save_freq` to specify the frequency in number of batches seen.\n"
     ]
    },
    {
     "name": "stdout",
     "output_type": "stream",
     "text": [
      "Epoch 1/10\n",
      " 1/18 [>.............................] - ETA: 49s - loss: 1.0516 - accuracy: 0.8125WARNING:tensorflow:Callback method `on_train_batch_end` is slow compared to the batch time (batch time: 0.0021s vs `on_train_batch_end` time: 0.0080s). Check your callbacks.\n"
     ]
    },
    {
     "name": "stderr",
     "output_type": "stream",
     "text": [
      "WARNING:tensorflow:Callback method `on_train_batch_end` is slow compared to the batch time (batch time: 0.0021s vs `on_train_batch_end` time: 0.0080s). Check your callbacks.\n"
     ]
    },
    {
     "name": "stdout",
     "output_type": "stream",
     "text": [
      "\n",
      "***callbacks***\n",
      "saving losses to arrythmia_classification_prune_new/losses.log\n",
      "\n",
      "Epoch 1: val_loss improved from inf to 0.79257, saving model to arrythmia_classification_prune_new/KERAS_check_best_model.h5\n",
      "\n",
      "Epoch 1: val_loss improved from inf to 0.79257, saving model to arrythmia_classification_prune_new/KERAS_check_best_model_weights.h5\n",
      "\n",
      "Epoch 1: saving model to arrythmia_classification_prune_new/KERAS_check_model_last.h5\n",
      "\n",
      "Epoch 1: saving model to arrythmia_classification_prune_new/KERAS_check_model_last_weights.h5\n",
      "\n",
      "***callbacks end***\n",
      "\n",
      "18/18 [==============================] - 4s 43ms/step - loss: 0.9443 - accuracy: 0.7706 - val_loss: 0.7926 - val_accuracy: 0.8038 - lr: 0.0010\n",
      "Epoch 2/10\n",
      " 1/18 [>.............................] - ETA: 0s - loss: 0.8097 - accuracy: 0.7812\n",
      "***callbacks***\n",
      "saving losses to arrythmia_classification_prune_new/losses.log\n",
      "\n",
      "Epoch 2: val_loss improved from 0.79257 to 0.63603, saving model to arrythmia_classification_prune_new/KERAS_check_best_model.h5\n",
      "\n",
      "Epoch 2: val_loss improved from 0.79257 to 0.63603, saving model to arrythmia_classification_prune_new/KERAS_check_best_model_weights.h5\n",
      "\n",
      "Epoch 2: saving model to arrythmia_classification_prune_new/KERAS_check_model_last.h5\n",
      "\n",
      "Epoch 2: saving model to arrythmia_classification_prune_new/KERAS_check_model_last_weights.h5\n",
      "\n",
      "***callbacks end***\n",
      "\n",
      "18/18 [==============================] - 0s 11ms/step - loss: 0.7598 - accuracy: 0.7706 - val_loss: 0.6360 - val_accuracy: 0.8038 - lr: 0.0010\n",
      "Epoch 3/10\n",
      " 1/18 [>.............................] - ETA: 0s - loss: 0.6977 - accuracy: 0.7812\n",
      "***callbacks***\n",
      "saving losses to arrythmia_classification_prune_new/losses.log\n",
      "\n",
      "Epoch 3: val_loss improved from 0.63603 to 0.58420, saving model to arrythmia_classification_prune_new/KERAS_check_best_model.h5\n",
      "\n",
      "Epoch 3: val_loss improved from 0.63603 to 0.58420, saving model to arrythmia_classification_prune_new/KERAS_check_best_model_weights.h5\n",
      "\n",
      "Epoch 3: saving model to arrythmia_classification_prune_new/KERAS_check_model_last.h5\n",
      "\n",
      "Epoch 3: saving model to arrythmia_classification_prune_new/KERAS_check_model_last_weights.h5\n",
      "\n",
      "***callbacks end***\n",
      "\n",
      "18/18 [==============================] - 0s 12ms/step - loss: 0.6859 - accuracy: 0.7706 - val_loss: 0.5842 - val_accuracy: 0.8038 - lr: 0.0010\n",
      "Epoch 4/10\n",
      " 1/18 [>.............................] - ETA: 0s - loss: 0.6212 - accuracy: 0.7969\n",
      "***callbacks***\n",
      "saving losses to arrythmia_classification_prune_new/losses.log\n",
      "\n",
      "Epoch 4: val_loss improved from 0.58420 to 0.51029, saving model to arrythmia_classification_prune_new/KERAS_check_best_model.h5\n",
      "\n",
      "Epoch 4: val_loss improved from 0.58420 to 0.51029, saving model to arrythmia_classification_prune_new/KERAS_check_best_model_weights.h5\n",
      "\n",
      "Epoch 4: saving model to arrythmia_classification_prune_new/KERAS_check_model_last.h5\n",
      "\n",
      "Epoch 4: saving model to arrythmia_classification_prune_new/KERAS_check_model_last_weights.h5\n",
      "\n",
      "***callbacks end***\n",
      "\n",
      "18/18 [==============================] - 0s 11ms/step - loss: 0.6140 - accuracy: 0.7733 - val_loss: 0.5103 - val_accuracy: 0.8172 - lr: 0.0010\n",
      "Epoch 5/10\n",
      " 1/18 [>.............................] - ETA: 0s - loss: 0.5851 - accuracy: 0.7812\n",
      "***callbacks***\n",
      "saving losses to arrythmia_classification_prune_new/losses.log\n",
      "\n",
      "Epoch 5: val_loss improved from 0.51029 to 0.43810, saving model to arrythmia_classification_prune_new/KERAS_check_best_model.h5\n",
      "\n",
      "Epoch 5: val_loss improved from 0.51029 to 0.43810, saving model to arrythmia_classification_prune_new/KERAS_check_best_model_weights.h5\n",
      "\n",
      "Epoch 5: saving model to arrythmia_classification_prune_new/KERAS_check_model_last.h5\n",
      "\n",
      "Epoch 5: saving model to arrythmia_classification_prune_new/KERAS_check_model_last_weights.h5\n",
      "\n",
      "***callbacks end***\n",
      "\n",
      "18/18 [==============================] - 0s 12ms/step - loss: 0.5374 - accuracy: 0.7975 - val_loss: 0.4381 - val_accuracy: 0.8441 - lr: 0.0010\n",
      "Epoch 6/10\n",
      "18/18 [==============================] - ETA: 0s - loss: 0.4707 - accuracy: 0.8324\n",
      "***callbacks***\n",
      "saving losses to arrythmia_classification_prune_new/losses.log\n",
      "\n",
      "Epoch 6: val_loss improved from 0.43810 to 0.38850, saving model to arrythmia_classification_prune_new/KERAS_check_best_model.h5\n",
      "\n",
      "Epoch 6: val_loss improved from 0.43810 to 0.38850, saving model to arrythmia_classification_prune_new/KERAS_check_best_model_weights.h5\n",
      "\n",
      "Epoch 6: saving model to arrythmia_classification_prune_new/KERAS_check_model_last.h5\n",
      "\n",
      "Epoch 6: saving model to arrythmia_classification_prune_new/KERAS_check_model_last_weights.h5\n",
      "\n",
      "***callbacks end***\n",
      "\n",
      "18/18 [==============================] - 0s 13ms/step - loss: 0.4707 - accuracy: 0.8324 - val_loss: 0.3885 - val_accuracy: 0.8763 - lr: 0.0010\n",
      "Epoch 7/10\n",
      " 1/18 [>.............................] - ETA: 0s - loss: 0.4584 - accuracy: 0.7812\n",
      "***callbacks***\n",
      "saving losses to arrythmia_classification_prune_new/losses.log\n",
      "\n",
      "Epoch 7: val_loss improved from 0.38850 to 0.35168, saving model to arrythmia_classification_prune_new/KERAS_check_best_model.h5\n",
      "\n",
      "Epoch 7: val_loss improved from 0.38850 to 0.35168, saving model to arrythmia_classification_prune_new/KERAS_check_best_model_weights.h5\n",
      "\n",
      "Epoch 7: saving model to arrythmia_classification_prune_new/KERAS_check_model_last.h5\n",
      "\n",
      "Epoch 7: saving model to arrythmia_classification_prune_new/KERAS_check_model_last_weights.h5\n",
      "\n",
      "***callbacks end***\n",
      "\n",
      "18/18 [==============================] - 0s 12ms/step - loss: 0.4350 - accuracy: 0.8522 - val_loss: 0.3517 - val_accuracy: 0.8763 - lr: 0.0010\n",
      "Epoch 8/10\n",
      " 1/18 [>.............................] - ETA: 0s - loss: 0.2931 - accuracy: 0.9219\n",
      "***callbacks***\n",
      "saving losses to arrythmia_classification_prune_new/losses.log\n",
      "\n",
      "Epoch 8: val_loss improved from 0.35168 to 0.32530, saving model to arrythmia_classification_prune_new/KERAS_check_best_model.h5\n",
      "\n",
      "Epoch 8: val_loss improved from 0.35168 to 0.32530, saving model to arrythmia_classification_prune_new/KERAS_check_best_model_weights.h5\n",
      "\n",
      "Epoch 8: saving model to arrythmia_classification_prune_new/KERAS_check_model_last.h5\n",
      "\n",
      "Epoch 8: saving model to arrythmia_classification_prune_new/KERAS_check_model_last_weights.h5\n",
      "\n",
      "***callbacks end***\n",
      "\n",
      "18/18 [==============================] - 0s 12ms/step - loss: 0.3996 - accuracy: 0.8683 - val_loss: 0.3253 - val_accuracy: 0.8978 - lr: 0.0010\n",
      "Epoch 9/10\n",
      " 1/18 [>.............................] - ETA: 0s - loss: 0.3259 - accuracy: 0.8906\n",
      "***callbacks***\n",
      "saving losses to arrythmia_classification_prune_new/losses.log\n",
      "\n",
      "Epoch 9: val_loss improved from 0.32530 to 0.31255, saving model to arrythmia_classification_prune_new/KERAS_check_best_model.h5\n",
      "\n",
      "Epoch 9: val_loss improved from 0.32530 to 0.31255, saving model to arrythmia_classification_prune_new/KERAS_check_best_model_weights.h5\n",
      "\n",
      "Epoch 9: saving model to arrythmia_classification_prune_new/KERAS_check_model_last.h5\n",
      "\n",
      "Epoch 9: saving model to arrythmia_classification_prune_new/KERAS_check_model_last_weights.h5\n",
      "\n",
      "***callbacks end***\n",
      "\n",
      "18/18 [==============================] - 0s 11ms/step - loss: 0.3766 - accuracy: 0.8728 - val_loss: 0.3125 - val_accuracy: 0.9005 - lr: 0.0010\n",
      "Epoch 10/10\n",
      " 1/18 [>.............................] - ETA: 0s - loss: 0.6337 - accuracy: 0.7656\n",
      "***callbacks***\n",
      "saving losses to arrythmia_classification_prune_new/losses.log\n",
      "\n",
      "Epoch 10: val_loss improved from 0.31255 to 0.30624, saving model to arrythmia_classification_prune_new/KERAS_check_best_model.h5\n",
      "\n",
      "Epoch 10: val_loss improved from 0.31255 to 0.30624, saving model to arrythmia_classification_prune_new/KERAS_check_best_model_weights.h5\n",
      "\n",
      "Epoch 10: saving model to arrythmia_classification_prune_new/KERAS_check_model_last.h5\n",
      "\n",
      "Epoch 10: saving model to arrythmia_classification_prune_new/KERAS_check_model_last_weights.h5\n",
      "\n",
      "Epoch 10: saving model to arrythmia_classification_prune_new/KERAS_check_model_epoch10.h5\n",
      "\n",
      "***callbacks end***\n",
      "\n",
      "18/18 [==============================] - 0s 13ms/step - loss: 0.3565 - accuracy: 0.8826 - val_loss: 0.3062 - val_accuracy: 0.9059 - lr: 0.0010\n",
      "WARNING:tensorflow:Compiled the loaded model, but the compiled metrics have yet to be built. `model.compile_metrics` will be empty until you train or evaluate the model.\n"
     ]
    },
    {
     "name": "stderr",
     "output_type": "stream",
     "text": [
      "WARNING:tensorflow:Compiled the loaded model, but the compiled metrics have yet to be built. `model.compile_metrics` will be empty until you train or evaluate the model.\n"
     ]
    },
    {
     "name": "stdout",
     "output_type": "stream",
     "text": [
      "Interpreting Sequential\n",
      "Topology:\n",
      "Layer name: fc1_input, layer type: InputLayer, input shapes: [[None, 21]], output shape: [None, 21]\n",
      "Layer name: fc1, layer type: QDense, input shapes: [[None, 21]], output shape: [None, 62]\n",
      "Layer name: relu1, layer type: Activation, input shapes: [[None, 62]], output shape: [None, 62]\n",
      "Layer name: fc2, layer type: QDense, input shapes: [[None, 62]], output shape: [None, 29]\n",
      "Layer name: relu2, layer type: Activation, input shapes: [[None, 29]], output shape: [None, 29]\n",
      "Layer name: fc3, layer type: QDense, input shapes: [[None, 29]], output shape: [None, 22]\n",
      "Layer name: relu3, layer type: Activation, input shapes: [[None, 22]], output shape: [None, 22]\n",
      "Layer name: output, layer type: QDense, input shapes: [[None, 22]], output shape: [None, 3]\n",
      "Layer name: softmax, layer type: Softmax, input shapes: [[None, 3]], output shape: [None, 3]\n",
      "Interpreting Sequential\n",
      "Topology:\n",
      "Layer name: fc1_input, layer type: InputLayer, input shapes: [[None, 21]], output shape: [None, 21]\n",
      "Layer name: fc1, layer type: QDense, input shapes: [[None, 21]], output shape: [None, 62]\n",
      "Layer name: relu1, layer type: Activation, input shapes: [[None, 62]], output shape: [None, 62]\n",
      "Layer name: fc2, layer type: QDense, input shapes: [[None, 62]], output shape: [None, 29]\n",
      "Layer name: relu2, layer type: Activation, input shapes: [[None, 29]], output shape: [None, 29]\n",
      "Layer name: fc3, layer type: QDense, input shapes: [[None, 29]], output shape: [None, 22]\n",
      "Layer name: relu3, layer type: Activation, input shapes: [[None, 22]], output shape: [None, 22]\n",
      "Layer name: output, layer type: QDense, input shapes: [[None, 22]], output shape: [None, 3]\n",
      "Layer name: softmax, layer type: Softmax, input shapes: [[None, 3]], output shape: [None, 3]\n",
      "Creating HLS model\n",
      "Writing HLS project\n",
      "WARNING:tensorflow:Compiled the loaded model, but the compiled metrics have yet to be built. `model.compile_metrics` will be empty until you train or evaluate the model.\n"
     ]
    },
    {
     "name": "stderr",
     "output_type": "stream",
     "text": [
      "WARNING:tensorflow:Compiled the loaded model, but the compiled metrics have yet to be built. `model.compile_metrics` will be empty until you train or evaluate the model.\n"
     ]
    },
    {
     "name": "stdout",
     "output_type": "stream",
     "text": [
      "Done\n",
      "./dse_models/models_12/model_0\n"
     ]
    },
    {
     "name": "stderr",
     "output_type": "stream",
     "text": [
      "WARNING:absl:`lr` is deprecated, please use `learning_rate` instead, or use the legacy optimizer, e.g.,tf.keras.optimizers.legacy.Adam.\n"
     ]
    },
    {
     "name": "stdout",
     "output_type": "stream",
     "text": [
      "WARNING:tensorflow:`epsilon` argument is deprecated and will be removed, use `min_delta` instead.\n"
     ]
    },
    {
     "name": "stderr",
     "output_type": "stream",
     "text": [
      "WARNING:tensorflow:`epsilon` argument is deprecated and will be removed, use `min_delta` instead.\n"
     ]
    },
    {
     "name": "stdout",
     "output_type": "stream",
     "text": [
      "WARNING:tensorflow:`period` argument is deprecated. Please use `save_freq` to specify the frequency in number of batches seen.\n"
     ]
    },
    {
     "name": "stderr",
     "output_type": "stream",
     "text": [
      "WARNING:tensorflow:`period` argument is deprecated. Please use `save_freq` to specify the frequency in number of batches seen.\n"
     ]
    },
    {
     "name": "stdout",
     "output_type": "stream",
     "text": [
      "Epoch 1/10\n",
      " 1/18 [>.............................] - ETA: 46s - loss: 1.0446 - accuracy: 0.8125WARNING:tensorflow:Callback method `on_train_batch_end` is slow compared to the batch time (batch time: 0.0018s vs `on_train_batch_end` time: 0.0080s). Check your callbacks.\n"
     ]
    },
    {
     "name": "stderr",
     "output_type": "stream",
     "text": [
      "WARNING:tensorflow:Callback method `on_train_batch_end` is slow compared to the batch time (batch time: 0.0018s vs `on_train_batch_end` time: 0.0080s). Check your callbacks.\n"
     ]
    },
    {
     "name": "stdout",
     "output_type": "stream",
     "text": [
      "\n",
      "***callbacks***\n",
      "saving losses to arrythmia_classification_prune_new/losses.log\n",
      "\n",
      "Epoch 1: val_loss improved from inf to 0.76299, saving model to arrythmia_classification_prune_new/KERAS_check_best_model.h5\n",
      "\n",
      "Epoch 1: val_loss improved from inf to 0.76299, saving model to arrythmia_classification_prune_new/KERAS_check_best_model_weights.h5\n",
      "\n",
      "Epoch 1: saving model to arrythmia_classification_prune_new/KERAS_check_model_last.h5\n",
      "\n",
      "Epoch 1: saving model to arrythmia_classification_prune_new/KERAS_check_model_last_weights.h5\n",
      "\n",
      "***callbacks end***\n",
      "\n",
      "18/18 [==============================] - 3s 40ms/step - loss: 0.9409 - accuracy: 0.7706 - val_loss: 0.7630 - val_accuracy: 0.8038 - lr: 0.0010\n",
      "Epoch 2/10\n",
      " 1/18 [>.............................] - ETA: 0s - loss: 0.7944 - accuracy: 0.7812\n",
      "***callbacks***\n",
      "saving losses to arrythmia_classification_prune_new/losses.log\n",
      "\n",
      "Epoch 2: val_loss improved from 0.76299 to 0.64340, saving model to arrythmia_classification_prune_new/KERAS_check_best_model.h5\n",
      "\n",
      "Epoch 2: val_loss improved from 0.76299 to 0.64340, saving model to arrythmia_classification_prune_new/KERAS_check_best_model_weights.h5\n",
      "\n",
      "Epoch 2: saving model to arrythmia_classification_prune_new/KERAS_check_model_last.h5\n",
      "\n",
      "Epoch 2: saving model to arrythmia_classification_prune_new/KERAS_check_model_last_weights.h5\n",
      "\n",
      "***callbacks end***\n",
      "\n",
      "18/18 [==============================] - 0s 10ms/step - loss: 0.7439 - accuracy: 0.7706 - val_loss: 0.6434 - val_accuracy: 0.8038 - lr: 0.0010\n",
      "Epoch 3/10\n",
      " 1/18 [>.............................] - ETA: 0s - loss: 0.6931 - accuracy: 0.7812\n",
      "***callbacks***\n",
      "saving losses to arrythmia_classification_prune_new/losses.log\n",
      "\n",
      "Epoch 3: val_loss improved from 0.64340 to 0.59340, saving model to arrythmia_classification_prune_new/KERAS_check_best_model.h5\n",
      "\n",
      "Epoch 3: val_loss improved from 0.64340 to 0.59340, saving model to arrythmia_classification_prune_new/KERAS_check_best_model_weights.h5\n",
      "\n",
      "Epoch 3: saving model to arrythmia_classification_prune_new/KERAS_check_model_last.h5\n",
      "\n",
      "Epoch 3: saving model to arrythmia_classification_prune_new/KERAS_check_model_last_weights.h5\n",
      "\n",
      "***callbacks end***\n",
      "\n",
      "18/18 [==============================] - 0s 10ms/step - loss: 0.6811 - accuracy: 0.7706 - val_loss: 0.5934 - val_accuracy: 0.8038 - lr: 0.0010\n",
      "Epoch 4/10\n",
      " 1/18 [>.............................] - ETA: 0s - loss: 0.6167 - accuracy: 0.7969\n",
      "***callbacks***\n",
      "saving losses to arrythmia_classification_prune_new/losses.log\n",
      "\n",
      "Epoch 4: val_loss improved from 0.59340 to 0.52824, saving model to arrythmia_classification_prune_new/KERAS_check_best_model.h5\n",
      "\n",
      "Epoch 4: val_loss improved from 0.59340 to 0.52824, saving model to arrythmia_classification_prune_new/KERAS_check_best_model_weights.h5\n",
      "\n",
      "Epoch 4: saving model to arrythmia_classification_prune_new/KERAS_check_model_last.h5\n",
      "\n",
      "Epoch 4: saving model to arrythmia_classification_prune_new/KERAS_check_model_last_weights.h5\n",
      "\n",
      "***callbacks end***\n",
      "\n",
      "18/18 [==============================] - 0s 10ms/step - loss: 0.6197 - accuracy: 0.7706 - val_loss: 0.5282 - val_accuracy: 0.8172 - lr: 0.0010\n",
      "Epoch 5/10\n",
      " 1/18 [>.............................] - ETA: 0s - loss: 0.5867 - accuracy: 0.7812\n",
      "***callbacks***\n",
      "saving losses to arrythmia_classification_prune_new/losses.log\n",
      "\n",
      "Epoch 5: val_loss improved from 0.52824 to 0.45051, saving model to arrythmia_classification_prune_new/KERAS_check_best_model.h5\n",
      "\n",
      "Epoch 5: val_loss improved from 0.52824 to 0.45051, saving model to arrythmia_classification_prune_new/KERAS_check_best_model_weights.h5\n",
      "\n",
      "Epoch 5: saving model to arrythmia_classification_prune_new/KERAS_check_model_last.h5\n",
      "\n",
      "Epoch 5: saving model to arrythmia_classification_prune_new/KERAS_check_model_last_weights.h5\n",
      "\n",
      "***callbacks end***\n",
      "\n",
      "18/18 [==============================] - 0s 10ms/step - loss: 0.5470 - accuracy: 0.7849 - val_loss: 0.4505 - val_accuracy: 0.8280 - lr: 0.0010\n",
      "Epoch 6/10\n",
      " 1/18 [>.............................] - ETA: 0s - loss: 0.5474 - accuracy: 0.7500\n",
      "***callbacks***\n",
      "saving losses to arrythmia_classification_prune_new/losses.log\n",
      "\n",
      "Epoch 6: val_loss improved from 0.45051 to 0.40602, saving model to arrythmia_classification_prune_new/KERAS_check_best_model.h5\n",
      "\n",
      "Epoch 6: val_loss improved from 0.45051 to 0.40602, saving model to arrythmia_classification_prune_new/KERAS_check_best_model_weights.h5\n",
      "\n",
      "Epoch 6: saving model to arrythmia_classification_prune_new/KERAS_check_model_last.h5\n",
      "\n",
      "Epoch 6: saving model to arrythmia_classification_prune_new/KERAS_check_model_last_weights.h5\n",
      "\n",
      "***callbacks end***\n",
      "\n",
      "18/18 [==============================] - 0s 11ms/step - loss: 0.4811 - accuracy: 0.8172 - val_loss: 0.4060 - val_accuracy: 0.8737 - lr: 0.0010\n",
      "Epoch 7/10\n",
      " 1/18 [>.............................] - ETA: 0s - loss: 0.4989 - accuracy: 0.8281\n",
      "***callbacks***\n",
      "saving losses to arrythmia_classification_prune_new/losses.log\n",
      "\n",
      "Epoch 7: val_loss improved from 0.40602 to 0.36679, saving model to arrythmia_classification_prune_new/KERAS_check_best_model.h5\n",
      "\n",
      "Epoch 7: val_loss improved from 0.40602 to 0.36679, saving model to arrythmia_classification_prune_new/KERAS_check_best_model_weights.h5\n",
      "\n",
      "Epoch 7: saving model to arrythmia_classification_prune_new/KERAS_check_model_last.h5\n",
      "\n",
      "Epoch 7: saving model to arrythmia_classification_prune_new/KERAS_check_model_last_weights.h5\n",
      "\n",
      "***callbacks end***\n",
      "\n",
      "18/18 [==============================] - 0s 11ms/step - loss: 0.4417 - accuracy: 0.8504 - val_loss: 0.3668 - val_accuracy: 0.8817 - lr: 0.0010\n",
      "Epoch 8/10\n",
      " 1/18 [>.............................] - ETA: 0s - loss: 0.2914 - accuracy: 0.9375\n",
      "***callbacks***\n",
      "saving losses to arrythmia_classification_prune_new/losses.log\n",
      "\n",
      "Epoch 8: val_loss improved from 0.36679 to 0.34315, saving model to arrythmia_classification_prune_new/KERAS_check_best_model.h5\n",
      "\n",
      "Epoch 8: val_loss improved from 0.36679 to 0.34315, saving model to arrythmia_classification_prune_new/KERAS_check_best_model_weights.h5\n",
      "\n",
      "Epoch 8: saving model to arrythmia_classification_prune_new/KERAS_check_model_last.h5\n",
      "\n",
      "Epoch 8: saving model to arrythmia_classification_prune_new/KERAS_check_model_last_weights.h5\n",
      "\n",
      "***callbacks end***\n",
      "\n",
      "18/18 [==============================] - 0s 11ms/step - loss: 0.4057 - accuracy: 0.8638 - val_loss: 0.3431 - val_accuracy: 0.9032 - lr: 0.0010\n",
      "Epoch 9/10\n",
      " 1/18 [>.............................] - ETA: 0s - loss: 0.3568 - accuracy: 0.9219\n",
      "***callbacks***\n",
      "saving losses to arrythmia_classification_prune_new/losses.log\n",
      "\n",
      "Epoch 9: val_loss improved from 0.34315 to 0.33173, saving model to arrythmia_classification_prune_new/KERAS_check_best_model.h5\n",
      "\n",
      "Epoch 9: val_loss improved from 0.34315 to 0.33173, saving model to arrythmia_classification_prune_new/KERAS_check_best_model_weights.h5\n",
      "\n",
      "Epoch 9: saving model to arrythmia_classification_prune_new/KERAS_check_model_last.h5\n",
      "\n",
      "Epoch 9: saving model to arrythmia_classification_prune_new/KERAS_check_model_last_weights.h5\n",
      "\n",
      "***callbacks end***\n",
      "\n",
      "18/18 [==============================] - 0s 10ms/step - loss: 0.3871 - accuracy: 0.8710 - val_loss: 0.3317 - val_accuracy: 0.8952 - lr: 0.0010\n",
      "Epoch 10/10\n",
      " 1/18 [>.............................] - ETA: 0s - loss: 0.6405 - accuracy: 0.7188\n",
      "***callbacks***\n",
      "saving losses to arrythmia_classification_prune_new/losses.log\n",
      "\n",
      "Epoch 10: val_loss improved from 0.33173 to 0.31601, saving model to arrythmia_classification_prune_new/KERAS_check_best_model.h5\n",
      "\n",
      "Epoch 10: val_loss improved from 0.33173 to 0.31601, saving model to arrythmia_classification_prune_new/KERAS_check_best_model_weights.h5\n",
      "\n",
      "Epoch 10: saving model to arrythmia_classification_prune_new/KERAS_check_model_last.h5\n",
      "\n",
      "Epoch 10: saving model to arrythmia_classification_prune_new/KERAS_check_model_last_weights.h5\n",
      "\n",
      "Epoch 10: saving model to arrythmia_classification_prune_new/KERAS_check_model_epoch10.h5\n",
      "\n",
      "***callbacks end***\n",
      "\n",
      "18/18 [==============================] - 0s 13ms/step - loss: 0.3670 - accuracy: 0.8737 - val_loss: 0.3160 - val_accuracy: 0.9032 - lr: 0.0010\n",
      "WARNING:tensorflow:Compiled the loaded model, but the compiled metrics have yet to be built. `model.compile_metrics` will be empty until you train or evaluate the model.\n"
     ]
    },
    {
     "name": "stderr",
     "output_type": "stream",
     "text": [
      "WARNING:tensorflow:Compiled the loaded model, but the compiled metrics have yet to be built. `model.compile_metrics` will be empty until you train or evaluate the model.\n"
     ]
    },
    {
     "name": "stdout",
     "output_type": "stream",
     "text": [
      "Interpreting Sequential\n",
      "Topology:\n",
      "Layer name: fc1_input, layer type: InputLayer, input shapes: [[None, 21]], output shape: [None, 21]\n",
      "Layer name: fc1, layer type: QDense, input shapes: [[None, 21]], output shape: [None, 40]\n",
      "Layer name: relu1, layer type: Activation, input shapes: [[None, 40]], output shape: [None, 40]\n",
      "Layer name: fc2, layer type: QDense, input shapes: [[None, 40]], output shape: [None, 48]\n",
      "Layer name: relu2, layer type: Activation, input shapes: [[None, 48]], output shape: [None, 48]\n",
      "Layer name: fc3, layer type: QDense, input shapes: [[None, 48]], output shape: [None, 27]\n",
      "Layer name: relu3, layer type: Activation, input shapes: [[None, 27]], output shape: [None, 27]\n",
      "Layer name: output, layer type: QDense, input shapes: [[None, 27]], output shape: [None, 3]\n",
      "Layer name: softmax, layer type: Softmax, input shapes: [[None, 3]], output shape: [None, 3]\n",
      "Interpreting Sequential\n",
      "Topology:\n",
      "Layer name: fc1_input, layer type: InputLayer, input shapes: [[None, 21]], output shape: [None, 21]\n",
      "Layer name: fc1, layer type: QDense, input shapes: [[None, 21]], output shape: [None, 40]\n",
      "Layer name: relu1, layer type: Activation, input shapes: [[None, 40]], output shape: [None, 40]\n",
      "Layer name: fc2, layer type: QDense, input shapes: [[None, 40]], output shape: [None, 48]\n",
      "Layer name: relu2, layer type: Activation, input shapes: [[None, 48]], output shape: [None, 48]\n",
      "Layer name: fc3, layer type: QDense, input shapes: [[None, 48]], output shape: [None, 27]\n",
      "Layer name: relu3, layer type: Activation, input shapes: [[None, 27]], output shape: [None, 27]\n",
      "Layer name: output, layer type: QDense, input shapes: [[None, 27]], output shape: [None, 3]\n",
      "Layer name: softmax, layer type: Softmax, input shapes: [[None, 3]], output shape: [None, 3]\n",
      "Creating HLS model\n",
      "Writing HLS project\n",
      "WARNING:tensorflow:Compiled the loaded model, but the compiled metrics have yet to be built. `model.compile_metrics` will be empty until you train or evaluate the model.\n"
     ]
    },
    {
     "name": "stderr",
     "output_type": "stream",
     "text": [
      "WARNING:tensorflow:Compiled the loaded model, but the compiled metrics have yet to be built. `model.compile_metrics` will be empty until you train or evaluate the model.\n"
     ]
    },
    {
     "name": "stdout",
     "output_type": "stream",
     "text": [
      "Done\n",
      "./dse_models/models_12/model_1\n",
      "... quantizing model\n",
      "... quantizing model\n",
      "... quantizing model\n",
      "... quantizing model\n",
      "-----------------------------------------------------------\n",
      "... quantizing model\n",
      "... quantizing model\n"
     ]
    },
    {
     "name": "stderr",
     "output_type": "stream",
     "text": [
      "/home/dmitsas/.local/lib/python3.10/site-packages/sklearn/base.py:376: InconsistentVersionWarning: Trying to unpickle estimator LinearRegression from version 1.2.2 when using version 1.4.2. This might lead to breaking code or invalid results. Use at your own risk. For more info please refer to:\n",
      "https://scikit-learn.org/stable/model_persistence.html#security-maintainability-limitations\n",
      "  warnings.warn(\n",
      "/home/dmitsas/.local/lib/python3.10/site-packages/sklearn/base.py:376: InconsistentVersionWarning: Trying to unpickle estimator LinearRegression from version 1.2.2 when using version 1.4.2. This might lead to breaking code or invalid results. Use at your own risk. For more info please refer to:\n",
      "https://scikit-learn.org/stable/model_persistence.html#security-maintainability-limitations\n",
      "  warnings.warn(\n",
      "/home/dmitsas/.local/lib/python3.10/site-packages/sklearn/base.py:376: InconsistentVersionWarning: Trying to unpickle estimator LinearRegression from version 1.2.2 when using version 1.4.2. This might lead to breaking code or invalid results. Use at your own risk. For more info please refer to:\n",
      "https://scikit-learn.org/stable/model_persistence.html#security-maintainability-limitations\n",
      "  warnings.warn(\n",
      "/home/dmitsas/.local/lib/python3.10/site-packages/sklearn/base.py:376: InconsistentVersionWarning: Trying to unpickle estimator LinearRegression from version 1.2.2 when using version 1.4.2. This might lead to breaking code or invalid results. Use at your own risk. For more info please refer to:\n",
      "https://scikit-learn.org/stable/model_persistence.html#security-maintainability-limitations\n",
      "  warnings.warn(\n",
      "/home/dmitsas/.local/lib/python3.10/site-packages/sklearn/base.py:376: InconsistentVersionWarning: Trying to unpickle estimator LinearRegression from version 1.2.2 when using version 1.4.2. This might lead to breaking code or invalid results. Use at your own risk. For more info please refer to:\n",
      "https://scikit-learn.org/stable/model_persistence.html#security-maintainability-limitations\n",
      "  warnings.warn(\n",
      "/home/dmitsas/.local/lib/python3.10/site-packages/sklearn/base.py:376: InconsistentVersionWarning: Trying to unpickle estimator LinearRegression from version 1.2.2 when using version 1.4.2. This might lead to breaking code or invalid results. Use at your own risk. For more info please refer to:\n",
      "https://scikit-learn.org/stable/model_persistence.html#security-maintainability-limitations\n",
      "  warnings.warn(\n"
     ]
    },
    {
     "name": "stdout",
     "output_type": "stream",
     "text": [
      "... quantizing model\n",
      "... quantizing model\n",
      "-----------------------------------------------------------\n"
     ]
    },
    {
     "name": "stderr",
     "output_type": "stream",
     "text": [
      "/home/dmitsas/.local/lib/python3.10/site-packages/sklearn/base.py:376: InconsistentVersionWarning: Trying to unpickle estimator LinearRegression from version 1.2.2 when using version 1.4.2. This might lead to breaking code or invalid results. Use at your own risk. For more info please refer to:\n",
      "https://scikit-learn.org/stable/model_persistence.html#security-maintainability-limitations\n",
      "  warnings.warn(\n",
      "/home/dmitsas/.local/lib/python3.10/site-packages/sklearn/base.py:376: InconsistentVersionWarning: Trying to unpickle estimator LinearRegression from version 1.2.2 when using version 1.4.2. This might lead to breaking code or invalid results. Use at your own risk. For more info please refer to:\n",
      "https://scikit-learn.org/stable/model_persistence.html#security-maintainability-limitations\n",
      "  warnings.warn(\n"
     ]
    },
    {
     "data": {
      "text/plain": [
       "<pymoo.core.result.Result at 0x76bc3c2f5690>"
      ]
     },
     "execution_count": 70,
     "metadata": {},
     "output_type": "execute_result"
    }
   ],
   "source": [
    "problem.minimize(problem,pop_size,('n_gen',2))\n",
    "#np.savetxt(dirname + \"results.txt\",problem.get_opt_solutions())"
   ]
  },
  {
   "cell_type": "code",
   "execution_count": 72,
   "id": "75a2be43",
   "metadata": {},
   "outputs": [],
   "source": [
    "problem.plot_parento_front()"
   ]
  },
  {
   "cell_type": "code",
   "execution_count": 73,
   "id": "d5a71ac1",
   "metadata": {
    "scrolled": true
   },
   "outputs": [],
   "source": [
    "problem.get_opt_solutions()"
   ]
  },
  {
   "cell_type": "markdown",
   "id": "399c59e9",
   "metadata": {},
   "source": [
    "### Run DSE on models with available parameters and solutions"
   ]
  },
  {
   "cell_type": "code",
   "execution_count": 27,
   "id": "22493dbd",
   "metadata": {},
   "outputs": [
    {
     "name": "stdout",
     "output_type": "stream",
     "text": [
      "WARNING:tensorflow:No training configuration found in the save file, so the model was *not* compiled. Compile it manually.\n"
     ]
    },
    {
     "name": "stderr",
     "output_type": "stream",
     "text": [
      "WARNING:tensorflow:No training configuration found in the save file, so the model was *not* compiled. Compile it manually.\n",
      "/home/dmitsas/anaconda3/envs/hls4ml-tutorial/lib/python3.10/site-packages/keras/initializers/initializers_v2.py:120: UserWarning: The initializer LecunUniform is unseeded and being called multiple times, which will return identical values  each time (even if the initializer is unseeded). Please update your code to provide a seed to the initializer, or avoid using the same initalizer instance more than once.\n",
      "  warnings.warn(\n"
     ]
    },
    {
     "name": "stdout",
     "output_type": "stream",
     "text": [
      "WARNING:tensorflow:No training configuration found in the save file, so the model was *not* compiled. Compile it manually.\n"
     ]
    },
    {
     "name": "stderr",
     "output_type": "stream",
     "text": [
      "WARNING:tensorflow:No training configuration found in the save file, so the model was *not* compiled. Compile it manually.\n"
     ]
    },
    {
     "name": "stdout",
     "output_type": "stream",
     "text": [
      "WARNING:tensorflow:No training configuration found in the save file, so the model was *not* compiled. Compile it manually.\n"
     ]
    },
    {
     "name": "stderr",
     "output_type": "stream",
     "text": [
      "WARNING:tensorflow:No training configuration found in the save file, so the model was *not* compiled. Compile it manually.\n"
     ]
    },
    {
     "name": "stdout",
     "output_type": "stream",
     "text": [
      "WARNING:tensorflow:No training configuration found in the save file, so the model was *not* compiled. Compile it manually.\n"
     ]
    },
    {
     "name": "stderr",
     "output_type": "stream",
     "text": [
      "WARNING:tensorflow:No training configuration found in the save file, so the model was *not* compiled. Compile it manually.\n"
     ]
    },
    {
     "name": "stdout",
     "output_type": "stream",
     "text": [
      "WARNING:tensorflow:No training configuration found in the save file, so the model was *not* compiled. Compile it manually.\n"
     ]
    },
    {
     "name": "stderr",
     "output_type": "stream",
     "text": [
      "WARNING:tensorflow:No training configuration found in the save file, so the model was *not* compiled. Compile it manually.\n"
     ]
    },
    {
     "name": "stdout",
     "output_type": "stream",
     "text": [
      "WARNING:tensorflow:No training configuration found in the save file, so the model was *not* compiled. Compile it manually.\n"
     ]
    },
    {
     "name": "stderr",
     "output_type": "stream",
     "text": [
      "WARNING:tensorflow:No training configuration found in the save file, so the model was *not* compiled. Compile it manually.\n"
     ]
    },
    {
     "name": "stdout",
     "output_type": "stream",
     "text": [
      "WARNING:tensorflow:No training configuration found in the save file, so the model was *not* compiled. Compile it manually.\n"
     ]
    },
    {
     "name": "stderr",
     "output_type": "stream",
     "text": [
      "WARNING:tensorflow:No training configuration found in the save file, so the model was *not* compiled. Compile it manually.\n"
     ]
    },
    {
     "name": "stdout",
     "output_type": "stream",
     "text": [
      "WARNING:tensorflow:No training configuration found in the save file, so the model was *not* compiled. Compile it manually.\n"
     ]
    },
    {
     "name": "stderr",
     "output_type": "stream",
     "text": [
      "WARNING:tensorflow:No training configuration found in the save file, so the model was *not* compiled. Compile it manually.\n"
     ]
    },
    {
     "name": "stdout",
     "output_type": "stream",
     "text": [
      "WARNING:tensorflow:No training configuration found in the save file, so the model was *not* compiled. Compile it manually.\n"
     ]
    },
    {
     "name": "stderr",
     "output_type": "stream",
     "text": [
      "WARNING:tensorflow:No training configuration found in the save file, so the model was *not* compiled. Compile it manually.\n"
     ]
    },
    {
     "name": "stdout",
     "output_type": "stream",
     "text": [
      "WARNING:tensorflow:No training configuration found in the save file, so the model was *not* compiled. Compile it manually.\n"
     ]
    },
    {
     "name": "stderr",
     "output_type": "stream",
     "text": [
      "WARNING:tensorflow:No training configuration found in the save file, so the model was *not* compiled. Compile it manually.\n"
     ]
    },
    {
     "name": "stdout",
     "output_type": "stream",
     "text": [
      "WARNING:tensorflow:No training configuration found in the save file, so the model was *not* compiled. Compile it manually.\n"
     ]
    },
    {
     "name": "stderr",
     "output_type": "stream",
     "text": [
      "WARNING:tensorflow:No training configuration found in the save file, so the model was *not* compiled. Compile it manually.\n"
     ]
    },
    {
     "name": "stdout",
     "output_type": "stream",
     "text": [
      "WARNING:tensorflow:No training configuration found in the save file, so the model was *not* compiled. Compile it manually.\n"
     ]
    },
    {
     "name": "stderr",
     "output_type": "stream",
     "text": [
      "WARNING:tensorflow:No training configuration found in the save file, so the model was *not* compiled. Compile it manually.\n"
     ]
    },
    {
     "name": "stdout",
     "output_type": "stream",
     "text": [
      "WARNING:tensorflow:No training configuration found in the save file, so the model was *not* compiled. Compile it manually.\n"
     ]
    },
    {
     "name": "stderr",
     "output_type": "stream",
     "text": [
      "WARNING:tensorflow:No training configuration found in the save file, so the model was *not* compiled. Compile it manually.\n"
     ]
    },
    {
     "name": "stdout",
     "output_type": "stream",
     "text": [
      "WARNING:tensorflow:No training configuration found in the save file, so the model was *not* compiled. Compile it manually.\n"
     ]
    },
    {
     "name": "stderr",
     "output_type": "stream",
     "text": [
      "WARNING:tensorflow:No training configuration found in the save file, so the model was *not* compiled. Compile it manually.\n"
     ]
    },
    {
     "name": "stdout",
     "output_type": "stream",
     "text": [
      "WARNING:tensorflow:No training configuration found in the save file, so the model was *not* compiled. Compile it manually.\n"
     ]
    },
    {
     "name": "stderr",
     "output_type": "stream",
     "text": [
      "WARNING:tensorflow:No training configuration found in the save file, so the model was *not* compiled. Compile it manually.\n"
     ]
    },
    {
     "name": "stdout",
     "output_type": "stream",
     "text": [
      "WARNING:tensorflow:No training configuration found in the save file, so the model was *not* compiled. Compile it manually.\n"
     ]
    },
    {
     "name": "stderr",
     "output_type": "stream",
     "text": [
      "WARNING:tensorflow:No training configuration found in the save file, so the model was *not* compiled. Compile it manually.\n"
     ]
    },
    {
     "name": "stdout",
     "output_type": "stream",
     "text": [
      "WARNING:tensorflow:No training configuration found in the save file, so the model was *not* compiled. Compile it manually.\n"
     ]
    },
    {
     "name": "stderr",
     "output_type": "stream",
     "text": [
      "WARNING:tensorflow:No training configuration found in the save file, so the model was *not* compiled. Compile it manually.\n"
     ]
    },
    {
     "name": "stdout",
     "output_type": "stream",
     "text": [
      "WARNING:tensorflow:No training configuration found in the save file, so the model was *not* compiled. Compile it manually.\n"
     ]
    },
    {
     "name": "stderr",
     "output_type": "stream",
     "text": [
      "WARNING:tensorflow:No training configuration found in the save file, so the model was *not* compiled. Compile it manually.\n"
     ]
    },
    {
     "name": "stdout",
     "output_type": "stream",
     "text": [
      "WARNING:tensorflow:No training configuration found in the save file, so the model was *not* compiled. Compile it manually.\n"
     ]
    },
    {
     "name": "stderr",
     "output_type": "stream",
     "text": [
      "WARNING:tensorflow:No training configuration found in the save file, so the model was *not* compiled. Compile it manually.\n"
     ]
    },
    {
     "name": "stdout",
     "output_type": "stream",
     "text": [
      "WARNING:tensorflow:No training configuration found in the save file, so the model was *not* compiled. Compile it manually.\n"
     ]
    },
    {
     "name": "stderr",
     "output_type": "stream",
     "text": [
      "WARNING:tensorflow:No training configuration found in the save file, so the model was *not* compiled. Compile it manually.\n"
     ]
    },
    {
     "name": "stdout",
     "output_type": "stream",
     "text": [
      "WARNING:tensorflow:No training configuration found in the save file, so the model was *not* compiled. Compile it manually.\n"
     ]
    },
    {
     "name": "stderr",
     "output_type": "stream",
     "text": [
      "WARNING:tensorflow:No training configuration found in the save file, so the model was *not* compiled. Compile it manually.\n"
     ]
    },
    {
     "name": "stdout",
     "output_type": "stream",
     "text": [
      "WARNING:tensorflow:No training configuration found in the save file, so the model was *not* compiled. Compile it manually.\n"
     ]
    },
    {
     "name": "stderr",
     "output_type": "stream",
     "text": [
      "WARNING:tensorflow:No training configuration found in the save file, so the model was *not* compiled. Compile it manually.\n"
     ]
    },
    {
     "name": "stdout",
     "output_type": "stream",
     "text": [
      "WARNING:tensorflow:No training configuration found in the save file, so the model was *not* compiled. Compile it manually.\n"
     ]
    },
    {
     "name": "stderr",
     "output_type": "stream",
     "text": [
      "WARNING:tensorflow:No training configuration found in the save file, so the model was *not* compiled. Compile it manually.\n"
     ]
    },
    {
     "name": "stdout",
     "output_type": "stream",
     "text": [
      "WARNING:tensorflow:No training configuration found in the save file, so the model was *not* compiled. Compile it manually.\n"
     ]
    },
    {
     "name": "stderr",
     "output_type": "stream",
     "text": [
      "WARNING:tensorflow:No training configuration found in the save file, so the model was *not* compiled. Compile it manually.\n"
     ]
    },
    {
     "name": "stdout",
     "output_type": "stream",
     "text": [
      "WARNING:tensorflow:No training configuration found in the save file, so the model was *not* compiled. Compile it manually.\n"
     ]
    },
    {
     "name": "stderr",
     "output_type": "stream",
     "text": [
      "WARNING:tensorflow:No training configuration found in the save file, so the model was *not* compiled. Compile it manually.\n"
     ]
    },
    {
     "name": "stdout",
     "output_type": "stream",
     "text": [
      "WARNING:tensorflow:No training configuration found in the save file, so the model was *not* compiled. Compile it manually.\n"
     ]
    },
    {
     "name": "stderr",
     "output_type": "stream",
     "text": [
      "WARNING:tensorflow:No training configuration found in the save file, so the model was *not* compiled. Compile it manually.\n"
     ]
    },
    {
     "name": "stdout",
     "output_type": "stream",
     "text": [
      "WARNING:tensorflow:No training configuration found in the save file, so the model was *not* compiled. Compile it manually.\n"
     ]
    },
    {
     "name": "stderr",
     "output_type": "stream",
     "text": [
      "WARNING:tensorflow:No training configuration found in the save file, so the model was *not* compiled. Compile it manually.\n"
     ]
    },
    {
     "name": "stdout",
     "output_type": "stream",
     "text": [
      "WARNING:tensorflow:No training configuration found in the save file, so the model was *not* compiled. Compile it manually.\n"
     ]
    },
    {
     "name": "stderr",
     "output_type": "stream",
     "text": [
      "WARNING:tensorflow:No training configuration found in the save file, so the model was *not* compiled. Compile it manually.\n"
     ]
    },
    {
     "name": "stdout",
     "output_type": "stream",
     "text": [
      "WARNING:tensorflow:No training configuration found in the save file, so the model was *not* compiled. Compile it manually.\n"
     ]
    },
    {
     "name": "stderr",
     "output_type": "stream",
     "text": [
      "WARNING:tensorflow:No training configuration found in the save file, so the model was *not* compiled. Compile it manually.\n"
     ]
    },
    {
     "name": "stdout",
     "output_type": "stream",
     "text": [
      "WARNING:tensorflow:No training configuration found in the save file, so the model was *not* compiled. Compile it manually.\n"
     ]
    },
    {
     "name": "stderr",
     "output_type": "stream",
     "text": [
      "WARNING:tensorflow:No training configuration found in the save file, so the model was *not* compiled. Compile it manually.\n"
     ]
    },
    {
     "name": "stdout",
     "output_type": "stream",
     "text": [
      "WARNING:tensorflow:No training configuration found in the save file, so the model was *not* compiled. Compile it manually.\n"
     ]
    },
    {
     "name": "stderr",
     "output_type": "stream",
     "text": [
      "WARNING:tensorflow:No training configuration found in the save file, so the model was *not* compiled. Compile it manually.\n"
     ]
    },
    {
     "name": "stdout",
     "output_type": "stream",
     "text": [
      "WARNING:tensorflow:No training configuration found in the save file, so the model was *not* compiled. Compile it manually.\n"
     ]
    },
    {
     "name": "stderr",
     "output_type": "stream",
     "text": [
      "WARNING:tensorflow:No training configuration found in the save file, so the model was *not* compiled. Compile it manually.\n"
     ]
    },
    {
     "name": "stdout",
     "output_type": "stream",
     "text": [
      "WARNING:tensorflow:No training configuration found in the save file, so the model was *not* compiled. Compile it manually.\n"
     ]
    },
    {
     "name": "stderr",
     "output_type": "stream",
     "text": [
      "WARNING:tensorflow:No training configuration found in the save file, so the model was *not* compiled. Compile it manually.\n"
     ]
    },
    {
     "name": "stdout",
     "output_type": "stream",
     "text": [
      "WARNING:tensorflow:No training configuration found in the save file, so the model was *not* compiled. Compile it manually.\n"
     ]
    },
    {
     "name": "stderr",
     "output_type": "stream",
     "text": [
      "WARNING:tensorflow:No training configuration found in the save file, so the model was *not* compiled. Compile it manually.\n"
     ]
    },
    {
     "name": "stdout",
     "output_type": "stream",
     "text": [
      "WARNING:tensorflow:No training configuration found in the save file, so the model was *not* compiled. Compile it manually.\n"
     ]
    },
    {
     "name": "stderr",
     "output_type": "stream",
     "text": [
      "WARNING:tensorflow:No training configuration found in the save file, so the model was *not* compiled. Compile it manually.\n"
     ]
    },
    {
     "name": "stdout",
     "output_type": "stream",
     "text": [
      "WARNING:tensorflow:No training configuration found in the save file, so the model was *not* compiled. Compile it manually.\n"
     ]
    },
    {
     "name": "stderr",
     "output_type": "stream",
     "text": [
      "WARNING:tensorflow:No training configuration found in the save file, so the model was *not* compiled. Compile it manually.\n"
     ]
    },
    {
     "name": "stdout",
     "output_type": "stream",
     "text": [
      "WARNING:tensorflow:No training configuration found in the save file, so the model was *not* compiled. Compile it manually.\n"
     ]
    },
    {
     "name": "stderr",
     "output_type": "stream",
     "text": [
      "WARNING:tensorflow:No training configuration found in the save file, so the model was *not* compiled. Compile it manually.\n"
     ]
    },
    {
     "name": "stdout",
     "output_type": "stream",
     "text": [
      "WARNING:tensorflow:No training configuration found in the save file, so the model was *not* compiled. Compile it manually.\n"
     ]
    },
    {
     "name": "stderr",
     "output_type": "stream",
     "text": [
      "WARNING:tensorflow:No training configuration found in the save file, so the model was *not* compiled. Compile it manually.\n"
     ]
    },
    {
     "name": "stdout",
     "output_type": "stream",
     "text": [
      "WARNING:tensorflow:No training configuration found in the save file, so the model was *not* compiled. Compile it manually.\n"
     ]
    },
    {
     "name": "stderr",
     "output_type": "stream",
     "text": [
      "WARNING:tensorflow:No training configuration found in the save file, so the model was *not* compiled. Compile it manually.\n"
     ]
    },
    {
     "name": "stdout",
     "output_type": "stream",
     "text": [
      "WARNING:tensorflow:No training configuration found in the save file, so the model was *not* compiled. Compile it manually.\n"
     ]
    },
    {
     "name": "stderr",
     "output_type": "stream",
     "text": [
      "WARNING:tensorflow:No training configuration found in the save file, so the model was *not* compiled. Compile it manually.\n"
     ]
    },
    {
     "name": "stdout",
     "output_type": "stream",
     "text": [
      "WARNING:tensorflow:No training configuration found in the save file, so the model was *not* compiled. Compile it manually.\n"
     ]
    },
    {
     "name": "stderr",
     "output_type": "stream",
     "text": [
      "WARNING:tensorflow:No training configuration found in the save file, so the model was *not* compiled. Compile it manually.\n"
     ]
    },
    {
     "name": "stdout",
     "output_type": "stream",
     "text": [
      "WARNING:tensorflow:No training configuration found in the save file, so the model was *not* compiled. Compile it manually.\n"
     ]
    },
    {
     "name": "stderr",
     "output_type": "stream",
     "text": [
      "WARNING:tensorflow:No training configuration found in the save file, so the model was *not* compiled. Compile it manually.\n"
     ]
    },
    {
     "name": "stdout",
     "output_type": "stream",
     "text": [
      "WARNING:tensorflow:No training configuration found in the save file, so the model was *not* compiled. Compile it manually.\n"
     ]
    },
    {
     "name": "stderr",
     "output_type": "stream",
     "text": [
      "WARNING:tensorflow:No training configuration found in the save file, so the model was *not* compiled. Compile it manually.\n"
     ]
    },
    {
     "name": "stdout",
     "output_type": "stream",
     "text": [
      "WARNING:tensorflow:No training configuration found in the save file, so the model was *not* compiled. Compile it manually.\n"
     ]
    },
    {
     "name": "stderr",
     "output_type": "stream",
     "text": [
      "WARNING:tensorflow:No training configuration found in the save file, so the model was *not* compiled. Compile it manually.\n"
     ]
    },
    {
     "name": "stdout",
     "output_type": "stream",
     "text": [
      "WARNING:tensorflow:No training configuration found in the save file, so the model was *not* compiled. Compile it manually.\n"
     ]
    },
    {
     "name": "stderr",
     "output_type": "stream",
     "text": [
      "WARNING:tensorflow:No training configuration found in the save file, so the model was *not* compiled. Compile it manually.\n"
     ]
    },
    {
     "name": "stdout",
     "output_type": "stream",
     "text": [
      "WARNING:tensorflow:No training configuration found in the save file, so the model was *not* compiled. Compile it manually.\n"
     ]
    },
    {
     "name": "stderr",
     "output_type": "stream",
     "text": [
      "WARNING:tensorflow:No training configuration found in the save file, so the model was *not* compiled. Compile it manually.\n"
     ]
    },
    {
     "name": "stdout",
     "output_type": "stream",
     "text": [
      "WARNING:tensorflow:No training configuration found in the save file, so the model was *not* compiled. Compile it manually.\n"
     ]
    },
    {
     "name": "stderr",
     "output_type": "stream",
     "text": [
      "WARNING:tensorflow:No training configuration found in the save file, so the model was *not* compiled. Compile it manually.\n"
     ]
    },
    {
     "name": "stdout",
     "output_type": "stream",
     "text": [
      "WARNING:tensorflow:No training configuration found in the save file, so the model was *not* compiled. Compile it manually.\n"
     ]
    },
    {
     "name": "stderr",
     "output_type": "stream",
     "text": [
      "WARNING:tensorflow:No training configuration found in the save file, so the model was *not* compiled. Compile it manually.\n"
     ]
    },
    {
     "name": "stdout",
     "output_type": "stream",
     "text": [
      "WARNING:tensorflow:No training configuration found in the save file, so the model was *not* compiled. Compile it manually.\n"
     ]
    },
    {
     "name": "stderr",
     "output_type": "stream",
     "text": [
      "WARNING:tensorflow:No training configuration found in the save file, so the model was *not* compiled. Compile it manually.\n"
     ]
    },
    {
     "name": "stdout",
     "output_type": "stream",
     "text": [
      "WARNING:tensorflow:No training configuration found in the save file, so the model was *not* compiled. Compile it manually.\n"
     ]
    },
    {
     "name": "stderr",
     "output_type": "stream",
     "text": [
      "WARNING:tensorflow:No training configuration found in the save file, so the model was *not* compiled. Compile it manually.\n"
     ]
    }
   ],
   "source": [
    "from tensorflow.keras.models import load_model\n",
    "from qkeras.utils import _add_supported_quantized_objects\n",
    "import qkeras.qtools.qtools_util\n",
    "import qkeras.estimate\n",
    "loaded_models = []\n",
    "co = {}\n",
    "_add_supported_quantized_objects(co)\n",
    "for model_no in range(pop_size):\n",
    "\n",
    "#loaded_models.append(load_model(dirname + \"/prec_\" + str(pre) + \"/model_\" + str(model_no) + '/KERAS_check_best_model.h5', custom_objects=co))\n",
    "#model = \n",
    "    loaded_models.append(load_model(dirname + str(model_no) + \"/KERAS_check_best_model.h5\",custom_objects=co))"
   ]
  },
  {
   "cell_type": "code",
   "execution_count": 46,
   "id": "a648fc49",
   "metadata": {
    "scrolled": true
   },
   "outputs": [
    {
     "data": {
      "text/plain": [
       "<module 'dse' from '/home/dmitsas/Downloads/backup/src/dse.py'>"
      ]
     },
     "execution_count": 46,
     "metadata": {},
     "output_type": "execute_result"
    }
   ],
   "source": [
    "reload(est)\n",
    "import pymoo_utils\n",
    "reload(pymoo_utils)\n",
    "reload(dse)\n"
   ]
  },
  {
   "cell_type": "code",
   "execution_count": 29,
   "id": "5c40960a",
   "metadata": {},
   "outputs": [],
   "source": [
    "def recover_pymoo(dirname,pop_size,):\n",
    "    par = [[] for x in range(pop_size)]\n",
    "    #par = []\n",
    "    for i in range(pop_size):\n",
    "        with open(dirname + str(i) + \"/parameters.txt\",'r') as f:\n",
    "            for lines in f:\n",
    "\n",
    "                par[i].append(lines)\n",
    "                \n",
    "    par = np.array(par)\n",
    "\n",
    "    x = []\n",
    "    for i in range(pop_size):\n",
    "        s = par[i,0].split(\" \")\n",
    "        s = np.array(s)\n",
    "        s = s.astype(float).astype(int)\n",
    "        x.append(s)\n",
    "    x = np.array(x)\n",
    "\n",
    "    acc = [[] for x in range(pop_size)]\n",
    "    #par = []\n",
    "    for i in range(pop_size):\n",
    "        with open(dirname + str(i) + \"/accuracy.txt\",'r') as f:\n",
    "            for lines in f:\n",
    "                acc[i].append(lines)           \n",
    "    acc = np.array(acc)\n",
    "    f1 = []\n",
    "    for i in range(pop_size):\n",
    "        s = acc[i,0]\n",
    "        s = np.array(s)\n",
    "        s = s.astype(float)\n",
    "        f1.append(s)\n",
    "    f1 = np.array(f1)\n",
    "\n",
    "\n",
    "    size = [[] for x in range(pop_size)]\n",
    "    for i in range(pop_size):\n",
    "        with open(dirname + str(i) + '/reuse_' + str(RF) + \"/size.txt\",'r') as f:\n",
    "            for lines in f:\n",
    "                size[i].append(lines)\n",
    "\n",
    "    size = np.array(size)\n",
    "    f2 = []\n",
    "    for i in range(pop_size):\n",
    "        s = size[i,0]\n",
    "        s = np.array(s)\n",
    "        s = s.astype(float)\n",
    "        f2.append(s)\n",
    "    f2 = np.array(f2)\n",
    "    f2.shape\n",
    "\n",
    "    f = np.concatenate(([f1],[f2]))\n",
    "    return x,f"
   ]
  },
  {
   "cell_type": "code",
   "execution_count": 30,
   "id": "4f0246e3",
   "metadata": {},
   "outputs": [],
   "source": [
    "RF = 1"
   ]
  },
  {
   "cell_type": "code",
   "execution_count": 32,
   "id": "70799f0b",
   "metadata": {},
   "outputs": [],
   "source": [
    "########### User setup ################\n",
    "###########This is used when the population is already available ##########\n",
    "#dirname = \"./dse_models/models_8\" + \"/model_\"\n",
    "#dirname = \"./dse_models/models_car_2/\" +\"model_\"\n",
    "pop_size = 50\n",
    "x,f = recover_pymoo(dirname,pop_size)\n",
    "#RF=10\n",
    "layer_in = 16\n",
    "layer_out = 5\n",
    "#algorithm = NSGA2(pop_size = pop_size,sampling=x)\n",
    "problem = dse.dse(layer_in,layer_out,X_train,X_test,Y_train,Y_test,jet_comp.compare_data,population=f,parameters=x,dirname=dirname,only_est=True,models=loaded_models,reuse=RF,device = \"Z7020\")\n"
   ]
  },
  {
   "cell_type": "code",
   "execution_count": 33,
   "id": "3c87b39b",
   "metadata": {
    "scrolled": true
   },
   "outputs": [
    {
     "name": "stdout",
     "output_type": "stream",
     "text": [
      "... quantizing model\n",
      "... quantizing model\n",
      "... quantizing model\n",
      "... quantizing model\n"
     ]
    },
    {
     "name": "stderr",
     "output_type": "stream",
     "text": [
      "/home/dmitsas/.local/lib/python3.10/site-packages/sklearn/base.py:376: InconsistentVersionWarning: Trying to unpickle estimator LinearRegression from version 1.2.2 when using version 1.4.2. This might lead to breaking code or invalid results. Use at your own risk. For more info please refer to:\n",
      "https://scikit-learn.org/stable/model_persistence.html#security-maintainability-limitations\n",
      "  warnings.warn(\n",
      "/home/dmitsas/.local/lib/python3.10/site-packages/sklearn/base.py:376: InconsistentVersionWarning: Trying to unpickle estimator LinearRegression from version 1.2.2 when using version 1.4.2. This might lead to breaking code or invalid results. Use at your own risk. For more info please refer to:\n",
      "https://scikit-learn.org/stable/model_persistence.html#security-maintainability-limitations\n",
      "  warnings.warn(\n",
      "/home/dmitsas/.local/lib/python3.10/site-packages/sklearn/base.py:376: InconsistentVersionWarning: Trying to unpickle estimator LinearRegression from version 1.2.2 when using version 1.4.2. This might lead to breaking code or invalid results. Use at your own risk. For more info please refer to:\n",
      "https://scikit-learn.org/stable/model_persistence.html#security-maintainability-limitations\n",
      "  warnings.warn(\n",
      "/home/dmitsas/.local/lib/python3.10/site-packages/sklearn/base.py:376: InconsistentVersionWarning: Trying to unpickle estimator LinearRegression from version 1.2.2 when using version 1.4.2. This might lead to breaking code or invalid results. Use at your own risk. For more info please refer to:\n",
      "https://scikit-learn.org/stable/model_persistence.html#security-maintainability-limitations\n",
      "  warnings.warn(\n"
     ]
    },
    {
     "name": "stdout",
     "output_type": "stream",
     "text": [
      "-----------------------------------------------------------\n",
      "... quantizing model\n",
      "... quantizing model\n",
      "... quantizing model\n",
      "... quantizing model\n"
     ]
    },
    {
     "name": "stderr",
     "output_type": "stream",
     "text": [
      "/home/dmitsas/.local/lib/python3.10/site-packages/sklearn/base.py:376: InconsistentVersionWarning: Trying to unpickle estimator LinearRegression from version 1.2.2 when using version 1.4.2. This might lead to breaking code or invalid results. Use at your own risk. For more info please refer to:\n",
      "https://scikit-learn.org/stable/model_persistence.html#security-maintainability-limitations\n",
      "  warnings.warn(\n",
      "/home/dmitsas/.local/lib/python3.10/site-packages/sklearn/base.py:376: InconsistentVersionWarning: Trying to unpickle estimator LinearRegression from version 1.2.2 when using version 1.4.2. This might lead to breaking code or invalid results. Use at your own risk. For more info please refer to:\n",
      "https://scikit-learn.org/stable/model_persistence.html#security-maintainability-limitations\n",
      "  warnings.warn(\n",
      "/home/dmitsas/.local/lib/python3.10/site-packages/sklearn/base.py:376: InconsistentVersionWarning: Trying to unpickle estimator LinearRegression from version 1.2.2 when using version 1.4.2. This might lead to breaking code or invalid results. Use at your own risk. For more info please refer to:\n",
      "https://scikit-learn.org/stable/model_persistence.html#security-maintainability-limitations\n",
      "  warnings.warn(\n",
      "/home/dmitsas/.local/lib/python3.10/site-packages/sklearn/base.py:376: InconsistentVersionWarning: Trying to unpickle estimator LinearRegression from version 1.2.2 when using version 1.4.2. This might lead to breaking code or invalid results. Use at your own risk. For more info please refer to:\n",
      "https://scikit-learn.org/stable/model_persistence.html#security-maintainability-limitations\n",
      "  warnings.warn(\n"
     ]
    },
    {
     "name": "stdout",
     "output_type": "stream",
     "text": [
      "-----------------------------------------------------------\n",
      "... quantizing model\n",
      "... quantizing model\n",
      "... quantizing model\n"
     ]
    },
    {
     "name": "stderr",
     "output_type": "stream",
     "text": [
      "/home/dmitsas/.local/lib/python3.10/site-packages/sklearn/base.py:376: InconsistentVersionWarning: Trying to unpickle estimator LinearRegression from version 1.2.2 when using version 1.4.2. This might lead to breaking code or invalid results. Use at your own risk. For more info please refer to:\n",
      "https://scikit-learn.org/stable/model_persistence.html#security-maintainability-limitations\n",
      "  warnings.warn(\n",
      "/home/dmitsas/.local/lib/python3.10/site-packages/sklearn/base.py:376: InconsistentVersionWarning: Trying to unpickle estimator LinearRegression from version 1.2.2 when using version 1.4.2. This might lead to breaking code or invalid results. Use at your own risk. For more info please refer to:\n",
      "https://scikit-learn.org/stable/model_persistence.html#security-maintainability-limitations\n",
      "  warnings.warn(\n",
      "/home/dmitsas/.local/lib/python3.10/site-packages/sklearn/base.py:376: InconsistentVersionWarning: Trying to unpickle estimator LinearRegression from version 1.2.2 when using version 1.4.2. This might lead to breaking code or invalid results. Use at your own risk. For more info please refer to:\n",
      "https://scikit-learn.org/stable/model_persistence.html#security-maintainability-limitations\n",
      "  warnings.warn(\n"
     ]
    },
    {
     "name": "stdout",
     "output_type": "stream",
     "text": [
      "... quantizing model\n",
      "-----------------------------------------------------------\n",
      "... quantizing model\n",
      "... quantizing model\n"
     ]
    },
    {
     "name": "stderr",
     "output_type": "stream",
     "text": [
      "/home/dmitsas/.local/lib/python3.10/site-packages/sklearn/base.py:376: InconsistentVersionWarning: Trying to unpickle estimator LinearRegression from version 1.2.2 when using version 1.4.2. This might lead to breaking code or invalid results. Use at your own risk. For more info please refer to:\n",
      "https://scikit-learn.org/stable/model_persistence.html#security-maintainability-limitations\n",
      "  warnings.warn(\n",
      "/home/dmitsas/.local/lib/python3.10/site-packages/sklearn/base.py:376: InconsistentVersionWarning: Trying to unpickle estimator LinearRegression from version 1.2.2 when using version 1.4.2. This might lead to breaking code or invalid results. Use at your own risk. For more info please refer to:\n",
      "https://scikit-learn.org/stable/model_persistence.html#security-maintainability-limitations\n",
      "  warnings.warn(\n",
      "/home/dmitsas/.local/lib/python3.10/site-packages/sklearn/base.py:376: InconsistentVersionWarning: Trying to unpickle estimator LinearRegression from version 1.2.2 when using version 1.4.2. This might lead to breaking code or invalid results. Use at your own risk. For more info please refer to:\n",
      "https://scikit-learn.org/stable/model_persistence.html#security-maintainability-limitations\n",
      "  warnings.warn(\n",
      "/home/dmitsas/.local/lib/python3.10/site-packages/sklearn/base.py:376: InconsistentVersionWarning: Trying to unpickle estimator LinearRegression from version 1.2.2 when using version 1.4.2. This might lead to breaking code or invalid results. Use at your own risk. For more info please refer to:\n",
      "https://scikit-learn.org/stable/model_persistence.html#security-maintainability-limitations\n",
      "  warnings.warn(\n"
     ]
    },
    {
     "name": "stdout",
     "output_type": "stream",
     "text": [
      "... quantizing model\n",
      "... quantizing model\n",
      "-----------------------------------------------------------\n",
      "... quantizing model\n",
      "... quantizing model\n",
      "... quantizing model\n"
     ]
    },
    {
     "name": "stderr",
     "output_type": "stream",
     "text": [
      "/home/dmitsas/.local/lib/python3.10/site-packages/sklearn/base.py:376: InconsistentVersionWarning: Trying to unpickle estimator LinearRegression from version 1.2.2 when using version 1.4.2. This might lead to breaking code or invalid results. Use at your own risk. For more info please refer to:\n",
      "https://scikit-learn.org/stable/model_persistence.html#security-maintainability-limitations\n",
      "  warnings.warn(\n",
      "/home/dmitsas/.local/lib/python3.10/site-packages/sklearn/base.py:376: InconsistentVersionWarning: Trying to unpickle estimator LinearRegression from version 1.2.2 when using version 1.4.2. This might lead to breaking code or invalid results. Use at your own risk. For more info please refer to:\n",
      "https://scikit-learn.org/stable/model_persistence.html#security-maintainability-limitations\n",
      "  warnings.warn(\n",
      "/home/dmitsas/.local/lib/python3.10/site-packages/sklearn/base.py:376: InconsistentVersionWarning: Trying to unpickle estimator LinearRegression from version 1.2.2 when using version 1.4.2. This might lead to breaking code or invalid results. Use at your own risk. For more info please refer to:\n",
      "https://scikit-learn.org/stable/model_persistence.html#security-maintainability-limitations\n",
      "  warnings.warn(\n",
      "/home/dmitsas/.local/lib/python3.10/site-packages/sklearn/base.py:376: InconsistentVersionWarning: Trying to unpickle estimator LinearRegression from version 1.2.2 when using version 1.4.2. This might lead to breaking code or invalid results. Use at your own risk. For more info please refer to:\n",
      "https://scikit-learn.org/stable/model_persistence.html#security-maintainability-limitations\n",
      "  warnings.warn(\n",
      "/home/dmitsas/.local/lib/python3.10/site-packages/sklearn/base.py:376: InconsistentVersionWarning: Trying to unpickle estimator LinearRegression from version 1.2.2 when using version 1.4.2. This might lead to breaking code or invalid results. Use at your own risk. For more info please refer to:\n",
      "https://scikit-learn.org/stable/model_persistence.html#security-maintainability-limitations\n",
      "  warnings.warn(\n"
     ]
    },
    {
     "name": "stdout",
     "output_type": "stream",
     "text": [
      "... quantizing model\n",
      "-----------------------------------------------------------\n",
      "... quantizing model\n",
      "... quantizing model\n",
      "... quantizing model\n"
     ]
    },
    {
     "name": "stderr",
     "output_type": "stream",
     "text": [
      "/home/dmitsas/.local/lib/python3.10/site-packages/sklearn/base.py:376: InconsistentVersionWarning: Trying to unpickle estimator LinearRegression from version 1.2.2 when using version 1.4.2. This might lead to breaking code or invalid results. Use at your own risk. For more info please refer to:\n",
      "https://scikit-learn.org/stable/model_persistence.html#security-maintainability-limitations\n",
      "  warnings.warn(\n",
      "/home/dmitsas/.local/lib/python3.10/site-packages/sklearn/base.py:376: InconsistentVersionWarning: Trying to unpickle estimator LinearRegression from version 1.2.2 when using version 1.4.2. This might lead to breaking code or invalid results. Use at your own risk. For more info please refer to:\n",
      "https://scikit-learn.org/stable/model_persistence.html#security-maintainability-limitations\n",
      "  warnings.warn(\n",
      "/home/dmitsas/.local/lib/python3.10/site-packages/sklearn/base.py:376: InconsistentVersionWarning: Trying to unpickle estimator LinearRegression from version 1.2.2 when using version 1.4.2. This might lead to breaking code or invalid results. Use at your own risk. For more info please refer to:\n",
      "https://scikit-learn.org/stable/model_persistence.html#security-maintainability-limitations\n",
      "  warnings.warn(\n",
      "/home/dmitsas/.local/lib/python3.10/site-packages/sklearn/base.py:376: InconsistentVersionWarning: Trying to unpickle estimator LinearRegression from version 1.2.2 when using version 1.4.2. This might lead to breaking code or invalid results. Use at your own risk. For more info please refer to:\n",
      "https://scikit-learn.org/stable/model_persistence.html#security-maintainability-limitations\n",
      "  warnings.warn(\n",
      "/home/dmitsas/.local/lib/python3.10/site-packages/sklearn/base.py:376: InconsistentVersionWarning: Trying to unpickle estimator LinearRegression from version 1.2.2 when using version 1.4.2. This might lead to breaking code or invalid results. Use at your own risk. For more info please refer to:\n",
      "https://scikit-learn.org/stable/model_persistence.html#security-maintainability-limitations\n",
      "  warnings.warn(\n"
     ]
    },
    {
     "name": "stdout",
     "output_type": "stream",
     "text": [
      "... quantizing model\n",
      "-----------------------------------------------------------\n",
      "... quantizing model\n",
      "... quantizing model\n",
      "... quantizing model\n"
     ]
    },
    {
     "name": "stderr",
     "output_type": "stream",
     "text": [
      "/home/dmitsas/.local/lib/python3.10/site-packages/sklearn/base.py:376: InconsistentVersionWarning: Trying to unpickle estimator LinearRegression from version 1.2.2 when using version 1.4.2. This might lead to breaking code or invalid results. Use at your own risk. For more info please refer to:\n",
      "https://scikit-learn.org/stable/model_persistence.html#security-maintainability-limitations\n",
      "  warnings.warn(\n",
      "/home/dmitsas/.local/lib/python3.10/site-packages/sklearn/base.py:376: InconsistentVersionWarning: Trying to unpickle estimator LinearRegression from version 1.2.2 when using version 1.4.2. This might lead to breaking code or invalid results. Use at your own risk. For more info please refer to:\n",
      "https://scikit-learn.org/stable/model_persistence.html#security-maintainability-limitations\n",
      "  warnings.warn(\n",
      "/home/dmitsas/.local/lib/python3.10/site-packages/sklearn/base.py:376: InconsistentVersionWarning: Trying to unpickle estimator LinearRegression from version 1.2.2 when using version 1.4.2. This might lead to breaking code or invalid results. Use at your own risk. For more info please refer to:\n",
      "https://scikit-learn.org/stable/model_persistence.html#security-maintainability-limitations\n",
      "  warnings.warn(\n",
      "/home/dmitsas/.local/lib/python3.10/site-packages/sklearn/base.py:376: InconsistentVersionWarning: Trying to unpickle estimator LinearRegression from version 1.2.2 when using version 1.4.2. This might lead to breaking code or invalid results. Use at your own risk. For more info please refer to:\n",
      "https://scikit-learn.org/stable/model_persistence.html#security-maintainability-limitations\n",
      "  warnings.warn(\n"
     ]
    },
    {
     "name": "stdout",
     "output_type": "stream",
     "text": [
      "... quantizing model\n",
      "-----------------------------------------------------------\n",
      "... quantizing model\n",
      "... quantizing model\n",
      "... quantizing model\n",
      "... quantizing model\n"
     ]
    },
    {
     "name": "stderr",
     "output_type": "stream",
     "text": [
      "/home/dmitsas/.local/lib/python3.10/site-packages/sklearn/base.py:376: InconsistentVersionWarning: Trying to unpickle estimator LinearRegression from version 1.2.2 when using version 1.4.2. This might lead to breaking code or invalid results. Use at your own risk. For more info please refer to:\n",
      "https://scikit-learn.org/stable/model_persistence.html#security-maintainability-limitations\n",
      "  warnings.warn(\n",
      "/home/dmitsas/.local/lib/python3.10/site-packages/sklearn/base.py:376: InconsistentVersionWarning: Trying to unpickle estimator LinearRegression from version 1.2.2 when using version 1.4.2. This might lead to breaking code or invalid results. Use at your own risk. For more info please refer to:\n",
      "https://scikit-learn.org/stable/model_persistence.html#security-maintainability-limitations\n",
      "  warnings.warn(\n",
      "/home/dmitsas/.local/lib/python3.10/site-packages/sklearn/base.py:376: InconsistentVersionWarning: Trying to unpickle estimator LinearRegression from version 1.2.2 when using version 1.4.2. This might lead to breaking code or invalid results. Use at your own risk. For more info please refer to:\n",
      "https://scikit-learn.org/stable/model_persistence.html#security-maintainability-limitations\n",
      "  warnings.warn(\n",
      "/home/dmitsas/.local/lib/python3.10/site-packages/sklearn/base.py:376: InconsistentVersionWarning: Trying to unpickle estimator LinearRegression from version 1.2.2 when using version 1.4.2. This might lead to breaking code or invalid results. Use at your own risk. For more info please refer to:\n",
      "https://scikit-learn.org/stable/model_persistence.html#security-maintainability-limitations\n",
      "  warnings.warn(\n",
      "/home/dmitsas/.local/lib/python3.10/site-packages/sklearn/base.py:376: InconsistentVersionWarning: Trying to unpickle estimator LinearRegression from version 1.2.2 when using version 1.4.2. This might lead to breaking code or invalid results. Use at your own risk. For more info please refer to:\n",
      "https://scikit-learn.org/stable/model_persistence.html#security-maintainability-limitations\n",
      "  warnings.warn(\n"
     ]
    },
    {
     "name": "stdout",
     "output_type": "stream",
     "text": [
      "-----------------------------------------------------------\n",
      "... quantizing model\n",
      "... quantizing model\n",
      "... quantizing model\n"
     ]
    },
    {
     "name": "stderr",
     "output_type": "stream",
     "text": [
      "/home/dmitsas/.local/lib/python3.10/site-packages/sklearn/base.py:376: InconsistentVersionWarning: Trying to unpickle estimator LinearRegression from version 1.2.2 when using version 1.4.2. This might lead to breaking code or invalid results. Use at your own risk. For more info please refer to:\n",
      "https://scikit-learn.org/stable/model_persistence.html#security-maintainability-limitations\n",
      "  warnings.warn(\n",
      "/home/dmitsas/.local/lib/python3.10/site-packages/sklearn/base.py:376: InconsistentVersionWarning: Trying to unpickle estimator LinearRegression from version 1.2.2 when using version 1.4.2. This might lead to breaking code or invalid results. Use at your own risk. For more info please refer to:\n",
      "https://scikit-learn.org/stable/model_persistence.html#security-maintainability-limitations\n",
      "  warnings.warn(\n",
      "/home/dmitsas/.local/lib/python3.10/site-packages/sklearn/base.py:376: InconsistentVersionWarning: Trying to unpickle estimator LinearRegression from version 1.2.2 when using version 1.4.2. This might lead to breaking code or invalid results. Use at your own risk. For more info please refer to:\n",
      "https://scikit-learn.org/stable/model_persistence.html#security-maintainability-limitations\n",
      "  warnings.warn(\n",
      "/home/dmitsas/.local/lib/python3.10/site-packages/sklearn/base.py:376: InconsistentVersionWarning: Trying to unpickle estimator LinearRegression from version 1.2.2 when using version 1.4.2. This might lead to breaking code or invalid results. Use at your own risk. For more info please refer to:\n",
      "https://scikit-learn.org/stable/model_persistence.html#security-maintainability-limitations\n",
      "  warnings.warn(\n",
      "/home/dmitsas/.local/lib/python3.10/site-packages/sklearn/base.py:376: InconsistentVersionWarning: Trying to unpickle estimator LinearRegression from version 1.2.2 when using version 1.4.2. This might lead to breaking code or invalid results. Use at your own risk. For more info please refer to:\n",
      "https://scikit-learn.org/stable/model_persistence.html#security-maintainability-limitations\n",
      "  warnings.warn(\n"
     ]
    },
    {
     "name": "stdout",
     "output_type": "stream",
     "text": [
      "... quantizing model\n",
      "-----------------------------------------------------------\n",
      "... quantizing model\n",
      "... quantizing model\n",
      "... quantizing model\n",
      "... quantizing model\n"
     ]
    },
    {
     "name": "stderr",
     "output_type": "stream",
     "text": [
      "/home/dmitsas/.local/lib/python3.10/site-packages/sklearn/base.py:376: InconsistentVersionWarning: Trying to unpickle estimator LinearRegression from version 1.2.2 when using version 1.4.2. This might lead to breaking code or invalid results. Use at your own risk. For more info please refer to:\n",
      "https://scikit-learn.org/stable/model_persistence.html#security-maintainability-limitations\n",
      "  warnings.warn(\n",
      "/home/dmitsas/.local/lib/python3.10/site-packages/sklearn/base.py:376: InconsistentVersionWarning: Trying to unpickle estimator LinearRegression from version 1.2.2 when using version 1.4.2. This might lead to breaking code or invalid results. Use at your own risk. For more info please refer to:\n",
      "https://scikit-learn.org/stable/model_persistence.html#security-maintainability-limitations\n",
      "  warnings.warn(\n",
      "/home/dmitsas/.local/lib/python3.10/site-packages/sklearn/base.py:376: InconsistentVersionWarning: Trying to unpickle estimator LinearRegression from version 1.2.2 when using version 1.4.2. This might lead to breaking code or invalid results. Use at your own risk. For more info please refer to:\n",
      "https://scikit-learn.org/stable/model_persistence.html#security-maintainability-limitations\n",
      "  warnings.warn(\n",
      "/home/dmitsas/.local/lib/python3.10/site-packages/sklearn/base.py:376: InconsistentVersionWarning: Trying to unpickle estimator LinearRegression from version 1.2.2 when using version 1.4.2. This might lead to breaking code or invalid results. Use at your own risk. For more info please refer to:\n",
      "https://scikit-learn.org/stable/model_persistence.html#security-maintainability-limitations\n",
      "  warnings.warn(\n",
      "/home/dmitsas/.local/lib/python3.10/site-packages/sklearn/base.py:376: InconsistentVersionWarning: Trying to unpickle estimator LinearRegression from version 1.2.2 when using version 1.4.2. This might lead to breaking code or invalid results. Use at your own risk. For more info please refer to:\n",
      "https://scikit-learn.org/stable/model_persistence.html#security-maintainability-limitations\n",
      "  warnings.warn(\n"
     ]
    },
    {
     "name": "stdout",
     "output_type": "stream",
     "text": [
      "-----------------------------------------------------------\n",
      "... quantizing model\n",
      "... quantizing model\n",
      "... quantizing model\n",
      "... quantizing model\n",
      "-----------------------------------------------------------\n",
      "... quantizing model\n"
     ]
    },
    {
     "name": "stderr",
     "output_type": "stream",
     "text": [
      "/home/dmitsas/.local/lib/python3.10/site-packages/sklearn/base.py:376: InconsistentVersionWarning: Trying to unpickle estimator LinearRegression from version 1.2.2 when using version 1.4.2. This might lead to breaking code or invalid results. Use at your own risk. For more info please refer to:\n",
      "https://scikit-learn.org/stable/model_persistence.html#security-maintainability-limitations\n",
      "  warnings.warn(\n",
      "/home/dmitsas/.local/lib/python3.10/site-packages/sklearn/base.py:376: InconsistentVersionWarning: Trying to unpickle estimator LinearRegression from version 1.2.2 when using version 1.4.2. This might lead to breaking code or invalid results. Use at your own risk. For more info please refer to:\n",
      "https://scikit-learn.org/stable/model_persistence.html#security-maintainability-limitations\n",
      "  warnings.warn(\n",
      "/home/dmitsas/.local/lib/python3.10/site-packages/sklearn/base.py:376: InconsistentVersionWarning: Trying to unpickle estimator LinearRegression from version 1.2.2 when using version 1.4.2. This might lead to breaking code or invalid results. Use at your own risk. For more info please refer to:\n",
      "https://scikit-learn.org/stable/model_persistence.html#security-maintainability-limitations\n",
      "  warnings.warn(\n",
      "/home/dmitsas/.local/lib/python3.10/site-packages/sklearn/base.py:376: InconsistentVersionWarning: Trying to unpickle estimator LinearRegression from version 1.2.2 when using version 1.4.2. This might lead to breaking code or invalid results. Use at your own risk. For more info please refer to:\n",
      "https://scikit-learn.org/stable/model_persistence.html#security-maintainability-limitations\n",
      "  warnings.warn(\n",
      "/home/dmitsas/.local/lib/python3.10/site-packages/sklearn/base.py:376: InconsistentVersionWarning: Trying to unpickle estimator LinearRegression from version 1.2.2 when using version 1.4.2. This might lead to breaking code or invalid results. Use at your own risk. For more info please refer to:\n",
      "https://scikit-learn.org/stable/model_persistence.html#security-maintainability-limitations\n",
      "  warnings.warn(\n"
     ]
    },
    {
     "name": "stdout",
     "output_type": "stream",
     "text": [
      "... quantizing model\n",
      "... quantizing model\n",
      "... quantizing model\n",
      "-----------------------------------------------------------\n",
      "... quantizing model\n",
      "... quantizing model\n"
     ]
    },
    {
     "name": "stderr",
     "output_type": "stream",
     "text": [
      "/home/dmitsas/.local/lib/python3.10/site-packages/sklearn/base.py:376: InconsistentVersionWarning: Trying to unpickle estimator LinearRegression from version 1.2.2 when using version 1.4.2. This might lead to breaking code or invalid results. Use at your own risk. For more info please refer to:\n",
      "https://scikit-learn.org/stable/model_persistence.html#security-maintainability-limitations\n",
      "  warnings.warn(\n",
      "/home/dmitsas/.local/lib/python3.10/site-packages/sklearn/base.py:376: InconsistentVersionWarning: Trying to unpickle estimator LinearRegression from version 1.2.2 when using version 1.4.2. This might lead to breaking code or invalid results. Use at your own risk. For more info please refer to:\n",
      "https://scikit-learn.org/stable/model_persistence.html#security-maintainability-limitations\n",
      "  warnings.warn(\n",
      "/home/dmitsas/.local/lib/python3.10/site-packages/sklearn/base.py:376: InconsistentVersionWarning: Trying to unpickle estimator LinearRegression from version 1.2.2 when using version 1.4.2. This might lead to breaking code or invalid results. Use at your own risk. For more info please refer to:\n",
      "https://scikit-learn.org/stable/model_persistence.html#security-maintainability-limitations\n",
      "  warnings.warn(\n",
      "/home/dmitsas/.local/lib/python3.10/site-packages/sklearn/base.py:376: InconsistentVersionWarning: Trying to unpickle estimator LinearRegression from version 1.2.2 when using version 1.4.2. This might lead to breaking code or invalid results. Use at your own risk. For more info please refer to:\n",
      "https://scikit-learn.org/stable/model_persistence.html#security-maintainability-limitations\n",
      "  warnings.warn(\n",
      "/home/dmitsas/.local/lib/python3.10/site-packages/sklearn/base.py:376: InconsistentVersionWarning: Trying to unpickle estimator LinearRegression from version 1.2.2 when using version 1.4.2. This might lead to breaking code or invalid results. Use at your own risk. For more info please refer to:\n",
      "https://scikit-learn.org/stable/model_persistence.html#security-maintainability-limitations\n",
      "  warnings.warn(\n"
     ]
    },
    {
     "name": "stdout",
     "output_type": "stream",
     "text": [
      "... quantizing model\n",
      "... quantizing model\n",
      "-----------------------------------------------------------\n",
      "... quantizing model\n",
      "... quantizing model\n",
      "... quantizing model\n"
     ]
    },
    {
     "name": "stderr",
     "output_type": "stream",
     "text": [
      "/home/dmitsas/.local/lib/python3.10/site-packages/sklearn/base.py:376: InconsistentVersionWarning: Trying to unpickle estimator LinearRegression from version 1.2.2 when using version 1.4.2. This might lead to breaking code or invalid results. Use at your own risk. For more info please refer to:\n",
      "https://scikit-learn.org/stable/model_persistence.html#security-maintainability-limitations\n",
      "  warnings.warn(\n",
      "/home/dmitsas/.local/lib/python3.10/site-packages/sklearn/base.py:376: InconsistentVersionWarning: Trying to unpickle estimator LinearRegression from version 1.2.2 when using version 1.4.2. This might lead to breaking code or invalid results. Use at your own risk. For more info please refer to:\n",
      "https://scikit-learn.org/stable/model_persistence.html#security-maintainability-limitations\n",
      "  warnings.warn(\n",
      "/home/dmitsas/.local/lib/python3.10/site-packages/sklearn/base.py:376: InconsistentVersionWarning: Trying to unpickle estimator LinearRegression from version 1.2.2 when using version 1.4.2. This might lead to breaking code or invalid results. Use at your own risk. For more info please refer to:\n",
      "https://scikit-learn.org/stable/model_persistence.html#security-maintainability-limitations\n",
      "  warnings.warn(\n",
      "/home/dmitsas/.local/lib/python3.10/site-packages/sklearn/base.py:376: InconsistentVersionWarning: Trying to unpickle estimator LinearRegression from version 1.2.2 when using version 1.4.2. This might lead to breaking code or invalid results. Use at your own risk. For more info please refer to:\n",
      "https://scikit-learn.org/stable/model_persistence.html#security-maintainability-limitations\n",
      "  warnings.warn(\n",
      "/home/dmitsas/.local/lib/python3.10/site-packages/sklearn/base.py:376: InconsistentVersionWarning: Trying to unpickle estimator LinearRegression from version 1.2.2 when using version 1.4.2. This might lead to breaking code or invalid results. Use at your own risk. For more info please refer to:\n",
      "https://scikit-learn.org/stable/model_persistence.html#security-maintainability-limitations\n",
      "  warnings.warn(\n",
      "/home/dmitsas/.local/lib/python3.10/site-packages/sklearn/base.py:376: InconsistentVersionWarning: Trying to unpickle estimator LinearRegression from version 1.2.2 when using version 1.4.2. This might lead to breaking code or invalid results. Use at your own risk. For more info please refer to:\n",
      "https://scikit-learn.org/stable/model_persistence.html#security-maintainability-limitations\n",
      "  warnings.warn(\n"
     ]
    },
    {
     "name": "stdout",
     "output_type": "stream",
     "text": [
      "... quantizing model\n",
      "-----------------------------------------------------------\n",
      "... quantizing model\n",
      "... quantizing model\n",
      "... quantizing model\n",
      "... quantizing model\n",
      "-----------------------------------------------------------\n",
      "... quantizing model\n",
      "... quantizing model\n",
      "... quantizing model\n",
      "... quantizing model\n",
      "-----------------------------------------------------------\n",
      "... quantizing model\n"
     ]
    },
    {
     "name": "stderr",
     "output_type": "stream",
     "text": [
      "/home/dmitsas/.local/lib/python3.10/site-packages/sklearn/base.py:376: InconsistentVersionWarning: Trying to unpickle estimator LinearRegression from version 1.2.2 when using version 1.4.2. This might lead to breaking code or invalid results. Use at your own risk. For more info please refer to:\n",
      "https://scikit-learn.org/stable/model_persistence.html#security-maintainability-limitations\n",
      "  warnings.warn(\n",
      "/home/dmitsas/.local/lib/python3.10/site-packages/sklearn/base.py:376: InconsistentVersionWarning: Trying to unpickle estimator LinearRegression from version 1.2.2 when using version 1.4.2. This might lead to breaking code or invalid results. Use at your own risk. For more info please refer to:\n",
      "https://scikit-learn.org/stable/model_persistence.html#security-maintainability-limitations\n",
      "  warnings.warn(\n",
      "/home/dmitsas/.local/lib/python3.10/site-packages/sklearn/base.py:376: InconsistentVersionWarning: Trying to unpickle estimator LinearRegression from version 1.2.2 when using version 1.4.2. This might lead to breaking code or invalid results. Use at your own risk. For more info please refer to:\n",
      "https://scikit-learn.org/stable/model_persistence.html#security-maintainability-limitations\n",
      "  warnings.warn(\n",
      "/home/dmitsas/.local/lib/python3.10/site-packages/sklearn/base.py:376: InconsistentVersionWarning: Trying to unpickle estimator LinearRegression from version 1.2.2 when using version 1.4.2. This might lead to breaking code or invalid results. Use at your own risk. For more info please refer to:\n",
      "https://scikit-learn.org/stable/model_persistence.html#security-maintainability-limitations\n",
      "  warnings.warn(\n",
      "/home/dmitsas/.local/lib/python3.10/site-packages/sklearn/base.py:376: InconsistentVersionWarning: Trying to unpickle estimator LinearRegression from version 1.2.2 when using version 1.4.2. This might lead to breaking code or invalid results. Use at your own risk. For more info please refer to:\n",
      "https://scikit-learn.org/stable/model_persistence.html#security-maintainability-limitations\n",
      "  warnings.warn(\n"
     ]
    },
    {
     "name": "stdout",
     "output_type": "stream",
     "text": [
      "... quantizing model\n",
      "... quantizing model\n",
      "... quantizing model\n",
      "-----------------------------------------------------------\n",
      "... quantizing model\n",
      "... quantizing model\n",
      "... quantizing model\n"
     ]
    },
    {
     "name": "stderr",
     "output_type": "stream",
     "text": [
      "/home/dmitsas/.local/lib/python3.10/site-packages/sklearn/base.py:376: InconsistentVersionWarning: Trying to unpickle estimator LinearRegression from version 1.2.2 when using version 1.4.2. This might lead to breaking code or invalid results. Use at your own risk. For more info please refer to:\n",
      "https://scikit-learn.org/stable/model_persistence.html#security-maintainability-limitations\n",
      "  warnings.warn(\n",
      "/home/dmitsas/.local/lib/python3.10/site-packages/sklearn/base.py:376: InconsistentVersionWarning: Trying to unpickle estimator LinearRegression from version 1.2.2 when using version 1.4.2. This might lead to breaking code or invalid results. Use at your own risk. For more info please refer to:\n",
      "https://scikit-learn.org/stable/model_persistence.html#security-maintainability-limitations\n",
      "  warnings.warn(\n",
      "/home/dmitsas/.local/lib/python3.10/site-packages/sklearn/base.py:376: InconsistentVersionWarning: Trying to unpickle estimator LinearRegression from version 1.2.2 when using version 1.4.2. This might lead to breaking code or invalid results. Use at your own risk. For more info please refer to:\n",
      "https://scikit-learn.org/stable/model_persistence.html#security-maintainability-limitations\n",
      "  warnings.warn(\n",
      "/home/dmitsas/.local/lib/python3.10/site-packages/sklearn/base.py:376: InconsistentVersionWarning: Trying to unpickle estimator LinearRegression from version 1.2.2 when using version 1.4.2. This might lead to breaking code or invalid results. Use at your own risk. For more info please refer to:\n",
      "https://scikit-learn.org/stable/model_persistence.html#security-maintainability-limitations\n",
      "  warnings.warn(\n",
      "/home/dmitsas/.local/lib/python3.10/site-packages/sklearn/base.py:376: InconsistentVersionWarning: Trying to unpickle estimator LinearRegression from version 1.2.2 when using version 1.4.2. This might lead to breaking code or invalid results. Use at your own risk. For more info please refer to:\n",
      "https://scikit-learn.org/stable/model_persistence.html#security-maintainability-limitations\n",
      "  warnings.warn(\n",
      "/home/dmitsas/.local/lib/python3.10/site-packages/sklearn/base.py:376: InconsistentVersionWarning: Trying to unpickle estimator LinearRegression from version 1.2.2 when using version 1.4.2. This might lead to breaking code or invalid results. Use at your own risk. For more info please refer to:\n",
      "https://scikit-learn.org/stable/model_persistence.html#security-maintainability-limitations\n",
      "  warnings.warn(\n",
      "/home/dmitsas/.local/lib/python3.10/site-packages/sklearn/base.py:376: InconsistentVersionWarning: Trying to unpickle estimator LinearRegression from version 1.2.2 when using version 1.4.2. This might lead to breaking code or invalid results. Use at your own risk. For more info please refer to:\n",
      "https://scikit-learn.org/stable/model_persistence.html#security-maintainability-limitations\n",
      "  warnings.warn(\n",
      "/home/dmitsas/.local/lib/python3.10/site-packages/sklearn/base.py:376: InconsistentVersionWarning: Trying to unpickle estimator LinearRegression from version 1.2.2 when using version 1.4.2. This might lead to breaking code or invalid results. Use at your own risk. For more info please refer to:\n",
      "https://scikit-learn.org/stable/model_persistence.html#security-maintainability-limitations\n",
      "  warnings.warn(\n",
      "/home/dmitsas/.local/lib/python3.10/site-packages/sklearn/base.py:376: InconsistentVersionWarning: Trying to unpickle estimator LinearRegression from version 1.2.2 when using version 1.4.2. This might lead to breaking code or invalid results. Use at your own risk. For more info please refer to:\n",
      "https://scikit-learn.org/stable/model_persistence.html#security-maintainability-limitations\n",
      "  warnings.warn(\n",
      "/home/dmitsas/.local/lib/python3.10/site-packages/sklearn/base.py:376: InconsistentVersionWarning: Trying to unpickle estimator LinearRegression from version 1.2.2 when using version 1.4.2. This might lead to breaking code or invalid results. Use at your own risk. For more info please refer to:\n",
      "https://scikit-learn.org/stable/model_persistence.html#security-maintainability-limitations\n",
      "  warnings.warn(\n",
      "/home/dmitsas/.local/lib/python3.10/site-packages/sklearn/base.py:376: InconsistentVersionWarning: Trying to unpickle estimator LinearRegression from version 1.2.2 when using version 1.4.2. This might lead to breaking code or invalid results. Use at your own risk. For more info please refer to:\n",
      "https://scikit-learn.org/stable/model_persistence.html#security-maintainability-limitations\n",
      "  warnings.warn(\n"
     ]
    },
    {
     "name": "stdout",
     "output_type": "stream",
     "text": [
      "... quantizing model\n",
      "-----------------------------------------------------------\n",
      "... quantizing model\n",
      "... quantizing model\n",
      "... quantizing model\n",
      "... quantizing model\n",
      "-----------------------------------------------------------\n",
      "... quantizing model\n"
     ]
    },
    {
     "name": "stderr",
     "output_type": "stream",
     "text": [
      "/home/dmitsas/.local/lib/python3.10/site-packages/sklearn/base.py:376: InconsistentVersionWarning: Trying to unpickle estimator LinearRegression from version 1.2.2 when using version 1.4.2. This might lead to breaking code or invalid results. Use at your own risk. For more info please refer to:\n",
      "https://scikit-learn.org/stable/model_persistence.html#security-maintainability-limitations\n",
      "  warnings.warn(\n",
      "/home/dmitsas/.local/lib/python3.10/site-packages/sklearn/base.py:376: InconsistentVersionWarning: Trying to unpickle estimator LinearRegression from version 1.2.2 when using version 1.4.2. This might lead to breaking code or invalid results. Use at your own risk. For more info please refer to:\n",
      "https://scikit-learn.org/stable/model_persistence.html#security-maintainability-limitations\n",
      "  warnings.warn(\n",
      "/home/dmitsas/.local/lib/python3.10/site-packages/sklearn/base.py:376: InconsistentVersionWarning: Trying to unpickle estimator LinearRegression from version 1.2.2 when using version 1.4.2. This might lead to breaking code or invalid results. Use at your own risk. For more info please refer to:\n",
      "https://scikit-learn.org/stable/model_persistence.html#security-maintainability-limitations\n",
      "  warnings.warn(\n",
      "/home/dmitsas/.local/lib/python3.10/site-packages/sklearn/base.py:376: InconsistentVersionWarning: Trying to unpickle estimator LinearRegression from version 1.2.2 when using version 1.4.2. This might lead to breaking code or invalid results. Use at your own risk. For more info please refer to:\n",
      "https://scikit-learn.org/stable/model_persistence.html#security-maintainability-limitations\n",
      "  warnings.warn(\n",
      "/home/dmitsas/.local/lib/python3.10/site-packages/sklearn/base.py:376: InconsistentVersionWarning: Trying to unpickle estimator LinearRegression from version 1.2.2 when using version 1.4.2. This might lead to breaking code or invalid results. Use at your own risk. For more info please refer to:\n",
      "https://scikit-learn.org/stable/model_persistence.html#security-maintainability-limitations\n",
      "  warnings.warn(\n",
      "/home/dmitsas/.local/lib/python3.10/site-packages/sklearn/base.py:376: InconsistentVersionWarning: Trying to unpickle estimator LinearRegression from version 1.2.2 when using version 1.4.2. This might lead to breaking code or invalid results. Use at your own risk. For more info please refer to:\n",
      "https://scikit-learn.org/stable/model_persistence.html#security-maintainability-limitations\n",
      "  warnings.warn(\n",
      "/home/dmitsas/.local/lib/python3.10/site-packages/sklearn/base.py:376: InconsistentVersionWarning: Trying to unpickle estimator LinearRegression from version 1.2.2 when using version 1.4.2. This might lead to breaking code or invalid results. Use at your own risk. For more info please refer to:\n",
      "https://scikit-learn.org/stable/model_persistence.html#security-maintainability-limitations\n",
      "  warnings.warn(\n"
     ]
    },
    {
     "name": "stdout",
     "output_type": "stream",
     "text": [
      "... quantizing model\n",
      "... quantizing model\n",
      "... quantizing model\n",
      "-----------------------------------------------------------\n",
      "... quantizing model\n",
      "... quantizing model\n",
      "... quantizing model\n",
      "... quantizing model\n"
     ]
    },
    {
     "name": "stderr",
     "output_type": "stream",
     "text": [
      "/home/dmitsas/.local/lib/python3.10/site-packages/sklearn/base.py:376: InconsistentVersionWarning: Trying to unpickle estimator LinearRegression from version 1.2.2 when using version 1.4.2. This might lead to breaking code or invalid results. Use at your own risk. For more info please refer to:\n",
      "https://scikit-learn.org/stable/model_persistence.html#security-maintainability-limitations\n",
      "  warnings.warn(\n",
      "/home/dmitsas/.local/lib/python3.10/site-packages/sklearn/base.py:376: InconsistentVersionWarning: Trying to unpickle estimator LinearRegression from version 1.2.2 when using version 1.4.2. This might lead to breaking code or invalid results. Use at your own risk. For more info please refer to:\n",
      "https://scikit-learn.org/stable/model_persistence.html#security-maintainability-limitations\n",
      "  warnings.warn(\n",
      "/home/dmitsas/.local/lib/python3.10/site-packages/sklearn/base.py:376: InconsistentVersionWarning: Trying to unpickle estimator LinearRegression from version 1.2.2 when using version 1.4.2. This might lead to breaking code or invalid results. Use at your own risk. For more info please refer to:\n",
      "https://scikit-learn.org/stable/model_persistence.html#security-maintainability-limitations\n",
      "  warnings.warn(\n",
      "/home/dmitsas/.local/lib/python3.10/site-packages/sklearn/base.py:376: InconsistentVersionWarning: Trying to unpickle estimator LinearRegression from version 1.2.2 when using version 1.4.2. This might lead to breaking code or invalid results. Use at your own risk. For more info please refer to:\n",
      "https://scikit-learn.org/stable/model_persistence.html#security-maintainability-limitations\n",
      "  warnings.warn(\n",
      "/home/dmitsas/.local/lib/python3.10/site-packages/sklearn/base.py:376: InconsistentVersionWarning: Trying to unpickle estimator LinearRegression from version 1.2.2 when using version 1.4.2. This might lead to breaking code or invalid results. Use at your own risk. For more info please refer to:\n",
      "https://scikit-learn.org/stable/model_persistence.html#security-maintainability-limitations\n",
      "  warnings.warn(\n",
      "/home/dmitsas/.local/lib/python3.10/site-packages/sklearn/base.py:376: InconsistentVersionWarning: Trying to unpickle estimator LinearRegression from version 1.2.2 when using version 1.4.2. This might lead to breaking code or invalid results. Use at your own risk. For more info please refer to:\n",
      "https://scikit-learn.org/stable/model_persistence.html#security-maintainability-limitations\n",
      "  warnings.warn(\n"
     ]
    },
    {
     "name": "stdout",
     "output_type": "stream",
     "text": [
      "-----------------------------------------------------------\n",
      "... quantizing model\n",
      "... quantizing model\n",
      "... quantizing model\n",
      "... quantizing model\n",
      "-----------------------------------------------------------\n",
      "... quantizing model\n",
      "... quantizing model\n"
     ]
    },
    {
     "name": "stderr",
     "output_type": "stream",
     "text": [
      "/home/dmitsas/.local/lib/python3.10/site-packages/sklearn/base.py:376: InconsistentVersionWarning: Trying to unpickle estimator LinearRegression from version 1.2.2 when using version 1.4.2. This might lead to breaking code or invalid results. Use at your own risk. For more info please refer to:\n",
      "https://scikit-learn.org/stable/model_persistence.html#security-maintainability-limitations\n",
      "  warnings.warn(\n",
      "/home/dmitsas/.local/lib/python3.10/site-packages/sklearn/base.py:376: InconsistentVersionWarning: Trying to unpickle estimator LinearRegression from version 1.2.2 when using version 1.4.2. This might lead to breaking code or invalid results. Use at your own risk. For more info please refer to:\n",
      "https://scikit-learn.org/stable/model_persistence.html#security-maintainability-limitations\n",
      "  warnings.warn(\n",
      "/home/dmitsas/.local/lib/python3.10/site-packages/sklearn/base.py:376: InconsistentVersionWarning: Trying to unpickle estimator LinearRegression from version 1.2.2 when using version 1.4.2. This might lead to breaking code or invalid results. Use at your own risk. For more info please refer to:\n",
      "https://scikit-learn.org/stable/model_persistence.html#security-maintainability-limitations\n",
      "  warnings.warn(\n",
      "/home/dmitsas/.local/lib/python3.10/site-packages/sklearn/base.py:376: InconsistentVersionWarning: Trying to unpickle estimator LinearRegression from version 1.2.2 when using version 1.4.2. This might lead to breaking code or invalid results. Use at your own risk. For more info please refer to:\n",
      "https://scikit-learn.org/stable/model_persistence.html#security-maintainability-limitations\n",
      "  warnings.warn(\n",
      "/home/dmitsas/.local/lib/python3.10/site-packages/sklearn/base.py:376: InconsistentVersionWarning: Trying to unpickle estimator LinearRegression from version 1.2.2 when using version 1.4.2. This might lead to breaking code or invalid results. Use at your own risk. For more info please refer to:\n",
      "https://scikit-learn.org/stable/model_persistence.html#security-maintainability-limitations\n",
      "  warnings.warn(\n",
      "/home/dmitsas/.local/lib/python3.10/site-packages/sklearn/base.py:376: InconsistentVersionWarning: Trying to unpickle estimator LinearRegression from version 1.2.2 when using version 1.4.2. This might lead to breaking code or invalid results. Use at your own risk. For more info please refer to:\n",
      "https://scikit-learn.org/stable/model_persistence.html#security-maintainability-limitations\n",
      "  warnings.warn(\n"
     ]
    },
    {
     "name": "stdout",
     "output_type": "stream",
     "text": [
      "... quantizing model\n",
      "... quantizing model\n",
      "-----------------------------------------------------------\n",
      "... quantizing model\n",
      "... quantizing model\n",
      "... quantizing model\n",
      "... quantizing model\n"
     ]
    },
    {
     "name": "stderr",
     "output_type": "stream",
     "text": [
      "/home/dmitsas/.local/lib/python3.10/site-packages/sklearn/base.py:376: InconsistentVersionWarning: Trying to unpickle estimator LinearRegression from version 1.2.2 when using version 1.4.2. This might lead to breaking code or invalid results. Use at your own risk. For more info please refer to:\n",
      "https://scikit-learn.org/stable/model_persistence.html#security-maintainability-limitations\n",
      "  warnings.warn(\n",
      "/home/dmitsas/.local/lib/python3.10/site-packages/sklearn/base.py:376: InconsistentVersionWarning: Trying to unpickle estimator LinearRegression from version 1.2.2 when using version 1.4.2. This might lead to breaking code or invalid results. Use at your own risk. For more info please refer to:\n",
      "https://scikit-learn.org/stable/model_persistence.html#security-maintainability-limitations\n",
      "  warnings.warn(\n",
      "/home/dmitsas/.local/lib/python3.10/site-packages/sklearn/base.py:376: InconsistentVersionWarning: Trying to unpickle estimator LinearRegression from version 1.2.2 when using version 1.4.2. This might lead to breaking code or invalid results. Use at your own risk. For more info please refer to:\n",
      "https://scikit-learn.org/stable/model_persistence.html#security-maintainability-limitations\n",
      "  warnings.warn(\n",
      "/home/dmitsas/.local/lib/python3.10/site-packages/sklearn/base.py:376: InconsistentVersionWarning: Trying to unpickle estimator LinearRegression from version 1.2.2 when using version 1.4.2. This might lead to breaking code or invalid results. Use at your own risk. For more info please refer to:\n",
      "https://scikit-learn.org/stable/model_persistence.html#security-maintainability-limitations\n",
      "  warnings.warn(\n",
      "/home/dmitsas/.local/lib/python3.10/site-packages/sklearn/base.py:376: InconsistentVersionWarning: Trying to unpickle estimator LinearRegression from version 1.2.2 when using version 1.4.2. This might lead to breaking code or invalid results. Use at your own risk. For more info please refer to:\n",
      "https://scikit-learn.org/stable/model_persistence.html#security-maintainability-limitations\n",
      "  warnings.warn(\n",
      "/home/dmitsas/.local/lib/python3.10/site-packages/sklearn/base.py:376: InconsistentVersionWarning: Trying to unpickle estimator LinearRegression from version 1.2.2 when using version 1.4.2. This might lead to breaking code or invalid results. Use at your own risk. For more info please refer to:\n",
      "https://scikit-learn.org/stable/model_persistence.html#security-maintainability-limitations\n",
      "  warnings.warn(\n"
     ]
    },
    {
     "name": "stdout",
     "output_type": "stream",
     "text": [
      "-----------------------------------------------------------\n",
      "... quantizing model\n",
      "... quantizing model\n",
      "... quantizing model\n",
      "... quantizing model\n",
      "-----------------------------------------------------------\n",
      "... quantizing model\n",
      "... quantizing model\n"
     ]
    },
    {
     "name": "stderr",
     "output_type": "stream",
     "text": [
      "/home/dmitsas/.local/lib/python3.10/site-packages/sklearn/base.py:376: InconsistentVersionWarning: Trying to unpickle estimator LinearRegression from version 1.2.2 when using version 1.4.2. This might lead to breaking code or invalid results. Use at your own risk. For more info please refer to:\n",
      "https://scikit-learn.org/stable/model_persistence.html#security-maintainability-limitations\n",
      "  warnings.warn(\n",
      "/home/dmitsas/.local/lib/python3.10/site-packages/sklearn/base.py:376: InconsistentVersionWarning: Trying to unpickle estimator LinearRegression from version 1.2.2 when using version 1.4.2. This might lead to breaking code or invalid results. Use at your own risk. For more info please refer to:\n",
      "https://scikit-learn.org/stable/model_persistence.html#security-maintainability-limitations\n",
      "  warnings.warn(\n",
      "/home/dmitsas/.local/lib/python3.10/site-packages/sklearn/base.py:376: InconsistentVersionWarning: Trying to unpickle estimator LinearRegression from version 1.2.2 when using version 1.4.2. This might lead to breaking code or invalid results. Use at your own risk. For more info please refer to:\n",
      "https://scikit-learn.org/stable/model_persistence.html#security-maintainability-limitations\n",
      "  warnings.warn(\n",
      "/home/dmitsas/.local/lib/python3.10/site-packages/sklearn/base.py:376: InconsistentVersionWarning: Trying to unpickle estimator LinearRegression from version 1.2.2 when using version 1.4.2. This might lead to breaking code or invalid results. Use at your own risk. For more info please refer to:\n",
      "https://scikit-learn.org/stable/model_persistence.html#security-maintainability-limitations\n",
      "  warnings.warn(\n",
      "/home/dmitsas/.local/lib/python3.10/site-packages/sklearn/base.py:376: InconsistentVersionWarning: Trying to unpickle estimator LinearRegression from version 1.2.2 when using version 1.4.2. This might lead to breaking code or invalid results. Use at your own risk. For more info please refer to:\n",
      "https://scikit-learn.org/stable/model_persistence.html#security-maintainability-limitations\n",
      "  warnings.warn(\n"
     ]
    },
    {
     "name": "stdout",
     "output_type": "stream",
     "text": [
      "... quantizing model\n",
      "... quantizing model\n",
      "-----------------------------------------------------------\n",
      "... quantizing model\n",
      "... quantizing model\n",
      "... quantizing model\n"
     ]
    },
    {
     "name": "stderr",
     "output_type": "stream",
     "text": [
      "/home/dmitsas/.local/lib/python3.10/site-packages/sklearn/base.py:376: InconsistentVersionWarning: Trying to unpickle estimator LinearRegression from version 1.2.2 when using version 1.4.2. This might lead to breaking code or invalid results. Use at your own risk. For more info please refer to:\n",
      "https://scikit-learn.org/stable/model_persistence.html#security-maintainability-limitations\n",
      "  warnings.warn(\n",
      "/home/dmitsas/.local/lib/python3.10/site-packages/sklearn/base.py:376: InconsistentVersionWarning: Trying to unpickle estimator LinearRegression from version 1.2.2 when using version 1.4.2. This might lead to breaking code or invalid results. Use at your own risk. For more info please refer to:\n",
      "https://scikit-learn.org/stable/model_persistence.html#security-maintainability-limitations\n",
      "  warnings.warn(\n",
      "/home/dmitsas/.local/lib/python3.10/site-packages/sklearn/base.py:376: InconsistentVersionWarning: Trying to unpickle estimator LinearRegression from version 1.2.2 when using version 1.4.2. This might lead to breaking code or invalid results. Use at your own risk. For more info please refer to:\n",
      "https://scikit-learn.org/stable/model_persistence.html#security-maintainability-limitations\n",
      "  warnings.warn(\n",
      "/home/dmitsas/.local/lib/python3.10/site-packages/sklearn/base.py:376: InconsistentVersionWarning: Trying to unpickle estimator LinearRegression from version 1.2.2 when using version 1.4.2. This might lead to breaking code or invalid results. Use at your own risk. For more info please refer to:\n",
      "https://scikit-learn.org/stable/model_persistence.html#security-maintainability-limitations\n",
      "  warnings.warn(\n",
      "/home/dmitsas/.local/lib/python3.10/site-packages/sklearn/base.py:376: InconsistentVersionWarning: Trying to unpickle estimator LinearRegression from version 1.2.2 when using version 1.4.2. This might lead to breaking code or invalid results. Use at your own risk. For more info please refer to:\n",
      "https://scikit-learn.org/stable/model_persistence.html#security-maintainability-limitations\n",
      "  warnings.warn(\n"
     ]
    },
    {
     "name": "stdout",
     "output_type": "stream",
     "text": [
      "... quantizing model\n",
      "-----------------------------------------------------------\n",
      "... quantizing model\n",
      "... quantizing model\n",
      "... quantizing model\n",
      "... quantizing model\n"
     ]
    },
    {
     "name": "stderr",
     "output_type": "stream",
     "text": [
      "/home/dmitsas/.local/lib/python3.10/site-packages/sklearn/base.py:376: InconsistentVersionWarning: Trying to unpickle estimator LinearRegression from version 1.2.2 when using version 1.4.2. This might lead to breaking code or invalid results. Use at your own risk. For more info please refer to:\n",
      "https://scikit-learn.org/stable/model_persistence.html#security-maintainability-limitations\n",
      "  warnings.warn(\n",
      "/home/dmitsas/.local/lib/python3.10/site-packages/sklearn/base.py:376: InconsistentVersionWarning: Trying to unpickle estimator LinearRegression from version 1.2.2 when using version 1.4.2. This might lead to breaking code or invalid results. Use at your own risk. For more info please refer to:\n",
      "https://scikit-learn.org/stable/model_persistence.html#security-maintainability-limitations\n",
      "  warnings.warn(\n",
      "/home/dmitsas/.local/lib/python3.10/site-packages/sklearn/base.py:376: InconsistentVersionWarning: Trying to unpickle estimator LinearRegression from version 1.2.2 when using version 1.4.2. This might lead to breaking code or invalid results. Use at your own risk. For more info please refer to:\n",
      "https://scikit-learn.org/stable/model_persistence.html#security-maintainability-limitations\n",
      "  warnings.warn(\n",
      "/home/dmitsas/.local/lib/python3.10/site-packages/sklearn/base.py:376: InconsistentVersionWarning: Trying to unpickle estimator LinearRegression from version 1.2.2 when using version 1.4.2. This might lead to breaking code or invalid results. Use at your own risk. For more info please refer to:\n",
      "https://scikit-learn.org/stable/model_persistence.html#security-maintainability-limitations\n",
      "  warnings.warn(\n",
      "/home/dmitsas/.local/lib/python3.10/site-packages/sklearn/base.py:376: InconsistentVersionWarning: Trying to unpickle estimator LinearRegression from version 1.2.2 when using version 1.4.2. This might lead to breaking code or invalid results. Use at your own risk. For more info please refer to:\n",
      "https://scikit-learn.org/stable/model_persistence.html#security-maintainability-limitations\n",
      "  warnings.warn(\n"
     ]
    },
    {
     "name": "stdout",
     "output_type": "stream",
     "text": [
      "-----------------------------------------------------------\n",
      "... quantizing model\n",
      "... quantizing model\n",
      "... quantizing model\n",
      "... quantizing model\n",
      "-----------------------------------------------------------\n",
      "... quantizing model\n"
     ]
    },
    {
     "name": "stderr",
     "output_type": "stream",
     "text": [
      "/home/dmitsas/.local/lib/python3.10/site-packages/sklearn/base.py:376: InconsistentVersionWarning: Trying to unpickle estimator LinearRegression from version 1.2.2 when using version 1.4.2. This might lead to breaking code or invalid results. Use at your own risk. For more info please refer to:\n",
      "https://scikit-learn.org/stable/model_persistence.html#security-maintainability-limitations\n",
      "  warnings.warn(\n",
      "/home/dmitsas/.local/lib/python3.10/site-packages/sklearn/base.py:376: InconsistentVersionWarning: Trying to unpickle estimator LinearRegression from version 1.2.2 when using version 1.4.2. This might lead to breaking code or invalid results. Use at your own risk. For more info please refer to:\n",
      "https://scikit-learn.org/stable/model_persistence.html#security-maintainability-limitations\n",
      "  warnings.warn(\n",
      "/home/dmitsas/.local/lib/python3.10/site-packages/sklearn/base.py:376: InconsistentVersionWarning: Trying to unpickle estimator LinearRegression from version 1.2.2 when using version 1.4.2. This might lead to breaking code or invalid results. Use at your own risk. For more info please refer to:\n",
      "https://scikit-learn.org/stable/model_persistence.html#security-maintainability-limitations\n",
      "  warnings.warn(\n",
      "/home/dmitsas/.local/lib/python3.10/site-packages/sklearn/base.py:376: InconsistentVersionWarning: Trying to unpickle estimator LinearRegression from version 1.2.2 when using version 1.4.2. This might lead to breaking code or invalid results. Use at your own risk. For more info please refer to:\n",
      "https://scikit-learn.org/stable/model_persistence.html#security-maintainability-limitations\n",
      "  warnings.warn(\n",
      "/home/dmitsas/.local/lib/python3.10/site-packages/sklearn/base.py:376: InconsistentVersionWarning: Trying to unpickle estimator LinearRegression from version 1.2.2 when using version 1.4.2. This might lead to breaking code or invalid results. Use at your own risk. For more info please refer to:\n",
      "https://scikit-learn.org/stable/model_persistence.html#security-maintainability-limitations\n",
      "  warnings.warn(\n",
      "/home/dmitsas/.local/lib/python3.10/site-packages/sklearn/base.py:376: InconsistentVersionWarning: Trying to unpickle estimator LinearRegression from version 1.2.2 when using version 1.4.2. This might lead to breaking code or invalid results. Use at your own risk. For more info please refer to:\n",
      "https://scikit-learn.org/stable/model_persistence.html#security-maintainability-limitations\n",
      "  warnings.warn(\n"
     ]
    },
    {
     "name": "stdout",
     "output_type": "stream",
     "text": [
      "... quantizing model\n",
      "... quantizing model\n",
      "... quantizing model\n",
      "-----------------------------------------------------------\n",
      "... quantizing model\n",
      "... quantizing model\n",
      "... quantizing model\n"
     ]
    },
    {
     "name": "stderr",
     "output_type": "stream",
     "text": [
      "/home/dmitsas/.local/lib/python3.10/site-packages/sklearn/base.py:376: InconsistentVersionWarning: Trying to unpickle estimator LinearRegression from version 1.2.2 when using version 1.4.2. This might lead to breaking code or invalid results. Use at your own risk. For more info please refer to:\n",
      "https://scikit-learn.org/stable/model_persistence.html#security-maintainability-limitations\n",
      "  warnings.warn(\n",
      "/home/dmitsas/.local/lib/python3.10/site-packages/sklearn/base.py:376: InconsistentVersionWarning: Trying to unpickle estimator LinearRegression from version 1.2.2 when using version 1.4.2. This might lead to breaking code or invalid results. Use at your own risk. For more info please refer to:\n",
      "https://scikit-learn.org/stable/model_persistence.html#security-maintainability-limitations\n",
      "  warnings.warn(\n",
      "/home/dmitsas/.local/lib/python3.10/site-packages/sklearn/base.py:376: InconsistentVersionWarning: Trying to unpickle estimator LinearRegression from version 1.2.2 when using version 1.4.2. This might lead to breaking code or invalid results. Use at your own risk. For more info please refer to:\n",
      "https://scikit-learn.org/stable/model_persistence.html#security-maintainability-limitations\n",
      "  warnings.warn(\n",
      "/home/dmitsas/.local/lib/python3.10/site-packages/sklearn/base.py:376: InconsistentVersionWarning: Trying to unpickle estimator LinearRegression from version 1.2.2 when using version 1.4.2. This might lead to breaking code or invalid results. Use at your own risk. For more info please refer to:\n",
      "https://scikit-learn.org/stable/model_persistence.html#security-maintainability-limitations\n",
      "  warnings.warn(\n",
      "/home/dmitsas/.local/lib/python3.10/site-packages/sklearn/base.py:376: InconsistentVersionWarning: Trying to unpickle estimator LinearRegression from version 1.2.2 when using version 1.4.2. This might lead to breaking code or invalid results. Use at your own risk. For more info please refer to:\n",
      "https://scikit-learn.org/stable/model_persistence.html#security-maintainability-limitations\n",
      "  warnings.warn(\n",
      "/home/dmitsas/.local/lib/python3.10/site-packages/sklearn/base.py:376: InconsistentVersionWarning: Trying to unpickle estimator LinearRegression from version 1.2.2 when using version 1.4.2. This might lead to breaking code or invalid results. Use at your own risk. For more info please refer to:\n",
      "https://scikit-learn.org/stable/model_persistence.html#security-maintainability-limitations\n",
      "  warnings.warn(\n"
     ]
    },
    {
     "name": "stdout",
     "output_type": "stream",
     "text": [
      "... quantizing model\n",
      "-----------------------------------------------------------\n",
      "... quantizing model\n",
      "... quantizing model\n",
      "... quantizing model\n",
      "... quantizing model\n",
      "-----------------------------------------------------------\n",
      "... quantizing model\n"
     ]
    },
    {
     "name": "stderr",
     "output_type": "stream",
     "text": [
      "/home/dmitsas/.local/lib/python3.10/site-packages/sklearn/base.py:376: InconsistentVersionWarning: Trying to unpickle estimator LinearRegression from version 1.2.2 when using version 1.4.2. This might lead to breaking code or invalid results. Use at your own risk. For more info please refer to:\n",
      "https://scikit-learn.org/stable/model_persistence.html#security-maintainability-limitations\n",
      "  warnings.warn(\n",
      "/home/dmitsas/.local/lib/python3.10/site-packages/sklearn/base.py:376: InconsistentVersionWarning: Trying to unpickle estimator LinearRegression from version 1.2.2 when using version 1.4.2. This might lead to breaking code or invalid results. Use at your own risk. For more info please refer to:\n",
      "https://scikit-learn.org/stable/model_persistence.html#security-maintainability-limitations\n",
      "  warnings.warn(\n",
      "/home/dmitsas/.local/lib/python3.10/site-packages/sklearn/base.py:376: InconsistentVersionWarning: Trying to unpickle estimator LinearRegression from version 1.2.2 when using version 1.4.2. This might lead to breaking code or invalid results. Use at your own risk. For more info please refer to:\n",
      "https://scikit-learn.org/stable/model_persistence.html#security-maintainability-limitations\n",
      "  warnings.warn(\n",
      "/home/dmitsas/.local/lib/python3.10/site-packages/sklearn/base.py:376: InconsistentVersionWarning: Trying to unpickle estimator LinearRegression from version 1.2.2 when using version 1.4.2. This might lead to breaking code or invalid results. Use at your own risk. For more info please refer to:\n",
      "https://scikit-learn.org/stable/model_persistence.html#security-maintainability-limitations\n",
      "  warnings.warn(\n",
      "/home/dmitsas/.local/lib/python3.10/site-packages/sklearn/base.py:376: InconsistentVersionWarning: Trying to unpickle estimator LinearRegression from version 1.2.2 when using version 1.4.2. This might lead to breaking code or invalid results. Use at your own risk. For more info please refer to:\n",
      "https://scikit-learn.org/stable/model_persistence.html#security-maintainability-limitations\n",
      "  warnings.warn(\n",
      "/home/dmitsas/.local/lib/python3.10/site-packages/sklearn/base.py:376: InconsistentVersionWarning: Trying to unpickle estimator LinearRegression from version 1.2.2 when using version 1.4.2. This might lead to breaking code or invalid results. Use at your own risk. For more info please refer to:\n",
      "https://scikit-learn.org/stable/model_persistence.html#security-maintainability-limitations\n",
      "  warnings.warn(\n"
     ]
    },
    {
     "name": "stdout",
     "output_type": "stream",
     "text": [
      "... quantizing model\n",
      "... quantizing model\n",
      "... quantizing model\n",
      "-----------------------------------------------------------\n",
      "... quantizing model\n",
      "... quantizing model\n",
      "... quantizing model\n"
     ]
    },
    {
     "name": "stderr",
     "output_type": "stream",
     "text": [
      "/home/dmitsas/.local/lib/python3.10/site-packages/sklearn/base.py:376: InconsistentVersionWarning: Trying to unpickle estimator LinearRegression from version 1.2.2 when using version 1.4.2. This might lead to breaking code or invalid results. Use at your own risk. For more info please refer to:\n",
      "https://scikit-learn.org/stable/model_persistence.html#security-maintainability-limitations\n",
      "  warnings.warn(\n",
      "/home/dmitsas/.local/lib/python3.10/site-packages/sklearn/base.py:376: InconsistentVersionWarning: Trying to unpickle estimator LinearRegression from version 1.2.2 when using version 1.4.2. This might lead to breaking code or invalid results. Use at your own risk. For more info please refer to:\n",
      "https://scikit-learn.org/stable/model_persistence.html#security-maintainability-limitations\n",
      "  warnings.warn(\n",
      "/home/dmitsas/.local/lib/python3.10/site-packages/sklearn/base.py:376: InconsistentVersionWarning: Trying to unpickle estimator LinearRegression from version 1.2.2 when using version 1.4.2. This might lead to breaking code or invalid results. Use at your own risk. For more info please refer to:\n",
      "https://scikit-learn.org/stable/model_persistence.html#security-maintainability-limitations\n",
      "  warnings.warn(\n",
      "/home/dmitsas/.local/lib/python3.10/site-packages/sklearn/base.py:376: InconsistentVersionWarning: Trying to unpickle estimator LinearRegression from version 1.2.2 when using version 1.4.2. This might lead to breaking code or invalid results. Use at your own risk. For more info please refer to:\n",
      "https://scikit-learn.org/stable/model_persistence.html#security-maintainability-limitations\n",
      "  warnings.warn(\n",
      "/home/dmitsas/.local/lib/python3.10/site-packages/sklearn/base.py:376: InconsistentVersionWarning: Trying to unpickle estimator LinearRegression from version 1.2.2 when using version 1.4.2. This might lead to breaking code or invalid results. Use at your own risk. For more info please refer to:\n",
      "https://scikit-learn.org/stable/model_persistence.html#security-maintainability-limitations\n",
      "  warnings.warn(\n",
      "/home/dmitsas/.local/lib/python3.10/site-packages/sklearn/base.py:376: InconsistentVersionWarning: Trying to unpickle estimator LinearRegression from version 1.2.2 when using version 1.4.2. This might lead to breaking code or invalid results. Use at your own risk. For more info please refer to:\n",
      "https://scikit-learn.org/stable/model_persistence.html#security-maintainability-limitations\n",
      "  warnings.warn(\n"
     ]
    },
    {
     "name": "stdout",
     "output_type": "stream",
     "text": [
      "... quantizing model\n",
      "-----------------------------------------------------------\n",
      "... quantizing model\n",
      "... quantizing model\n",
      "... quantizing model\n",
      "... quantizing model\n",
      "-----------------------------------------------------------\n",
      "... quantizing model\n"
     ]
    },
    {
     "name": "stderr",
     "output_type": "stream",
     "text": [
      "/home/dmitsas/.local/lib/python3.10/site-packages/sklearn/base.py:376: InconsistentVersionWarning: Trying to unpickle estimator LinearRegression from version 1.2.2 when using version 1.4.2. This might lead to breaking code or invalid results. Use at your own risk. For more info please refer to:\n",
      "https://scikit-learn.org/stable/model_persistence.html#security-maintainability-limitations\n",
      "  warnings.warn(\n",
      "/home/dmitsas/.local/lib/python3.10/site-packages/sklearn/base.py:376: InconsistentVersionWarning: Trying to unpickle estimator LinearRegression from version 1.2.2 when using version 1.4.2. This might lead to breaking code or invalid results. Use at your own risk. For more info please refer to:\n",
      "https://scikit-learn.org/stable/model_persistence.html#security-maintainability-limitations\n",
      "  warnings.warn(\n",
      "/home/dmitsas/.local/lib/python3.10/site-packages/sklearn/base.py:376: InconsistentVersionWarning: Trying to unpickle estimator LinearRegression from version 1.2.2 when using version 1.4.2. This might lead to breaking code or invalid results. Use at your own risk. For more info please refer to:\n",
      "https://scikit-learn.org/stable/model_persistence.html#security-maintainability-limitations\n",
      "  warnings.warn(\n",
      "/home/dmitsas/.local/lib/python3.10/site-packages/sklearn/base.py:376: InconsistentVersionWarning: Trying to unpickle estimator LinearRegression from version 1.2.2 when using version 1.4.2. This might lead to breaking code or invalid results. Use at your own risk. For more info please refer to:\n",
      "https://scikit-learn.org/stable/model_persistence.html#security-maintainability-limitations\n",
      "  warnings.warn(\n"
     ]
    },
    {
     "name": "stdout",
     "output_type": "stream",
     "text": [
      "... quantizing model\n",
      "... quantizing model\n",
      "... quantizing model\n",
      "-----------------------------------------------------------\n",
      "... quantizing model\n"
     ]
    },
    {
     "name": "stderr",
     "output_type": "stream",
     "text": [
      "/home/dmitsas/.local/lib/python3.10/site-packages/sklearn/base.py:376: InconsistentVersionWarning: Trying to unpickle estimator LinearRegression from version 1.2.2 when using version 1.4.2. This might lead to breaking code or invalid results. Use at your own risk. For more info please refer to:\n",
      "https://scikit-learn.org/stable/model_persistence.html#security-maintainability-limitations\n",
      "  warnings.warn(\n",
      "/home/dmitsas/.local/lib/python3.10/site-packages/sklearn/base.py:376: InconsistentVersionWarning: Trying to unpickle estimator LinearRegression from version 1.2.2 when using version 1.4.2. This might lead to breaking code or invalid results. Use at your own risk. For more info please refer to:\n",
      "https://scikit-learn.org/stable/model_persistence.html#security-maintainability-limitations\n",
      "  warnings.warn(\n",
      "/home/dmitsas/.local/lib/python3.10/site-packages/sklearn/base.py:376: InconsistentVersionWarning: Trying to unpickle estimator LinearRegression from version 1.2.2 when using version 1.4.2. This might lead to breaking code or invalid results. Use at your own risk. For more info please refer to:\n",
      "https://scikit-learn.org/stable/model_persistence.html#security-maintainability-limitations\n",
      "  warnings.warn(\n",
      "/home/dmitsas/.local/lib/python3.10/site-packages/sklearn/base.py:376: InconsistentVersionWarning: Trying to unpickle estimator LinearRegression from version 1.2.2 when using version 1.4.2. This might lead to breaking code or invalid results. Use at your own risk. For more info please refer to:\n",
      "https://scikit-learn.org/stable/model_persistence.html#security-maintainability-limitations\n",
      "  warnings.warn(\n",
      "/home/dmitsas/.local/lib/python3.10/site-packages/sklearn/base.py:376: InconsistentVersionWarning: Trying to unpickle estimator LinearRegression from version 1.2.2 when using version 1.4.2. This might lead to breaking code or invalid results. Use at your own risk. For more info please refer to:\n",
      "https://scikit-learn.org/stable/model_persistence.html#security-maintainability-limitations\n",
      "  warnings.warn(\n"
     ]
    },
    {
     "name": "stdout",
     "output_type": "stream",
     "text": [
      "... quantizing model\n",
      "... quantizing model\n",
      "... quantizing model\n",
      "-----------------------------------------------------------\n",
      "... quantizing model\n",
      "... quantizing model\n"
     ]
    },
    {
     "name": "stderr",
     "output_type": "stream",
     "text": [
      "/home/dmitsas/.local/lib/python3.10/site-packages/sklearn/base.py:376: InconsistentVersionWarning: Trying to unpickle estimator LinearRegression from version 1.2.2 when using version 1.4.2. This might lead to breaking code or invalid results. Use at your own risk. For more info please refer to:\n",
      "https://scikit-learn.org/stable/model_persistence.html#security-maintainability-limitations\n",
      "  warnings.warn(\n",
      "/home/dmitsas/.local/lib/python3.10/site-packages/sklearn/base.py:376: InconsistentVersionWarning: Trying to unpickle estimator LinearRegression from version 1.2.2 when using version 1.4.2. This might lead to breaking code or invalid results. Use at your own risk. For more info please refer to:\n",
      "https://scikit-learn.org/stable/model_persistence.html#security-maintainability-limitations\n",
      "  warnings.warn(\n",
      "/home/dmitsas/.local/lib/python3.10/site-packages/sklearn/base.py:376: InconsistentVersionWarning: Trying to unpickle estimator LinearRegression from version 1.2.2 when using version 1.4.2. This might lead to breaking code or invalid results. Use at your own risk. For more info please refer to:\n",
      "https://scikit-learn.org/stable/model_persistence.html#security-maintainability-limitations\n",
      "  warnings.warn(\n",
      "/home/dmitsas/.local/lib/python3.10/site-packages/sklearn/base.py:376: InconsistentVersionWarning: Trying to unpickle estimator LinearRegression from version 1.2.2 when using version 1.4.2. This might lead to breaking code or invalid results. Use at your own risk. For more info please refer to:\n",
      "https://scikit-learn.org/stable/model_persistence.html#security-maintainability-limitations\n",
      "  warnings.warn(\n",
      "/home/dmitsas/.local/lib/python3.10/site-packages/sklearn/base.py:376: InconsistentVersionWarning: Trying to unpickle estimator LinearRegression from version 1.2.2 when using version 1.4.2. This might lead to breaking code or invalid results. Use at your own risk. For more info please refer to:\n",
      "https://scikit-learn.org/stable/model_persistence.html#security-maintainability-limitations\n",
      "  warnings.warn(\n",
      "/home/dmitsas/.local/lib/python3.10/site-packages/sklearn/base.py:376: InconsistentVersionWarning: Trying to unpickle estimator LinearRegression from version 1.2.2 when using version 1.4.2. This might lead to breaking code or invalid results. Use at your own risk. For more info please refer to:\n",
      "https://scikit-learn.org/stable/model_persistence.html#security-maintainability-limitations\n",
      "  warnings.warn(\n",
      "/home/dmitsas/.local/lib/python3.10/site-packages/sklearn/base.py:376: InconsistentVersionWarning: Trying to unpickle estimator LinearRegression from version 1.2.2 when using version 1.4.2. This might lead to breaking code or invalid results. Use at your own risk. For more info please refer to:\n",
      "https://scikit-learn.org/stable/model_persistence.html#security-maintainability-limitations\n",
      "  warnings.warn(\n"
     ]
    },
    {
     "name": "stdout",
     "output_type": "stream",
     "text": [
      "... quantizing model\n",
      "... quantizing model\n",
      "-----------------------------------------------------------\n",
      "... quantizing model\n",
      "... quantizing model\n",
      "... quantizing model\n",
      "... quantizing model\n",
      "-----------------------------------------------------------\n",
      "... quantizing model\n"
     ]
    },
    {
     "name": "stderr",
     "output_type": "stream",
     "text": [
      "/home/dmitsas/.local/lib/python3.10/site-packages/sklearn/base.py:376: InconsistentVersionWarning: Trying to unpickle estimator LinearRegression from version 1.2.2 when using version 1.4.2. This might lead to breaking code or invalid results. Use at your own risk. For more info please refer to:\n",
      "https://scikit-learn.org/stable/model_persistence.html#security-maintainability-limitations\n",
      "  warnings.warn(\n",
      "/home/dmitsas/.local/lib/python3.10/site-packages/sklearn/base.py:376: InconsistentVersionWarning: Trying to unpickle estimator LinearRegression from version 1.2.2 when using version 1.4.2. This might lead to breaking code or invalid results. Use at your own risk. For more info please refer to:\n",
      "https://scikit-learn.org/stable/model_persistence.html#security-maintainability-limitations\n",
      "  warnings.warn(\n",
      "/home/dmitsas/.local/lib/python3.10/site-packages/sklearn/base.py:376: InconsistentVersionWarning: Trying to unpickle estimator LinearRegression from version 1.2.2 when using version 1.4.2. This might lead to breaking code or invalid results. Use at your own risk. For more info please refer to:\n",
      "https://scikit-learn.org/stable/model_persistence.html#security-maintainability-limitations\n",
      "  warnings.warn(\n",
      "/home/dmitsas/.local/lib/python3.10/site-packages/sklearn/base.py:376: InconsistentVersionWarning: Trying to unpickle estimator LinearRegression from version 1.2.2 when using version 1.4.2. This might lead to breaking code or invalid results. Use at your own risk. For more info please refer to:\n",
      "https://scikit-learn.org/stable/model_persistence.html#security-maintainability-limitations\n",
      "  warnings.warn(\n",
      "/home/dmitsas/.local/lib/python3.10/site-packages/sklearn/base.py:376: InconsistentVersionWarning: Trying to unpickle estimator LinearRegression from version 1.2.2 when using version 1.4.2. This might lead to breaking code or invalid results. Use at your own risk. For more info please refer to:\n",
      "https://scikit-learn.org/stable/model_persistence.html#security-maintainability-limitations\n",
      "  warnings.warn(\n",
      "/home/dmitsas/.local/lib/python3.10/site-packages/sklearn/base.py:376: InconsistentVersionWarning: Trying to unpickle estimator LinearRegression from version 1.2.2 when using version 1.4.2. This might lead to breaking code or invalid results. Use at your own risk. For more info please refer to:\n",
      "https://scikit-learn.org/stable/model_persistence.html#security-maintainability-limitations\n",
      "  warnings.warn(\n"
     ]
    },
    {
     "name": "stdout",
     "output_type": "stream",
     "text": [
      "... quantizing model\n",
      "... quantizing model\n",
      "... quantizing model\n",
      "-----------------------------------------------------------\n",
      "... quantizing model\n",
      "... quantizing model\n",
      "... quantizing model\n"
     ]
    },
    {
     "name": "stderr",
     "output_type": "stream",
     "text": [
      "/home/dmitsas/.local/lib/python3.10/site-packages/sklearn/base.py:376: InconsistentVersionWarning: Trying to unpickle estimator LinearRegression from version 1.2.2 when using version 1.4.2. This might lead to breaking code or invalid results. Use at your own risk. For more info please refer to:\n",
      "https://scikit-learn.org/stable/model_persistence.html#security-maintainability-limitations\n",
      "  warnings.warn(\n",
      "/home/dmitsas/.local/lib/python3.10/site-packages/sklearn/base.py:376: InconsistentVersionWarning: Trying to unpickle estimator LinearRegression from version 1.2.2 when using version 1.4.2. This might lead to breaking code or invalid results. Use at your own risk. For more info please refer to:\n",
      "https://scikit-learn.org/stable/model_persistence.html#security-maintainability-limitations\n",
      "  warnings.warn(\n",
      "/home/dmitsas/.local/lib/python3.10/site-packages/sklearn/base.py:376: InconsistentVersionWarning: Trying to unpickle estimator LinearRegression from version 1.2.2 when using version 1.4.2. This might lead to breaking code or invalid results. Use at your own risk. For more info please refer to:\n",
      "https://scikit-learn.org/stable/model_persistence.html#security-maintainability-limitations\n",
      "  warnings.warn(\n",
      "/home/dmitsas/.local/lib/python3.10/site-packages/sklearn/base.py:376: InconsistentVersionWarning: Trying to unpickle estimator LinearRegression from version 1.2.2 when using version 1.4.2. This might lead to breaking code or invalid results. Use at your own risk. For more info please refer to:\n",
      "https://scikit-learn.org/stable/model_persistence.html#security-maintainability-limitations\n",
      "  warnings.warn(\n",
      "/home/dmitsas/.local/lib/python3.10/site-packages/sklearn/base.py:376: InconsistentVersionWarning: Trying to unpickle estimator LinearRegression from version 1.2.2 when using version 1.4.2. This might lead to breaking code or invalid results. Use at your own risk. For more info please refer to:\n",
      "https://scikit-learn.org/stable/model_persistence.html#security-maintainability-limitations\n",
      "  warnings.warn(\n"
     ]
    },
    {
     "name": "stdout",
     "output_type": "stream",
     "text": [
      "... quantizing model\n",
      "-----------------------------------------------------------\n",
      "... quantizing model\n",
      "... quantizing model\n",
      "... quantizing model\n",
      "... quantizing model\n"
     ]
    },
    {
     "name": "stderr",
     "output_type": "stream",
     "text": [
      "/home/dmitsas/.local/lib/python3.10/site-packages/sklearn/base.py:376: InconsistentVersionWarning: Trying to unpickle estimator LinearRegression from version 1.2.2 when using version 1.4.2. This might lead to breaking code or invalid results. Use at your own risk. For more info please refer to:\n",
      "https://scikit-learn.org/stable/model_persistence.html#security-maintainability-limitations\n",
      "  warnings.warn(\n",
      "/home/dmitsas/.local/lib/python3.10/site-packages/sklearn/base.py:376: InconsistentVersionWarning: Trying to unpickle estimator LinearRegression from version 1.2.2 when using version 1.4.2. This might lead to breaking code or invalid results. Use at your own risk. For more info please refer to:\n",
      "https://scikit-learn.org/stable/model_persistence.html#security-maintainability-limitations\n",
      "  warnings.warn(\n",
      "/home/dmitsas/.local/lib/python3.10/site-packages/sklearn/base.py:376: InconsistentVersionWarning: Trying to unpickle estimator LinearRegression from version 1.2.2 when using version 1.4.2. This might lead to breaking code or invalid results. Use at your own risk. For more info please refer to:\n",
      "https://scikit-learn.org/stable/model_persistence.html#security-maintainability-limitations\n",
      "  warnings.warn(\n",
      "/home/dmitsas/.local/lib/python3.10/site-packages/sklearn/base.py:376: InconsistentVersionWarning: Trying to unpickle estimator LinearRegression from version 1.2.2 when using version 1.4.2. This might lead to breaking code or invalid results. Use at your own risk. For more info please refer to:\n",
      "https://scikit-learn.org/stable/model_persistence.html#security-maintainability-limitations\n",
      "  warnings.warn(\n",
      "/home/dmitsas/.local/lib/python3.10/site-packages/sklearn/base.py:376: InconsistentVersionWarning: Trying to unpickle estimator LinearRegression from version 1.2.2 when using version 1.4.2. This might lead to breaking code or invalid results. Use at your own risk. For more info please refer to:\n",
      "https://scikit-learn.org/stable/model_persistence.html#security-maintainability-limitations\n",
      "  warnings.warn(\n",
      "/home/dmitsas/.local/lib/python3.10/site-packages/sklearn/base.py:376: InconsistentVersionWarning: Trying to unpickle estimator LinearRegression from version 1.2.2 when using version 1.4.2. This might lead to breaking code or invalid results. Use at your own risk. For more info please refer to:\n",
      "https://scikit-learn.org/stable/model_persistence.html#security-maintainability-limitations\n",
      "  warnings.warn(\n"
     ]
    },
    {
     "name": "stdout",
     "output_type": "stream",
     "text": [
      "-----------------------------------------------------------\n",
      "... quantizing model\n",
      "... quantizing model\n",
      "... quantizing model\n",
      "... quantizing model\n",
      "-----------------------------------------------------------\n",
      "... quantizing model\n",
      "... quantizing model\n"
     ]
    },
    {
     "name": "stderr",
     "output_type": "stream",
     "text": [
      "/home/dmitsas/.local/lib/python3.10/site-packages/sklearn/base.py:376: InconsistentVersionWarning: Trying to unpickle estimator LinearRegression from version 1.2.2 when using version 1.4.2. This might lead to breaking code or invalid results. Use at your own risk. For more info please refer to:\n",
      "https://scikit-learn.org/stable/model_persistence.html#security-maintainability-limitations\n",
      "  warnings.warn(\n",
      "/home/dmitsas/.local/lib/python3.10/site-packages/sklearn/base.py:376: InconsistentVersionWarning: Trying to unpickle estimator LinearRegression from version 1.2.2 when using version 1.4.2. This might lead to breaking code or invalid results. Use at your own risk. For more info please refer to:\n",
      "https://scikit-learn.org/stable/model_persistence.html#security-maintainability-limitations\n",
      "  warnings.warn(\n",
      "/home/dmitsas/.local/lib/python3.10/site-packages/sklearn/base.py:376: InconsistentVersionWarning: Trying to unpickle estimator LinearRegression from version 1.2.2 when using version 1.4.2. This might lead to breaking code or invalid results. Use at your own risk. For more info please refer to:\n",
      "https://scikit-learn.org/stable/model_persistence.html#security-maintainability-limitations\n",
      "  warnings.warn(\n",
      "/home/dmitsas/.local/lib/python3.10/site-packages/sklearn/base.py:376: InconsistentVersionWarning: Trying to unpickle estimator LinearRegression from version 1.2.2 when using version 1.4.2. This might lead to breaking code or invalid results. Use at your own risk. For more info please refer to:\n",
      "https://scikit-learn.org/stable/model_persistence.html#security-maintainability-limitations\n",
      "  warnings.warn(\n",
      "/home/dmitsas/.local/lib/python3.10/site-packages/sklearn/base.py:376: InconsistentVersionWarning: Trying to unpickle estimator LinearRegression from version 1.2.2 when using version 1.4.2. This might lead to breaking code or invalid results. Use at your own risk. For more info please refer to:\n",
      "https://scikit-learn.org/stable/model_persistence.html#security-maintainability-limitations\n",
      "  warnings.warn(\n"
     ]
    },
    {
     "name": "stdout",
     "output_type": "stream",
     "text": [
      "... quantizing model\n",
      "... quantizing model\n",
      "-----------------------------------------------------------\n",
      "... quantizing model\n",
      "... quantizing model\n",
      "... quantizing model\n"
     ]
    },
    {
     "name": "stderr",
     "output_type": "stream",
     "text": [
      "/home/dmitsas/.local/lib/python3.10/site-packages/sklearn/base.py:376: InconsistentVersionWarning: Trying to unpickle estimator LinearRegression from version 1.2.2 when using version 1.4.2. This might lead to breaking code or invalid results. Use at your own risk. For more info please refer to:\n",
      "https://scikit-learn.org/stable/model_persistence.html#security-maintainability-limitations\n",
      "  warnings.warn(\n",
      "/home/dmitsas/.local/lib/python3.10/site-packages/sklearn/base.py:376: InconsistentVersionWarning: Trying to unpickle estimator LinearRegression from version 1.2.2 when using version 1.4.2. This might lead to breaking code or invalid results. Use at your own risk. For more info please refer to:\n",
      "https://scikit-learn.org/stable/model_persistence.html#security-maintainability-limitations\n",
      "  warnings.warn(\n",
      "/home/dmitsas/.local/lib/python3.10/site-packages/sklearn/base.py:376: InconsistentVersionWarning: Trying to unpickle estimator LinearRegression from version 1.2.2 when using version 1.4.2. This might lead to breaking code or invalid results. Use at your own risk. For more info please refer to:\n",
      "https://scikit-learn.org/stable/model_persistence.html#security-maintainability-limitations\n",
      "  warnings.warn(\n",
      "/home/dmitsas/.local/lib/python3.10/site-packages/sklearn/base.py:376: InconsistentVersionWarning: Trying to unpickle estimator LinearRegression from version 1.2.2 when using version 1.4.2. This might lead to breaking code or invalid results. Use at your own risk. For more info please refer to:\n",
      "https://scikit-learn.org/stable/model_persistence.html#security-maintainability-limitations\n",
      "  warnings.warn(\n",
      "/home/dmitsas/.local/lib/python3.10/site-packages/sklearn/base.py:376: InconsistentVersionWarning: Trying to unpickle estimator LinearRegression from version 1.2.2 when using version 1.4.2. This might lead to breaking code or invalid results. Use at your own risk. For more info please refer to:\n",
      "https://scikit-learn.org/stable/model_persistence.html#security-maintainability-limitations\n",
      "  warnings.warn(\n",
      "/home/dmitsas/.local/lib/python3.10/site-packages/sklearn/base.py:376: InconsistentVersionWarning: Trying to unpickle estimator LinearRegression from version 1.2.2 when using version 1.4.2. This might lead to breaking code or invalid results. Use at your own risk. For more info please refer to:\n",
      "https://scikit-learn.org/stable/model_persistence.html#security-maintainability-limitations\n",
      "  warnings.warn(\n"
     ]
    },
    {
     "name": "stdout",
     "output_type": "stream",
     "text": [
      "... quantizing model\n",
      "-----------------------------------------------------------\n",
      "... quantizing model\n",
      "... quantizing model\n",
      "... quantizing model\n",
      "... quantizing model\n",
      "-----------------------------------------------------------\n",
      "... quantizing model\n"
     ]
    },
    {
     "name": "stderr",
     "output_type": "stream",
     "text": [
      "/home/dmitsas/.local/lib/python3.10/site-packages/sklearn/base.py:376: InconsistentVersionWarning: Trying to unpickle estimator LinearRegression from version 1.2.2 when using version 1.4.2. This might lead to breaking code or invalid results. Use at your own risk. For more info please refer to:\n",
      "https://scikit-learn.org/stable/model_persistence.html#security-maintainability-limitations\n",
      "  warnings.warn(\n",
      "/home/dmitsas/.local/lib/python3.10/site-packages/sklearn/base.py:376: InconsistentVersionWarning: Trying to unpickle estimator LinearRegression from version 1.2.2 when using version 1.4.2. This might lead to breaking code or invalid results. Use at your own risk. For more info please refer to:\n",
      "https://scikit-learn.org/stable/model_persistence.html#security-maintainability-limitations\n",
      "  warnings.warn(\n",
      "/home/dmitsas/.local/lib/python3.10/site-packages/sklearn/base.py:376: InconsistentVersionWarning: Trying to unpickle estimator LinearRegression from version 1.2.2 when using version 1.4.2. This might lead to breaking code or invalid results. Use at your own risk. For more info please refer to:\n",
      "https://scikit-learn.org/stable/model_persistence.html#security-maintainability-limitations\n",
      "  warnings.warn(\n",
      "/home/dmitsas/.local/lib/python3.10/site-packages/sklearn/base.py:376: InconsistentVersionWarning: Trying to unpickle estimator LinearRegression from version 1.2.2 when using version 1.4.2. This might lead to breaking code or invalid results. Use at your own risk. For more info please refer to:\n",
      "https://scikit-learn.org/stable/model_persistence.html#security-maintainability-limitations\n",
      "  warnings.warn(\n",
      "/home/dmitsas/.local/lib/python3.10/site-packages/sklearn/base.py:376: InconsistentVersionWarning: Trying to unpickle estimator LinearRegression from version 1.2.2 when using version 1.4.2. This might lead to breaking code or invalid results. Use at your own risk. For more info please refer to:\n",
      "https://scikit-learn.org/stable/model_persistence.html#security-maintainability-limitations\n",
      "  warnings.warn(\n",
      "/home/dmitsas/.local/lib/python3.10/site-packages/sklearn/base.py:376: InconsistentVersionWarning: Trying to unpickle estimator LinearRegression from version 1.2.2 when using version 1.4.2. This might lead to breaking code or invalid results. Use at your own risk. For more info please refer to:\n",
      "https://scikit-learn.org/stable/model_persistence.html#security-maintainability-limitations\n",
      "  warnings.warn(\n"
     ]
    },
    {
     "name": "stdout",
     "output_type": "stream",
     "text": [
      "... quantizing model\n",
      "... quantizing model\n",
      "... quantizing model\n",
      "-----------------------------------------------------------\n",
      "... quantizing model\n",
      "... quantizing model\n",
      "... quantizing model\n"
     ]
    },
    {
     "name": "stderr",
     "output_type": "stream",
     "text": [
      "/home/dmitsas/.local/lib/python3.10/site-packages/sklearn/base.py:376: InconsistentVersionWarning: Trying to unpickle estimator LinearRegression from version 1.2.2 when using version 1.4.2. This might lead to breaking code or invalid results. Use at your own risk. For more info please refer to:\n",
      "https://scikit-learn.org/stable/model_persistence.html#security-maintainability-limitations\n",
      "  warnings.warn(\n",
      "/home/dmitsas/.local/lib/python3.10/site-packages/sklearn/base.py:376: InconsistentVersionWarning: Trying to unpickle estimator LinearRegression from version 1.2.2 when using version 1.4.2. This might lead to breaking code or invalid results. Use at your own risk. For more info please refer to:\n",
      "https://scikit-learn.org/stable/model_persistence.html#security-maintainability-limitations\n",
      "  warnings.warn(\n",
      "/home/dmitsas/.local/lib/python3.10/site-packages/sklearn/base.py:376: InconsistentVersionWarning: Trying to unpickle estimator LinearRegression from version 1.2.2 when using version 1.4.2. This might lead to breaking code or invalid results. Use at your own risk. For more info please refer to:\n",
      "https://scikit-learn.org/stable/model_persistence.html#security-maintainability-limitations\n",
      "  warnings.warn(\n",
      "/home/dmitsas/.local/lib/python3.10/site-packages/sklearn/base.py:376: InconsistentVersionWarning: Trying to unpickle estimator LinearRegression from version 1.2.2 when using version 1.4.2. This might lead to breaking code or invalid results. Use at your own risk. For more info please refer to:\n",
      "https://scikit-learn.org/stable/model_persistence.html#security-maintainability-limitations\n",
      "  warnings.warn(\n"
     ]
    },
    {
     "name": "stdout",
     "output_type": "stream",
     "text": [
      "... quantizing model\n",
      "-----------------------------------------------------------\n",
      "... quantizing model\n",
      "... quantizing model\n",
      "... quantizing model\n"
     ]
    },
    {
     "name": "stderr",
     "output_type": "stream",
     "text": [
      "/home/dmitsas/.local/lib/python3.10/site-packages/sklearn/base.py:376: InconsistentVersionWarning: Trying to unpickle estimator LinearRegression from version 1.2.2 when using version 1.4.2. This might lead to breaking code or invalid results. Use at your own risk. For more info please refer to:\n",
      "https://scikit-learn.org/stable/model_persistence.html#security-maintainability-limitations\n",
      "  warnings.warn(\n",
      "/home/dmitsas/.local/lib/python3.10/site-packages/sklearn/base.py:376: InconsistentVersionWarning: Trying to unpickle estimator LinearRegression from version 1.2.2 when using version 1.4.2. This might lead to breaking code or invalid results. Use at your own risk. For more info please refer to:\n",
      "https://scikit-learn.org/stable/model_persistence.html#security-maintainability-limitations\n",
      "  warnings.warn(\n",
      "/home/dmitsas/.local/lib/python3.10/site-packages/sklearn/base.py:376: InconsistentVersionWarning: Trying to unpickle estimator LinearRegression from version 1.2.2 when using version 1.4.2. This might lead to breaking code or invalid results. Use at your own risk. For more info please refer to:\n",
      "https://scikit-learn.org/stable/model_persistence.html#security-maintainability-limitations\n",
      "  warnings.warn(\n",
      "/home/dmitsas/.local/lib/python3.10/site-packages/sklearn/base.py:376: InconsistentVersionWarning: Trying to unpickle estimator LinearRegression from version 1.2.2 when using version 1.4.2. This might lead to breaking code or invalid results. Use at your own risk. For more info please refer to:\n",
      "https://scikit-learn.org/stable/model_persistence.html#security-maintainability-limitations\n",
      "  warnings.warn(\n",
      "/home/dmitsas/.local/lib/python3.10/site-packages/sklearn/base.py:376: InconsistentVersionWarning: Trying to unpickle estimator LinearRegression from version 1.2.2 when using version 1.4.2. This might lead to breaking code or invalid results. Use at your own risk. For more info please refer to:\n",
      "https://scikit-learn.org/stable/model_persistence.html#security-maintainability-limitations\n",
      "  warnings.warn(\n",
      "/home/dmitsas/.local/lib/python3.10/site-packages/sklearn/base.py:376: InconsistentVersionWarning: Trying to unpickle estimator LinearRegression from version 1.2.2 when using version 1.4.2. This might lead to breaking code or invalid results. Use at your own risk. For more info please refer to:\n",
      "https://scikit-learn.org/stable/model_persistence.html#security-maintainability-limitations\n",
      "  warnings.warn(\n"
     ]
    },
    {
     "name": "stdout",
     "output_type": "stream",
     "text": [
      "... quantizing model\n",
      "-----------------------------------------------------------\n",
      "... quantizing model\n",
      "... quantizing model\n",
      "... quantizing model\n",
      "... quantizing model\n",
      "-----------------------------------------------------------\n",
      "CPU times: user 8.94 s, sys: 59.3 ms, total: 9 s\n",
      "Wall time: 9.07 s\n"
     ]
    }
   ],
   "source": [
    "%%time\n",
    "res = problem.minimize(problem,pop_size,('n_gen',1),seed=1)\n",
    "#np.savetxt(dirname + \"/reuse_\" + str(RF) + \"\\results.txt\",problem.get_opt_solutions())"
   ]
  },
  {
   "cell_type": "code",
   "execution_count": 34,
   "id": "41ee4396",
   "metadata": {},
   "outputs": [
    {
     "data": {
      "text/plain": [
       "'./dse_models/models_11/model_'"
      ]
     },
     "execution_count": 34,
     "metadata": {},
     "output_type": "execute_result"
    }
   ],
   "source": [
    "dirname"
   ]
  },
  {
   "cell_type": "code",
   "execution_count": 35,
   "id": "0ac7c0b9",
   "metadata": {},
   "outputs": [
    {
     "data": {
      "image/png": "[encoded data removed]",
      "text/plain": [
       "<Figure size 640x480 with 1 Axes>"
      ]
     },
     "metadata": {},
     "output_type": "display_data"
    }
   ],
   "source": [
    "problem.plot_parento_front()"
   ]
  },
  {
   "cell_type": "code",
   "execution_count": 38,
   "id": "f8872654",
   "metadata": {},
   "outputs": [
    {
     "data": {
      "text/plain": [
       "array([[0.87304075, 0.55679511],\n",
       "       [0.79153605, 0.26327068],\n",
       "       [0.88557994, 0.71640977],\n",
       "       [0.79467085, 0.34395677],\n",
       "       [0.77742947, 0.20317669]])"
      ]
     },
     "execution_count": 38,
     "metadata": {},
     "output_type": "execute_result"
    }
   ],
   "source": [
    "problem.get_fitting_solutions()"
   ]
  },
  {
   "cell_type": "code",
   "execution_count": null,
   "id": "09b46260",
   "metadata": {},
   "outputs": [],
   "source": []
  }
 ],
 "metadata": {
  "kernelspec": {
   "display_name": "Python 3 (ipykernel)",
   "language": "python",
   "name": "python3"
  },
  "language_info": {
   "codemirror_mode": {
    "name": "ipython",
    "version": 3
   },
   "file_extension": ".py",
   "mimetype": "text/x-python",
   "name": "python",
   "nbconvert_exporter": "python",
   "pygments_lexer": "ipython3",
   "version": "3.10.10"
  }
 },
 "nbformat": 4,
 "nbformat_minor": 5
}
