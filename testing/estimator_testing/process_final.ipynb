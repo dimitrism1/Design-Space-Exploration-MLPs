{
 "cells": [
  {
   "cell_type": "code",
   "execution_count": 178,
   "id": "5bb0f596",
   "metadata": {},
   "outputs": [
    {
     "ename": "ModuleNotFoundError",
     "evalue": "No module named 'callbacks'",
     "output_type": "error",
     "traceback": [
      "\u001b[0;31m---------------------------------------------------------------------------\u001b[0m",
      "\u001b[0;31mModuleNotFoundError\u001b[0m                       Traceback (most recent call last)",
      "Cell \u001b[0;32mIn[178], line 17\u001b[0m\n\u001b[1;32m     15\u001b[0m \u001b[38;5;28;01mimport\u001b[39;00m \u001b[38;5;21;01mseaborn\u001b[39;00m \u001b[38;5;28;01mas\u001b[39;00m \u001b[38;5;21;01msb\u001b[39;00m\n\u001b[1;32m     16\u001b[0m \u001b[38;5;28;01mimport\u001b[39;00m \u001b[38;5;21;01mmatplotlib\u001b[39;00m\u001b[38;5;21;01m.\u001b[39;00m\u001b[38;5;21;01mpyplot\u001b[39;00m \u001b[38;5;28;01mas\u001b[39;00m \u001b[38;5;21;01mplt\u001b[39;00m\n\u001b[0;32m---> 17\u001b[0m \u001b[38;5;28;01mfrom\u001b[39;00m \u001b[38;5;21;01mcallbacks\u001b[39;00m \u001b[38;5;28;01mimport\u001b[39;00m all_callbacks\n\u001b[1;32m     19\u001b[0m \u001b[38;5;28;01mfrom\u001b[39;00m \u001b[38;5;21;01mtensorflow\u001b[39;00m\u001b[38;5;21;01m.\u001b[39;00m\u001b[38;5;21;01mkeras\u001b[39;00m\u001b[38;5;21;01m.\u001b[39;00m\u001b[38;5;21;01mmodels\u001b[39;00m \u001b[38;5;28;01mimport\u001b[39;00m Sequential\n\u001b[1;32m     20\u001b[0m \u001b[38;5;28;01mfrom\u001b[39;00m \u001b[38;5;21;01mtensorflow\u001b[39;00m\u001b[38;5;21;01m.\u001b[39;00m\u001b[38;5;21;01mkeras\u001b[39;00m\u001b[38;5;21;01m.\u001b[39;00m\u001b[38;5;21;01mlayers\u001b[39;00m \u001b[38;5;28;01mimport\u001b[39;00m Dense, Activation, BatchNormalization\n",
      "\u001b[0;31mModuleNotFoundError\u001b[0m: No module named 'callbacks'"
     ]
    }
   ],
   "source": [
    "from tensorflow.keras.utils import to_categorical\n",
    "from sklearn.datasets import fetch_openml\n",
    "from sklearn.model_selection import train_test_split\n",
    "from sklearn.preprocessing import LabelEncoder, StandardScaler\n",
    "import numpy as np\n",
    "%matplotlib inline\n",
    "seed = 0\n",
    "np.random.seed(seed)\n",
    "import tensorflow as tf\n",
    "tf.random.set_seed(seed)\n",
    "import os\n",
    "\n",
    "\n",
    "import pandas as pd\n",
    "import seaborn as sb\n",
    "import matplotlib.pyplot as plt\n",
    "from callbacks import all_callbacks\n",
    "\n",
    "from tensorflow.keras.models import Sequential\n",
    "from tensorflow.keras.layers import Dense, Activation, BatchNormalization\n",
    "from tensorflow.keras.optimizers import Adam\n",
    "from tensorflow.keras.regularizers import l1\n",
    "\n",
    "from qkeras.qlayers import QDense, QActivation\n",
    "from qkeras.quantizers import quantized_bits, quantized_relu\n",
    "import tensorflow.compat.v1 as tf1\n",
    "from qkeras.utils import model_save_quantized_weights\n",
    "\n",
    "from tensorflow_model_optimization.python.core.sparsity.keras import prune, pruning_callbacks, pruning_schedule\n",
    "from tensorflow_model_optimization.sparsity.keras import strip_pruning\n",
    "\n",
    "\n",
    "from sklearn.preprocessing import OneHotEncoder,LabelEncoder\n",
    "from sklearn.model_selection import train_test_split\n",
    "from sklearn.preprocessing import MinMaxScaler\n",
    "import random\n",
    "import math\n",
    "\n",
    "\n",
    "from tensorflow_model_optimization.python.core.sparsity.keras import prune, pruning_callbacks, pruning_schedule\n",
    "from tensorflow_model_optimization.sparsity.keras import strip_pruning\n",
    "from qkeras.utils import model_save_quantized_weights, load_qmodel\n",
    "import hls4ml\n",
    "import qkeras.utils\n",
    "\n",
    "from sklearn.metrics import mean_squared_error as mse\n",
    "from sklearn.metrics import mean_absolute_percentage_error as mae\n",
    "from sklearn.metrics import r2_score\n",
    "from sklearn.metrics import accuracy_score\n",
    "import csv\n",
    "\n",
    "os.environ[\"CUDA_VISIBLE_DEVICES\"] = \"-1\"\n",
    "from statistics import mean"
   ]
  },
  {
   "cell_type": "markdown",
   "id": "9c1f7ee8",
   "metadata": {},
   "source": [
    "## Test the final results. Each directory contains 50 random models with 3 layers with precisions from 8 to 2 and RFs=1,2,3,4,10"
   ]
  },
  {
   "cell_type": "code",
   "execution_count": 213,
   "id": "fd021c36",
   "metadata": {},
   "outputs": [],
   "source": [
    "from tensorflow.keras.models import load_model\n",
    "from qkeras.utils import _add_supported_quantized_objects\n",
    "import qkeras.qtools.qtools_util\n",
    "import qkeras.estimate\n",
    "import estimator.estimator as est\n",
    "import utils\n",
    "import utils_model as utmo\n",
    "from importlib import reload\n",
    "import csv\n",
    "\n"
   ]
  },
  {
   "cell_type": "code",
   "execution_count": 10,
   "id": "1b42c13f",
   "metadata": {
    "scrolled": true
   },
   "outputs": [
    {
     "name": "stderr",
     "output_type": "stream",
     "text": [
      "2024-10-12 21:41:01.518956: I tensorflow/core/platform/cpu_feature_guard.cc:193] This TensorFlow binary is optimized with oneAPI Deep Neural Network Library (oneDNN) to use the following CPU instructions in performance-critical operations:  SSE4.1 SSE4.2 AVX AVX2 FMA\n",
      "To enable them in other operations, rebuild TensorFlow with the appropriate compiler flags.\n"
     ]
    },
    {
     "name": "stdout",
     "output_type": "stream",
     "text": [
      "WARNING:tensorflow:From /home/dmitsas/anaconda3/envs/hls4ml-tutorial/lib/python3.10/site-packages/tensorflow/python/autograph/pyct/static_analysis/liveness.py:83: Analyzer.lamba_check (from tensorflow.python.autograph.pyct.static_analysis.liveness) is deprecated and will be removed after 2023-09-23.\n",
      "Instructions for updating:\n",
      "Lambda fuctions will be no more assumed to be used in the statement where they are used, or at least in the same block. https://github.com/tensorflow/tensorflow/issues/56089\n"
     ]
    },
    {
     "name": "stderr",
     "output_type": "stream",
     "text": [
      "WARNING:tensorflow:From /home/dmitsas/anaconda3/envs/hls4ml-tutorial/lib/python3.10/site-packages/tensorflow/python/autograph/pyct/static_analysis/liveness.py:83: Analyzer.lamba_check (from tensorflow.python.autograph.pyct.static_analysis.liveness) is deprecated and will be removed after 2023-09-23.\n",
      "Instructions for updating:\n",
      "Lambda fuctions will be no more assumed to be used in the statement where they are used, or at least in the same block. https://github.com/tensorflow/tensorflow/issues/56089\n"
     ]
    },
    {
     "name": "stdout",
     "output_type": "stream",
     "text": [
      "WARNING:tensorflow:No training configuration found in the save file, so the model was *not* compiled. Compile it manually.\n"
     ]
    },
    {
     "name": "stderr",
     "output_type": "stream",
     "text": [
      "WARNING:tensorflow:No training configuration found in the save file, so the model was *not* compiled. Compile it manually.\n"
     ]
    },
    {
     "name": "stdout",
     "output_type": "stream",
     "text": [
      "WARNING:tensorflow:No training configuration found in the save file, so the model was *not* compiled. Compile it manually.\n"
     ]
    },
    {
     "name": "stderr",
     "output_type": "stream",
     "text": [
      "WARNING:tensorflow:No training configuration found in the save file, so the model was *not* compiled. Compile it manually.\n"
     ]
    },
    {
     "name": "stdout",
     "output_type": "stream",
     "text": [
      "WARNING:tensorflow:No training configuration found in the save file, so the model was *not* compiled. Compile it manually.\n"
     ]
    },
    {
     "name": "stderr",
     "output_type": "stream",
     "text": [
      "WARNING:tensorflow:No training configuration found in the save file, so the model was *not* compiled. Compile it manually.\n"
     ]
    },
    {
     "name": "stdout",
     "output_type": "stream",
     "text": [
      "WARNING:tensorflow:No training configuration found in the save file, so the model was *not* compiled. Compile it manually.\n"
     ]
    },
    {
     "name": "stderr",
     "output_type": "stream",
     "text": [
      "WARNING:tensorflow:No training configuration found in the save file, so the model was *not* compiled. Compile it manually.\n"
     ]
    },
    {
     "name": "stdout",
     "output_type": "stream",
     "text": [
      "WARNING:tensorflow:No training configuration found in the save file, so the model was *not* compiled. Compile it manually.\n"
     ]
    },
    {
     "name": "stderr",
     "output_type": "stream",
     "text": [
      "WARNING:tensorflow:No training configuration found in the save file, so the model was *not* compiled. Compile it manually.\n"
     ]
    },
    {
     "name": "stdout",
     "output_type": "stream",
     "text": [
      "WARNING:tensorflow:No training configuration found in the save file, so the model was *not* compiled. Compile it manually.\n"
     ]
    },
    {
     "name": "stderr",
     "output_type": "stream",
     "text": [
      "WARNING:tensorflow:No training configuration found in the save file, so the model was *not* compiled. Compile it manually.\n"
     ]
    },
    {
     "name": "stdout",
     "output_type": "stream",
     "text": [
      "WARNING:tensorflow:No training configuration found in the save file, so the model was *not* compiled. Compile it manually.\n"
     ]
    },
    {
     "name": "stderr",
     "output_type": "stream",
     "text": [
      "WARNING:tensorflow:No training configuration found in the save file, so the model was *not* compiled. Compile it manually.\n"
     ]
    },
    {
     "name": "stdout",
     "output_type": "stream",
     "text": [
      "WARNING:tensorflow:No training configuration found in the save file, so the model was *not* compiled. Compile it manually.\n"
     ]
    },
    {
     "name": "stderr",
     "output_type": "stream",
     "text": [
      "WARNING:tensorflow:No training configuration found in the save file, so the model was *not* compiled. Compile it manually.\n"
     ]
    },
    {
     "name": "stdout",
     "output_type": "stream",
     "text": [
      "WARNING:tensorflow:No training configuration found in the save file, so the model was *not* compiled. Compile it manually.\n"
     ]
    },
    {
     "name": "stderr",
     "output_type": "stream",
     "text": [
      "WARNING:tensorflow:No training configuration found in the save file, so the model was *not* compiled. Compile it manually.\n"
     ]
    },
    {
     "name": "stdout",
     "output_type": "stream",
     "text": [
      "WARNING:tensorflow:No training configuration found in the save file, so the model was *not* compiled. Compile it manually.\n"
     ]
    },
    {
     "name": "stderr",
     "output_type": "stream",
     "text": [
      "WARNING:tensorflow:No training configuration found in the save file, so the model was *not* compiled. Compile it manually.\n"
     ]
    },
    {
     "name": "stdout",
     "output_type": "stream",
     "text": [
      "WARNING:tensorflow:No training configuration found in the save file, so the model was *not* compiled. Compile it manually.\n"
     ]
    },
    {
     "name": "stderr",
     "output_type": "stream",
     "text": [
      "WARNING:tensorflow:No training configuration found in the save file, so the model was *not* compiled. Compile it manually.\n"
     ]
    },
    {
     "name": "stdout",
     "output_type": "stream",
     "text": [
      "WARNING:tensorflow:No training configuration found in the save file, so the model was *not* compiled. Compile it manually.\n"
     ]
    },
    {
     "name": "stderr",
     "output_type": "stream",
     "text": [
      "WARNING:tensorflow:No training configuration found in the save file, so the model was *not* compiled. Compile it manually.\n"
     ]
    },
    {
     "name": "stdout",
     "output_type": "stream",
     "text": [
      "WARNING:tensorflow:No training configuration found in the save file, so the model was *not* compiled. Compile it manually.\n"
     ]
    },
    {
     "name": "stderr",
     "output_type": "stream",
     "text": [
      "WARNING:tensorflow:No training configuration found in the save file, so the model was *not* compiled. Compile it manually.\n"
     ]
    },
    {
     "name": "stdout",
     "output_type": "stream",
     "text": [
      "WARNING:tensorflow:No training configuration found in the save file, so the model was *not* compiled. Compile it manually.\n"
     ]
    },
    {
     "name": "stderr",
     "output_type": "stream",
     "text": [
      "WARNING:tensorflow:No training configuration found in the save file, so the model was *not* compiled. Compile it manually.\n"
     ]
    },
    {
     "name": "stdout",
     "output_type": "stream",
     "text": [
      "WARNING:tensorflow:No training configuration found in the save file, so the model was *not* compiled. Compile it manually.\n"
     ]
    },
    {
     "name": "stderr",
     "output_type": "stream",
     "text": [
      "WARNING:tensorflow:No training configuration found in the save file, so the model was *not* compiled. Compile it manually.\n"
     ]
    },
    {
     "name": "stdout",
     "output_type": "stream",
     "text": [
      "WARNING:tensorflow:No training configuration found in the save file, so the model was *not* compiled. Compile it manually.\n"
     ]
    },
    {
     "name": "stderr",
     "output_type": "stream",
     "text": [
      "WARNING:tensorflow:No training configuration found in the save file, so the model was *not* compiled. Compile it manually.\n"
     ]
    },
    {
     "name": "stdout",
     "output_type": "stream",
     "text": [
      "WARNING:tensorflow:No training configuration found in the save file, so the model was *not* compiled. Compile it manually.\n"
     ]
    },
    {
     "name": "stderr",
     "output_type": "stream",
     "text": [
      "WARNING:tensorflow:No training configuration found in the save file, so the model was *not* compiled. Compile it manually.\n"
     ]
    },
    {
     "name": "stdout",
     "output_type": "stream",
     "text": [
      "WARNING:tensorflow:No training configuration found in the save file, so the model was *not* compiled. Compile it manually.\n"
     ]
    },
    {
     "name": "stderr",
     "output_type": "stream",
     "text": [
      "WARNING:tensorflow:No training configuration found in the save file, so the model was *not* compiled. Compile it manually.\n"
     ]
    },
    {
     "name": "stdout",
     "output_type": "stream",
     "text": [
      "WARNING:tensorflow:No training configuration found in the save file, so the model was *not* compiled. Compile it manually.\n"
     ]
    },
    {
     "name": "stderr",
     "output_type": "stream",
     "text": [
      "WARNING:tensorflow:No training configuration found in the save file, so the model was *not* compiled. Compile it manually.\n"
     ]
    },
    {
     "name": "stdout",
     "output_type": "stream",
     "text": [
      "WARNING:tensorflow:No training configuration found in the save file, so the model was *not* compiled. Compile it manually.\n"
     ]
    },
    {
     "name": "stderr",
     "output_type": "stream",
     "text": [
      "WARNING:tensorflow:No training configuration found in the save file, so the model was *not* compiled. Compile it manually.\n"
     ]
    },
    {
     "name": "stdout",
     "output_type": "stream",
     "text": [
      "WARNING:tensorflow:No training configuration found in the save file, so the model was *not* compiled. Compile it manually.\n"
     ]
    },
    {
     "name": "stderr",
     "output_type": "stream",
     "text": [
      "WARNING:tensorflow:No training configuration found in the save file, so the model was *not* compiled. Compile it manually.\n"
     ]
    },
    {
     "name": "stdout",
     "output_type": "stream",
     "text": [
      "WARNING:tensorflow:No training configuration found in the save file, so the model was *not* compiled. Compile it manually.\n"
     ]
    },
    {
     "name": "stderr",
     "output_type": "stream",
     "text": [
      "WARNING:tensorflow:No training configuration found in the save file, so the model was *not* compiled. Compile it manually.\n"
     ]
    },
    {
     "name": "stdout",
     "output_type": "stream",
     "text": [
      "WARNING:tensorflow:No training configuration found in the save file, so the model was *not* compiled. Compile it manually.\n"
     ]
    },
    {
     "name": "stderr",
     "output_type": "stream",
     "text": [
      "WARNING:tensorflow:No training configuration found in the save file, so the model was *not* compiled. Compile it manually.\n"
     ]
    },
    {
     "name": "stdout",
     "output_type": "stream",
     "text": [
      "WARNING:tensorflow:No training configuration found in the save file, so the model was *not* compiled. Compile it manually.\n"
     ]
    },
    {
     "name": "stderr",
     "output_type": "stream",
     "text": [
      "WARNING:tensorflow:No training configuration found in the save file, so the model was *not* compiled. Compile it manually.\n"
     ]
    },
    {
     "name": "stdout",
     "output_type": "stream",
     "text": [
      "WARNING:tensorflow:No training configuration found in the save file, so the model was *not* compiled. Compile it manually.\n"
     ]
    },
    {
     "name": "stderr",
     "output_type": "stream",
     "text": [
      "WARNING:tensorflow:No training configuration found in the save file, so the model was *not* compiled. Compile it manually.\n"
     ]
    },
    {
     "name": "stdout",
     "output_type": "stream",
     "text": [
      "WARNING:tensorflow:No training configuration found in the save file, so the model was *not* compiled. Compile it manually.\n"
     ]
    },
    {
     "name": "stderr",
     "output_type": "stream",
     "text": [
      "WARNING:tensorflow:No training configuration found in the save file, so the model was *not* compiled. Compile it manually.\n"
     ]
    },
    {
     "name": "stdout",
     "output_type": "stream",
     "text": [
      "WARNING:tensorflow:No training configuration found in the save file, so the model was *not* compiled. Compile it manually.\n"
     ]
    },
    {
     "name": "stderr",
     "output_type": "stream",
     "text": [
      "WARNING:tensorflow:No training configuration found in the save file, so the model was *not* compiled. Compile it manually.\n"
     ]
    },
    {
     "name": "stdout",
     "output_type": "stream",
     "text": [
      "WARNING:tensorflow:No training configuration found in the save file, so the model was *not* compiled. Compile it manually.\n"
     ]
    },
    {
     "name": "stderr",
     "output_type": "stream",
     "text": [
      "WARNING:tensorflow:No training configuration found in the save file, so the model was *not* compiled. Compile it manually.\n"
     ]
    },
    {
     "name": "stdout",
     "output_type": "stream",
     "text": [
      "WARNING:tensorflow:No training configuration found in the save file, so the model was *not* compiled. Compile it manually.\n"
     ]
    },
    {
     "name": "stderr",
     "output_type": "stream",
     "text": [
      "WARNING:tensorflow:No training configuration found in the save file, so the model was *not* compiled. Compile it manually.\n"
     ]
    },
    {
     "name": "stdout",
     "output_type": "stream",
     "text": [
      "WARNING:tensorflow:No training configuration found in the save file, so the model was *not* compiled. Compile it manually.\n"
     ]
    },
    {
     "name": "stderr",
     "output_type": "stream",
     "text": [
      "WARNING:tensorflow:No training configuration found in the save file, so the model was *not* compiled. Compile it manually.\n"
     ]
    },
    {
     "name": "stdout",
     "output_type": "stream",
     "text": [
      "WARNING:tensorflow:No training configuration found in the save file, so the model was *not* compiled. Compile it manually.\n"
     ]
    },
    {
     "name": "stderr",
     "output_type": "stream",
     "text": [
      "WARNING:tensorflow:No training configuration found in the save file, so the model was *not* compiled. Compile it manually.\n"
     ]
    },
    {
     "name": "stdout",
     "output_type": "stream",
     "text": [
      "WARNING:tensorflow:No training configuration found in the save file, so the model was *not* compiled. Compile it manually.\n"
     ]
    },
    {
     "name": "stderr",
     "output_type": "stream",
     "text": [
      "WARNING:tensorflow:No training configuration found in the save file, so the model was *not* compiled. Compile it manually.\n"
     ]
    },
    {
     "name": "stdout",
     "output_type": "stream",
     "text": [
      "WARNING:tensorflow:No training configuration found in the save file, so the model was *not* compiled. Compile it manually.\n"
     ]
    },
    {
     "name": "stderr",
     "output_type": "stream",
     "text": [
      "WARNING:tensorflow:No training configuration found in the save file, so the model was *not* compiled. Compile it manually.\n"
     ]
    },
    {
     "name": "stdout",
     "output_type": "stream",
     "text": [
      "WARNING:tensorflow:No training configuration found in the save file, so the model was *not* compiled. Compile it manually.\n"
     ]
    },
    {
     "name": "stderr",
     "output_type": "stream",
     "text": [
      "WARNING:tensorflow:No training configuration found in the save file, so the model was *not* compiled. Compile it manually.\n"
     ]
    },
    {
     "name": "stdout",
     "output_type": "stream",
     "text": [
      "WARNING:tensorflow:No training configuration found in the save file, so the model was *not* compiled. Compile it manually.\n"
     ]
    },
    {
     "name": "stderr",
     "output_type": "stream",
     "text": [
      "WARNING:tensorflow:No training configuration found in the save file, so the model was *not* compiled. Compile it manually.\n"
     ]
    },
    {
     "name": "stdout",
     "output_type": "stream",
     "text": [
      "WARNING:tensorflow:No training configuration found in the save file, so the model was *not* compiled. Compile it manually.\n"
     ]
    },
    {
     "name": "stderr",
     "output_type": "stream",
     "text": [
      "WARNING:tensorflow:No training configuration found in the save file, so the model was *not* compiled. Compile it manually.\n"
     ]
    },
    {
     "name": "stdout",
     "output_type": "stream",
     "text": [
      "WARNING:tensorflow:No training configuration found in the save file, so the model was *not* compiled. Compile it manually.\n"
     ]
    },
    {
     "name": "stderr",
     "output_type": "stream",
     "text": [
      "WARNING:tensorflow:No training configuration found in the save file, so the model was *not* compiled. Compile it manually.\n"
     ]
    },
    {
     "name": "stdout",
     "output_type": "stream",
     "text": [
      "WARNING:tensorflow:No training configuration found in the save file, so the model was *not* compiled. Compile it manually.\n"
     ]
    },
    {
     "name": "stderr",
     "output_type": "stream",
     "text": [
      "WARNING:tensorflow:No training configuration found in the save file, so the model was *not* compiled. Compile it manually.\n"
     ]
    },
    {
     "name": "stdout",
     "output_type": "stream",
     "text": [
      "WARNING:tensorflow:No training configuration found in the save file, so the model was *not* compiled. Compile it manually.\n"
     ]
    },
    {
     "name": "stderr",
     "output_type": "stream",
     "text": [
      "WARNING:tensorflow:No training configuration found in the save file, so the model was *not* compiled. Compile it manually.\n"
     ]
    },
    {
     "name": "stdout",
     "output_type": "stream",
     "text": [
      "WARNING:tensorflow:No training configuration found in the save file, so the model was *not* compiled. Compile it manually.\n"
     ]
    },
    {
     "name": "stderr",
     "output_type": "stream",
     "text": [
      "WARNING:tensorflow:No training configuration found in the save file, so the model was *not* compiled. Compile it manually.\n"
     ]
    },
    {
     "name": "stdout",
     "output_type": "stream",
     "text": [
      "WARNING:tensorflow:No training configuration found in the save file, so the model was *not* compiled. Compile it manually.\n"
     ]
    },
    {
     "name": "stderr",
     "output_type": "stream",
     "text": [
      "WARNING:tensorflow:No training configuration found in the save file, so the model was *not* compiled. Compile it manually.\n"
     ]
    },
    {
     "name": "stdout",
     "output_type": "stream",
     "text": [
      "WARNING:tensorflow:No training configuration found in the save file, so the model was *not* compiled. Compile it manually.\n"
     ]
    },
    {
     "name": "stderr",
     "output_type": "stream",
     "text": [
      "WARNING:tensorflow:No training configuration found in the save file, so the model was *not* compiled. Compile it manually.\n"
     ]
    },
    {
     "name": "stdout",
     "output_type": "stream",
     "text": [
      "WARNING:tensorflow:No training configuration found in the save file, so the model was *not* compiled. Compile it manually.\n"
     ]
    },
    {
     "name": "stderr",
     "output_type": "stream",
     "text": [
      "WARNING:tensorflow:No training configuration found in the save file, so the model was *not* compiled. Compile it manually.\n"
     ]
    },
    {
     "name": "stdout",
     "output_type": "stream",
     "text": [
      "WARNING:tensorflow:No training configuration found in the save file, so the model was *not* compiled. Compile it manually.\n"
     ]
    },
    {
     "name": "stderr",
     "output_type": "stream",
     "text": [
      "WARNING:tensorflow:No training configuration found in the save file, so the model was *not* compiled. Compile it manually.\n"
     ]
    },
    {
     "name": "stdout",
     "output_type": "stream",
     "text": [
      "WARNING:tensorflow:No training configuration found in the save file, so the model was *not* compiled. Compile it manually.\n"
     ]
    },
    {
     "name": "stderr",
     "output_type": "stream",
     "text": [
      "WARNING:tensorflow:No training configuration found in the save file, so the model was *not* compiled. Compile it manually.\n"
     ]
    },
    {
     "name": "stdout",
     "output_type": "stream",
     "text": [
      "WARNING:tensorflow:No training configuration found in the save file, so the model was *not* compiled. Compile it manually.\n"
     ]
    },
    {
     "name": "stderr",
     "output_type": "stream",
     "text": [
      "WARNING:tensorflow:No training configuration found in the save file, so the model was *not* compiled. Compile it manually.\n"
     ]
    },
    {
     "name": "stdout",
     "output_type": "stream",
     "text": [
      "WARNING:tensorflow:No training configuration found in the save file, so the model was *not* compiled. Compile it manually.\n"
     ]
    },
    {
     "name": "stderr",
     "output_type": "stream",
     "text": [
      "WARNING:tensorflow:No training configuration found in the save file, so the model was *not* compiled. Compile it manually.\n"
     ]
    },
    {
     "name": "stdout",
     "output_type": "stream",
     "text": [
      "WARNING:tensorflow:No training configuration found in the save file, so the model was *not* compiled. Compile it manually.\n"
     ]
    },
    {
     "name": "stderr",
     "output_type": "stream",
     "text": [
      "WARNING:tensorflow:No training configuration found in the save file, so the model was *not* compiled. Compile it manually.\n"
     ]
    },
    {
     "name": "stdout",
     "output_type": "stream",
     "text": [
      "WARNING:tensorflow:No training configuration found in the save file, so the model was *not* compiled. Compile it manually.\n"
     ]
    },
    {
     "name": "stderr",
     "output_type": "stream",
     "text": [
      "WARNING:tensorflow:No training configuration found in the save file, so the model was *not* compiled. Compile it manually.\n"
     ]
    },
    {
     "name": "stdout",
     "output_type": "stream",
     "text": [
      "WARNING:tensorflow:No training configuration found in the save file, so the model was *not* compiled. Compile it manually.\n"
     ]
    },
    {
     "name": "stderr",
     "output_type": "stream",
     "text": [
      "WARNING:tensorflow:No training configuration found in the save file, so the model was *not* compiled. Compile it manually.\n"
     ]
    }
   ],
   "source": [
    "prec = 8\n",
    "reuse = 1\n",
    "layer_num = 50\n",
    "loaded_models = []\n",
    "filename = filename = \"/media/dmitsas/BOOT-REPAIR/final_testing_lut/prec_\" + str(prec) + \"/reuse_\" + str(reuse) + \"/model_\"\n",
    "for i in range(layer_num):\n",
    "            co = {}\n",
    "            _add_supported_quantized_objects(co)\n",
    "            loaded_models.append(load_model(filename + str(i) + '/KERAS_check_best_mode.h5', custom_objects=co))"
   ]
  },
  {
   "cell_type": "code",
   "execution_count": 11,
   "id": "1aa20a21",
   "metadata": {},
   "outputs": [],
   "source": [
    "def recover_params(filename,layer_num):\n",
    "    precision = []\n",
    "    for i in range(0,layer_num,1):\n",
    "        with open(filename + str(i) + \"/precision.txt\") as f:\n",
    "            for lines in f:\n",
    "                precision.append(int(lines))\n",
    "    f.close()\n",
    "    \n",
    "    RF = []\n",
    "    for i in range(0,layer_num,1):\n",
    "        with open(filename + str(i) + \"/reuse.txt\") as f:\n",
    "            for lines in f:\n",
    "                RF.append(int(lines))\n",
    "    f.close()\n",
    "    \n",
    "    selector = []\n",
    "    for i in range(0,layer_num,1):\n",
    "        with open(filename + str(i) + \"/impl.txt\") as f:\n",
    "            for lines in f:\n",
    "                selector.append(int(lines))\n",
    "    f.close()\n",
    "    return precision,RF,selector"
   ]
  },
  {
   "cell_type": "code",
   "execution_count": 12,
   "id": "1468178b",
   "metadata": {},
   "outputs": [],
   "source": [
    "prec = 8\n",
    "reuse = 1\n",
    "layer_num = 50\n",
    "rf_range = [1,2,3,4,10]\n",
    "filename = \"/media/dmitsas/BOOT-REPAIR/final_testing_lut/prec_\" + str(prec) + \"/reuse_\" + str(reuse) + \"/model_\"\n",
    "x,y,z = recover_params(filename,layer_num)"
   ]
  },
  {
   "cell_type": "code",
   "execution_count": 7,
   "id": "e702be24",
   "metadata": {
    "scrolled": true
   },
   "outputs": [],
   "source": [
    "\n",
    "#####Verify if the recovered parameters are correct\n",
    "\n",
    "for prec in range(8,1,-1):\n",
    "    for reuse in rf_range:\n",
    "        filename = filename = \"/media/dmitsas/BOOT-REPAIR/final_testing_lut/prec_\" + str(prec) + \"/reuse_\" + str(reuse) + \"/model_\"\n",
    "        x,y,z = recover_params(filename,layer_num)\n",
    "        if x[0] !=prec:\n",
    "            print(\"Correct precision: \" + str(prec) + \"correct reuse: \" + str(reuse))\n",
    "            print(\"Wrong precision: \" + str(x[0]) + \"wrong reuse: \" + str(reuse))\n",
    "        if y[0] != reuse:\n",
    "            print(\"Correct reuse: \" + str(reuse))\n",
    "            print(\"Wrong reuse: \" + str(y[0]))"
   ]
  },
  {
   "cell_type": "code",
   "execution_count": 214,
   "id": "8129e0a9",
   "metadata": {
    "scrolled": true
   },
   "outputs": [
    {
     "data": {
      "text/plain": [
       "<module 'estimator.estimator' from '/home/dmitsas/Downloads/backup/testing/estimator_testing/estimator/estimator.py'>"
      ]
     },
     "execution_count": 214,
     "metadata": {},
     "output_type": "execute_result"
    }
   ],
   "source": [
    "reload(utils)\n",
    "reload(est)\n"
   ]
  },
  {
   "cell_type": "code",
   "execution_count": 215,
   "id": "a9d656f6",
   "metadata": {
    "scrolled": true
   },
   "outputs": [
    {
     "name": "stdout",
     "output_type": "stream",
     "text": [
      "WARNING:tensorflow:No training configuration found in the save file, so the model was *not* compiled. Compile it manually.\n"
     ]
    },
    {
     "name": "stderr",
     "output_type": "stream",
     "text": [
      "WARNING:tensorflow:No training configuration found in the save file, so the model was *not* compiled. Compile it manually.\n"
     ]
    },
    {
     "name": "stdout",
     "output_type": "stream",
     "text": [
      "... quantizing model\n",
      "-----------------------------------------------------------\n",
      "zero LUT elements: 31\n",
      "Total LUTs: 5505\n",
      "Zeros: 421\n",
      "Total multiplication LUTs: 2887\n",
      "Total accumulator LUTs: 2618\n",
      "Total DSPs: 59\n",
      "Total layer additions: 209\n",
      "Total bias additions: 29\n",
      "Number of repeated weights: 20\n",
      "Total Flip Flops: 6964\n",
      "Real multiplications: 239\n",
      "... quantizing model\n",
      "-----------------------------------------------------------\n",
      "zero LUT elements: 61\n",
      "Total LUTs: 10474\n",
      "Zeros: 862\n",
      "Total multiplication LUTs: 5117\n",
      "Total accumulator LUTs: 5357\n",
      "Total DSPs: 122\n",
      "Total layer additions: 443\n",
      "Total bias additions: 44\n",
      "Number of repeated weights: 74\n",
      "Total Flip Flops: 13407\n",
      "Real multiplications: 488\n",
      "... quantizing model\n",
      "-----------------------------------------------------------\n",
      "zero LUT elements: 60\n",
      "Total LUTs: 9618\n",
      "Zeros: 747\n",
      "Total multiplication LUTs: 4965\n",
      "Total accumulator LUTs: 4653\n",
      "Total DSPs: 123\n",
      "Total layer additions: 397\n",
      "Total bias additions: 26\n",
      "Number of repeated weights: 33\n"
     ]
    },
    {
     "name": "stderr",
     "output_type": "stream",
     "text": [
      "/home/dmitsas/.local/lib/python3.10/site-packages/sklearn/base.py:376: InconsistentVersionWarning: Trying to unpickle estimator LinearRegression from version 1.2.2 when using version 1.4.2. This might lead to breaking code or invalid results. Use at your own risk. For more info please refer to:\n",
      "https://scikit-learn.org/stable/model_persistence.html#security-maintainability-limitations\n",
      "  warnings.warn(\n",
      "/home/dmitsas/.local/lib/python3.10/site-packages/sklearn/base.py:376: InconsistentVersionWarning: Trying to unpickle estimator LinearRegression from version 1.2.2 when using version 1.4.2. This might lead to breaking code or invalid results. Use at your own risk. For more info please refer to:\n",
      "https://scikit-learn.org/stable/model_persistence.html#security-maintainability-limitations\n",
      "  warnings.warn(\n",
      "/home/dmitsas/.local/lib/python3.10/site-packages/sklearn/base.py:376: InconsistentVersionWarning: Trying to unpickle estimator LinearRegression from version 1.2.2 when using version 1.4.2. This might lead to breaking code or invalid results. Use at your own risk. For more info please refer to:\n",
      "https://scikit-learn.org/stable/model_persistence.html#security-maintainability-limitations\n",
      "  warnings.warn(\n"
     ]
    },
    {
     "name": "stdout",
     "output_type": "stream",
     "text": [
      "Total Flip Flops: 11786\n",
      "Real multiplications: 423\n",
      "WARNING:tensorflow:No training configuration found in the save file, so the model was *not* compiled. Compile it manually.\n"
     ]
    },
    {
     "name": "stderr",
     "output_type": "stream",
     "text": [
      "WARNING:tensorflow:No training configuration found in the save file, so the model was *not* compiled. Compile it manually.\n"
     ]
    },
    {
     "name": "stdout",
     "output_type": "stream",
     "text": [
      "... quantizing model\n",
      "-----------------------------------------------------------\n",
      "zero LUT elements: 11\n",
      "Total LUTs: 1359\n",
      "Zeros: 214\n",
      "Total multiplication LUTs: 644\n",
      "Total accumulator LUTs: 715\n",
      "Total DSPs: 21\n",
      "Total layer additions: 26\n",
      "Total bias additions: 29\n",
      "Number of repeated weights: 3\n",
      "Total Flip Flops: 1787\n",
      "Real multiplications: 56\n",
      "... quantizing model\n",
      "-----------------------------------------------------------\n",
      "zero LUT elements: 28\n",
      "Total LUTs: 5105\n",
      "Zeros: 857\n",
      "Total multiplication LUTs: 2685\n",
      "Total accumulator LUTs: 2420\n",
      "Total DSPs: 66\n",
      "Total layer additions: 187\n",
      "Total bias additions: 33\n",
      "Number of repeated weights: 13\n",
      "Total Flip Flops: 6527\n",
      "Real multiplications: 223\n",
      "... quantizing model\n",
      "-----------------------------------------------------------\n",
      "zero LUT elements: 36\n",
      "Total LUTs: 4915\n",
      "Zeros: 828\n",
      "Total multiplication LUTs: 2561\n",
      "Total accumulator LUTs: 2354\n",
      "Total DSPs: 53\n",
      "Total layer additions: 187\n",
      "Total bias additions: 27\n",
      "Number of repeated weights: 11\n",
      "Total Flip Flops: 6335\n",
      "Real multiplications: 216\n"
     ]
    },
    {
     "name": "stderr",
     "output_type": "stream",
     "text": [
      "/home/dmitsas/.local/lib/python3.10/site-packages/sklearn/base.py:376: InconsistentVersionWarning: Trying to unpickle estimator LinearRegression from version 1.2.2 when using version 1.4.2. This might lead to breaking code or invalid results. Use at your own risk. For more info please refer to:\n",
      "https://scikit-learn.org/stable/model_persistence.html#security-maintainability-limitations\n",
      "  warnings.warn(\n",
      "/home/dmitsas/.local/lib/python3.10/site-packages/sklearn/base.py:376: InconsistentVersionWarning: Trying to unpickle estimator LinearRegression from version 1.2.2 when using version 1.4.2. This might lead to breaking code or invalid results. Use at your own risk. For more info please refer to:\n",
      "https://scikit-learn.org/stable/model_persistence.html#security-maintainability-limitations\n",
      "  warnings.warn(\n",
      "/home/dmitsas/.local/lib/python3.10/site-packages/sklearn/base.py:376: InconsistentVersionWarning: Trying to unpickle estimator LinearRegression from version 1.2.2 when using version 1.4.2. This might lead to breaking code or invalid results. Use at your own risk. For more info please refer to:\n",
      "https://scikit-learn.org/stable/model_persistence.html#security-maintainability-limitations\n",
      "  warnings.warn(\n"
     ]
    },
    {
     "name": "stdout",
     "output_type": "stream",
     "text": [
      "WARNING:tensorflow:No training configuration found in the save file, so the model was *not* compiled. Compile it manually.\n"
     ]
    },
    {
     "name": "stderr",
     "output_type": "stream",
     "text": [
      "WARNING:tensorflow:No training configuration found in the save file, so the model was *not* compiled. Compile it manually.\n"
     ]
    },
    {
     "name": "stdout",
     "output_type": "stream",
     "text": [
      "... quantizing model\n",
      "-----------------------------------------------------------\n",
      "zero LUT elements: 26\n",
      "Total LUTs: 4460\n",
      "Zeros: 272\n",
      "Total multiplication LUTs: 2370\n",
      "Total accumulator LUTs: 2090\n",
      "Total DSPs: 54\n",
      "Total layer additions: 162\n",
      "Total bias additions: 28\n",
      "Number of repeated weights: 11\n",
      "Total Flip Flops: 5700\n",
      "Real multiplications: 193\n",
      "... quantizing model\n",
      "-----------------------------------------------------------\n",
      "zero LUT elements: 12\n",
      "Total LUTs: 2905\n",
      "Zeros: 163\n",
      "Total multiplication LUTs: 1397\n",
      "Total accumulator LUTs: 1508\n",
      "Total DSPs: 32\n",
      "Total layer additions: 107\n",
      "Total bias additions: 9\n",
      "Number of repeated weights: 5\n",
      "Total Flip Flops: 3529\n",
      "Real multiplications: 116\n",
      "... quantizing model\n",
      "-----------------------------------------------------------\n",
      "zero LUT elements: 17\n",
      "Total LUTs: 3236\n",
      "Zeros: 190\n",
      "Total multiplication LUTs: 1507\n",
      "Total accumulator LUTs: 1729\n",
      "Total DSPs: 33\n",
      "Total layer additions: 98\n",
      "Total bias additions: 35\n",
      "Number of repeated weights: 15\n",
      "Total Flip Flops: 4043\n",
      "Real multiplications: 134\n"
     ]
    },
    {
     "name": "stderr",
     "output_type": "stream",
     "text": [
      "/home/dmitsas/.local/lib/python3.10/site-packages/sklearn/base.py:376: InconsistentVersionWarning: Trying to unpickle estimator LinearRegression from version 1.2.2 when using version 1.4.2. This might lead to breaking code or invalid results. Use at your own risk. For more info please refer to:\n",
      "https://scikit-learn.org/stable/model_persistence.html#security-maintainability-limitations\n",
      "  warnings.warn(\n",
      "/home/dmitsas/.local/lib/python3.10/site-packages/sklearn/base.py:376: InconsistentVersionWarning: Trying to unpickle estimator LinearRegression from version 1.2.2 when using version 1.4.2. This might lead to breaking code or invalid results. Use at your own risk. For more info please refer to:\n",
      "https://scikit-learn.org/stable/model_persistence.html#security-maintainability-limitations\n",
      "  warnings.warn(\n",
      "/home/dmitsas/.local/lib/python3.10/site-packages/sklearn/base.py:376: InconsistentVersionWarning: Trying to unpickle estimator LinearRegression from version 1.2.2 when using version 1.4.2. This might lead to breaking code or invalid results. Use at your own risk. For more info please refer to:\n",
      "https://scikit-learn.org/stable/model_persistence.html#security-maintainability-limitations\n",
      "  warnings.warn(\n"
     ]
    },
    {
     "name": "stdout",
     "output_type": "stream",
     "text": [
      "WARNING:tensorflow:No training configuration found in the save file, so the model was *not* compiled. Compile it manually.\n"
     ]
    },
    {
     "name": "stderr",
     "output_type": "stream",
     "text": [
      "WARNING:tensorflow:No training configuration found in the save file, so the model was *not* compiled. Compile it manually.\n"
     ]
    },
    {
     "name": "stdout",
     "output_type": "stream",
     "text": [
      "... quantizing model\n",
      "-----------------------------------------------------------\n",
      "zero LUT elements: 52\n",
      "Total LUTs: 11129\n",
      "Zeros: 382\n",
      "Total multiplication LUTs: 5310\n",
      "Total accumulator LUTs: 5819\n",
      "Total DSPs: 127\n",
      "Total layer additions: 473\n",
      "Total bias additions: 56\n",
      "Number of repeated weights: 126\n",
      "Total Flip Flops: 14434\n",
      "Real multiplications: 530\n",
      "... quantizing model\n",
      "-----------------------------------------------------------\n",
      "zero LUT elements: 155\n",
      "Total LUTs: 36221\n",
      "Zeros: 1243\n",
      "Total multiplication LUTs: 17301\n",
      "Total accumulator LUTs: 18920\n",
      "Total DSPs: 408\n",
      "Total layer additions: 1669\n",
      "Total bias additions: 51\n",
      "Number of repeated weights: 389\n",
      "Total Flip Flops: 39269\n",
      "Real multiplications: 1721\n",
      "... quantizing model\n",
      "-----------------------------------------------------------\n",
      "zero LUT elements: 97\n",
      "Total LUTs: 18784\n",
      "Zeros: 610\n",
      "Total multiplication LUTs: 9500\n",
      "Total accumulator LUTs: 9284\n",
      "Total DSPs: 204\n",
      "Total layer additions: 818\n",
      "Total bias additions: 26\n",
      "Number of repeated weights: 98\n",
      "Total Flip Flops: 21691\n",
      "Real multiplications: 846\n"
     ]
    },
    {
     "name": "stderr",
     "output_type": "stream",
     "text": [
      "/home/dmitsas/.local/lib/python3.10/site-packages/sklearn/base.py:376: InconsistentVersionWarning: Trying to unpickle estimator LinearRegression from version 1.2.2 when using version 1.4.2. This might lead to breaking code or invalid results. Use at your own risk. For more info please refer to:\n",
      "https://scikit-learn.org/stable/model_persistence.html#security-maintainability-limitations\n",
      "  warnings.warn(\n",
      "/home/dmitsas/.local/lib/python3.10/site-packages/sklearn/base.py:376: InconsistentVersionWarning: Trying to unpickle estimator LinearRegression from version 1.2.2 when using version 1.4.2. This might lead to breaking code or invalid results. Use at your own risk. For more info please refer to:\n",
      "https://scikit-learn.org/stable/model_persistence.html#security-maintainability-limitations\n",
      "  warnings.warn(\n",
      "/home/dmitsas/.local/lib/python3.10/site-packages/sklearn/base.py:376: InconsistentVersionWarning: Trying to unpickle estimator LinearRegression from version 1.2.2 when using version 1.4.2. This might lead to breaking code or invalid results. Use at your own risk. For more info please refer to:\n",
      "https://scikit-learn.org/stable/model_persistence.html#security-maintainability-limitations\n",
      "  warnings.warn(\n"
     ]
    },
    {
     "name": "stdout",
     "output_type": "stream",
     "text": [
      "WARNING:tensorflow:No training configuration found in the save file, so the model was *not* compiled. Compile it manually.\n"
     ]
    },
    {
     "name": "stderr",
     "output_type": "stream",
     "text": [
      "WARNING:tensorflow:No training configuration found in the save file, so the model was *not* compiled. Compile it manually.\n"
     ]
    },
    {
     "name": "stdout",
     "output_type": "stream",
     "text": [
      "... quantizing model\n",
      "-----------------------------------------------------------\n",
      "zero LUT elements: 40\n",
      "Total LUTs: 8573\n",
      "Zeros: 138\n",
      "Total multiplication LUTs: 4250\n",
      "Total accumulator LUTs: 4323\n",
      "Total DSPs: 89\n",
      "Total layer additions: 356\n",
      "Total bias additions: 37\n",
      "Number of repeated weights: 75\n",
      "Total Flip Flops: 11049\n",
      "Real multiplications: 394\n",
      "... quantizing model\n",
      "-----------------------------------------------------------\n",
      "zero LUT elements: 119\n",
      "Total LUTs: 29132\n",
      "Zeros: 486\n",
      "Total multiplication LUTs: 14018\n",
      "Total accumulator LUTs: 15114\n",
      "Total DSPs: 331\n",
      "Total layer additions: 1327\n",
      "Total bias additions: 47\n",
      "Number of repeated weights: 327\n",
      "Total Flip Flops: 32567\n",
      "Real multiplications: 1376\n",
      "... quantizing model\n",
      "-----------------------------------------------------------\n",
      "zero LUT elements: 107\n",
      "Total LUTs: 19800\n",
      "Zeros: 319\n",
      "Total multiplication LUTs: 9845\n",
      "Total accumulator LUTs: 9955\n",
      "Total DSPs: 231\n",
      "Total layer additions: 881\n",
      "Total bias additions: 24\n",
      "Number of repeated weights: 133\n",
      "Total Flip Flops: 22990\n",
      "Real multiplications: 906\n"
     ]
    },
    {
     "name": "stderr",
     "output_type": "stream",
     "text": [
      "/home/dmitsas/.local/lib/python3.10/site-packages/sklearn/base.py:376: InconsistentVersionWarning: Trying to unpickle estimator LinearRegression from version 1.2.2 when using version 1.4.2. This might lead to breaking code or invalid results. Use at your own risk. For more info please refer to:\n",
      "https://scikit-learn.org/stable/model_persistence.html#security-maintainability-limitations\n",
      "  warnings.warn(\n",
      "/home/dmitsas/.local/lib/python3.10/site-packages/sklearn/base.py:376: InconsistentVersionWarning: Trying to unpickle estimator LinearRegression from version 1.2.2 when using version 1.4.2. This might lead to breaking code or invalid results. Use at your own risk. For more info please refer to:\n",
      "https://scikit-learn.org/stable/model_persistence.html#security-maintainability-limitations\n",
      "  warnings.warn(\n",
      "/home/dmitsas/.local/lib/python3.10/site-packages/sklearn/base.py:376: InconsistentVersionWarning: Trying to unpickle estimator LinearRegression from version 1.2.2 when using version 1.4.2. This might lead to breaking code or invalid results. Use at your own risk. For more info please refer to:\n",
      "https://scikit-learn.org/stable/model_persistence.html#security-maintainability-limitations\n",
      "  warnings.warn(\n"
     ]
    },
    {
     "name": "stdout",
     "output_type": "stream",
     "text": [
      "WARNING:tensorflow:No training configuration found in the save file, so the model was *not* compiled. Compile it manually.\n"
     ]
    },
    {
     "name": "stderr",
     "output_type": "stream",
     "text": [
      "WARNING:tensorflow:No training configuration found in the save file, so the model was *not* compiled. Compile it manually.\n"
     ]
    },
    {
     "name": "stdout",
     "output_type": "stream",
     "text": [
      "... quantizing model\n",
      "-----------------------------------------------------------\n",
      "zero LUT elements: 21\n",
      "Total LUTs: 4104\n",
      "Zeros: 363\n",
      "Total multiplication LUTs: 2157\n",
      "Total accumulator LUTs: 1947\n",
      "Total DSPs: 46\n",
      "Total layer additions: 150\n",
      "Total bias additions: 27\n",
      "Number of repeated weights: 15\n",
      "Total Flip Flops: 5255\n",
      "Real multiplications: 177\n",
      "... quantizing model\n",
      "-----------------------------------------------------------\n",
      "zero LUT elements: 28\n",
      "Total LUTs: 4491\n",
      "Zeros: 399\n",
      "Total multiplication LUTs: 2368\n",
      "Total accumulator LUTs: 2123\n",
      "Total DSPs: 56\n",
      "Total layer additions: 173\n",
      "Total bias additions: 20\n",
      "Number of repeated weights: 8\n",
      "Total Flip Flops: 5755\n",
      "Real multiplications: 195\n",
      "... quantizing model\n",
      "-----------------------------------------------------------\n",
      "zero LUT elements: 34\n",
      "Total LUTs: 5542\n",
      "Zeros: 503\n",
      "Total multiplication LUTs: 2847\n",
      "Total accumulator LUTs: 2695\n",
      "Total DSPs: 68\n",
      "Total layer additions: 211\n",
      "Total bias additions: 34\n",
      "Number of repeated weights: 17\n",
      "Total Flip Flops: 7127\n",
      "Real multiplications: 245\n"
     ]
    },
    {
     "name": "stderr",
     "output_type": "stream",
     "text": [
      "/home/dmitsas/.local/lib/python3.10/site-packages/sklearn/base.py:376: InconsistentVersionWarning: Trying to unpickle estimator LinearRegression from version 1.2.2 when using version 1.4.2. This might lead to breaking code or invalid results. Use at your own risk. For more info please refer to:\n",
      "https://scikit-learn.org/stable/model_persistence.html#security-maintainability-limitations\n",
      "  warnings.warn(\n",
      "/home/dmitsas/.local/lib/python3.10/site-packages/sklearn/base.py:376: InconsistentVersionWarning: Trying to unpickle estimator LinearRegression from version 1.2.2 when using version 1.4.2. This might lead to breaking code or invalid results. Use at your own risk. For more info please refer to:\n",
      "https://scikit-learn.org/stable/model_persistence.html#security-maintainability-limitations\n",
      "  warnings.warn(\n",
      "/home/dmitsas/.local/lib/python3.10/site-packages/sklearn/base.py:376: InconsistentVersionWarning: Trying to unpickle estimator LinearRegression from version 1.2.2 when using version 1.4.2. This might lead to breaking code or invalid results. Use at your own risk. For more info please refer to:\n",
      "https://scikit-learn.org/stable/model_persistence.html#security-maintainability-limitations\n",
      "  warnings.warn(\n"
     ]
    },
    {
     "name": "stdout",
     "output_type": "stream",
     "text": [
      "WARNING:tensorflow:No training configuration found in the save file, so the model was *not* compiled. Compile it manually.\n"
     ]
    },
    {
     "name": "stderr",
     "output_type": "stream",
     "text": [
      "WARNING:tensorflow:No training configuration found in the save file, so the model was *not* compiled. Compile it manually.\n"
     ]
    },
    {
     "name": "stdout",
     "output_type": "stream",
     "text": [
      "... quantizing model\n",
      "-----------------------------------------------------------\n",
      "zero LUT elements: 45\n",
      "Total LUTs: 8564\n",
      "Zeros: 646\n",
      "Total multiplication LUTs: 4296\n",
      "Total accumulator LUTs: 4268\n",
      "Total DSPs: 99\n",
      "Total layer additions: 344\n",
      "Total bias additions: 44\n",
      "Number of repeated weights: 50\n",
      "Total Flip Flops: 10921\n",
      "Real multiplications: 389\n",
      "... quantizing model\n",
      "-----------------------------------------------------------\n",
      "zero LUT elements: 106\n",
      "Total LUTs: 21529\n",
      "Zeros: 1658\n",
      "Total multiplication LUTs: 10573\n",
      "Total accumulator LUTs: 10956\n",
      "Total DSPs: 240\n",
      "Total layer additions: 938\n",
      "Total bias additions: 58\n",
      "Number of repeated weights: 174\n",
      "Total Flip Flops: 24919\n",
      "Real multiplications: 997\n",
      "... quantizing model\n",
      "-----------------------------------------------------------\n",
      "zero LUT elements: 88\n",
      "Total LUTs: 15894\n",
      "Zeros: 1179\n",
      "Total multiplication LUTs: 8095\n",
      "Total accumulator LUTs: 7799\n",
      "Total DSPs: 180\n",
      "Total layer additions: 677\n",
      "Total bias additions: 32\n",
      "Number of repeated weights: 64\n",
      "Total Flip Flops: 18638\n",
      "Real multiplications: 709\n"
     ]
    },
    {
     "name": "stderr",
     "output_type": "stream",
     "text": [
      "/home/dmitsas/.local/lib/python3.10/site-packages/sklearn/base.py:376: InconsistentVersionWarning: Trying to unpickle estimator LinearRegression from version 1.2.2 when using version 1.4.2. This might lead to breaking code or invalid results. Use at your own risk. For more info please refer to:\n",
      "https://scikit-learn.org/stable/model_persistence.html#security-maintainability-limitations\n",
      "  warnings.warn(\n",
      "/home/dmitsas/.local/lib/python3.10/site-packages/sklearn/base.py:376: InconsistentVersionWarning: Trying to unpickle estimator LinearRegression from version 1.2.2 when using version 1.4.2. This might lead to breaking code or invalid results. Use at your own risk. For more info please refer to:\n",
      "https://scikit-learn.org/stable/model_persistence.html#security-maintainability-limitations\n",
      "  warnings.warn(\n",
      "/home/dmitsas/.local/lib/python3.10/site-packages/sklearn/base.py:376: InconsistentVersionWarning: Trying to unpickle estimator LinearRegression from version 1.2.2 when using version 1.4.2. This might lead to breaking code or invalid results. Use at your own risk. For more info please refer to:\n",
      "https://scikit-learn.org/stable/model_persistence.html#security-maintainability-limitations\n",
      "  warnings.warn(\n"
     ]
    },
    {
     "name": "stdout",
     "output_type": "stream",
     "text": [
      "WARNING:tensorflow:No training configuration found in the save file, so the model was *not* compiled. Compile it manually.\n"
     ]
    },
    {
     "name": "stderr",
     "output_type": "stream",
     "text": [
      "WARNING:tensorflow:No training configuration found in the save file, so the model was *not* compiled. Compile it manually.\n"
     ]
    },
    {
     "name": "stdout",
     "output_type": "stream",
     "text": [
      "... quantizing model\n",
      "-----------------------------------------------------------\n",
      "zero LUT elements: 4\n",
      "Total LUTs: 653\n",
      "Zeros: 84\n",
      "Total multiplication LUTs: 289\n",
      "Total accumulator LUTs: 364\n",
      "Total DSPs: 7\n",
      "Total layer additions: 14\n",
      "Total bias additions: 14\n",
      "Number of repeated weights: 3\n",
      "Total Flip Flops: 958\n",
      "Real multiplications: 28\n",
      "... quantizing model\n",
      "-----------------------------------------------------------\n",
      "zero LUT elements: 18\n",
      "Total LUTs: 3460\n",
      "Zeros: 421\n",
      "Total multiplication LUTs: 1653\n",
      "Total accumulator LUTs: 1807\n",
      "Total DSPs: 34\n",
      "Total layer additions: 99\n",
      "Total bias additions: 40\n",
      "Number of repeated weights: 9\n",
      "Total Flip Flops: 4185\n",
      "Real multiplications: 139\n",
      "... quantizing model\n",
      "-----------------------------------------------------------\n",
      "zero LUT elements: 16\n",
      "Total LUTs: 1899\n",
      "Zeros: 241\n",
      "Total multiplication LUTs: 898\n",
      "Total accumulator LUTs: 1001\n",
      "Total DSPs: 20\n",
      "Total layer additions: 71\n",
      "Total bias additions: 6\n",
      "Number of repeated weights: 2\n",
      "Total Flip Flops: 2460\n",
      "Real multiplications: 79\n"
     ]
    },
    {
     "name": "stderr",
     "output_type": "stream",
     "text": [
      "/home/dmitsas/.local/lib/python3.10/site-packages/sklearn/base.py:376: InconsistentVersionWarning: Trying to unpickle estimator LinearRegression from version 1.2.2 when using version 1.4.2. This might lead to breaking code or invalid results. Use at your own risk. For more info please refer to:\n",
      "https://scikit-learn.org/stable/model_persistence.html#security-maintainability-limitations\n",
      "  warnings.warn(\n",
      "/home/dmitsas/.local/lib/python3.10/site-packages/sklearn/base.py:376: InconsistentVersionWarning: Trying to unpickle estimator LinearRegression from version 1.2.2 when using version 1.4.2. This might lead to breaking code or invalid results. Use at your own risk. For more info please refer to:\n",
      "https://scikit-learn.org/stable/model_persistence.html#security-maintainability-limitations\n",
      "  warnings.warn(\n",
      "/home/dmitsas/.local/lib/python3.10/site-packages/sklearn/base.py:376: InconsistentVersionWarning: Trying to unpickle estimator LinearRegression from version 1.2.2 when using version 1.4.2. This might lead to breaking code or invalid results. Use at your own risk. For more info please refer to:\n",
      "https://scikit-learn.org/stable/model_persistence.html#security-maintainability-limitations\n",
      "  warnings.warn(\n"
     ]
    },
    {
     "name": "stdout",
     "output_type": "stream",
     "text": [
      "WARNING:tensorflow:No training configuration found in the save file, so the model was *not* compiled. Compile it manually.\n"
     ]
    },
    {
     "name": "stderr",
     "output_type": "stream",
     "text": [
      "WARNING:tensorflow:No training configuration found in the save file, so the model was *not* compiled. Compile it manually.\n"
     ]
    },
    {
     "name": "stdout",
     "output_type": "stream",
     "text": [
      "... quantizing model\n",
      "-----------------------------------------------------------\n",
      "zero LUT elements: 15\n",
      "Total LUTs: 4274\n",
      "Zeros: 89\n",
      "Total multiplication LUTs: 2283\n",
      "Total accumulator LUTs: 1991\n",
      "Total DSPs: 45\n",
      "Total layer additions: 163\n",
      "Total bias additions: 18\n",
      "Number of repeated weights: 13\n",
      "Total Flip Flops: 5366\n",
      "Real multiplications: 181\n",
      "... quantizing model\n",
      "-----------------------------------------------------------\n",
      "zero LUT elements: 62\n",
      "Total LUTs: 12957\n",
      "Zeros: 303\n",
      "Total multiplication LUTs: 6236\n",
      "Total accumulator LUTs: 6721\n",
      "Total DSPs: 152\n",
      "Total layer additions: 564\n",
      "Total bias additions: 47\n",
      "Number of repeated weights: 140\n",
      "Total Flip Flops: 16463\n",
      "Real multiplications: 615\n",
      "... quantizing model\n",
      "-----------------------------------------------------------\n",
      "zero LUT elements: 113\n",
      "Total LUTs: 21365\n",
      "Zeros: 488\n",
      "Total multiplication LUTs: 10475\n",
      "Total accumulator LUTs: 10890\n",
      "Total DSPs: 227\n",
      "Total layer additions: 962\n",
      "Total bias additions: 28\n",
      "Number of repeated weights: 163\n",
      "Total Flip Flops: 24793\n",
      "Real multiplications: 991\n"
     ]
    },
    {
     "name": "stderr",
     "output_type": "stream",
     "text": [
      "/home/dmitsas/.local/lib/python3.10/site-packages/sklearn/base.py:376: InconsistentVersionWarning: Trying to unpickle estimator LinearRegression from version 1.2.2 when using version 1.4.2. This might lead to breaking code or invalid results. Use at your own risk. For more info please refer to:\n",
      "https://scikit-learn.org/stable/model_persistence.html#security-maintainability-limitations\n",
      "  warnings.warn(\n",
      "/home/dmitsas/.local/lib/python3.10/site-packages/sklearn/base.py:376: InconsistentVersionWarning: Trying to unpickle estimator LinearRegression from version 1.2.2 when using version 1.4.2. This might lead to breaking code or invalid results. Use at your own risk. For more info please refer to:\n",
      "https://scikit-learn.org/stable/model_persistence.html#security-maintainability-limitations\n",
      "  warnings.warn(\n",
      "/home/dmitsas/.local/lib/python3.10/site-packages/sklearn/base.py:376: InconsistentVersionWarning: Trying to unpickle estimator LinearRegression from version 1.2.2 when using version 1.4.2. This might lead to breaking code or invalid results. Use at your own risk. For more info please refer to:\n",
      "https://scikit-learn.org/stable/model_persistence.html#security-maintainability-limitations\n",
      "  warnings.warn(\n"
     ]
    },
    {
     "name": "stdout",
     "output_type": "stream",
     "text": [
      "WARNING:tensorflow:No training configuration found in the save file, so the model was *not* compiled. Compile it manually.\n"
     ]
    },
    {
     "name": "stderr",
     "output_type": "stream",
     "text": [
      "WARNING:tensorflow:No training configuration found in the save file, so the model was *not* compiled. Compile it manually.\n"
     ]
    },
    {
     "name": "stdout",
     "output_type": "stream",
     "text": [
      "... quantizing model\n",
      "-----------------------------------------------------------\n",
      "zero LUT elements: 81\n",
      "Total LUTs: 17572\n",
      "Zeros: 309\n",
      "Total multiplication LUTs: 8332\n",
      "Total accumulator LUTs: 9240\n",
      "Total DSPs: 187\n",
      "Total layer additions: 795\n",
      "Total bias additions: 45\n",
      "Number of repeated weights: 215\n",
      "Total Flip Flops: 21626\n",
      "Real multiplications: 843\n",
      "... quantizing model\n",
      "-----------------------------------------------------------\n",
      "zero LUT elements: 89\n",
      "Total LUTs: 15361\n",
      "Zeros: 258\n",
      "Total multiplication LUTs: 7650\n",
      "Total accumulator LUTs: 7711\n",
      "Total DSPs: 170\n",
      "Total layer additions: 682\n",
      "Total bias additions: 19\n",
      "Number of repeated weights: 81\n",
      "Total Flip Flops: 18479\n",
      "Real multiplications: 702\n",
      "... quantizing model\n",
      "-----------------------------------------------------------\n",
      "zero LUT elements: 43\n",
      "Total LUTs: 7790\n",
      "Zeros: 134\n",
      "Total multiplication LUTs: 3775\n",
      "Total accumulator LUTs: 4015\n",
      "Total DSPs: 87\n",
      "Total layer additions: 341\n",
      "Total bias additions: 24\n",
      "Number of repeated weights: 60\n",
      "Total Flip Flops: 10330\n",
      "Real multiplications: 366\n"
     ]
    },
    {
     "name": "stderr",
     "output_type": "stream",
     "text": [
      "/home/dmitsas/.local/lib/python3.10/site-packages/sklearn/base.py:376: InconsistentVersionWarning: Trying to unpickle estimator LinearRegression from version 1.2.2 when using version 1.4.2. This might lead to breaking code or invalid results. Use at your own risk. For more info please refer to:\n",
      "https://scikit-learn.org/stable/model_persistence.html#security-maintainability-limitations\n",
      "  warnings.warn(\n",
      "/home/dmitsas/.local/lib/python3.10/site-packages/sklearn/base.py:376: InconsistentVersionWarning: Trying to unpickle estimator LinearRegression from version 1.2.2 when using version 1.4.2. This might lead to breaking code or invalid results. Use at your own risk. For more info please refer to:\n",
      "https://scikit-learn.org/stable/model_persistence.html#security-maintainability-limitations\n",
      "  warnings.warn(\n",
      "/home/dmitsas/.local/lib/python3.10/site-packages/sklearn/base.py:376: InconsistentVersionWarning: Trying to unpickle estimator LinearRegression from version 1.2.2 when using version 1.4.2. This might lead to breaking code or invalid results. Use at your own risk. For more info please refer to:\n",
      "https://scikit-learn.org/stable/model_persistence.html#security-maintainability-limitations\n",
      "  warnings.warn(\n"
     ]
    },
    {
     "name": "stdout",
     "output_type": "stream",
     "text": [
      "WARNING:tensorflow:No training configuration found in the save file, so the model was *not* compiled. Compile it manually.\n"
     ]
    },
    {
     "name": "stderr",
     "output_type": "stream",
     "text": [
      "WARNING:tensorflow:No training configuration found in the save file, so the model was *not* compiled. Compile it manually.\n"
     ]
    },
    {
     "name": "stdout",
     "output_type": "stream",
     "text": [
      "... quantizing model\n",
      "-----------------------------------------------------------\n",
      "zero LUT elements: 16\n",
      "Total LUTs: 2044\n",
      "Zeros: 144\n",
      "Total multiplication LUTs: 952\n",
      "Total accumulator LUTs: 1092\n",
      "Total DSPs: 21\n",
      "Total layer additions: 72\n",
      "Total bias additions: 12\n",
      "Number of repeated weights: 5\n",
      "Total Flip Flops: 2605\n",
      "Real multiplications: 84\n",
      "... quantizing model\n",
      "-----------------------------------------------------------\n",
      "zero LUT elements: 5\n",
      "Total LUTs: 530\n",
      "Zeros: 38\n",
      "Total multiplication LUTs: 244\n",
      "Total accumulator LUTs: 286\n",
      "Total DSPs: 5\n",
      "Total layer additions: 17\n",
      "Total bias additions: 5\n",
      "Number of repeated weights: 0\n",
      "Total Flip Flops: 779\n",
      "Real multiplications: 22\n",
      "... quantizing model\n",
      "-----------------------------------------------------------\n",
      "zero LUT elements: 3\n",
      "Total LUTs: 427\n",
      "Zeros: 31\n",
      "Total multiplication LUTs: 180\n",
      "Total accumulator LUTs: 247\n",
      "Total DSPs: 3\n",
      "Total layer additions: 9\n",
      "Total bias additions: 10\n",
      "Number of repeated weights: 1\n",
      "Total Flip Flops: 689\n",
      "Real multiplications: 19\n"
     ]
    },
    {
     "name": "stderr",
     "output_type": "stream",
     "text": [
      "/home/dmitsas/.local/lib/python3.10/site-packages/sklearn/base.py:376: InconsistentVersionWarning: Trying to unpickle estimator LinearRegression from version 1.2.2 when using version 1.4.2. This might lead to breaking code or invalid results. Use at your own risk. For more info please refer to:\n",
      "https://scikit-learn.org/stable/model_persistence.html#security-maintainability-limitations\n",
      "  warnings.warn(\n",
      "/home/dmitsas/.local/lib/python3.10/site-packages/sklearn/base.py:376: InconsistentVersionWarning: Trying to unpickle estimator LinearRegression from version 1.2.2 when using version 1.4.2. This might lead to breaking code or invalid results. Use at your own risk. For more info please refer to:\n",
      "https://scikit-learn.org/stable/model_persistence.html#security-maintainability-limitations\n",
      "  warnings.warn(\n",
      "/home/dmitsas/.local/lib/python3.10/site-packages/sklearn/base.py:376: InconsistentVersionWarning: Trying to unpickle estimator LinearRegression from version 1.2.2 when using version 1.4.2. This might lead to breaking code or invalid results. Use at your own risk. For more info please refer to:\n",
      "https://scikit-learn.org/stable/model_persistence.html#security-maintainability-limitations\n",
      "  warnings.warn(\n"
     ]
    },
    {
     "name": "stdout",
     "output_type": "stream",
     "text": [
      "WARNING:tensorflow:No training configuration found in the save file, so the model was *not* compiled. Compile it manually.\n"
     ]
    },
    {
     "name": "stderr",
     "output_type": "stream",
     "text": [
      "WARNING:tensorflow:No training configuration found in the save file, so the model was *not* compiled. Compile it manually.\n"
     ]
    },
    {
     "name": "stdout",
     "output_type": "stream",
     "text": [
      "... quantizing model\n",
      "-----------------------------------------------------------\n",
      "zero LUT elements: 43\n",
      "Total LUTs: 9551\n",
      "Zeros: 211\n",
      "Total multiplication LUTs: 4645\n",
      "Total accumulator LUTs: 4906\n",
      "Total DSPs: 104\n",
      "Total layer additions: 400\n",
      "Total bias additions: 46\n",
      "Number of repeated weights: 93\n",
      "Total Flip Flops: 12389\n",
      "Real multiplications: 447\n",
      "... quantizing model\n",
      "-----------------------------------------------------------\n",
      "zero LUT elements: 22\n",
      "Total LUTs: 3200\n",
      "Zeros: 60\n",
      "Total multiplication LUTs: 1536\n",
      "Total accumulator LUTs: 1664\n",
      "Total DSPs: 32\n",
      "Total layer additions: 124\n",
      "Total bias additions: 4\n",
      "Number of repeated weights: 0\n",
      "Total Flip Flops: 3872\n",
      "Real multiplications: 128\n",
      "... quantizing model\n",
      "-----------------------------------------------------------\n",
      "zero LUT elements: 4\n",
      "Total LUTs: 1139\n",
      "Zeros: 23\n",
      "Total multiplication LUTs: 515\n",
      "Total accumulator LUTs: 624\n",
      "Total DSPs: 9\n",
      "Total layer additions: 31\n",
      "Total bias additions: 17\n",
      "Number of repeated weights: 7\n",
      "Total Flip Flops: 1580\n",
      "Real multiplications: 49\n"
     ]
    },
    {
     "name": "stderr",
     "output_type": "stream",
     "text": [
      "/home/dmitsas/.local/lib/python3.10/site-packages/sklearn/base.py:376: InconsistentVersionWarning: Trying to unpickle estimator LinearRegression from version 1.2.2 when using version 1.4.2. This might lead to breaking code or invalid results. Use at your own risk. For more info please refer to:\n",
      "https://scikit-learn.org/stable/model_persistence.html#security-maintainability-limitations\n",
      "  warnings.warn(\n",
      "/home/dmitsas/.local/lib/python3.10/site-packages/sklearn/base.py:376: InconsistentVersionWarning: Trying to unpickle estimator LinearRegression from version 1.2.2 when using version 1.4.2. This might lead to breaking code or invalid results. Use at your own risk. For more info please refer to:\n",
      "https://scikit-learn.org/stable/model_persistence.html#security-maintainability-limitations\n",
      "  warnings.warn(\n",
      "/home/dmitsas/.local/lib/python3.10/site-packages/sklearn/base.py:376: InconsistentVersionWarning: Trying to unpickle estimator LinearRegression from version 1.2.2 when using version 1.4.2. This might lead to breaking code or invalid results. Use at your own risk. For more info please refer to:\n",
      "https://scikit-learn.org/stable/model_persistence.html#security-maintainability-limitations\n",
      "  warnings.warn(\n"
     ]
    },
    {
     "name": "stdout",
     "output_type": "stream",
     "text": [
      "WARNING:tensorflow:No training configuration found in the save file, so the model was *not* compiled. Compile it manually.\n"
     ]
    },
    {
     "name": "stderr",
     "output_type": "stream",
     "text": [
      "WARNING:tensorflow:No training configuration found in the save file, so the model was *not* compiled. Compile it manually.\n"
     ]
    },
    {
     "name": "stdout",
     "output_type": "stream",
     "text": [
      "... quantizing model\n",
      "-----------------------------------------------------------\n",
      "zero LUT elements: 20\n",
      "Total LUTs: 2859\n",
      "Zeros: 53\n",
      "Total multiplication LUTs: 1299\n",
      "Total accumulator LUTs: 1560\n",
      "Total DSPs: 28\n",
      "Total layer additions: 107\n",
      "Total bias additions: 13\n",
      "Number of repeated weights: 13\n",
      "Total Flip Flops: 3729\n",
      "Real multiplications: 123\n",
      "... quantizing model\n",
      "-----------------------------------------------------------\n",
      "zero LUT elements: 28\n",
      "Total LUTs: 4246\n",
      "Zeros: 83\n",
      "Total multiplication LUTs: 2167\n",
      "Total accumulator LUTs: 2079\n",
      "Total DSPs: 46\n",
      "Total layer additions: 172\n",
      "Total bias additions: 17\n",
      "Number of repeated weights: 18\n",
      "Total Flip Flops: 5589\n",
      "Real multiplications: 189\n",
      "... quantizing model\n",
      "-----------------------------------------------------------\n",
      "zero LUT elements: 44\n",
      "Total LUTs: 8754\n",
      "Zeros: 176\n",
      "Total multiplication LUTs: 4332\n",
      "Total accumulator LUTs: 4422\n",
      "Total DSPs: 104\n",
      "Total layer additions: 368\n",
      "Total bias additions: 34\n",
      "Number of repeated weights: 63\n",
      "Total Flip Flops: 11253\n",
      "Real multiplications: 402\n"
     ]
    },
    {
     "name": "stderr",
     "output_type": "stream",
     "text": [
      "/home/dmitsas/.local/lib/python3.10/site-packages/sklearn/base.py:376: InconsistentVersionWarning: Trying to unpickle estimator LinearRegression from version 1.2.2 when using version 1.4.2. This might lead to breaking code or invalid results. Use at your own risk. For more info please refer to:\n",
      "https://scikit-learn.org/stable/model_persistence.html#security-maintainability-limitations\n",
      "  warnings.warn(\n",
      "/home/dmitsas/.local/lib/python3.10/site-packages/sklearn/base.py:376: InconsistentVersionWarning: Trying to unpickle estimator LinearRegression from version 1.2.2 when using version 1.4.2. This might lead to breaking code or invalid results. Use at your own risk. For more info please refer to:\n",
      "https://scikit-learn.org/stable/model_persistence.html#security-maintainability-limitations\n",
      "  warnings.warn(\n",
      "/home/dmitsas/.local/lib/python3.10/site-packages/sklearn/base.py:376: InconsistentVersionWarning: Trying to unpickle estimator LinearRegression from version 1.2.2 when using version 1.4.2. This might lead to breaking code or invalid results. Use at your own risk. For more info please refer to:\n",
      "https://scikit-learn.org/stable/model_persistence.html#security-maintainability-limitations\n",
      "  warnings.warn(\n"
     ]
    },
    {
     "name": "stdout",
     "output_type": "stream",
     "text": [
      "WARNING:tensorflow:No training configuration found in the save file, so the model was *not* compiled. Compile it manually.\n"
     ]
    },
    {
     "name": "stderr",
     "output_type": "stream",
     "text": [
      "WARNING:tensorflow:No training configuration found in the save file, so the model was *not* compiled. Compile it manually.\n"
     ]
    },
    {
     "name": "stdout",
     "output_type": "stream",
     "text": [
      "... quantizing model\n",
      "-----------------------------------------------------------\n",
      "zero LUT elements: 32\n",
      "Total LUTs: 6321\n",
      "Zeros: 188\n",
      "Total multiplication LUTs: 3131\n",
      "Total accumulator LUTs: 3190\n",
      "Total DSPs: 68\n",
      "Total layer additions: 262\n",
      "Total bias additions: 28\n",
      "Number of repeated weights: 39\n",
      "Total Flip Flops: 8390\n",
      "Real multiplications: 292\n",
      "... quantizing model\n",
      "-----------------------------------------------------------\n",
      "zero LUT elements: 39\n",
      "Total LUTs: 6774\n",
      "Zeros: 199\n",
      "Total multiplication LUTs: 3353\n",
      "Total accumulator LUTs: 3421\n",
      "Total DSPs: 71\n",
      "Total layer additions: 294\n",
      "Total bias additions: 17\n",
      "Number of repeated weights: 32\n",
      "Total Flip Flops: 8894\n",
      "Real multiplications: 311\n",
      "... quantizing model\n",
      "-----------------------------------------------------------\n",
      "zero LUT elements: 23\n",
      "Total LUTs: 3547\n",
      "Zeros: 99\n",
      "Total multiplication LUTs: 1831\n",
      "Total accumulator LUTs: 1716\n",
      "Total DSPs: 39\n",
      "Total layer additions: 141\n",
      "Total bias additions: 15\n",
      "Number of repeated weights: 9\n",
      "Total Flip Flops: 4666\n",
      "Real multiplications: 156\n"
     ]
    },
    {
     "name": "stderr",
     "output_type": "stream",
     "text": [
      "/home/dmitsas/.local/lib/python3.10/site-packages/sklearn/base.py:376: InconsistentVersionWarning: Trying to unpickle estimator LinearRegression from version 1.2.2 when using version 1.4.2. This might lead to breaking code or invalid results. Use at your own risk. For more info please refer to:\n",
      "https://scikit-learn.org/stable/model_persistence.html#security-maintainability-limitations\n",
      "  warnings.warn(\n",
      "/home/dmitsas/.local/lib/python3.10/site-packages/sklearn/base.py:376: InconsistentVersionWarning: Trying to unpickle estimator LinearRegression from version 1.2.2 when using version 1.4.2. This might lead to breaking code or invalid results. Use at your own risk. For more info please refer to:\n",
      "https://scikit-learn.org/stable/model_persistence.html#security-maintainability-limitations\n",
      "  warnings.warn(\n",
      "/home/dmitsas/.local/lib/python3.10/site-packages/sklearn/base.py:376: InconsistentVersionWarning: Trying to unpickle estimator LinearRegression from version 1.2.2 when using version 1.4.2. This might lead to breaking code or invalid results. Use at your own risk. For more info please refer to:\n",
      "https://scikit-learn.org/stable/model_persistence.html#security-maintainability-limitations\n",
      "  warnings.warn(\n"
     ]
    },
    {
     "name": "stdout",
     "output_type": "stream",
     "text": [
      "WARNING:tensorflow:No training configuration found in the save file, so the model was *not* compiled. Compile it manually.\n"
     ]
    },
    {
     "name": "stderr",
     "output_type": "stream",
     "text": [
      "WARNING:tensorflow:No training configuration found in the save file, so the model was *not* compiled. Compile it manually.\n"
     ]
    },
    {
     "name": "stdout",
     "output_type": "stream",
     "text": [
      "... quantizing model\n",
      "-----------------------------------------------------------\n",
      "zero LUT elements: 45\n",
      "Total LUTs: 9279\n",
      "Zeros: 948\n",
      "Total multiplication LUTs: 4604\n",
      "Total accumulator LUTs: 4675\n",
      "Total DSPs: 99\n",
      "Total layer additions: 372\n",
      "Total bias additions: 53\n",
      "Number of repeated weights: 68\n",
      "Total Flip Flops: 11887\n",
      "Real multiplications: 427\n",
      "... quantizing model\n",
      "-----------------------------------------------------------\n",
      "zero LUT elements: 69\n",
      "Total LUTs: 11397\n",
      "Zeros: 1138\n",
      "Total multiplication LUTs: 5776\n",
      "Total accumulator LUTs: 5621\n",
      "Total DSPs: 132\n",
      "Total layer additions: 482\n",
      "Total bias additions: 29\n",
      "Number of repeated weights: 43\n",
      "Total Flip Flops: 13996\n",
      "Real multiplications: 512\n",
      "... quantizing model\n",
      "-----------------------------------------------------------\n",
      "zero LUT elements: 41\n",
      "Total LUTs: 6666\n",
      "Zeros: 683\n",
      "Total multiplication LUTs: 3300\n",
      "Total accumulator LUTs: 3366\n",
      "Total DSPs: 77\n",
      "Total layer additions: 274\n",
      "Total bias additions: 32\n",
      "Number of repeated weights: 24\n",
      "Total Flip Flops: 8788\n",
      "Real multiplications: 307\n"
     ]
    },
    {
     "name": "stderr",
     "output_type": "stream",
     "text": [
      "/home/dmitsas/.local/lib/python3.10/site-packages/sklearn/base.py:376: InconsistentVersionWarning: Trying to unpickle estimator LinearRegression from version 1.2.2 when using version 1.4.2. This might lead to breaking code or invalid results. Use at your own risk. For more info please refer to:\n",
      "https://scikit-learn.org/stable/model_persistence.html#security-maintainability-limitations\n",
      "  warnings.warn(\n",
      "/home/dmitsas/.local/lib/python3.10/site-packages/sklearn/base.py:376: InconsistentVersionWarning: Trying to unpickle estimator LinearRegression from version 1.2.2 when using version 1.4.2. This might lead to breaking code or invalid results. Use at your own risk. For more info please refer to:\n",
      "https://scikit-learn.org/stable/model_persistence.html#security-maintainability-limitations\n",
      "  warnings.warn(\n",
      "/home/dmitsas/.local/lib/python3.10/site-packages/sklearn/base.py:376: InconsistentVersionWarning: Trying to unpickle estimator LinearRegression from version 1.2.2 when using version 1.4.2. This might lead to breaking code or invalid results. Use at your own risk. For more info please refer to:\n",
      "https://scikit-learn.org/stable/model_persistence.html#security-maintainability-limitations\n",
      "  warnings.warn(\n"
     ]
    },
    {
     "name": "stdout",
     "output_type": "stream",
     "text": [
      "WARNING:tensorflow:No training configuration found in the save file, so the model was *not* compiled. Compile it manually.\n"
     ]
    },
    {
     "name": "stderr",
     "output_type": "stream",
     "text": [
      "WARNING:tensorflow:No training configuration found in the save file, so the model was *not* compiled. Compile it manually.\n"
     ]
    },
    {
     "name": "stdout",
     "output_type": "stream",
     "text": [
      "... quantizing model\n",
      "-----------------------------------------------------------\n",
      "zero LUT elements: 37\n",
      "Total LUTs: 8035\n",
      "Zeros: 395\n",
      "Total multiplication LUTs: 4097\n",
      "Total accumulator LUTs: 3938\n",
      "Total DSPs: 78\n",
      "Total layer additions: 325\n",
      "Total bias additions: 33\n",
      "Number of repeated weights: 44\n",
      "Total Flip Flops: 10201\n",
      "Real multiplications: 361\n",
      "... quantizing model\n",
      "-----------------------------------------------------------\n",
      "zero LUT elements: 44\n",
      "Total LUTs: 6226\n",
      "Zeros: 320\n",
      "Total multiplication LUTs: 3014\n",
      "Total accumulator LUTs: 3212\n",
      "Total DSPs: 61\n",
      "Total layer additions: 275\n",
      "Total bias additions: 17\n",
      "Number of repeated weights: 34\n",
      "Total Flip Flops: 8390\n",
      "Real multiplications: 292\n",
      "... quantizing model\n",
      "-----------------------------------------------------------\n",
      "zero LUT elements: 21\n",
      "Total LUTs: 4004\n",
      "Zeros: 195\n",
      "Total multiplication LUTs: 2035\n",
      "Total accumulator LUTs: 1969\n",
      "Total DSPs: 46\n",
      "Total layer additions: 157\n",
      "Total bias additions: 22\n",
      "Number of repeated weights: 18\n",
      "Total Flip Flops: 5311\n",
      "Real multiplications: 179\n"
     ]
    },
    {
     "name": "stderr",
     "output_type": "stream",
     "text": [
      "/home/dmitsas/.local/lib/python3.10/site-packages/sklearn/base.py:376: InconsistentVersionWarning: Trying to unpickle estimator LinearRegression from version 1.2.2 when using version 1.4.2. This might lead to breaking code or invalid results. Use at your own risk. For more info please refer to:\n",
      "https://scikit-learn.org/stable/model_persistence.html#security-maintainability-limitations\n",
      "  warnings.warn(\n",
      "/home/dmitsas/.local/lib/python3.10/site-packages/sklearn/base.py:376: InconsistentVersionWarning: Trying to unpickle estimator LinearRegression from version 1.2.2 when using version 1.4.2. This might lead to breaking code or invalid results. Use at your own risk. For more info please refer to:\n",
      "https://scikit-learn.org/stable/model_persistence.html#security-maintainability-limitations\n",
      "  warnings.warn(\n",
      "/home/dmitsas/.local/lib/python3.10/site-packages/sklearn/base.py:376: InconsistentVersionWarning: Trying to unpickle estimator LinearRegression from version 1.2.2 when using version 1.4.2. This might lead to breaking code or invalid results. Use at your own risk. For more info please refer to:\n",
      "https://scikit-learn.org/stable/model_persistence.html#security-maintainability-limitations\n",
      "  warnings.warn(\n"
     ]
    },
    {
     "name": "stdout",
     "output_type": "stream",
     "text": [
      "WARNING:tensorflow:No training configuration found in the save file, so the model was *not* compiled. Compile it manually.\n"
     ]
    },
    {
     "name": "stderr",
     "output_type": "stream",
     "text": [
      "WARNING:tensorflow:No training configuration found in the save file, so the model was *not* compiled. Compile it manually.\n"
     ]
    },
    {
     "name": "stdout",
     "output_type": "stream",
     "text": [
      "... quantizing model\n",
      "-----------------------------------------------------------\n",
      "zero LUT elements: 68\n",
      "Total LUTs: 13927\n",
      "Zeros: 190\n",
      "Total multiplication LUTs: 6843\n",
      "Total accumulator LUTs: 7084\n",
      "Total DSPs: 156\n",
      "Total layer additions: 608\n",
      "Total bias additions: 36\n",
      "Number of repeated weights: 121\n",
      "Total Flip Flops: 17188\n",
      "Real multiplications: 646\n",
      "... quantizing model\n",
      "-----------------------------------------------------------\n",
      "zero LUT elements: 145\n",
      "Total LUTs: 35777\n",
      "Zeros: 518\n",
      "Total multiplication LUTs: 16450\n",
      "Total accumulator LUTs: 19327\n",
      "Total DSPs: 382\n",
      "Total layer additions: 1702\n",
      "Total bias additions: 55\n",
      "Number of repeated weights: 506\n",
      "Total Flip Flops: 40066\n",
      "Real multiplications: 1762\n",
      "... quantizing model\n",
      "-----------------------------------------------------------\n",
      "zero LUT elements: 131\n",
      "Total LUTs: 24195\n",
      "Zeros: 327\n",
      "Total multiplication LUTs: 11985\n",
      "Total accumulator LUTs: 12210\n",
      "Total DSPs: 273\n",
      "Total layer additions: 1089\n",
      "Total bias additions: 21\n",
      "Number of repeated weights: 158\n",
      "Total Flip Flops: 27317\n",
      "Real multiplications: 1113\n"
     ]
    },
    {
     "name": "stderr",
     "output_type": "stream",
     "text": [
      "/home/dmitsas/.local/lib/python3.10/site-packages/sklearn/base.py:376: InconsistentVersionWarning: Trying to unpickle estimator LinearRegression from version 1.2.2 when using version 1.4.2. This might lead to breaking code or invalid results. Use at your own risk. For more info please refer to:\n",
      "https://scikit-learn.org/stable/model_persistence.html#security-maintainability-limitations\n",
      "  warnings.warn(\n",
      "/home/dmitsas/.local/lib/python3.10/site-packages/sklearn/base.py:376: InconsistentVersionWarning: Trying to unpickle estimator LinearRegression from version 1.2.2 when using version 1.4.2. This might lead to breaking code or invalid results. Use at your own risk. For more info please refer to:\n",
      "https://scikit-learn.org/stable/model_persistence.html#security-maintainability-limitations\n",
      "  warnings.warn(\n",
      "/home/dmitsas/.local/lib/python3.10/site-packages/sklearn/base.py:376: InconsistentVersionWarning: Trying to unpickle estimator LinearRegression from version 1.2.2 when using version 1.4.2. This might lead to breaking code or invalid results. Use at your own risk. For more info please refer to:\n",
      "https://scikit-learn.org/stable/model_persistence.html#security-maintainability-limitations\n",
      "  warnings.warn(\n"
     ]
    },
    {
     "name": "stdout",
     "output_type": "stream",
     "text": [
      "WARNING:tensorflow:No training configuration found in the save file, so the model was *not* compiled. Compile it manually.\n"
     ]
    },
    {
     "name": "stderr",
     "output_type": "stream",
     "text": [
      "WARNING:tensorflow:No training configuration found in the save file, so the model was *not* compiled. Compile it manually.\n"
     ]
    },
    {
     "name": "stdout",
     "output_type": "stream",
     "text": [
      "... quantizing model\n",
      "-----------------------------------------------------------\n",
      "zero LUT elements: 38\n",
      "Total LUTs: 6093\n",
      "Zeros: 258\n",
      "Total multiplication LUTs: 3002\n",
      "Total accumulator LUTs: 3091\n",
      "Total DSPs: 65\n",
      "Total layer additions: 255\n",
      "Total bias additions: 26\n",
      "Number of repeated weights: 32\n",
      "Total Flip Flops: 8123\n",
      "Real multiplications: 282\n",
      "... quantizing model\n",
      "-----------------------------------------------------------\n",
      "zero LUT elements: 75\n",
      "Total LUTs: 17394\n",
      "Zeros: 761\n",
      "Total multiplication LUTs: 8253\n",
      "Total accumulator LUTs: 9141\n",
      "Total DSPs: 204\n",
      "Total layer additions: 773\n",
      "Total bias additions: 58\n",
      "Number of repeated weights: 204\n",
      "Total Flip Flops: 21385\n",
      "Real multiplications: 832\n",
      "... quantizing model\n",
      "-----------------------------------------------------------\n",
      "zero LUT elements: 83\n",
      "Total LUTs: 14360\n",
      "Zeros: 592\n",
      "Total multiplication LUTs: 7243\n",
      "Total accumulator LUTs: 7117\n",
      "Total DSPs: 179\n",
      "Total layer additions: 626\n",
      "Total bias additions: 21\n",
      "Number of repeated weights: 67\n",
      "Total Flip Flops: 17211\n",
      "Real multiplications: 647\n"
     ]
    },
    {
     "name": "stderr",
     "output_type": "stream",
     "text": [
      "/home/dmitsas/.local/lib/python3.10/site-packages/sklearn/base.py:376: InconsistentVersionWarning: Trying to unpickle estimator LinearRegression from version 1.2.2 when using version 1.4.2. This might lead to breaking code or invalid results. Use at your own risk. For more info please refer to:\n",
      "https://scikit-learn.org/stable/model_persistence.html#security-maintainability-limitations\n",
      "  warnings.warn(\n",
      "/home/dmitsas/.local/lib/python3.10/site-packages/sklearn/base.py:376: InconsistentVersionWarning: Trying to unpickle estimator LinearRegression from version 1.2.2 when using version 1.4.2. This might lead to breaking code or invalid results. Use at your own risk. For more info please refer to:\n",
      "https://scikit-learn.org/stable/model_persistence.html#security-maintainability-limitations\n",
      "  warnings.warn(\n",
      "/home/dmitsas/.local/lib/python3.10/site-packages/sklearn/base.py:376: InconsistentVersionWarning: Trying to unpickle estimator LinearRegression from version 1.2.2 when using version 1.4.2. This might lead to breaking code or invalid results. Use at your own risk. For more info please refer to:\n",
      "https://scikit-learn.org/stable/model_persistence.html#security-maintainability-limitations\n",
      "  warnings.warn(\n"
     ]
    },
    {
     "name": "stdout",
     "output_type": "stream",
     "text": [
      "WARNING:tensorflow:No training configuration found in the save file, so the model was *not* compiled. Compile it manually.\n"
     ]
    },
    {
     "name": "stderr",
     "output_type": "stream",
     "text": [
      "WARNING:tensorflow:No training configuration found in the save file, so the model was *not* compiled. Compile it manually.\n"
     ]
    },
    {
     "name": "stdout",
     "output_type": "stream",
     "text": [
      "... quantizing model\n",
      "-----------------------------------------------------------\n",
      "zero LUT elements: 26\n",
      "Total LUTs: 4486\n",
      "Zeros: 317\n",
      "Total multiplication LUTs: 2275\n",
      "Total accumulator LUTs: 2211\n",
      "Total DSPs: 43\n",
      "Total layer additions: 151\n",
      "Total bias additions: 50\n",
      "Number of repeated weights: 30\n",
      "Total Flip Flops: 5977\n",
      "Real multiplications: 203\n",
      "... quantizing model\n",
      "-----------------------------------------------------------\n",
      "zero LUT elements: 118\n",
      "Total LUTs: 23677\n",
      "Zeros: 1713\n",
      "Total multiplication LUTs: 11643\n",
      "Total accumulator LUTs: 12034\n",
      "Total DSPs: 253\n",
      "Total layer additions: 1041\n",
      "Total bias additions: 53\n",
      "Number of repeated weights: 190\n",
      "Total Flip Flops: 26949\n",
      "Real multiplications: 1095\n",
      "... quantizing model\n",
      "-----------------------------------------------------------\n",
      "zero LUT elements: 87\n",
      "Total LUTs: 14192\n",
      "Zeros: 988\n",
      "Total multiplication LUTs: 7240\n",
      "Total accumulator LUTs: 6952\n",
      "Total DSPs: 174\n",
      "Total layer additions: 602\n",
      "Total bias additions: 30\n",
      "Number of repeated weights: 55\n",
      "Total Flip Flops: 16862\n",
      "Real multiplications: 632\n"
     ]
    },
    {
     "name": "stderr",
     "output_type": "stream",
     "text": [
      "/home/dmitsas/.local/lib/python3.10/site-packages/sklearn/base.py:376: InconsistentVersionWarning: Trying to unpickle estimator LinearRegression from version 1.2.2 when using version 1.4.2. This might lead to breaking code or invalid results. Use at your own risk. For more info please refer to:\n",
      "https://scikit-learn.org/stable/model_persistence.html#security-maintainability-limitations\n",
      "  warnings.warn(\n",
      "/home/dmitsas/.local/lib/python3.10/site-packages/sklearn/base.py:376: InconsistentVersionWarning: Trying to unpickle estimator LinearRegression from version 1.2.2 when using version 1.4.2. This might lead to breaking code or invalid results. Use at your own risk. For more info please refer to:\n",
      "https://scikit-learn.org/stable/model_persistence.html#security-maintainability-limitations\n",
      "  warnings.warn(\n",
      "/home/dmitsas/.local/lib/python3.10/site-packages/sklearn/base.py:376: InconsistentVersionWarning: Trying to unpickle estimator LinearRegression from version 1.2.2 when using version 1.4.2. This might lead to breaking code or invalid results. Use at your own risk. For more info please refer to:\n",
      "https://scikit-learn.org/stable/model_persistence.html#security-maintainability-limitations\n",
      "  warnings.warn(\n"
     ]
    },
    {
     "name": "stdout",
     "output_type": "stream",
     "text": [
      "WARNING:tensorflow:No training configuration found in the save file, so the model was *not* compiled. Compile it manually.\n"
     ]
    },
    {
     "name": "stderr",
     "output_type": "stream",
     "text": [
      "WARNING:tensorflow:No training configuration found in the save file, so the model was *not* compiled. Compile it manually.\n"
     ]
    },
    {
     "name": "stdout",
     "output_type": "stream",
     "text": [
      "... quantizing model\n",
      "-----------------------------------------------------------\n",
      "zero LUT elements: 18\n",
      "Total LUTs: 3443\n",
      "Zeros: 151\n",
      "Total multiplication LUTs: 1662\n",
      "Total accumulator LUTs: 1781\n",
      "Total DSPs: 26\n",
      "Total layer additions: 121\n",
      "Total bias additions: 16\n",
      "Number of repeated weights: 6\n",
      "Total Flip Flops: 4157\n",
      "Real multiplications: 138\n",
      "... quantizing model\n",
      "-----------------------------------------------------------\n",
      "zero LUT elements: 39\n",
      "Total LUTs: 8646\n",
      "Zeros: 453\n",
      "Total multiplication LUTs: 4125\n",
      "Total accumulator LUTs: 4521\n",
      "Total DSPs: 98\n",
      "Total layer additions: 363\n",
      "Total bias additions: 48\n",
      "Number of repeated weights: 91\n",
      "Total Flip Flops: 11558\n",
      "Real multiplications: 414\n",
      "... quantizing model\n",
      "-----------------------------------------------------------\n",
      "zero LUT elements: 70\n",
      "Total LUTs: 13718\n",
      "Zeros: 666\n",
      "Total multiplication LUTs: 7019\n",
      "Total accumulator LUTs: 6699\n",
      "Total DSPs: 147\n",
      "Total layer additions: 584\n",
      "Total bias additions: 25\n",
      "Number of repeated weights: 61\n",
      "Total Flip Flops: 16322\n",
      "Real multiplications: 609\n"
     ]
    },
    {
     "name": "stderr",
     "output_type": "stream",
     "text": [
      "/home/dmitsas/.local/lib/python3.10/site-packages/sklearn/base.py:376: InconsistentVersionWarning: Trying to unpickle estimator LinearRegression from version 1.2.2 when using version 1.4.2. This might lead to breaking code or invalid results. Use at your own risk. For more info please refer to:\n",
      "https://scikit-learn.org/stable/model_persistence.html#security-maintainability-limitations\n",
      "  warnings.warn(\n",
      "/home/dmitsas/.local/lib/python3.10/site-packages/sklearn/base.py:376: InconsistentVersionWarning: Trying to unpickle estimator LinearRegression from version 1.2.2 when using version 1.4.2. This might lead to breaking code or invalid results. Use at your own risk. For more info please refer to:\n",
      "https://scikit-learn.org/stable/model_persistence.html#security-maintainability-limitations\n",
      "  warnings.warn(\n",
      "/home/dmitsas/.local/lib/python3.10/site-packages/sklearn/base.py:376: InconsistentVersionWarning: Trying to unpickle estimator LinearRegression from version 1.2.2 when using version 1.4.2. This might lead to breaking code or invalid results. Use at your own risk. For more info please refer to:\n",
      "https://scikit-learn.org/stable/model_persistence.html#security-maintainability-limitations\n",
      "  warnings.warn(\n"
     ]
    },
    {
     "name": "stdout",
     "output_type": "stream",
     "text": [
      "WARNING:tensorflow:No training configuration found in the save file, so the model was *not* compiled. Compile it manually.\n"
     ]
    },
    {
     "name": "stderr",
     "output_type": "stream",
     "text": [
      "WARNING:tensorflow:No training configuration found in the save file, so the model was *not* compiled. Compile it manually.\n"
     ]
    },
    {
     "name": "stdout",
     "output_type": "stream",
     "text": [
      "... quantizing model\n",
      "-----------------------------------------------------------\n",
      "zero LUT elements: 22\n",
      "Total LUTs: 3671\n",
      "Zeros: 176\n",
      "Total multiplication LUTs: 1747\n",
      "Total accumulator LUTs: 1924\n",
      "Total DSPs: 32\n",
      "Total layer additions: 130\n",
      "Total bias additions: 18\n",
      "Number of repeated weights: 10\n",
      "Total Flip Flops: 4440\n",
      "Real multiplications: 148\n",
      "... quantizing model\n",
      "-----------------------------------------------------------\n",
      "zero LUT elements: 28\n",
      "Total LUTs: 5139\n",
      "Zeros: 273\n",
      "Total multiplication LUTs: 2609\n",
      "Total accumulator LUTs: 2530\n",
      "Total DSPs: 60\n",
      "Total layer additions: 203\n",
      "Total bias additions: 27\n",
      "Number of repeated weights: 27\n",
      "Total Flip Flops: 6746\n",
      "Real multiplications: 231\n",
      "... quantizing model\n",
      "-----------------------------------------------------------\n",
      "zero LUT elements: 48\n",
      "Total LUTs: 9558\n",
      "Zeros: 517\n",
      "Total multiplication LUTs: 4784\n",
      "Total accumulator LUTs: 4774\n",
      "Total DSPs: 115\n",
      "Total layer additions: 401\n",
      "Total bias additions: 33\n",
      "Number of repeated weights: 54\n",
      "Total Flip Flops: 12088\n",
      "Real multiplications: 435\n"
     ]
    },
    {
     "name": "stderr",
     "output_type": "stream",
     "text": [
      "/home/dmitsas/.local/lib/python3.10/site-packages/sklearn/base.py:376: InconsistentVersionWarning: Trying to unpickle estimator LinearRegression from version 1.2.2 when using version 1.4.2. This might lead to breaking code or invalid results. Use at your own risk. For more info please refer to:\n",
      "https://scikit-learn.org/stable/model_persistence.html#security-maintainability-limitations\n",
      "  warnings.warn(\n",
      "/home/dmitsas/.local/lib/python3.10/site-packages/sklearn/base.py:376: InconsistentVersionWarning: Trying to unpickle estimator LinearRegression from version 1.2.2 when using version 1.4.2. This might lead to breaking code or invalid results. Use at your own risk. For more info please refer to:\n",
      "https://scikit-learn.org/stable/model_persistence.html#security-maintainability-limitations\n",
      "  warnings.warn(\n",
      "/home/dmitsas/.local/lib/python3.10/site-packages/sklearn/base.py:376: InconsistentVersionWarning: Trying to unpickle estimator LinearRegression from version 1.2.2 when using version 1.4.2. This might lead to breaking code or invalid results. Use at your own risk. For more info please refer to:\n",
      "https://scikit-learn.org/stable/model_persistence.html#security-maintainability-limitations\n",
      "  warnings.warn(\n"
     ]
    },
    {
     "name": "stdout",
     "output_type": "stream",
     "text": [
      "WARNING:tensorflow:No training configuration found in the save file, so the model was *not* compiled. Compile it manually.\n"
     ]
    },
    {
     "name": "stderr",
     "output_type": "stream",
     "text": [
      "WARNING:tensorflow:No training configuration found in the save file, so the model was *not* compiled. Compile it manually.\n"
     ]
    },
    {
     "name": "stdout",
     "output_type": "stream",
     "text": [
      "... quantizing model\n",
      "-----------------------------------------------------------\n",
      "zero LUT elements: 46\n",
      "Total LUTs: 13059\n",
      "Zeros: 307\n",
      "Total multiplication LUTs: 6338\n",
      "Total accumulator LUTs: 6721\n",
      "Total DSPs: 148\n",
      "Total layer additions: 557\n",
      "Total bias additions: 54\n",
      "Number of repeated weights: 141\n",
      "Total Flip Flops: 16369\n",
      "Real multiplications: 611\n",
      "... quantizing model\n",
      "-----------------------------------------------------------\n",
      "zero LUT elements: 180\n",
      "Total LUTs: 41574\n",
      "Zeros: 1012\n",
      "Total multiplication LUTs: 19475\n",
      "Total accumulator LUTs: 22099\n",
      "Total DSPs: 473\n",
      "Total layer additions: 1956\n",
      "Total bias additions: 53\n",
      "Number of repeated weights: 520\n",
      "Total Flip Flops: 44990\n",
      "Real multiplications: 2012\n",
      "... quantizing model\n"
     ]
    },
    {
     "name": "stderr",
     "output_type": "stream",
     "text": [
      "/home/dmitsas/.local/lib/python3.10/site-packages/sklearn/base.py:376: InconsistentVersionWarning: Trying to unpickle estimator LinearRegression from version 1.2.2 when using version 1.4.2. This might lead to breaking code or invalid results. Use at your own risk. For more info please refer to:\n",
      "https://scikit-learn.org/stable/model_persistence.html#security-maintainability-limitations\n",
      "  warnings.warn(\n",
      "/home/dmitsas/.local/lib/python3.10/site-packages/sklearn/base.py:376: InconsistentVersionWarning: Trying to unpickle estimator LinearRegression from version 1.2.2 when using version 1.4.2. This might lead to breaking code or invalid results. Use at your own risk. For more info please refer to:\n",
      "https://scikit-learn.org/stable/model_persistence.html#security-maintainability-limitations\n",
      "  warnings.warn(\n"
     ]
    },
    {
     "name": "stdout",
     "output_type": "stream",
     "text": [
      "-----------------------------------------------------------\n",
      "zero LUT elements: 125\n",
      "Total LUTs: 24999\n",
      "Zeros: 581\n",
      "Total multiplication LUTs: 12294\n",
      "Total accumulator LUTs: 12705\n",
      "Total DSPs: 281\n",
      "Total layer additions: 1124\n",
      "Total bias additions: 31\n",
      "Number of repeated weights: 186\n",
      "Total Flip Flops: 28171\n",
      "Real multiplications: 1155\n"
     ]
    },
    {
     "name": "stderr",
     "output_type": "stream",
     "text": [
      "/home/dmitsas/.local/lib/python3.10/site-packages/sklearn/base.py:376: InconsistentVersionWarning: Trying to unpickle estimator LinearRegression from version 1.2.2 when using version 1.4.2. This might lead to breaking code or invalid results. Use at your own risk. For more info please refer to:\n",
      "https://scikit-learn.org/stable/model_persistence.html#security-maintainability-limitations\n",
      "  warnings.warn(\n"
     ]
    },
    {
     "name": "stdout",
     "output_type": "stream",
     "text": [
      "WARNING:tensorflow:No training configuration found in the save file, so the model was *not* compiled. Compile it manually.\n"
     ]
    },
    {
     "name": "stderr",
     "output_type": "stream",
     "text": [
      "WARNING:tensorflow:No training configuration found in the save file, so the model was *not* compiled. Compile it manually.\n"
     ]
    },
    {
     "name": "stdout",
     "output_type": "stream",
     "text": [
      "... quantizing model\n",
      "-----------------------------------------------------------\n",
      "zero LUT elements: 11\n",
      "Total LUTs: 1253\n",
      "Zeros: 124\n",
      "Total multiplication LUTs: 603\n",
      "Total accumulator LUTs: 650\n",
      "Total DSPs: 10\n",
      "Total layer additions: 44\n",
      "Total bias additions: 6\n",
      "Number of repeated weights: 2\n",
      "Total Flip Flops: 1639\n",
      "Real multiplications: 51\n",
      "... quantizing model\n",
      "-----------------------------------------------------------\n",
      "zero LUT elements: 11\n",
      "Total LUTs: 2064\n",
      "Zeros: 203\n",
      "Total multiplication LUTs: 998\n",
      "Total accumulator LUTs: 1066\n",
      "Total DSPs: 26\n",
      "Total layer additions: 43\n",
      "Total bias additions: 39\n",
      "Number of repeated weights: 6\n",
      "Total Flip Flops: 2605\n",
      "Real multiplications: 84\n",
      "... quantizing model\n",
      "-----------------------------------------------------------\n",
      "zero LUT elements: 28\n",
      "Total LUTs: 5603\n",
      "Zeros: 581\n",
      "Total multiplication LUTs: 2974\n",
      "Total accumulator LUTs: 2629\n",
      "Total DSPs: 62\n",
      "Total layer additions: 219\n",
      "Total bias additions: 20\n",
      "Number of repeated weights: 12\n",
      "Total Flip Flops: 6964\n",
      "Real multiplications: 239\n"
     ]
    },
    {
     "name": "stderr",
     "output_type": "stream",
     "text": [
      "/home/dmitsas/.local/lib/python3.10/site-packages/sklearn/base.py:376: InconsistentVersionWarning: Trying to unpickle estimator LinearRegression from version 1.2.2 when using version 1.4.2. This might lead to breaking code or invalid results. Use at your own risk. For more info please refer to:\n",
      "https://scikit-learn.org/stable/model_persistence.html#security-maintainability-limitations\n",
      "  warnings.warn(\n",
      "/home/dmitsas/.local/lib/python3.10/site-packages/sklearn/base.py:376: InconsistentVersionWarning: Trying to unpickle estimator LinearRegression from version 1.2.2 when using version 1.4.2. This might lead to breaking code or invalid results. Use at your own risk. For more info please refer to:\n",
      "https://scikit-learn.org/stable/model_persistence.html#security-maintainability-limitations\n",
      "  warnings.warn(\n",
      "/home/dmitsas/.local/lib/python3.10/site-packages/sklearn/base.py:376: InconsistentVersionWarning: Trying to unpickle estimator LinearRegression from version 1.2.2 when using version 1.4.2. This might lead to breaking code or invalid results. Use at your own risk. For more info please refer to:\n",
      "https://scikit-learn.org/stable/model_persistence.html#security-maintainability-limitations\n",
      "  warnings.warn(\n",
      "\n",
      "KeyboardInterrupt\n",
      "\n"
     ]
    }
   ],
   "source": [
    "%%time\n",
    "from statistics import median\n",
    "layer_num = 50\n",
    "prec = 8\n",
    "reuse = 1\n",
    "dirname = \"./final_results/results/prec_\" + str(prec) + \"/reuse_\" + str(reuse) \n",
    "rf_range = [1,2,3,4,10]\n",
    "#all_DSP = [[] for x in range(7)]\n",
    "all_DSP = []\n",
    "for prec in range(8,1,-1):\n",
    "    for reuse in rf_range:\n",
    "        filename = \"/media/dmitsas/BOOT-REPAIR/final_testing/prec_\" + str(prec) + \"/reuse_\" + str(reuse) + \"/model_\"\n",
    "        res_name = \"/media/dmitsas/BOOT-REPAIR/final_testing/prec_\" + str(prec) + \"/reuse_\" + str(reuse)\n",
    "        #precision,RF,selector = recover_params(filename,layer_num)\n",
    "        #precision = np.zeros(layer_num).astype(int) + prec\n",
    "        RF = np.zeros(layer_num).astype(int) + reuse\n",
    "        selector = np.zeros(layer_num).astype(int)\n",
    "        \n",
    "        precision = recover_params(filename,layer_num)[0]\n",
    "        RF = recover_params(filename,layer_num)[1]\n",
    "        selector = recover_params(filename,layer_num)[2]\n",
    "        FF = []\n",
    "        LUT = []\n",
    "        DSP = []\n",
    "        FF_pred = []\n",
    "        LUT_pred = []\n",
    "        DSP_pred = []\n",
    "        dif = []\n",
    "        dif_FF = []\n",
    "        dif_DSP = []\n",
    "        loaded_models = []\n",
    "        for i in range(layer_num):\n",
    "            co = {}\n",
    "            _add_supported_quantized_objects(co)\n",
    "            loaded_models.append(load_model(filename + str(i) + '/KERAS_check_best_mode.h5', custom_objects=co))\n",
    "            ff,lut = utils.utils.get_resources(filename + str(i),model = loaded_models[i])\n",
    "            DSP.append(utils.utils.get_DSP())\n",
    "            FF.append(ff)\n",
    "            LUT.append(lut)\n",
    "            dsp_pred,lut_pred,ff_pred = utils.utils.gather(loaded_models[i],precision[i],int(RF[i]),selector[i],False)\n",
    "            FF_pred.append(ff_pred)\n",
    "            LUT_pred.append(lut_pred)\n",
    "            DSP_pred.append(dsp_pred)\n",
    "        FF_pred = np.array(FF_pred)\n",
    "        LUT_pred = np.array(LUT_pred)\n",
    "        DSP_pred = np.array(DSP_pred)\n",
    "        FF = np.array(FF)\n",
    "        LUT = np.array(LUT)\n",
    "        DSP = np.array(DSP)\n",
    "        \n",
    "        LUT_single = LUT.reshape(-1,1)\n",
    "        LUT_single_pred = LUT_pred.reshape(-1,1)\n",
    "\n",
    "        FF_single = FF.reshape(-1,1)\n",
    "        FF_single_pred = FF_pred.reshape(-1,1)\n",
    "\n",
    "        DSP_single = DSP.reshape(-1,1)\n",
    "        DSP_single_pred = DSP_pred.reshape(-1,1)\n",
    "            \n",
    "        dif = (100*abs(LUT_single - LUT_single_pred)/LUT_single)\n",
    "        dif_FF = (100*abs(FF_single - FF_single_pred)/FF_single)\n",
    "        if selector[0]==1:\n",
    "            dif_DSP=((100*abs(DSP_single - DSP_single_pred)/DSP_single))\n",
    "        else:\n",
    "            dif_DSP.append(0)\n",
    "        LUT_error = []\n",
    "        FF_error = []\n",
    "        DSP_error = []\n",
    "        with open(res_name + \"/results_new.txt\",'w') as f:\n",
    "            for k in dif:\n",
    "                for j in k:\n",
    "                    if j < 40:\n",
    "                        LUT_error.append(j)\n",
    "            for z in dif_FF:\n",
    "                for j in z:\n",
    "                    if j < 40:\n",
    "                        FF_error.append(j)\n",
    "#             for l in dif_DSP:\n",
    "#                 for j in l:\n",
    "#                     if j< 10:\n",
    "#                         DSP_error.append(j)\n",
    "            LUT_error = np.array(LUT_error)\n",
    "            FF_error = np.array(FF_error)\n",
    "            #DSP_error = np.array(DSP_error)\n",
    "            f.write(\"LUT_error: \" + str(median(LUT_error)) + \"\\nFF_error: \" + str(median(FF_error))) #+ \"\\nDSP_error: \" + str((DSP_error.mean())))\n",
    "        #all_DSP.append(DSP_error)\n",
    "        #real_muls = reg_ff.regression.get_muls(loaded_models,layer_num)\n"
   ]
  },
  {
   "cell_type": "code",
   "execution_count": 218,
   "id": "df95004d",
   "metadata": {
    "scrolled": true
   },
   "outputs": [
    {
     "name": "stdout",
     "output_type": "stream",
     "text": [
      "Precision = 8\n",
      "reuse = 1\n",
      "14.636822470923853\n",
      "---------------------------------------\n",
      "Precision = 8\n",
      "reuse = 2\n",
      "17.53995715933432\n",
      "---------------------------------------\n",
      "Precision = 8\n",
      "reuse = 3\n",
      "17.545119038380285\n",
      "---------------------------------------\n",
      "Precision = 8\n",
      "reuse = 4\n",
      "14.598278335724533\n",
      "---------------------------------------\n",
      "Precision = 8\n",
      "reuse = 10\n",
      "12.951684937068615\n",
      "---------------------------------------\n",
      "Precision = 7\n",
      "reuse = 1\n",
      "13.67305751765893\n",
      "---------------------------------------\n",
      "Precision = 7\n",
      "reuse = 2\n",
      "18.07277672948115\n",
      "---------------------------------------\n",
      "Precision = 7\n",
      "reuse = 3\n",
      "16.398653702318622\n",
      "---------------------------------------\n",
      "Precision = 7\n",
      "reuse = 4\n",
      "13.324752775304415\n",
      "---------------------------------------\n",
      "Precision = 7\n",
      "reuse = 10\n",
      "16.32157810822381\n",
      "---------------------------------------\n",
      "Precision = 6\n",
      "reuse = 1\n",
      "15.27767285932561\n",
      "---------------------------------------\n",
      "Precision = 6\n",
      "reuse = 2\n",
      "20.445418035779483\n",
      "---------------------------------------\n",
      "Precision = 6\n",
      "reuse = 3\n",
      "16.312303938654583\n",
      "---------------------------------------\n",
      "Precision = 6\n",
      "reuse = 4\n",
      "14.997962233392203\n",
      "---------------------------------------\n",
      "Precision = 6\n",
      "reuse = 10\n",
      "18.27315541601256\n",
      "---------------------------------------\n",
      "Precision = 5\n",
      "reuse = 1\n",
      "15.670835263239153\n",
      "---------------------------------------\n",
      "Precision = 5\n",
      "reuse = 2\n",
      "20.34703602247893\n",
      "---------------------------------------\n",
      "Precision = 5\n",
      "reuse = 3\n",
      "15.598402196990225\n",
      "---------------------------------------\n",
      "Precision = 5\n",
      "reuse = 4\n",
      "12.418542931733281\n",
      "---------------------------------------\n",
      "Precision = 5\n",
      "reuse = 10\n",
      "16.977683630384853\n",
      "---------------------------------------\n",
      "Precision = 4\n",
      "reuse = 1\n",
      "16.388047385652126\n",
      "---------------------------------------\n",
      "Precision = 4\n",
      "reuse = 2\n",
      "11.93332056483854\n",
      "---------------------------------------\n",
      "Precision = 4\n",
      "reuse = 3\n",
      "9.850687992096951\n",
      "---------------------------------------\n",
      "Precision = 4\n",
      "reuse = 4\n",
      "6.158056790968184\n",
      "---------------------------------------\n",
      "Precision = 4\n",
      "reuse = 10\n",
      "10.817455439459128\n",
      "---------------------------------------\n",
      "Precision = 3\n",
      "reuse = 1\n",
      "15.280980143261862\n",
      "---------------------------------------\n",
      "Precision = 3\n",
      "reuse = 2\n",
      "12.407072733170484\n",
      "---------------------------------------\n",
      "Precision = 3\n",
      "reuse = 3\n",
      "6.509824331114825\n",
      "---------------------------------------\n",
      "Precision = 3\n",
      "reuse = 4\n",
      "4.041649541033018\n",
      "---------------------------------------\n",
      "Precision = 3\n",
      "reuse = 10\n",
      "8.81559717334951\n",
      "---------------------------------------\n",
      "Precision = 2\n",
      "reuse = 1\n",
      "9.656333169858277\n",
      "---------------------------------------\n",
      "Precision = 2\n",
      "reuse = 2\n",
      "9.58963282937365\n",
      "---------------------------------------\n",
      "Precision = 2\n",
      "reuse = 3\n",
      "4.882352941176471\n",
      "---------------------------------------\n",
      "Precision = 2\n",
      "reuse = 4\n",
      "7.387614145352453\n",
      "---------------------------------------\n",
      "Precision = 2\n",
      "reuse = 10\n",
      "5.486225256479232\n",
      "---------------------------------------\n"
     ]
    }
   ],
   "source": [
    "rf_range = [1,2,3,4,10]\n",
    "lut_error = []\n",
    "ff_error = []\n",
    "dsp_error = []\n",
    "for prec in range(8,1,-1):\n",
    "    for reuse in rf_range:\n",
    "        res_name = \"/media/dmitsas/BOOT-REPAIR/final_testing_lut/prec_\" + str(prec) + \"/reuse_\" + str(reuse)\n",
    "        with open(\"results_new.csv\",'w') as csvfile:\n",
    "            writer = csv.writer(csvfile)\n",
    "        #print(\"precision: \" + str(prec))\n",
    "        #print(\"RF: \" + str(reuse))\n",
    "        with open(res_name + \"/results_new.txt\") as f:\n",
    "            for i,lines in enumerate(f):\n",
    "                #print(i)\n",
    "                if i==1:\n",
    "                    #lut_error.append(float(lines.split(\"\\n\")[0].split(\":\")[1]))#[0].split(\" \")[1])\n",
    "                    print(\"Precision = \" + str(prec) + \"\\nreuse = \" + str(reuse))\n",
    "                    print(float(lines.split(\"\\n\")[0].split(\":\")[1]))\n",
    "                    print(\"---------------------------------------\")\n",
    "#                 elif i==1:\n",
    "#                     ff_error.append(float(lines.split(\"\\n\")[0].split(\":\")[1]))#[0].split(\" \")[1])\n",
    "#                     print(\"Precision = \" + str(prec) + \"\\nreuse = \" + str(reuse))\n",
    "#                     print(float(lines.split(\"\\n\")[0].split(\":\")[1]))\n",
    "#                     print(\"---------------------------------------\")\n",
    "#                 else:\n",
    "#                     dsp_error.append(float(lines.split(\"\\n\")[0].split(\":\")[1]))#[0].split(\" \")[1])\n",
    "#                     print(\"Precision = \" + str(prec) + \"\\nreuse = \" + str(reuse))\n",
    "#                     print(float(lines.split(\"\\n\")[0].split(\":\")[1]))\n",
    "#                     print(\"---------------------------------------\")\n",
    "ff_error = np.array(ff_error)\n",
    "lut_error = np.array(lut_error)\n",
    "dsp_error = np.array(dsp_error)\n",
    "rf_range = np.array(rf_range)             "
   ]
  },
  {
   "cell_type": "code",
   "execution_count": 86,
   "id": "956bf88b",
   "metadata": {
    "scrolled": true
   },
   "outputs": [],
   "source": [
    "ff_error = ff_error.reshape(7,5)"
   ]
  },
  {
   "cell_type": "code",
   "execution_count": 87,
   "id": "3c92bee8",
   "metadata": {
    "scrolled": true
   },
   "outputs": [],
   "source": [
    "lut_error = lut_error.reshape(7,5)\n",
    "dsp_error = dsp_error.reshape(7,5)"
   ]
  },
  {
   "cell_type": "code",
   "execution_count": 88,
   "id": "bc0990af",
   "metadata": {},
   "outputs": [
    {
     "data": {
      "text/plain": [
       "array([[ 6.47387175,  5.29263204,  4.99105546,  4.0373044 ,  8.77688572],\n",
       "       [ 6.01632302,  7.10710711,  8.80955704,  7.28500355,  6.09194895],\n",
       "       [ 6.41781499,  7.7416569 ,  8.22629724,  8.3668968 ,  5.69740044],\n",
       "       [ 7.11382902,  8.13376991,  8.62629247,  6.52920962,  8.19648465],\n",
       "       [ 4.7739399 , 10.54569966, 17.67870869, 14.71269353,  5.63196737],\n",
       "       [ 5.67909773, 12.46297562, 18.05423857, 14.03163997,  6.67508418],\n",
       "       [ 6.34209763, 13.14691623, 22.89410258, 25.98987109,  5.2550783 ]])"
      ]
     },
     "execution_count": 88,
     "metadata": {},
     "output_type": "execute_result"
    }
   ],
   "source": [
    "lut_error"
   ]
  },
  {
   "cell_type": "code",
   "execution_count": null,
   "id": "758bc72b",
   "metadata": {},
   "outputs": [],
   "source": []
  },
  {
   "cell_type": "code",
   "execution_count": 89,
   "id": "becb4a66",
   "metadata": {},
   "outputs": [],
   "source": [
    "le = pd.DataFrame(lut_error)\n",
    "le.index=(np.arange(8,1,-1))\n",
    "ffe = pd.DataFrame(ff_error,)\n",
    "ffe.index = le.index\n",
    "dspdf = pd.DataFrame(dsp_error)\n",
    "dspdf.index = le.index"
   ]
  },
  {
   "cell_type": "code",
   "execution_count": 90,
   "id": "c9d4f108",
   "metadata": {},
   "outputs": [],
   "source": [
    "LUT_pd = pd.DataFrame([[\"LUT_error\",\"\"]])\n",
    "FF_pd = pd.DataFrame([[\"FF_error\",\"\"]])\n",
    "RF_pd = pd.DataFrame([\"RF\"])\n",
    "RF_pd.insert(0,'Empty',\"\")"
   ]
  },
  {
   "cell_type": "code",
   "execution_count": 91,
   "id": "fb9a1671",
   "metadata": {
    "scrolled": true
   },
   "outputs": [],
   "source": [
    "#RF_pd.to_csv(\"./results_lut.csv\",index_label=\"LUT_error\",index=False)\n",
    "LUT_pd.to_csv(\"./results_lut.csv\",index = False,header=False)\n",
    "RF_pd.to_csv(\"./results_lut.csv\",mode=\"a\",index=False,header=False)\n",
    "le.to_csv(\"./results_lut.csv\",mode='a',header=rf_range.astype(str),index_label=\"Precision\",float_format='%.3f')\n",
    "\n",
    "FF_pd.to_csv(\"./results_lut.csv\",index = False,header=False,mode = 'a')\n",
    "RF_pd.to_csv(\"./results_lut.csv\",mode=\"a\",index=False,header=False)\n",
    "ffe.to_csv(\"./results_lut.csv\",mode='a',header=rf_range.astype(str),index_label=\"Precision\",float_format='%.3f')\n",
    "\n"
   ]
  },
  {
   "cell_type": "markdown",
   "id": "a99299d8",
   "metadata": {},
   "source": [
    "### DSP handling"
   ]
  },
  {
   "cell_type": "code",
   "execution_count": 94,
   "id": "3b45493d",
   "metadata": {
    "scrolled": true
   },
   "outputs": [
    {
     "data": {
      "text/plain": [
       "(150,)"
      ]
     },
     "execution_count": 94,
     "metadata": {},
     "output_type": "execute_result"
    }
   ],
   "source": [
    "DSP_error.shape"
   ]
  },
  {
   "cell_type": "code",
   "execution_count": null,
   "id": "6e7c49da",
   "metadata": {},
   "outputs": [],
   "source": []
  }
 ],
 "metadata": {
  "kernelspec": {
   "display_name": "Python 3 (ipykernel)",
   "language": "python",
   "name": "python3"
  },
  "language_info": {
   "codemirror_mode": {
    "name": "ipython",
    "version": 3
   },
   "file_extension": ".py",
   "mimetype": "text/x-python",
   "name": "python",
   "nbconvert_exporter": "python",
   "pygments_lexer": "ipython3",
   "version": "3.10.10"
  }
 },
 "nbformat": 4,
 "nbformat_minor": 5
}
