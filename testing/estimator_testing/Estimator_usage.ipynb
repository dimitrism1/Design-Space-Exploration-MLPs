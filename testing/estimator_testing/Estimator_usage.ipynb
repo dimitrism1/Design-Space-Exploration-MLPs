{
 "cells": [
  {
   "cell_type": "code",
   "execution_count": 44,
   "id": "ae1a2f3e",
   "metadata": {},
   "outputs": [],
   "source": [
    "import estimator.estimator as est\n",
    "import numpy as np\n",
    "from importlib import reload"
   ]
  },
  {
   "cell_type": "markdown",
   "id": "7c0285de",
   "metadata": {},
   "source": [
    "#### Load the model that is to be estimated"
   ]
  },
  {
   "cell_type": "code",
   "execution_count": 28,
   "id": "d2c3899d",
   "metadata": {
    "scrolled": true
   },
   "outputs": [
    {
     "name": "stdout",
     "output_type": "stream",
     "text": [
      "WARNING:tensorflow:No training configuration found in the save file, so the model was *not* compiled. Compile it manually.\n"
     ]
    },
    {
     "name": "stderr",
     "output_type": "stream",
     "text": [
      "WARNING:tensorflow:No training configuration found in the save file, so the model was *not* compiled. Compile it manually.\n"
     ]
    }
   ],
   "source": [
    "from tensorflow.keras.models import load_model\n",
    "from qkeras.utils import _add_supported_quantized_objects\n",
    "co = {}\n",
    "_add_supported_quantized_objects(co)\n",
    "\n",
    "model=load_model(\"./model_23/KERAS_check_best_model.h5\",custom_objects=co)"
   ]
  },
  {
   "cell_type": "markdown",
   "id": "960059f8",
   "metadata": {},
   "source": [
    "First, initialize the estimator object with the parameters of the keras model\n",
    "\n",
    "Note: The layer increments by 2, the first layer is 0, the second one 2 etc.\n"
   ]
  },
  {
   "cell_type": "code",
   "execution_count": 29,
   "id": "54ea1841",
   "metadata": {},
   "outputs": [
    {
     "name": "stdout",
     "output_type": "stream",
     "text": [
      "... quantizing model\n"
     ]
    }
   ],
   "source": [
    "c = est.estimator(model=model,precision=8,int_bits=0,reuse=1,layer=0,DSP_mul=1,input_int_bits=0)"
   ]
  },
  {
   "cell_type": "markdown",
   "id": "87613634",
   "metadata": {},
   "source": [
    "To estimate all the resources of a layer, use the estim_resource method. Else if it is used in the DSE example, it is more useful to print the normalized metric for all resources, so using the estim_model method is preferred. If the suppress variable is False, the results won't be printed and only stored into the variables  "
   ]
  },
  {
   "cell_type": "code",
   "execution_count": 36,
   "id": "e59e002e",
   "metadata": {},
   "outputs": [],
   "source": []
  },
  {
   "cell_type": "markdown",
   "id": "37b58bd4",
   "metadata": {},
   "source": [
    "To run the estimation on the whole model, the estimator object isn't needed and the method is used directly\n",
    "The argumemnts have to be arrays, even it is about 1 model"
   ]
  },
  {
   "cell_type": "code",
   "execution_count": 37,
   "id": "c4f44881",
   "metadata": {},
   "outputs": [],
   "source": [
    "est.estimator.estim_model([model],precision=np.zeros(1)+8,int_bits=np.ones(1),reuse=1,DSP_mul=np.ones(1),suppress = True,dirname = \"\",device = \"Z7007S\")\n",
    "\n"
   ]
  },
  {
   "cell_type": "markdown",
   "id": "411212ef",
   "metadata": {},
   "source": [
    "Use the estimator in bulk with the utils library. The get_resources method recovers the results from an HLS report for the FFs and LUTs. Likewise for the get_DSP method. The filename points to the path of the HLS report"
   ]
  },
  {
   "cell_type": "code",
   "execution_count": 32,
   "id": "41c3c1ad",
   "metadata": {},
   "outputs": [],
   "source": [
    "import utils\n",
    "filename = \"./model_23\""
   ]
  },
  {
   "cell_type": "code",
   "execution_count": 47,
   "id": "fb5d1301",
   "metadata": {
    "scrolled": true
   },
   "outputs": [],
   "source": [
    "ff,lut = utils.utils.get_resources(filename,model = model)\n",
    "DSP=(utils.utils.get_DSP())\n",
    "dsp_pred,lut_pred,ff_pred = utils.utils.gather(model,8,1,1,False)\n"
   ]
  },
  {
   "cell_type": "code",
   "execution_count": 34,
   "id": "8820b159",
   "metadata": {},
   "outputs": [
    {
     "data": {
      "text/plain": [
       "[8, 36, 135]"
      ]
     },
     "execution_count": 34,
     "metadata": {},
     "output_type": "execute_result"
    }
   ],
   "source": [
    "dsp_pred"
   ]
  },
  {
   "cell_type": "code",
   "execution_count": 35,
   "id": "99f8e72c",
   "metadata": {},
   "outputs": [
    {
     "data": {
      "text/plain": [
       "[8, 36, 135]"
      ]
     },
     "execution_count": 35,
     "metadata": {},
     "output_type": "execute_result"
    }
   ],
   "source": [
    "DSP"
   ]
  },
  {
   "cell_type": "code",
   "execution_count": 39,
   "id": "7374a6c0",
   "metadata": {},
   "outputs": [
    {
     "data": {
      "text/plain": [
       "[1255, 3929, 15157]"
      ]
     },
     "execution_count": 39,
     "metadata": {},
     "output_type": "execute_result"
    }
   ],
   "source": [
    "ff_pred"
   ]
  },
  {
   "cell_type": "code",
   "execution_count": 41,
   "id": "88cf4c8d",
   "metadata": {},
   "outputs": [
    {
     "data": {
      "text/plain": [
       "[1100, 3632, 15203]"
      ]
     },
     "execution_count": 41,
     "metadata": {},
     "output_type": "execute_result"
    }
   ],
   "source": [
    "ff\n"
   ]
  },
  {
   "cell_type": "code",
   "execution_count": 42,
   "id": "f89eb9d6",
   "metadata": {},
   "outputs": [
    {
     "data": {
      "text/plain": [
       "[917, 3279, 13188]"
      ]
     },
     "execution_count": 42,
     "metadata": {},
     "output_type": "execute_result"
    }
   ],
   "source": [
    "lut"
   ]
  },
  {
   "cell_type": "code",
   "execution_count": 43,
   "id": "4ff12e51",
   "metadata": {},
   "outputs": [
    {
     "data": {
      "text/plain": [
       "[947, 3042, 12085]"
      ]
     },
     "execution_count": 43,
     "metadata": {},
     "output_type": "execute_result"
    }
   ],
   "source": [
    "lut_pred"
   ]
  },
  {
   "cell_type": "code",
   "execution_count": null,
   "id": "b3f57aea",
   "metadata": {},
   "outputs": [],
   "source": []
  }
 ],
 "metadata": {
  "kernelspec": {
   "display_name": ".hls4ml-tutorial",
   "language": "python",
   "name": ".hls4ml-tutorial"
  },
  "language_info": {
   "codemirror_mode": {
    "name": "ipython",
    "version": 3
   },
   "file_extension": ".py",
   "mimetype": "text/x-python",
   "name": "python",
   "nbconvert_exporter": "python",
   "pygments_lexer": "ipython3",
   "version": "3.10.10"
  }
 },
 "nbformat": 4,
 "nbformat_minor": 5
}
