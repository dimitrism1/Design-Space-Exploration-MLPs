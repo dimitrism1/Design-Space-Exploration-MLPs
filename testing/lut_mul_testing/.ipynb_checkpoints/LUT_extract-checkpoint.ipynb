{
 "cells": [
  {
   "cell_type": "code",
   "execution_count": 2,
   "id": "61c76a8d",
   "metadata": {},
   "outputs": [
    {
     "name": "stderr",
     "output_type": "stream",
     "text": [
      "2024-09-23 17:49:00.365062: I tensorflow/core/platform/cpu_feature_guard.cc:193] This TensorFlow binary is optimized with oneAPI Deep Neural Network Library (oneDNN) to use the following CPU instructions in performance-critical operations:  SSE4.1 SSE4.2 AVX AVX2 AVX512F AVX512_VNNI FMA\n",
      "To enable them in other operations, rebuild TensorFlow with the appropriate compiler flags.\n",
      "2024-09-23 17:49:00.432681: I tensorflow/core/util/port.cc:104] oneDNN custom operations are on. You may see slightly different numerical results due to floating-point round-off errors from different computation orders. To turn them off, set the environment variable `TF_ENABLE_ONEDNN_OPTS=0`.\n"
     ]
    },
    {
     "name": "stdout",
     "output_type": "stream",
     "text": [
      "WARNING: Failed to import handlers from core.py: No module named 'torch'.\n",
      "WARNING: Failed to import handlers from merge.py: No module named 'torch'.\n",
      "WARNING: Failed to import handlers from reshape.py: No module named 'torch'.\n",
      "WARNING: Failed to import handlers from convolution.py: No module named 'torch'.\n",
      "WARNING: Failed to import handlers from pooling.py: No module named 'torch'.\n"
     ]
    },
    {
     "name": "stderr",
     "output_type": "stream",
     "text": [
      "/home/dmitsas/anaconda3/envs/hls4ml-tutorial/lib/python3.10/site-packages/hls4ml/converters/__init__.py:27: UserWarning: WARNING: Pytorch converter is not enabled!\n",
      "  warnings.warn(\"WARNING: Pytorch converter is not enabled!\", stacklevel=1)\n"
     ]
    }
   ],
   "source": [
    "import os\n",
    "import numpy as np\n",
    "import tensorflow as tf\n",
    "import hls4ml\n",
    "import matplotlib.pyplot as plt\n",
    "\n"
   ]
  },
  {
   "cell_type": "code",
   "execution_count": 3,
   "id": "0ceb0909",
   "metadata": {},
   "outputs": [],
   "source": [
    "it_min = -128\n",
    "it_max = 128\n",
    "precision = 8"
   ]
  },
  {
   "cell_type": "code",
   "execution_count": 4,
   "id": "17283dcd",
   "metadata": {},
   "outputs": [
    {
     "ename": "FileNotFoundError",
     "evalue": "[Errno 2] No such file or directory: './LUT_sim/prec_2/it_-128/mult.prj/solution1/syn/report/csynth.rpt'",
     "output_type": "error",
     "traceback": [
      "\u001b[0;31m---------------------------------------------------------------------------\u001b[0m",
      "\u001b[0;31mFileNotFoundError\u001b[0m                         Traceback (most recent call last)",
      "File \u001b[0;32m<timed exec>:4\u001b[0m\n",
      "File \u001b[0;32m~/anaconda3/envs/hls4ml-tutorial/lib/python3.10/site-packages/IPython/core/interactiveshell.py:324\u001b[0m, in \u001b[0;36m_modified_open\u001b[0;34m(file, *args, **kwargs)\u001b[0m\n\u001b[1;32m    317\u001b[0m \u001b[38;5;28;01mif\u001b[39;00m file \u001b[38;5;129;01min\u001b[39;00m {\u001b[38;5;241m0\u001b[39m, \u001b[38;5;241m1\u001b[39m, \u001b[38;5;241m2\u001b[39m}:\n\u001b[1;32m    318\u001b[0m     \u001b[38;5;28;01mraise\u001b[39;00m \u001b[38;5;167;01mValueError\u001b[39;00m(\n\u001b[1;32m    319\u001b[0m         \u001b[38;5;124mf\u001b[39m\u001b[38;5;124m\"\u001b[39m\u001b[38;5;124mIPython won\u001b[39m\u001b[38;5;124m'\u001b[39m\u001b[38;5;124mt let you open fd=\u001b[39m\u001b[38;5;132;01m{\u001b[39;00mfile\u001b[38;5;132;01m}\u001b[39;00m\u001b[38;5;124m by default \u001b[39m\u001b[38;5;124m\"\u001b[39m\n\u001b[1;32m    320\u001b[0m         \u001b[38;5;124m\"\u001b[39m\u001b[38;5;124mas it is likely to crash IPython. If you know what you are doing, \u001b[39m\u001b[38;5;124m\"\u001b[39m\n\u001b[1;32m    321\u001b[0m         \u001b[38;5;124m\"\u001b[39m\u001b[38;5;124myou can use builtins\u001b[39m\u001b[38;5;124m'\u001b[39m\u001b[38;5;124m open.\u001b[39m\u001b[38;5;124m\"\u001b[39m\n\u001b[1;32m    322\u001b[0m     )\n\u001b[0;32m--> 324\u001b[0m \u001b[38;5;28;01mreturn\u001b[39;00m \u001b[43mio_open\u001b[49m\u001b[43m(\u001b[49m\u001b[43mfile\u001b[49m\u001b[43m,\u001b[49m\u001b[43m \u001b[49m\u001b[38;5;241;43m*\u001b[39;49m\u001b[43margs\u001b[49m\u001b[43m,\u001b[49m\u001b[43m \u001b[49m\u001b[38;5;241;43m*\u001b[39;49m\u001b[38;5;241;43m*\u001b[39;49m\u001b[43mkwargs\u001b[49m\u001b[43m)\u001b[49m\n",
      "\u001b[0;31mFileNotFoundError\u001b[0m: [Errno 2] No such file or directory: './LUT_sim/prec_2/it_-128/mult.prj/solution1/syn/report/csynth.rpt'"
     ]
    }
   ],
   "source": [
    "%%time\n",
    "LUT = [[] for x in range(2,precision +1)]\n",
    "for prec in range(2,precision + 1,1):\n",
    "    for z in range(it_min ,it_max,1):\n",
    "        with open('./LUT_sim/prec_' + str(prec) + '/it_' + str(z) + '/mult.prj/solution1/syn/report/csynth.rpt') as f:\n",
    "            for i,lines in enumerate(f):\n",
    "                if(i == 21):\n",
    "                    sp = lines.split(\"|\")\n",
    "                    lut = sp[13].replace(\" \",\"\")\n",
    "                    if(lut != \"-\"):\n",
    "                        lut = int(lut.split(\"(\")[0])\n",
    "                    else:\n",
    "                        lut = 0\n",
    "                    #sp = sp.split(\"(\")\n",
    "                    LUT[prec-2].append(lut)\n",
    "                    break\n",
    "        f.close()\n",
    "LUT = np.array(LUT)"
   ]
  },
  {
   "cell_type": "code",
   "execution_count": 4,
   "id": "75a5b432",
   "metadata": {},
   "outputs": [
    {
     "data": {
      "text/plain": [
       "'./LUT_sim/prec_8/it_127/mult.prj/solution1/syn/report/csynth.rpt'"
      ]
     },
     "execution_count": 4,
     "metadata": {},
     "output_type": "execute_result"
    }
   ],
   "source": [
    "'./LUT_sim/prec_' + str(precision) + '/it_' + str(z) + '/mult.prj/solution1/syn/report/csynth.rpt'"
   ]
  },
  {
   "cell_type": "code",
   "execution_count": 5,
   "id": "a31f67c0",
   "metadata": {},
   "outputs": [
    {
     "data": {
      "text/plain": [
       "array([[10, 10, 10, ..., 62, 10, 10],\n",
       "       [11, 11, 11, ..., 62, 11, 11],\n",
       "       [12, 12, 12, ..., 62, 12, 12],\n",
       "       ...,\n",
       "       [14, 14, 14, ..., 62, 14, 14],\n",
       "       [15, 15, 15, ..., 62, 15, 15],\n",
       "       [16, 16, 16, ..., 62, 16, 16]])"
      ]
     },
     "execution_count": 5,
     "metadata": {},
     "output_type": "execute_result"
    }
   ],
   "source": [
    "LUT"
   ]
  },
  {
   "cell_type": "code",
   "execution_count": 6,
   "id": "4d06b61c",
   "metadata": {},
   "outputs": [
    {
     "data": {
      "text/plain": [
       "array([15, 15, 15, 62, 15, 62, 62, 62, 15, 62, 62, 62, 62, 62, 62, 62, 15,\n",
       "       62, 62, 62, 62, 62, 62, 62, 62, 62, 62, 62, 62, 62, 62, 62, 15, 62,\n",
       "       62, 62, 62, 62, 62, 62, 62, 62, 62, 62, 62, 62, 62, 62, 28, 62, 62,\n",
       "       62, 62, 62, 62, 62, 28, 62, 62, 62, 28, 62, 28, 28, 14, 14, 14, 52,\n",
       "       14, 52, 52, 52, 14, 52, 52, 52, 52, 52, 52, 52, 14, 52, 52, 52, 52,\n",
       "       52, 52, 52, 26, 52, 52, 52, 26, 52, 26, 26, 13, 13, 13, 52, 13, 52,\n",
       "       52, 52, 13, 52, 52, 52, 24, 52, 24, 24, 12, 12, 12, 52, 12, 52, 22,\n",
       "       22, 11, 11, 11, 20, 10, 10,  9,  8,  0,  0,  0, 10,  0, 10, 11, 11,\n",
       "        0, 11, 11, 52, 12, 52, 12, 12,  0, 12, 12, 52, 12, 52, 52, 52, 13,\n",
       "       52, 52, 52, 13, 52, 13, 13,  0, 13, 13, 52, 13, 52, 52, 52, 13, 52,\n",
       "       52, 52, 52, 52, 52, 52, 14, 52, 52, 52, 52, 52, 52, 52, 14, 52, 52,\n",
       "       52, 14, 52, 14, 14,  0, 14, 14, 62, 14, 62, 62, 62, 14, 62, 62, 62,\n",
       "       62, 62, 62, 62, 14, 62, 62, 62, 62, 62, 62, 62, 62, 62, 62, 62, 62,\n",
       "       62, 62, 62, 15, 62, 62, 62, 62, 62, 62, 62, 62, 62, 62, 62, 62, 62,\n",
       "       62, 62, 15, 62, 62, 62, 62, 62, 62, 62, 15, 62, 62, 62, 15, 62, 15,\n",
       "       15])"
      ]
     },
     "execution_count": 6,
     "metadata": {},
     "output_type": "execute_result"
    }
   ],
   "source": [
    "LUT[5]"
   ]
  },
  {
   "cell_type": "code",
   "execution_count": 7,
   "id": "2a861be2",
   "metadata": {},
   "outputs": [
    {
     "data": {
      "text/plain": [
       "52"
      ]
     },
     "execution_count": 7,
     "metadata": {},
     "output_type": "execute_result"
    }
   ],
   "source": [
    "LUT[5,105]"
   ]
  },
  {
   "cell_type": "code",
   "execution_count": 8,
   "id": "8767e282",
   "metadata": {},
   "outputs": [],
   "source": [
    "prec_array = np.arange(it_min,it_max)"
   ]
  },
  {
   "cell_type": "code",
   "execution_count": 1,
   "id": "a9ab44b5",
   "metadata": {},
   "outputs": [
    {
     "ename": "NameError",
     "evalue": "name 'plt' is not defined",
     "output_type": "error",
     "traceback": [
      "\u001b[0;31m---------------------------------------------------------------------------\u001b[0m",
      "\u001b[0;31mNameError\u001b[0m                                 Traceback (most recent call last)",
      "Cell \u001b[0;32mIn[1], line 2\u001b[0m\n\u001b[1;32m      1\u001b[0m \u001b[38;5;28;01mfor\u001b[39;00m i \u001b[38;5;129;01min\u001b[39;00m \u001b[38;5;28mrange\u001b[39m(\u001b[38;5;241m8\u001b[39m):\n\u001b[0;32m----> 2\u001b[0m     \u001b[43mplt\u001b[49m\u001b[38;5;241m.\u001b[39mplot(prec_array,LUT[i])\n",
      "\u001b[0;31mNameError\u001b[0m: name 'plt' is not defined"
     ]
    }
   ],
   "source": [
    "for i in range(8):\n",
    "    plt.plot(prec_array,LUT[i])"
   ]
  },
  {
   "cell_type": "code",
   "execution_count": 10,
   "id": "a17502fb",
   "metadata": {},
   "outputs": [],
   "source": [
    "or_lut = []\n",
    "with open(\"./resources_8bit.txt\") as f:\n",
    "    for lines in f:\n",
    "        or_lut.append(int(lines.split(\"|\")[5].replace(\" \",\"\")))\n",
    "\n",
    "or_lut = np.array(or_lut)"
   ]
  },
  {
   "cell_type": "code",
   "execution_count": 11,
   "id": "3b6f5498",
   "metadata": {},
   "outputs": [
    {
     "data": {
      "text/plain": [
       "array([10, 11, 12, 13, 14, 15, 16])"
      ]
     },
     "execution_count": 11,
     "metadata": {},
     "output_type": "execute_result"
    }
   ],
   "source": [
    "LUT[:,0]"
   ]
  },
  {
   "cell_type": "code",
   "execution_count": 69,
   "id": "ce048c33",
   "metadata": {},
   "outputs": [],
   "source": [
    "if not(os.path.exists(\"./LUT_DSP/saved_luts/\")):\n",
    "    os.mkdir(\"./LUT_DSP/saved_luts\")\n",
    "for pr in range(2,9,1):\n",
    "    with open(\"./LUT_DSP/saved_luts/mult_\" + str(pr) + \".txt\",\"w\") as w:\n",
    "        for i in range(it_min,it_max,1):\n",
    "            w.write(\"LUT\" + str(i) + \" | \" + str(LUT_dsp[pr - 2,i - it_min]) + \"\\n\")"
   ]
  },
  {
   "cell_type": "markdown",
   "id": "e05265fa",
   "metadata": {},
   "source": [
    "Create plot for LUTs with DSP multiplications"
   ]
  },
  {
   "cell_type": "code",
   "execution_count": 14,
   "id": "3ab31c94",
   "metadata": {},
   "outputs": [
    {
     "name": "stdout",
     "output_type": "stream",
     "text": [
      "CPU times: user 14.7 ms, sys: 20 ms, total: 34.7 ms\n",
      "Wall time: 34.2 ms\n"
     ]
    }
   ],
   "source": [
    "%%time\n",
    "LUT_dsp = [[] for x in range(2,precision + 1)]\n",
    "#LUT_dsp = []\n",
    "for prec in range(2,precision + 1):\n",
    "    for z in range(it_min ,it_max,1):\n",
    "        with open('./LUT_DSP/prec_' + str(prec) + '/it_' + str(z) + '/mult.prj/solution1/syn/report/csynth.rpt') as f:\n",
    "            for i,lines in enumerate(f):\n",
    "                if(i == 21):\n",
    "                    sp = lines.split(\"|\")\n",
    "                    lut = sp[13].replace(\" \",\"\")\n",
    "                    if(lut != \"-\"):\n",
    "                        lut = int(lut.split(\"(\")[0])\n",
    "                    else:\n",
    "                        lut = 0\n",
    "                    #sp = sp.split(\"(\")\n",
    "                    LUT_dsp[prec - 2].append(lut)\n",
    "                    break\n",
    "        f.close()\n",
    "LUT_dsp = np.array(LUT_dsp)"
   ]
  },
  {
   "cell_type": "code",
   "execution_count": 15,
   "id": "03048b1e",
   "metadata": {},
   "outputs": [
    {
     "data": {
      "image/png": "[encoded data removed]",
      "text/plain": [
       "<Figure size 640x480 with 1 Axes>"
      ]
     },
     "metadata": {},
     "output_type": "display_data"
    }
   ],
   "source": [
    "for j in range(7):\n",
    "    plt.plot(prec_array,LUT_dsp[j])"
   ]
  },
  {
   "cell_type": "code",
   "execution_count": 16,
   "id": "be2326da",
   "metadata": {},
   "outputs": [
    {
     "data": {
      "text/plain": [
       "array([14, 14, 14, 62, 14, 62, 62, 62, 14, 62, 62, 62, 62, 62, 62, 62, 14,\n",
       "       62, 62, 62, 62, 62, 62, 62, 62, 62, 62, 62, 62, 62, 62, 62, 14, 62,\n",
       "       62, 62, 62, 62, 62, 62, 62, 62, 62, 62, 62, 62, 62, 62, 26, 62, 62,\n",
       "       62, 62, 62, 62, 62, 26, 62, 62, 62, 26, 62, 26, 26, 13, 13, 13, 52,\n",
       "       13, 52, 52, 52, 13, 52, 52, 52, 52, 52, 52, 52, 13, 52, 52, 52, 52,\n",
       "       52, 52, 52, 24, 52, 52, 52, 24, 52, 24, 24, 12, 12, 12, 43, 12, 43,\n",
       "       43, 43, 12, 43, 43, 43, 22, 43, 22, 22, 11, 11, 11, 43, 11, 43, 20,\n",
       "       20, 10, 10, 10, 18,  9,  9,  8,  7,  0,  0,  0,  9,  0,  9, 10, 10,\n",
       "        0, 10, 10, 43, 11, 43, 11, 11,  0, 11, 11, 43, 11, 43, 43, 43, 12,\n",
       "       43, 43, 43, 12, 43, 12, 12,  0, 12, 12, 52, 12, 52, 52, 52, 12, 52,\n",
       "       52, 52, 52, 52, 52, 52, 13, 52, 52, 52, 52, 52, 52, 52, 13, 52, 52,\n",
       "       52, 13, 52, 13, 13,  0, 13, 13, 62, 13, 62, 62, 62, 13, 62, 62, 62,\n",
       "       62, 62, 62, 62, 13, 62, 62, 62, 62, 62, 62, 62, 62, 62, 62, 62, 62,\n",
       "       62, 62, 62, 14, 62, 62, 62, 62, 62, 62, 62, 62, 62, 62, 62, 62, 62,\n",
       "       62, 62, 14, 62, 62, 62, 62, 62, 62, 62, 14, 62, 62, 62, 14, 62, 14,\n",
       "       14])"
      ]
     },
     "execution_count": 16,
     "metadata": {},
     "output_type": "execute_result"
    }
   ],
   "source": [
    "LUT[4]"
   ]
  },
  {
   "cell_type": "code",
   "execution_count": 17,
   "id": "58153804",
   "metadata": {},
   "outputs": [
    {
     "data": {
      "text/plain": [
       "array([[10, 10, 10, ..., 17, 10, 10],\n",
       "       [11, 11, 11, ..., 17, 11, 11],\n",
       "       [12, 12, 12, ..., 17, 12, 12],\n",
       "       ...,\n",
       "       [14, 14, 14, ..., 17, 14, 14],\n",
       "       [15, 15, 15, ..., 17, 15, 15],\n",
       "       [16, 16, 16, ..., 17, 16, 16]])"
      ]
     },
     "execution_count": 17,
     "metadata": {},
     "output_type": "execute_result"
    }
   ],
   "source": [
    "LUT_dsp"
   ]
  },
  {
   "cell_type": "code",
   "execution_count": 17,
   "id": "d408ffad",
   "metadata": {},
   "outputs": [
    {
     "data": {
      "text/plain": [
       "7"
      ]
     },
     "execution_count": 17,
     "metadata": {},
     "output_type": "execute_result"
    }
   ],
   "source": [
    "LUT[0][114]"
   ]
  },
  {
   "cell_type": "code",
   "execution_count": 46,
   "id": "4895067d",
   "metadata": {},
   "outputs": [],
   "source": [
    "prec = 16\n",
    "LUT1 = []\n",
    "for z in range(it_min ,it_max,1):\n",
    "        with open('./LUT_DSP/prec_' + str(prec) + '/it_' + str(z) + '/mult.prj/solution1/syn/report/csynth.rpt') as f:\n",
    "            for i,lines in enumerate(f):\n",
    "                if(i == 21):\n",
    "                    sp = lines.split(\"|\")\n",
    "                    lut = sp[13].replace(\" \",\"\")\n",
    "                    if(lut != \"-\"):\n",
    "                        lut = int(lut.split(\"(\")[0])\n",
    "                    else:\n",
    "                        lut = 0\n",
    "                    #sp = sp.split(\"(\")\n",
    "                    LUT1.append(lut)\n",
    "                    break\n",
    "        f.close()\n",
    "LUT1 = np.array(LUT1)"
   ]
  },
  {
   "cell_type": "code",
   "execution_count": 47,
   "id": "c073e4f8",
   "metadata": {},
   "outputs": [],
   "source": [
    "prec = 16\n",
    "LUT = []\n",
    "for z in range(it_min ,it_max,1):\n",
    "        with open('./LUT_sim/prec_' + str(prec) + '/it_' + str(z) + '/mult.prj/solution1/syn/report/csynth.rpt') as f:\n",
    "            for i,lines in enumerate(f):\n",
    "                if(i == 21):\n",
    "                    sp = lines.split(\"|\")\n",
    "                    lut = sp[13].replace(\" \",\"\")\n",
    "                    if(lut != \"-\"):\n",
    "                        lut = int(lut.split(\"(\")[0])\n",
    "                    else:\n",
    "                        lut = 0\n",
    "                    #sp = sp.split(\"(\")\n",
    "                    LUT.append(lut)\n",
    "                    break\n",
    "        f.close()\n",
    "LUT = np.array(LUT)"
   ]
  },
  {
   "cell_type": "code",
   "execution_count": 55,
   "id": "a18e4024",
   "metadata": {},
   "outputs": [
    {
     "name": "stdout",
     "output_type": "stream",
     "text": [
      "CPU times: user 47.3 ms, sys: 53.1 ms, total: 100 ms\n",
      "Wall time: 177 ms\n"
     ]
    }
   ],
   "source": [
    "%%time\n",
    "dsp = [[] for x in range(2,precision + 1)]\n",
    "#dsp = []\n",
    "for prec in range(2,precision + 1):\n",
    "    for z in range(it_min ,it_max,1):\n",
    "        with open('./LUT_DSP/prec_' + str(prec) + '/it_' + str(z) + '/mult.prj/solution1/syn/report/csynth.rpt') as f:\n",
    "            for i,lines in enumerate(f):\n",
    "                if(i == 21):\n",
    "                    sp = lines.split(\"|\")\n",
    "                    lut = sp[11].replace(\" \",\"\")\n",
    "                    if(lut != \"-\"):\n",
    "                        lut = int(lut.split(\"(\")[0])\n",
    "                    else:\n",
    "                        lut = 0\n",
    "                    #sp = sp.split(\"(\")\n",
    "                    dsp[prec - 2].append(lut)\n",
    "                    break\n",
    "        f.close()\n",
    "dsp = np.array(dsp)"
   ]
  },
  {
   "cell_type": "code",
   "execution_count": 53,
   "id": "43c6f203",
   "metadata": {},
   "outputs": [
    {
     "name": "stdout",
     "output_type": "stream",
     "text": [
      "CPU times: user 6.82 ms, sys: 4 ms, total: 10.8 ms\n",
      "Wall time: 10.3 ms\n"
     ]
    }
   ],
   "source": [
    "%%time\n",
    "#dsp2 = [[] for x in range(2,precision + 1)]\n",
    "dsp2 = []\n",
    "#dsp = []\n",
    "for prec in range(precision,precision + 1):\n",
    "    for z in range(it_min ,it_max,1):\n",
    "        with open('./LUT_sim/prec_' + \"fixed\" + '/it_' + str(z) + '/mult.prj/solution1/syn/report/csynth.rpt') as f:\n",
    "            for i,lines in enumerate(f):\n",
    "                if(i == 21):\n",
    "                    sp = lines.split(\"|\")\n",
    "                    lut = sp[11].replace(\" \",\"\")\n",
    "                    if(lut != \"-\"):\n",
    "                        lut = int(lut.split(\"(\")[0])\n",
    "                    else:\n",
    "                        lut = 0\n",
    "                    #sp = sp.split(\"(\")\n",
    "                    dsp2.append(lut)\n",
    "                    break\n",
    "        f.close()\n",
    "dsp2 = np.array(dsp2)"
   ]
  },
  {
   "cell_type": "code",
   "execution_count": 58,
   "id": "4b02ad09",
   "metadata": {},
   "outputs": [
    {
     "data": {
      "text/plain": [
       "168"
      ]
     },
     "execution_count": 58,
     "metadata": {},
     "output_type": "execute_result"
    }
   ],
   "source": [
    "np.count_nonzero(dsp2)"
   ]
  },
  {
   "cell_type": "code",
   "execution_count": 59,
   "id": "c8d5f514",
   "metadata": {},
   "outputs": [
    {
     "data": {
      "text/plain": [
       "array([0, 0, 0, 1, 0, 1, 1, 1, 0, 1, 1, 1, 1, 1, 1, 1, 0, 1, 1, 1, 1, 1,\n",
       "       1, 1, 1, 1, 1, 1, 1, 1, 1, 1, 0, 1, 1, 1, 1, 1, 1, 1, 1, 1, 1, 1,\n",
       "       1, 1, 1, 1, 0, 1, 1, 1, 1, 1, 1, 1, 0, 1, 1, 1, 0, 1, 0, 0, 0, 0,\n",
       "       0, 1, 0, 1, 1, 1, 0, 1, 1, 1, 1, 1, 1, 1, 0, 1, 1, 1, 1, 1, 1, 1,\n",
       "       0, 1, 1, 1, 0, 1, 0, 0, 0, 0, 0, 1, 0, 1, 1, 1, 0, 1, 1, 1, 0, 1,\n",
       "       0, 0, 0, 0, 0, 1, 0, 1, 0, 0, 0, 0, 0, 0, 0, 0, 0, 0, 0, 0, 0, 0,\n",
       "       0, 0, 0, 0, 0, 0, 0, 1, 0, 1, 0, 0, 0, 0, 0, 1, 0, 1, 1, 1, 0, 1,\n",
       "       1, 1, 0, 1, 0, 0, 0, 0, 0, 1, 0, 1, 1, 1, 0, 1, 1, 1, 1, 1, 1, 1,\n",
       "       0, 1, 1, 1, 1, 1, 1, 1, 0, 1, 1, 1, 0, 1, 0, 0, 0, 0, 0, 1, 0, 1,\n",
       "       1, 1, 0, 1, 1, 1, 1, 1, 1, 1, 0, 1, 1, 1, 1, 1, 1, 1, 1, 1, 1, 1,\n",
       "       1, 1, 1, 1, 0, 1, 1, 1, 1, 1, 1, 1, 1, 1, 1, 1, 1, 1, 1, 1, 0, 1,\n",
       "       1, 1, 1, 1, 1, 1, 0, 1, 1, 1, 0, 1, 0, 0])"
      ]
     },
     "execution_count": 59,
     "metadata": {},
     "output_type": "execute_result"
    }
   ],
   "source": [
    "dsp2"
   ]
  },
  {
   "cell_type": "code",
   "execution_count": 68,
   "id": "72d42dd0",
   "metadata": {},
   "outputs": [
    {
     "data": {
      "text/plain": [
       "array([0, 0, 0, 1, 0, 1, 1, 1, 0, 1, 1, 1, 1, 1, 1, 1, 0, 1, 1, 1, 1, 1,\n",
       "       1, 1, 1, 1, 1, 1, 1, 1, 1, 1, 0, 1, 1, 1, 1, 1, 1, 1, 1, 1, 1, 1,\n",
       "       1, 1, 1, 1, 0, 1, 1, 1, 1, 1, 1, 1, 0, 1, 1, 1, 0, 1, 0, 0, 0, 0,\n",
       "       0, 1, 0, 1, 1, 1, 0, 1, 1, 1, 1, 1, 1, 1, 0, 1, 1, 1, 1, 1, 1, 1,\n",
       "       0, 1, 1, 1, 0, 1, 0, 0, 0, 0, 0, 1, 0, 1, 1, 1, 0, 1, 1, 1, 0, 1,\n",
       "       0, 0, 0, 0, 0, 1, 0, 1, 0, 0, 0, 0, 0, 0, 0, 0, 0, 0, 0, 0, 0, 0,\n",
       "       0, 0, 0, 0, 0, 0, 0, 1, 0, 1, 0, 0, 0, 0, 0, 1, 0, 1, 1, 1, 0, 1,\n",
       "       1, 1, 0, 1, 0, 0, 0, 0, 0, 1, 0, 1, 1, 1, 0, 1, 1, 1, 1, 1, 1, 1,\n",
       "       0, 1, 1, 1, 1, 1, 1, 1, 0, 1, 1, 1, 0, 1, 0, 0, 0, 0, 0, 1, 0, 1,\n",
       "       1, 1, 0, 1, 1, 1, 1, 1, 1, 1, 0, 1, 1, 1, 1, 1, 1, 1, 1, 1, 1, 1,\n",
       "       1, 1, 1, 1, 0, 1, 1, 1, 1, 1, 1, 1, 1, 1, 1, 1, 1, 1, 1, 1, 0, 1,\n",
       "       1, 1, 1, 1, 1, 1, 0, 1, 1, 1, 0, 1, 0, 0])"
      ]
     },
     "execution_count": 68,
     "metadata": {},
     "output_type": "execute_result"
    }
   ],
   "source": [
    "dsp2"
   ]
  },
  {
   "cell_type": "code",
   "execution_count": null,
   "id": "8e5adb88",
   "metadata": {},
   "outputs": [],
   "source": []
  },
  {
   "cell_type": "code",
   "execution_count": null,
   "id": "ca09338a",
   "metadata": {},
   "outputs": [],
   "source": []
  },
  {
   "cell_type": "code",
   "execution_count": null,
   "id": "df7699fe",
   "metadata": {},
   "outputs": [],
   "source": []
  }
 ],
 "metadata": {
  "kernelspec": {
   "display_name": "Python 3 (ipykernel)",
   "language": "python",
   "name": "python3"
  },
  "language_info": {
   "codemirror_mode": {
    "name": "ipython",
    "version": 3
   },
   "file_extension": ".py",
   "mimetype": "text/x-python",
   "name": "python",
   "nbconvert_exporter": "python",
   "pygments_lexer": "ipython3",
   "version": "3.10.10"
  }
 },
 "nbformat": 4,
 "nbformat_minor": 5
}
